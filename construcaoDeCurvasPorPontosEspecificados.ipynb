{
 "cells": [
  {
   "cell_type": "markdown",
   "metadata": {},
   "source": [
    "# Construindo Curvas e Superfícies por Pontos Especificados"
   ]
  },
  {
   "cell_type": "markdown",
   "metadata": {},
   "source": [
    "Vamos ver uma forma de utilizar o determinante para construir equações de retas, círculos e seções cônicas em geral por pontos especificados no plano."
   ]
  },
  {
   "cell_type": "markdown",
   "metadata": {},
   "source": [
    "Referência: Álgebra Linear com aplicações / Anton Howard e Chris Rorres; trad. Claus Ivo Doering. - 8. ed. - Porto Alegre: Bookman, 2001."
   ]
  },
  {
   "cell_type": "code",
   "execution_count": 10,
   "metadata": {},
   "outputs": [],
   "source": [
    "# execute essa linha de código para importar as definições do plot_helper\n",
    "\n",
    "import numpy\n",
    "from numpy.linalg import inv, eig\n",
    "from math import ceil\n",
    "from matplotlib import pyplot, ticker, get_backend, rc\n",
    "from mpl_toolkits.mplot3d import Axes3D\n",
    "from itertools import cycle\n",
    "\n",
    "# interactive backends\n",
    "_int_backends = ['GTK3Agg', 'GTK3Cairo', 'MacOSX', 'nbAgg',\n",
    "                 'Qt4Agg', 'Qt4Cairo', 'Qt5Agg', 'Qt5Cairo',\n",
    "                 'TkAgg', 'TkCairo', 'WebAgg', 'WX', 'WXAgg', 'WXCairo']\n",
    "_backend = get_backend()   # get current backend name\n",
    "\n",
    "# shrink figsize and fontsize when using %matplotlib notebook\n",
    "if _backend in _int_backends:\n",
    "    fontsize = 4\n",
    "    fig_scale = 0.75\n",
    "else:\n",
    "    fontsize = 5\n",
    "    fig_scale = 1\n",
    "\n",
    "grey = '#808080'\n",
    "gold = '#cab18c'   # x-axis grid\n",
    "lightblue = '#0096d6'  # y-axis grid\n",
    "green = '#008367'  # x-axis basis vector\n",
    "red = '#E31937'    # y-axis basis vector\n",
    "darkblue = '#004065'\n",
    "\n",
    "pink, yellow, orange, purple, brown = '#ef7b9d', '#fbd349', '#ffa500', '#a35cff', '#731d1d'\n",
    "\n",
    "quiver_params = {'angles': 'xy',\n",
    "                 'scale_units': 'xy',\n",
    "                 'scale': 1,\n",
    "                 'width': 0.012}\n",
    "\n",
    "grid_params = {'linewidth': 0.5,\n",
    "               'alpha': 0.8}\n",
    "\n",
    "def set_rc(func):\n",
    "    def wrapper(*args, **kwargs):\n",
    "        rc('font', family='serif', size=fontsize)\n",
    "        rc('figure', dpi=200)\n",
    "        rc('axes', axisbelow=True, titlesize=5)\n",
    "        rc('lines', linewidth=1)\n",
    "        func(*args, **kwargs)\n",
    "    return wrapper\n",
    "\n",
    "@set_rc\n",
    "def plot_vector(vectors, tails=None):\n",
    "    ''' Draw 2d vectors based on the values of the vectors and the position of their tails.\n",
    "    \n",
    "    Parameters\n",
    "    ----------\n",
    "    vectors : list.\n",
    "        List of 2-element array-like structures, each represents a 2d vector.\n",
    "    \n",
    "    tails : list, optional.\n",
    "        List of 2-element array-like structures, each represents the coordinates of the tail\n",
    "        of the corresponding vector in vectors. If None (default), all tails are set at the\n",
    "        origin (0,0). If len(tails) is 1, all tails are set at the same position. Otherwise,\n",
    "        vectors and tails must have the same length.\n",
    "    \n",
    "    Examples\n",
    "    --------\n",
    "    >>> v = [(1, 3), (3, 3), (4, 6)]\n",
    "    >>> plot_vector(v)      # draw 3 vectors with their tails at origin\n",
    "    >>> t = [numpy.array((2, 2))]\n",
    "    >>> plot_vector(v, t)   # draw 3 vectors with their tails at (2,2)\n",
    "    >>> t = [[3, 2], [-1, -2], [3, 5]]\n",
    "    >>> plot_vector(v, t)   # draw 3 vectors with 3 different tails\n",
    "    '''   \n",
    "    vectors = numpy.array(vectors)\n",
    "    assert vectors.shape[1] == 2, \"Each vector should have 2 elements.\"  \n",
    "    if tails is not None:\n",
    "        tails = numpy.array(tails)\n",
    "        assert tails.shape[1] == 2, \"Each tail should have 2 elements.\"\n",
    "    else:\n",
    "        tails = numpy.zeros_like(vectors)\n",
    "    \n",
    "    # tile vectors or tails array if needed\n",
    "    nvectors = vectors.shape[0]\n",
    "    ntails = tails.shape[0]\n",
    "    if nvectors == 1 and ntails > 1:\n",
    "        vectors = numpy.tile(vectors, (ntails, 1))\n",
    "    elif ntails == 1 and nvectors > 1:\n",
    "        tails = numpy.tile(tails, (nvectors, 1))\n",
    "    else:\n",
    "        assert tails.shape == vectors.shape, \"vectors and tail must have a same shape\"\n",
    "\n",
    "    # calculate xlimit & ylimit\n",
    "    heads = tails + vectors\n",
    "    limit = numpy.max(numpy.abs(numpy.hstack((tails, heads))))\n",
    "    limit = numpy.ceil(limit * 1.2)   # add some margins\n",
    "    \n",
    "    figsize = numpy.array([2,2]) * fig_scale\n",
    "    figure, axis = pyplot.subplots(figsize=figsize)\n",
    "    axis.quiver(tails[:,0], tails[:,1], vectors[:,0], vectors[:,1], color=darkblue, \n",
    "                  angles='xy', scale_units='xy', scale=1)\n",
    "    axis.set_xlim([-limit, limit])\n",
    "    axis.set_ylim([-limit, limit])\n",
    "    axis.set_aspect('equal')\n",
    "\n",
    "    # if xticks and yticks of grid do not match, choose the finer one\n",
    "    xticks = axis.get_xticks()\n",
    "    yticks = axis.get_yticks()\n",
    "    dx = xticks[1] - xticks[0]\n",
    "    dy = yticks[1] - yticks[0]\n",
    "    base = max(int(min(dx, dy)), 1)   # grid interval is always an integer\n",
    "    loc = ticker.MultipleLocator(base=base)\n",
    "    axis.xaxis.set_major_locator(loc)\n",
    "    axis.yaxis.set_major_locator(loc)\n",
    "    axis.grid(True, **grid_params)\n",
    "    \n",
    "    # show x-y axis in the center, hide frames\n",
    "    axis.spines['left'].set_position('center')\n",
    "    axis.spines['bottom'].set_position('center')\n",
    "    axis.spines['right'].set_color('none')\n",
    "    axis.spines['top'].set_color('none')\n",
    "\n",
    "@set_rc\n",
    "def plot_transformation_helper(axis, matrix, *vectors, unit_vector=True, unit_circle=False, title=None):\n",
    "    \"\"\" A helper function to plot the linear transformation defined by a 2x2 matrix.\n",
    "    \n",
    "    Parameters\n",
    "    ----------\n",
    "    axis : class matplotlib.axes.Axes.\n",
    "        The axes to plot on.\n",
    "    matrix : class numpy.ndarray.\n",
    "        The 2x2 matrix to visualize.\n",
    "    *vectors : class numpy.ndarray.\n",
    "        The vector(s) to plot along with the linear transformation. Each array denotes a vector's\n",
    "        coordinates before the transformation and must have a shape of (2,). Accept any number of vectors. \n",
    "    \n",
    "    unit_vector : bool, optional.\n",
    "        Whether to plot unit vectors of the standard basis, default to True.\n",
    "    \n",
    "    unit_circle: bool, optional.\n",
    "        Whether to plot unit circle, default to False.\n",
    "    \n",
    "    title: str, optional.\n",
    "        Title of the plot.\n",
    "    \"\"\"\n",
    "    assert matrix.shape == (2,2), \"the input matrix must have a shape of (2,2)\"\n",
    "    grid_range = 20\n",
    "    x = numpy.arange(-grid_range, grid_range+1)\n",
    "    X_, Y_ = numpy.meshgrid(x,x)\n",
    "    I = matrix[:,0]\n",
    "    J = matrix[:,1]\n",
    "    X = I[0]*X_ + J[0]*Y_\n",
    "    Y = I[1]*X_ + J[1]*Y_\n",
    "    origin = numpy.zeros(1)\n",
    "        \n",
    "    # draw grid lines\n",
    "    for i in range(x.size):\n",
    "        axis.plot(X[i,:], Y[i,:], c=gold, **grid_params)\n",
    "        axis.plot(X[:,i], Y[:,i], c=lightblue, **grid_params)\n",
    "    \n",
    "    # draw (transformed) unit vectors\n",
    "    if unit_vector:\n",
    "        axis.quiver(origin, origin, [I[0]], [I[1]], color=green, **quiver_params)\n",
    "        axis.quiver(origin, origin, [J[0]], [J[1]], color=red, **quiver_params)\n",
    "\n",
    "    # draw optional vectors\n",
    "    color_cycle = cycle([pink, darkblue, orange, purple, brown])\n",
    "    if vectors:\n",
    "        for vector in vectors:\n",
    "            color = next(color_cycle)\n",
    "            vector_ = matrix @ vector.reshape(-1,1)\n",
    "            axis.quiver(origin, origin, [vector_[0]], [vector_[1]], color=color, **quiver_params)\n",
    "\n",
    "    # draw optional unit circle\n",
    "    if unit_circle:\n",
    "        alpha =  numpy.linspace(0, 2*numpy.pi, 41)\n",
    "        circle = numpy.vstack((numpy.cos(alpha), numpy.sin(alpha)))\n",
    "        circle_trans = matrix @ circle\n",
    "        axis.plot(circle_trans[0], circle_trans[1], color=red, lw=0.8)\n",
    "\n",
    "    # hide frames, set xlimit & ylimit, set title\n",
    "    limit = 4\n",
    "    axis.spines['left'].set_position('center')\n",
    "    axis.spines['bottom'].set_position('center')\n",
    "    axis.spines['left'].set_linewidth(0.3)\n",
    "    axis.spines['bottom'].set_linewidth(0.3)\n",
    "    axis.spines['right'].set_color('none')\n",
    "    axis.spines['top'].set_color('none')\n",
    "    axis.set_xlim([-limit, limit])\n",
    "    axis.set_ylim([-limit, limit])\n",
    "    if title is not None:\n",
    "        axis.set_title(title)\n",
    "\n",
    "@set_rc\n",
    "def plot_linear_transformation(matrix, *vectors, unit_vector=True, unit_circle=False):\n",
    "    \"\"\" Plot the linear transformation defined by a 2x2 matrix using the helper\n",
    "    function plot_transformation_helper(). It will create 2 subplots to visualize some\n",
    "    vectors before and after the transformation.\n",
    "    \n",
    "    Parameters\n",
    "    ----------\n",
    "    matrix : class numpy.ndarray.\n",
    "        The 2x2 matrix to visualize.\n",
    "    *vectors : class numpy.ndarray.\n",
    "        The vector(s) to plot along with the linear transformation. Each array denotes a vector's\n",
    "        coordinates before the transformation and must have a shape of (2,). Accept any number of vectors.\n",
    "    \n",
    "    unit_vector : bool, optional.\n",
    "        Whether to plot unit vectors of the standard basis, default to True.\n",
    "    \n",
    "    unit_circle: bool, optional.\n",
    "        Whether to plot unit circle, default to False.\n",
    "    \n",
    "    \"\"\"\n",
    "    figsize = numpy.array([4,2]) * fig_scale\n",
    "    figure, (axis1, axis2) = pyplot.subplots(1, 2, figsize=figsize)\n",
    "    plot_transformation_helper(axis1, numpy.identity(2), *vectors, unit_vector=unit_vector, unit_circle=unit_circle, title='Before transformation')\n",
    "    plot_transformation_helper(axis2, matrix, *vectors, unit_vector=unit_vector, unit_circle=unit_circle, title='After transformation')\n",
    "\n",
    "@set_rc\n",
    "def plot_linear_transformations(*matrices, unit_vector=True, unit_circle=False):\n",
    "    \"\"\" Plot the linear transformation defined by a sequence of n 2x2 matrices using the helper\n",
    "    function plot_transformation_helper(). It will create n+1 subplots to visualize some\n",
    "    vectors before and after each transformation.\n",
    "    Parameters\n",
    "    ----------\n",
    "    *matrices : class numpy.ndarray.\n",
    "        The 2x2 matrices to visualize. Accept any number of matrices.\n",
    "    \n",
    "    unit_vector : bool, optional.\n",
    "        Whether to plot unit vectors of the standard basis, default to True.\n",
    "    \n",
    "    unit_circle: bool, optional.\n",
    "        Whether to plot unit circle, default to False.\n",
    "      \n",
    "    \"\"\"\n",
    "    nplots = len(matrices) + 1\n",
    "    nx = 2\n",
    "    ny = ceil(nplots/nx)\n",
    "    figsize = numpy.array([2*nx, 2*ny]) * fig_scale\n",
    "    figure, axes = pyplot.subplots(nx, ny, figsize=figsize)\n",
    "\n",
    "    for i in range(nplots):  # fig_idx \n",
    "        if i == 0:\n",
    "            matrix_trans = numpy.identity(2)\n",
    "            title = 'Antes da Transformação'\n",
    "        else:\n",
    "            matrix_trans = matrices[i-1] @ matrix_trans\n",
    "            if i == 1:\n",
    "                title = 'Depois de {} Trasnformação'.format(i)\n",
    "            else:\n",
    "                title = 'Depois de {} Transformações'.format(i)\n",
    "        plot_transformation_helper(axes[i//nx, i%nx], matrix_trans, unit_vector=unit_vector, unit_circle=unit_circle, title=title)\n",
    "    # hide axes of the extra subplot (only when nplots is an odd number)\n",
    "    if nx*ny > nplots:\n",
    "        axes[-1,-1].axis('off')\n",
    "        \n",
    "@set_rc\n",
    "def plot_3d_transformation_helper(axis, matrix, grid=True, unit_sphere=False, title=None):\n",
    "    \"\"\" A helper function to plot the linear transformation defined by a 3x3 matrix.\n",
    "    \n",
    "    Parameters\n",
    "    ----------\n",
    "    axis : class matplotlib.axes.Axes.\n",
    "        The axes to plot on.\n",
    "    matrix : class numpy.ndarray.\n",
    "        The 3x3 matrix to visualize.\n",
    "    grid : bool, optional.\n",
    "        Whether to plot 3d grid lines, default to True.\n",
    "    \n",
    "    unit_sphere : bool, optional.\n",
    "        Whether to plot unit sphere, default to False.\n",
    "    \n",
    "    title : str, optional.\n",
    "        Title of the plot.\n",
    "    \"\"\"\n",
    "    assert matrix.shape == (3,3), \"the input matrix must have a shape of (3,3)\"\n",
    "    xcolor, ycolor, zcolor = '#0084b6', '#d8a322', '#FF3333'\n",
    "    linewidth = 0.7\n",
    "    if grid:\n",
    "        grid_range = 2\n",
    "        x = numpy.arange(-grid_range, grid_range+1)\n",
    "        X, Y, Z = numpy.meshgrid(x,x,x)\n",
    "        X_new = matrix[0,0]*X + matrix[0,1]*Y + matrix[0,2]*Z\n",
    "        Y_new = matrix[1,0]*X + matrix[1,1]*Y + matrix[1,2]*Z\n",
    "        Z_new = matrix[2,0]*X + matrix[2,1]*Y + matrix[2,2]*Z\n",
    "        for i in range(x.size):\n",
    "            for j in range(x.size):\n",
    "                axis.plot(X_new[:,i,j], Y_new[:,i,j], Z_new[:,i,j], color=xcolor, linewidth=linewidth)\n",
    "                axis.plot(X_new[i,:,j], Y_new[i,:,j], Z_new[i,:,j], color=ycolor, linewidth=linewidth)\n",
    "                axis.plot(X_new[i,j,:], Y_new[i,j,:], Z_new[i,j,:], color=zcolor, linewidth=linewidth)\n",
    "    \n",
    "    if unit_sphere:\n",
    "        u = numpy.linspace(0, 2 * numpy.pi, 100)\n",
    "        v = numpy.linspace(0, numpy.pi, 100)\n",
    "        X = 1 * numpy.outer(numpy.cos(u), numpy.sin(v))\n",
    "        Y = 1 * numpy.outer(numpy.sin(u), numpy.sin(v))\n",
    "        Z = 1 * numpy.outer(numpy.ones(numpy.size(u)), numpy.cos(v))\n",
    "        X_new = matrix[0,0]*X + matrix[0,1]*Y + matrix[0,2]*Z\n",
    "        Y_new = matrix[1,0]*X + matrix[1,1]*Y + matrix[1,2]*Z\n",
    "        Z_new = matrix[2,0]*X + matrix[2,1]*Y + matrix[2,2]*Z\n",
    "        axis.plot_surface(X_new, Y_new, Z_new, rstride=4, cstride=4, linewidth=0, cmap='ocean', alpha=0.6)\n",
    "\n",
    "    if title is not None:\n",
    "        axis.set_title(title)\n",
    "    \n",
    "    limit = 0\n",
    "    if grid or unit_sphere:\n",
    "        for array in (X_new, Y_new, Z_new):\n",
    "            limit_ = numpy.max(numpy.abs(array))\n",
    "            limit = max(limit, limit_)\n",
    "    else:\n",
    "        limit = 1\n",
    "    axis.set_xlim(-limit, limit)\n",
    "    axis.set_ylim(-limit, limit)\n",
    "    axis.set_zlim(-limit, limit)\n",
    "    # adjust the whitespace between ticks and axes to get a tighter plot\n",
    "    for axis_str in ['x', 'y', 'z']:\n",
    "        axis.tick_params(axis=axis_str, pad=-3)\n",
    "\n",
    "@set_rc\n",
    "def plot_3d_linear_transformation(matrix, grid=True, unit_sphere=False):\n",
    "    \"\"\" Plot the linear transformation defined by a 3x3 matrix using the helper\n",
    "    function plot_3d_transformation_helper(). It will create 2 subplots to visualize some\n",
    "    vectors before and after the transformation.\n",
    "    \n",
    "    Parameters\n",
    "    ----------\n",
    "    matrix : class numpy.ndarray.\n",
    "        The 3x3 matrix to visualize.\n",
    "    grid : bool, optional.\n",
    "        Whether to plot 3d grid lines, default to True.\n",
    "    \n",
    "    unit_sphere : bool, optional.\n",
    "        Whether to plot unit sphere, default to False.\n",
    "    \"\"\"\n",
    "    \n",
    "    figsize = numpy.array([4,2]) * fig_scale\n",
    "    figure = pyplot.figure(figsize=figsize)\n",
    "    axis1 = figure.add_subplot(1, 2, 1, projection='3d')\n",
    "    axis2 = figure.add_subplot(1, 2, 2, projection='3d')\n",
    "    plot_3d_transformation_helper(axis1, numpy.identity(3), grid=grid, unit_sphere=unit_sphere, title='before transformation')\n",
    "    plot_3d_transformation_helper(axis2, matrix, grid=grid, unit_sphere=unit_sphere, title='after transformation')\n",
    "\n",
    "@set_rc\n",
    "def plot_3d_linear_transformations(*matrices, grid=False, unit_sphere=False):\n",
    "    \"\"\" Plot the linear transformation defined by a sequence of n 3x3 matrices using the helper\n",
    "    function plot_3d_transformation_helper(). It will create n+1 subplots to visualize some\n",
    "    vectors before and after each transformation.\n",
    "    \n",
    "    Parameters\n",
    "    ----------\n",
    "    *matrices : class numpy.ndarray.\n",
    "        The 3x3 matrices to visualize. Accept any number of matrices. \n",
    "    grid : bool, optional.\n",
    "        Whether to plot 3d grid lines, default to False.\n",
    "    \n",
    "    unit_sphere : bool, optional.\n",
    "        Whether to plot unit sphere, default to False.\n",
    "    \"\"\"\n",
    "    nplots = len(matrices) + 1\n",
    "    nx = 2                 # number of figures per row\n",
    "    ny = ceil(nplots/nx)   # number of figures per column\n",
    "    figsize = numpy.array([2*nx, 2*ny]) * fig_scale\n",
    "    figure = pyplot.figure(figsize=figsize)\n",
    "\n",
    "    for i in range(nplots):  # fig_idx\n",
    "        axis = figure.add_subplot(ny, nx, i+1, projection='3d')\n",
    "        if i == 0:\n",
    "            matrix_trans = numpy.identity(3)\n",
    "            title = 'Antes da Transformação'\n",
    "        else:\n",
    "            matrix_trans = matrices[i-1] @ matrix_trans\n",
    "            if i == 1:\n",
    "                title = 'Depois de {} Transformação'.format(i)\n",
    "            else:\n",
    "                title = 'Depois de {} Transformações'.format(i)\n",
    "        plot_3d_transformation_helper(axis, matrix_trans, grid=grid, unit_sphere=unit_sphere, title=title)\n",
    "\n",
    "@set_rc\n",
    "def plot_basis_helper(axis, I, J, *vectors, title=None, I_label='i', J_label='j'):\n",
    "    \"\"\" A helper function to plot the 2D coordinate system determined by the basis I,J.\n",
    "    \n",
    "    Parameters\n",
    "    ----------\n",
    "    axis : class matplotlib.axes.Axes.\n",
    "        The axes to plot on.\n",
    "    I, J: class numpy.ndarray.\n",
    "        The coordinates of the basis vector in the standard basis.\n",
    "    *vectors : class numpy.ndarray.\n",
    "        The vector(s) to plot along with the change of basis. Each array denotes a vector's\n",
    "        coordinates in I-J coordinate system (not in the standard basis). Each vector must have\n",
    "        a shape of (2,). Accept any number of vectors.\n",
    "    \n",
    "    I_label, J_label : str, optional.\n",
    "        Label of the new basis, default to 'i' and 'j'.\n",
    "    \n",
    "    title: str, optional.\n",
    "        Title of the plot.\n",
    "    \"\"\"\n",
    "    grid_range = 20\n",
    "    x = numpy.arange(-grid_range, grid_range+1)\n",
    "    X_, Y_ = numpy.meshgrid(x,x)   # grid coordinates on the new basis\n",
    "    X = I[0]*X_ + J[0]*Y_   # grid coordinates on the standard basis\n",
    "    Y = I[1]*X_ + J[1]*Y_\n",
    "    \n",
    "    # draw origin\n",
    "    origin = numpy.zeros(1)\n",
    "    axis.scatter(origin, origin, c='black', s=3)\n",
    "\n",
    "    # draw grid lines of the new coordinate system\n",
    "    lw_grid = 0.4\n",
    "    for i in range(x.size):\n",
    "        axis.plot(X[i,:], Y[i,:], c=grey, lw=lw_grid)\n",
    "        axis.plot(X[:,i], Y[:,i], c=grey, lw=lw_grid)\n",
    "    \n",
    "    # highlight new axes (spines)\n",
    "    lw_spine = 0.7\n",
    "    zero_id = numpy.where(x==0)[0][0]\n",
    "    axis.plot(X[zero_id,:], Y[zero_id,:], c=gold, lw=lw_spine)\n",
    "    axis.plot(X[:,zero_id], Y[:,zero_id], c=lightblue, lw=lw_spine)\n",
    "\n",
    "    # draw basis vectors using quiver plot\n",
    "    axis.quiver(origin, origin, [I[0]], [I[1]], color=gold, **quiver_params)\n",
    "    axis.quiver(origin, origin, [J[0]], [J[1]], color=lightblue, **quiver_params)\n",
    "\n",
    "    # draw input vector on new coordinate system\n",
    "    bound = 5\n",
    "    if vectors:\n",
    "        for vector in vectors:\n",
    "            M = numpy.transpose(numpy.vstack((I,J)))\n",
    "            vector = M @ vector.reshape(-1,1)\n",
    "            axis.quiver(origin, origin, [vector[0]], [vector[1]], color=red, **quiver_params)\n",
    "            bound = max(ceil(numpy.max(numpy.abs(vector))), bound)\n",
    "    \n",
    "    # hide frames, set xlimit & ylimit, set title\n",
    "    axis.set_xlim([-bound, bound])\n",
    "    axis.set_ylim([-bound, bound])\n",
    "    axis.axis('off')\n",
    "    if title is not None:\n",
    "        axis.set_title(title)\n",
    "\n",
    "    # add text next to new basis vectors\n",
    "    text_params = {'ha': 'center', 'va': 'center', 'size' : 6}\n",
    "    axis.text((I[0]-J[0])/2*1.1, (I[1]-J[1])/2*1.1, r'${}$'.format(I_label), color=gold, **text_params)\n",
    "    axis.text((J[0]-I[0])/2*1.1, (J[1]-I[1])/2*1.1, r'${}$'.format(J_label), color=lightblue, **text_params)\n",
    "\n",
    "@set_rc\n",
    "def plot_basis(I, J, *vectors):\n",
    "    \"\"\" Plot 2d vectors on the coordinates system defined by basis I and J using the helper funtion\n",
    "    plot_basis_helper().\n",
    "    \n",
    "    Parameters\n",
    "    ----------\n",
    "    I, J: class numpy.ndarray.\n",
    "        The coordinates of the basis vector in the standard basis.\n",
    "    *vectors : class numpy.ndarray.\n",
    "        The vector(s) to plot along with the change of basis. Each array denotes a vector's\n",
    "        coordinates in I-J coordinate system (not in the standard basis). Each vector must have\n",
    "        a shape of (2,). Accept any number of vectors.\n",
    "    \"\"\"\n",
    "    figsize = numpy.array([2,2]) * fig_scale\n",
    "    figure, axis = pyplot.subplots(figsize=figsize)\n",
    "    plot_basis_helper(axis, I, J, *vectors)\n",
    "\n",
    "@set_rc\n",
    "def plot_change_basis(I, J, *vectors):\n",
    "    \"\"\" Create a side-by-side plot of some vectors both on the standard basis and on the new basis\n",
    "    defined by I and J, using the helper function plot_basis_helper().\n",
    "    \n",
    "    Parameters\n",
    "    ----------\n",
    "    I, J: class numpy.ndarray.\n",
    "        The coordinates of the basis vector in the standard basis.\n",
    "    *vectors : class numpy.ndarray.\n",
    "        The vector(s) to plot along with the change of basis. Each array denotes a vector's\n",
    "        coordinates in I-J coordinate system (not in the standard basis). Each vector must have\n",
    "        a shape of (2,). Accept any number of vectors.\n",
    "    \"\"\"\n",
    "    figsize = numpy.array([4,2]) * fig_scale\n",
    "    figure, (axis1, axis2) = pyplot.subplots(1, 2, figsize=figsize)\n",
    "    M = numpy.transpose(numpy.vstack((I,J)))\n",
    "    M_inv = inv(M)\n",
    "    vectors_ = [ M_inv @ vector.reshape(-1, 1) for vector in vectors ]\n",
    "    plot_basis_helper(axis1, numpy.array([1,0]), numpy.array([0,1]), *vectors, title='standard basis')\n",
    "    plot_basis_helper(axis2, I, J, *vectors_, title='new basis', I_label='a', J_label='b')\n",
    "\n",
    "@set_rc\n",
    "def plot_eigen(matrix):\n",
    "    \"\"\" Visualize the eigendecomposition of a 2x2 matrix as a combination of changing basis \n",
    "    and scaling transformation, using the helper function plot_basis_helper().\n",
    "    Parameters\n",
    "    ----------\n",
    "    matrix : class numpy.ndarray.\n",
    "        The 2x2 matrix to visualize.\n",
    "    \"\"\"\n",
    "    figsize = numpy.array([4,4]) * fig_scale\n",
    "    figure, axes = pyplot.subplots(2, 2, figsize=figsize)\n",
    "    \n",
    "    eigenvalues, eigenvectors = eig(matrix)\n",
    "    C = eigenvectors\n",
    "    D = numpy.diag(eigenvalues)\n",
    "    C_inv = inv(C)\n",
    "\n",
    "    alpha =  numpy.linspace(0, 2*numpy.pi, 41)\n",
    "    circle = numpy.vstack((numpy.cos(alpha), numpy.sin(alpha)))\n",
    "\n",
    "    plot_basis_helper(axes[0,0], numpy.array([1,0]), numpy.array([0,1]), title=r'coords in standard basis $\\mathbf{x}$')\n",
    "    plot_basis_helper(axes[0,1], C[:,0], C[:,1], title=r'change to new basis $C^{-1}\\mathbf{x}$', I_label='a', J_label='b')\n",
    "    plot_basis_helper(axes[1,0], C[:,0], C[:,1], title=r'scale along new basis $DC^{-1}\\mathbf{x}$', I_label='a', J_label='b')\n",
    "    plot_basis_helper(axes[1,1], numpy.array([1,0]), numpy.array([0,1]), title=r'change back to standard basis $CDC^{-1}\\mathbf{x}$')\n",
    "\n",
    "    circle_trans = matrix @ circle\n",
    "    for axis in axes[0]:\n",
    "        axis.plot(circle[0], circle[1], color=red, lw=0.8)\n",
    "    for axis in axes[1]:\n",
    "        axis.plot(circle_trans[0], circle_trans[1], color=red, lw=0.8)\n",
    "\n",
    "if __name__ == \"__main__\":\n",
    "    pass\n",
    "\n",
    "# funções definidas por L Barba e T Wang para uma apresentação no evento SciPy 2019 \n",
    "# aplicação das funções para a aula do professor Edmar Candeia Gurjão feitas por Alysson Machado"
   ]
  },
  {
   "cell_type": "code",
   "execution_count": 11,
   "metadata": {},
   "outputs": [],
   "source": [
    "import numpy # importando a biblioteca numpy do Python\n",
    "%matplotlib notebook\n",
    "%matplotlib inline \n",
    "from matplotlib import pyplot # importando a biblioteca matplotlib do Python"
   ]
  },
  {
   "cell_type": "code",
   "execution_count": 12,
   "metadata": {},
   "outputs": [],
   "source": [
    "import sys # importa as definições feitas no plot_helper\n",
    "sys.path.append('../scripts/')\n",
    "\n",
    "# Ao importar, teremos acesso as funções: \n",
    "# plot_vector, plot_linear_transformation, plot_linear_transformations"
   ]
  },
  {
   "cell_type": "markdown",
   "metadata": {},
   "source": [
    "$Uma$ $Reta$ $Por$ $Dois$ $Pontos:$"
   ]
  },
  {
   "cell_type": "markdown",
   "metadata": {},
   "source": [
    "Suponha que (x1,y1) e (x2,y2) são dois pontos distintos no plano. existe uma única reta \n",
    "$$c1x + c2y + c3 = 0$$ \n",
    "que passa por esses dois pontos. Observe que c1, c2 e c3 não são todos nulos e que estes coeficientes são únicos a menos de uma constante multiplicativa. Como (x1,y1) e (x2,y2) estão na reta, substituindo-se obtemos as duas equações:\n",
    "$$1-) c1x1 + c2y1 + c3 = 0$$\n",
    "$$2-) c1x2 + c2y2 + c3 = 0$$\n",
    "Essas três equações podem ser agrupadas da seguinte forma:\n",
    "$$xc1 + yc2 + c3 = 0$$\n",
    "$$x1c1 + y1c2 + c3 = 0$$\n",
    "$$x2c1 + y2c2 + c3 = 0$$\n",
    "que é um sistema linear homogêneo de três equações em c1, c2 e c3. Como c1, c2 e c3 não são todos nulos, este sistema tem uma solução não-trivial, de modo que o determinante do sistema deve ser zero. Ou seja:\n",
    "$$\\begin{bmatrix}\n",
    "         x & y & 1 \\\\\n",
    "         x1 & y1 & 1 \\\\\n",
    "         x2 & y2 & 1 \\\\\n",
    "         \\end{bmatrix} = 0$$"
   ]
  },
  {
   "cell_type": "markdown",
   "metadata": {},
   "source": [
    "Dai, temos o teorema: Um sistema linear homogêneo com o mesmo número de equações e de incógnitas tem uma solução não-trivial se, e somente se, o determinante da matriz de coeficientes é zero."
   ]
  },
  {
   "cell_type": "markdown",
   "metadata": {},
   "source": [
    "$Ex: $Encontre a equação da reta que passa pelos dois pontos (2,1) e (3,7)."
   ]
  },
  {
   "cell_type": "markdown",
   "metadata": {},
   "source": [
    "$\\begin{bmatrix}\n",
    "         x & y & 1 \\\\\n",
    "         2 & 1 & 1 \\\\\n",
    "         3 & 7 & 1 \\\\\n",
    "         \\end{bmatrix}$\n",
    "         "
   ]
  },
  {
   "cell_type": "markdown",
   "metadata": {},
   "source": [
    "A expansão deste determinante em co-fatores ao longo da primeira linha, vai nos dar a equação da reta:"
   ]
  },
  {
   "cell_type": "code",
   "execution_count": 13,
   "metadata": {},
   "outputs": [],
   "source": [
    "# definindo um sistema linear homogêneo de equações\n",
    "matriz = numpy.array([[2,1,1],[3,7,1]]) \n",
    "# matriz de co-fatores do elemento [1,1]\n",
    "constanteX = numpy.dot((-1) ** (1 + 1), numpy.linalg.det(numpy.delete(matriz,0,axis=1))) \n",
    "# matriz de co-fatores do elemento [1,2]\n",
    "constanteY = numpy.dot((-1) ** (1 + 2), numpy.linalg.det(numpy.delete(matriz,1,axis=1))) \n",
    "# matriz de co-fatores do elemento [1,3]\n",
    "constante = numpy.dot((-1) ** (1 + 3), numpy.linalg.det(numpy.delete(matriz,2,axis=1))) "
   ]
  },
  {
   "cell_type": "code",
   "execution_count": 14,
   "metadata": {},
   "outputs": [
    {
     "name": "stdout",
     "output_type": "stream",
     "text": [
      "Equação da reta: -6.00x 1.00y 11.00 = 0\n"
     ]
    }
   ],
   "source": [
    "print(\"Equação da reta: {:.2f}x {:.2f}y {:.2f} = 0\".format(constanteX, constanteY, constante)) # imprime a equação da reta"
   ]
  },
  {
   "cell_type": "markdown",
   "metadata": {},
   "source": [
    "E temos a equação: $-6x + y + 11 = 0$"
   ]
  },
  {
   "cell_type": "code",
   "execution_count": 19,
   "metadata": {},
   "outputs": [
    {
     "data": {
      "text/plain": [
       "Text(0.5, 1.0, 'Equação da Reta')"
      ]
     },
     "execution_count": 19,
     "metadata": {},
     "output_type": "execute_result"
    },
    {
     "data": {
      "image/png": "[encoded data removed]",
      "text/plain": [
       "<Figure size 288x144 with 1 Axes>"
      ]
     },
     "metadata": {
      "needs_background": "light"
     },
     "output_type": "display_data"
    }
   ],
   "source": [
    "valoresX = numpy.linspace(-2,6) # define valores arbitrários para a variável x, entre -2 e 6\n",
    "y1 = 6.0 # coordenadas associadas a y\n",
    "b1= -11.0 # valor resultante da operação do sistema\n",
    "pyplot.figure(figsize = (4,2)) # definindo o tamanho da figura\n",
    "pyplot.plot(valoresX, y1 * valoresX + b1) # plota a reta y = 6x - 11\n",
    "pyplot.box(True) # adição da caixa preta nas bordas do gráfico\n",
    "pyplot.grid(True) # adição do quadriculado do gráfico\n",
    "pyplot.title(\"Equação da Reta\") # Título da Reta"
   ]
  },
  {
   "cell_type": "markdown",
   "metadata": {},
   "source": [
    "$Um$ $Círculo$ $Por$ $Três$ $Pontos$"
   ]
  },
  {
   "cell_type": "markdown",
   "metadata": {},
   "source": [
    "Suponha que (x1,y1), (x2,y2) e (x3,y3) são três pontos distintos não-colineares do plano. Da Geometria Analítica sabemos que existe um único círculo, digamos,\n",
    "$$c_{1}(x^{2} + y^{2}) + c_{2}x + c_{3}y + c_{4} = 0$$\n",
    "que passa por esses três pontos. Substituindo as coordenadas destes pontos nesta equação, obtemos:\n",
    "$$1-) c_{1}(x1^{2} + y1^{2}) + c_{2}x1 + c_{3}y1 + c_{4} = 0$$\n",
    "$$2-) c_{1}(x2^{2} + y2^{2}) + c_{2}x2 + c_{3}y2 + c_{4} = 0$$\n",
    "$$3-) c_{1}(x3^{2} + y3^{2}) + c_{2}x3 + c_{3}y3 + c_{4} = 0$$\n",
    "Como antes, as equações formam um sistema linear homogêneo com uma solução não-trivial em c1, c2, c3 e c4. Assim, o determinante da matriz de coeficientes é zero.\n",
    "$$\\begin{bmatrix}\n",
    "          x^2 + y^2 & x & y & 1 \\\\\n",
    "          x1^2 + y1^2 & x1 & y1 & 1 \\\\\n",
    "          x2^2 + y2^2 & x2 & y2 & 1 \\\\\n",
    "          x3^2 + y3^2 & x3 & y3 & 1 \\\\\n",
    "          \\end{bmatrix}$$"
   ]
  },
  {
   "cell_type": "markdown",
   "metadata": {},
   "source": [
    "$Ex: $Encontre a equação do círculo que passa pelos três pontos (1,7) e (6,2) e (4,6)."
   ]
  },
  {
   "cell_type": "markdown",
   "metadata": {},
   "source": [
    "A expansão deste determinante em co-fatores ao longo da primeira linha, vai nos dar a equação da reta:"
   ]
  },
  {
   "cell_type": "markdown",
   "metadata": {},
   "source": [
    "$\\begin{bmatrix}\n",
    "         x^2 + y^2 & x & y & 1 \\\\\n",
    "         50 & 1 & 7 & 1 \\\\\n",
    "         40 & 6 & 2 & 1 \\\\\n",
    "         52 & 4 & 6 & 1 \\\\\n",
    "         \\end{bmatrix} = 0$"
   ]
  },
  {
   "cell_type": "code",
   "execution_count": 16,
   "metadata": {},
   "outputs": [],
   "source": [
    "# definindo um sistema linear homogêneo de equações\n",
    "matriz = numpy.array([[50,1,7,1],[40,6,2,1],[52,4,6,1]])\n",
    "# matriz de co-fatores do elemento [1,1]\n",
    "constanteXY = numpy.dot((-1) ** (1 + 1), numpy.linalg.det(numpy.delete(matriz,0,axis=1))) \n",
    "# matriz de co-fatores do elemento [1,2]\n",
    "constanteX = numpy.dot((-1) ** (1 + 2), numpy.linalg.det(numpy.delete(matriz,1,axis=1))) \n",
    "# matriz de co-fatores do elemento [1,3]\n",
    "constanteY = numpy.dot((-1) ** (1 + 3), numpy.linalg.det(numpy.delete(matriz,2,axis=1))) \n",
    "# matriz de co-fatores do elemento [1,4]\n",
    "constante = numpy.dot((-1) ** (1 + 4), numpy.linalg.det(numpy.delete(matriz,3,axis=1))) "
   ]
  },
  {
   "cell_type": "code",
   "execution_count": 17,
   "metadata": {},
   "outputs": [
    {
     "name": "stdout",
     "output_type": "stream",
     "text": [
      "Equação da circunferência: 10.00(x² + y²) -20.00x -40.00y -200.00 = 0\n"
     ]
    }
   ],
   "source": [
    "print(\"Equação da circunferência: {:.2f}(x² + y²) {:.2f}x {:.2f}y {:.2f} = 0\".format(constanteXY,constanteX,constanteY,constante))"
   ]
  },
  {
   "cell_type": "markdown",
   "metadata": {},
   "source": [
    "Temos a equação da circunferência: $10(x² + y²) - 20x - 40y - 200 = 0$"
   ]
  },
  {
   "cell_type": "markdown",
   "metadata": {},
   "source": [
    "$$1-) (x² + y²) - 2x - 4y - 20 = 0$$\n",
    "$$2-) (x² - 2x + 1) - 1 + (y² - 4y + 2) - 4 - 20 = 0$$\n",
    "$$3-) (x - 1)² + (y - 2)² = 5²$$"
   ]
  },
  {
   "cell_type": "markdown",
   "metadata": {},
   "source": [
    "De forma mais simplificada ainda:\n",
    "$$1-) x = 1 + 5*cos(t)$$\n",
    "$$2-) y = 2 + 5*sen(t)$$"
   ]
  },
  {
   "cell_type": "code",
   "execution_count": 18,
   "metadata": {},
   "outputs": [
    {
     "data": {
      "text/plain": [
       "Text(0.5, 1.0, 'Equação da circunferência')"
      ]
     },
     "execution_count": 18,
     "metadata": {},
     "output_type": "execute_result"
    },
    {
     "data": {
      "image/png": "[encoded data removed]",
      "text/plain": [
       "<Figure size 360x360 with 1 Axes>"
      ]
     },
     "metadata": {
      "needs_background": "light"
     },
     "output_type": "display_data"
    }
   ],
   "source": [
    "x0, y0, raio = 1, 2, 5 # definindo as coordenadas do centro e o raio do círculo\n",
    "teta = numpy.arange(0, 2*numpy.pi, 0.01) # dominio da função (passo 0.01 para melhorar a precisão)\n",
    "x = x0 + raio * numpy.cos(teta) # calculando x\n",
    "y = y0 + raio * numpy.sin(teta) # calculando y\n",
    "pyplot.figure(figsize = (5,5)) # definindo o tamanho da figura\n",
    "pyplot.plot(x,y) # plota o gráfico\n",
    "pyplot.box(True) # adição da caixa preta nas bordas do gráfico\n",
    "pyplot.grid(True) # desenho do quadriculado do gráfico\n",
    "pyplot.title(\"Equação da circunferência\") # título do gráfico"
   ]
  },
  {
   "cell_type": "markdown",
   "metadata": {},
   "source": [
    "$Uma$ $Cônica$ $Arbitrária$ $Por$ $Cinco$ $Pontos$"
   ]
  },
  {
   "cell_type": "markdown",
   "metadata": {},
   "source": [
    "A equação  geral de uma seção cônica arbitrária no plano (uma parábola, hipérbole ou elipse, ou formas degeneradas destas) é dada por $$c1x^2 + c2xy + c3y^2 + c4x + c5y + c6 = 0$$\n",
    "Esta equação contém seis coeficientes, mas nós podemos reduzir este número a cinco se dividirmos todos por um que não seja zero. Assim,  basta determinar cinco coeficientes e portanto cinco pontos distintos do plano são suficientes para determinar a equação da seção cônica. Como antes, a equação pode ser posta na forma de determinante:"
   ]
  },
  {
   "cell_type": "markdown",
   "metadata": {},
   "source": [
    "$\\begin{bmatrix}\n",
    "         x² & xy & y² & x & y & 1\\\\\n",
    "         x1² & x1y1 & y1² & x1 & y1 & 1\\\\\n",
    "         x2² & x2y2 & y2² & x2 & y2 & 1\\\\\n",
    "         x3² & x3y3 & y3² & x3 & y3 & 1\\\\\n",
    "         x4² & x4y4 & y4² & x4 & y4 & 1\\\\\n",
    "         x5² & x5y5 & y5² & x5 & y5 & 1\\\\\n",
    "         \\end{bmatrix} = 0$"
   ]
  },
  {
   "cell_type": "markdown",
   "metadata": {},
   "source": [
    "$Ex: $Um astrônomo que deseja determinar a órbita de um asteróide em torno do Sol coloca um sistema de coordenadas cartesianas no plano da órbita, com o Sol na origem. Ao longo dos eixos são usadas unidades astronômicas (1 UA = 1 unidade astronômica = distância média da Terra ao Sol = 149.504.200 km). Pela  Primeira Lei de Kepler, a órbita deve ser uma elípse, de modo que o astrônomo faz cinco observações do asteróide em cinco tempos distintos: os cinco pontos ao longo da órbita são (8,025;8,310), (10,170;6,355), (11,202;3,212), (10,736;0,375), (9,092;-2.267). Encontre a equação da órbita."
   ]
  },
  {
   "cell_type": "markdown",
   "metadata": {},
   "source": [
    "$\\begin{bmatrix}\n",
    "         x² & xy & y² & x & y & 1 \\\\\n",
    "         64,401 & 66,688 & 69,056 & 8,025 & 8,310 & 1 \\\\\n",
    "         103,429 & 64,630 & 40,386 & 10,170 & 6,355 & 1 \\\\\n",
    "         125,485 & 35,981 & 10,317 & 11,202 & 3,212 & 1 \\\\\n",
    "         115,262 & 4,026 & 0,141 & 10,736 & 0,375 & 1 \\\\\n",
    "         82,664 & -20,612 & 5,139 & 9,092 & -2,267 & 1 \\\\\n",
    "         \\end{bmatrix} = 0$"
   ]
  },
  {
   "cell_type": "markdown",
   "metadata": {},
   "source": [
    "A expansão desse determinante em co-fatores ao longo da primeira linha é:"
   ]
  },
  {
   "cell_type": "code",
   "execution_count": 20,
   "metadata": {},
   "outputs": [],
   "source": [
    "# definindo um sistema linear homogêneo de equações\n",
    "matriz = numpy.array([[64.401, 66.688, 69.056, 8.025, 8.310, 1], \n",
    "                      [103.429, 64.630, 40.386, 10.170, 6.355, 1],\n",
    "                      [125.485, 35.981, 10.317, 11.202, 3.212, 1],\n",
    "                      [115.262, 4.026, 0.141, 10.736, 0.375, 1],\n",
    "                      [82.664, -20.612, 5.139, 9.092, -2.267, 1]])\n",
    "# matriz de co-fatores do elemento [1,1]\n",
    "constanteX2 = numpy.dot((-1) ** (1 + 1), numpy.linalg.det(numpy.delete(matriz,0,axis=1))) \n",
    "# matriz de co-fatores do elemento [1,2]\n",
    "constanteXY = numpy.dot((-1) ** (1 + 2), numpy.linalg.det(numpy.delete(matriz,1,axis=1))) \n",
    "# matriz de co-fatores do elemento [1,3]\n",
    "constanteY2 = numpy.dot((-1) ** (1 + 3), numpy.linalg.det(numpy.delete(matriz,2,axis=1))) \n",
    "# matriz de co-fatores do elemento [1,4]\n",
    "constanteX = numpy.dot((-1) ** (1 + 4), numpy.linalg.det(numpy.delete(matriz,3,axis=1))) \n",
    "# matriz de co-fatores do elemento [1,5]\n",
    "constanteY = numpy.dot((-1) ** (1 + 5), numpy.linalg.det(numpy.delete(matriz,4,axis=1)))\n",
    "# matriz de co-fatores do elemento [1,6]\n",
    "constante = numpy.dot((-1) ** (1 + 6), numpy.linalg.det(numpy.delete(matriz,5,axis=1))) "
   ]
  },
  {
   "cell_type": "code",
   "execution_count": 21,
   "metadata": {},
   "outputs": [
    {
     "name": "stdout",
     "output_type": "stream",
     "text": [
      "Equação da órbita: 386.872x² -102.830xy 445.995y² -2478.513x -1428.452y -17095.562\n"
     ]
    }
   ],
   "source": [
    "# imprime a equação geral da órbita\n",
    "print(\"Equação da órbita: {:.3f}x² {:.3f}xy {:.3f}y² {:.3f}x {:.3f}y {:.3f}\".format(constanteX2, constanteXY, constanteY2, constanteX, constanteY, constante))"
   ]
  },
  {
   "cell_type": "markdown",
   "metadata": {},
   "source": [
    "$Um$ $Plano$ $Por$ $Três$ $Pontos$"
   ]
  },
  {
   "cell_type": "markdown",
   "metadata": {},
   "source": [
    "O plano no espaço tridimensional de equação:\n",
    "$$c1x +c2y + c3z + c4 = 0$$\n",
    "que passa por três pontos não-colineares (x1,y1,z1), (x2,y2,z2) e (x3,y3,z3) é dado pela equação em formato de determinante:\n",
    "$$\\begin{bmatrix}\n",
    "          x & y & z & 1 \\\\\n",
    "          x1 & y1 & z1 & 1 \\\\\n",
    "          x2 & y2 & z2 & 1 \\\\\n",
    "          x3 & y3 & z3 & 1 \\\\\n",
    "          \\end{bmatrix} = 0$$"
   ]
  },
  {
   "cell_type": "markdown",
   "metadata": {},
   "source": [
    "$Ex: $Qual a equação do plano que passa pelos três pontos não-colineares (1,1,0),(2,0,-1) e (2,9,2).\n",
    "$$$$\n",
    "A expansão desse determinante em co-fatores ao longo da primeira linha é:\n",
    "$$\\begin{bmatrix}\n",
    "          x & y & z & 1 \\\\\n",
    "          1 & 1 & 0 & 1 \\\\\n",
    "          2 & 0 & -1 & 1 \\\\\n",
    "          2 & 9 & 2 & 1 \\\\\n",
    "          \\end{bmatrix} = 0$$"
   ]
  },
  {
   "cell_type": "code",
   "execution_count": 23,
   "metadata": {},
   "outputs": [],
   "source": [
    "# definindo um sistema linear homogêneo de equações\n",
    "matriz = numpy.array([[1,1,0,1], [2,0,-1,1], [2,9,2,1]])\n",
    "# matriz de co-fatores do elemento [1,1]\n",
    "constanteX = numpy.dot((-1) ** (1 + 1), numpy.linalg.det(numpy.delete(matriz,0,axis=1))) \n",
    "# matriz de co-fatores do elemento [1,2]\n",
    "constanteY = numpy.dot((-1) ** (1 + 2), numpy.linalg.det(numpy.delete(matriz,1,axis=1))) \n",
    "# matriz de co-fatores do elemento [1,3]\n",
    "constanteZ = numpy.dot((-1) ** (1 + 3), numpy.linalg.det(numpy.delete(matriz,2,axis=1))) \n",
    "# matriz de co-fatores do elemento [1,4]\n",
    "constante = numpy.dot((-1) ** (1 + 4), numpy.linalg.det(numpy.delete(matriz,3,axis=1))) "
   ]
  },
  {
   "cell_type": "code",
   "execution_count": 24,
   "metadata": {},
   "outputs": [
    {
     "name": "stdout",
     "output_type": "stream",
     "text": [
      "A equação do plano é: 6.00x -3.00y 9.00z -3.00 = 0\n"
     ]
    }
   ],
   "source": [
    "# imprime a equação do plano\n",
    "print(\"A equação do plano é: {:.2f}x {:.2f}y {:.2f}z {:.2f} = 0\".format(constanteX, constanteY, constanteZ, constante))"
   ]
  },
  {
   "cell_type": "markdown",
   "metadata": {},
   "source": [
    "$Uma$ $Esfera$ $Por$ $Quatro$ $Pontos$"
   ]
  },
  {
   "cell_type": "markdown",
   "metadata": {},
   "source": [
    "A esfera no espaço tridimensional de equação:\n",
    "$$c1(x² + y² + z²) + c2x + c3y + c4z + c5 = 0$$\n",
    "que passa por quatro pontos não-coplanares (x1, y1, z1), (x2, y2, z2), (x3, y3, z3) e (x4, y4, z4) é dado pela equação em formato de determinante:\n",
    "$$\\begin{bmatrix}\n",
    "          x² & y² & z² & x & y & z \\\\\n",
    "          x1² & y1² & z1² & x1 & y1 & z1 \\\\\n",
    "          x2² & y2² & z2² & x2 & y2 & z2 \\\\\n",
    "          x3² & y3² & z3² & x3 & y3 & z3 \\\\\n",
    "          x4² & y4² & z4² & x4 & y4 & z4 \\\\\n",
    "          \\end{bmatrix} = 0$$"
   ]
  },
  {
   "cell_type": "markdown",
   "metadata": {},
   "source": [
    "$Ex: $Qual a equação que passa pelos quatro pontos não-coplanares (0,3,2), (1,-1,1), (2,1,0) e (5,1,3).\n",
    "$$$$\n",
    "A expansão desse determinante em co-fatores ao longo da primeira linha é:\n",
    "$$\\begin{bmatrix}\n",
    "          x² + y² + z² & x & y & z & 1 \\\\\n",
    "          13 & 0 & 3 & 2 & 1 \\\\\n",
    "          3 & 1 & -1 & 1 & 1 \\\\\n",
    "          5 & 2 & 1 & 0 & 1 \\\\\n",
    "          35 & 5 & 1 & 3 & 1 \\\\\n",
    "          \\end{bmatrix} = 0$$"
   ]
  },
  {
   "cell_type": "code",
   "execution_count": 26,
   "metadata": {},
   "outputs": [],
   "source": [
    "# definindo um sistema linear homogêneo de equações\n",
    "matriz = numpy.array([[13,0,3,2,1], [3,1,-1,1,1], [5,2,1,0,1], [35,5,1,3,1]])\n",
    "# matriz de co-fatores do elemento [1,1]\n",
    "constanteX2Y2Z2 = numpy.dot((-1) ** (1 + 1), numpy.linalg.det(numpy.delete(matriz,0,axis=1))) \n",
    "# matriz de co-fatores do elemento [1,2]\n",
    "constanteX = numpy.dot((-1) ** (1 + 2), numpy.linalg.det(numpy.delete(matriz,1,axis=1))) \n",
    "# matriz de co-fatores do elemento [1,3]\n",
    "constanteY = numpy.dot((-1) ** (1 + 3), numpy.linalg.det(numpy.delete(matriz,2,axis=1))) \n",
    "# matriz de co-fatores do elemento [1,4]\n",
    "constanteZ = numpy.dot((-1) ** (1 + 4), numpy.linalg.det(numpy.delete(matriz,3,axis=1))) \n",
    "# matriz de co-fatores do elemento [1,5]\n",
    "constante = numpy.dot((-1) ** (1 + 5), numpy.linalg.det(numpy.delete(matriz,4,axis=1))) "
   ]
  },
  {
   "cell_type": "code",
   "execution_count": 27,
   "metadata": {},
   "outputs": [
    {
     "name": "stdout",
     "output_type": "stream",
     "text": [
      "A equação da esfera é -36.00(x² + y² + z²) 144.00x 72.00y 216.00z -180.00 = 0\n"
     ]
    }
   ],
   "source": [
    "# imprime a equação da esfera\n",
    "print(\"A equação da esfera é {:.2f}(x² + y² + z²) {:.2f}x {:.2f}y {:.2f}z {:.2f} = 0\".format(constanteX2Y2Z2, constanteX, constanteY, constanteZ, constante))"
   ]
  }
 ],
 "metadata": {
  "kernelspec": {
   "display_name": "Python 3",
   "language": "python",
   "name": "python3"
  },
  "language_info": {
   "codemirror_mode": {
    "name": "ipython",
    "version": 3
   },
   "file_extension": ".py",
   "mimetype": "text/x-python",
   "name": "python",
   "nbconvert_exporter": "python",
   "pygments_lexer": "ipython3",
   "version": "3.7.4"
  }
 },
 "nbformat": 4,
 "nbformat_minor": 4
}
