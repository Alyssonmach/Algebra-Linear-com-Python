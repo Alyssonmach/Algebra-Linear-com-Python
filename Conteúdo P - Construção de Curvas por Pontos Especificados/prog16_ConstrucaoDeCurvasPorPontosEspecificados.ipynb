{
 "cells": [
  {
   "cell_type": "markdown",
   "metadata": {},
   "source": [
    "# Construindo Curvas e Superfícies por Pontos Especificados\n",
    "#### Vamos ver uma forma de utilizar o determinante para construir equações de retas, círculos e seções cônicas em geral por pontos especificados no plano."
   ]
  },
  {
   "cell_type": "markdown",
   "metadata": {},
   "source": [
    "##### Referência: Álgebra Linear com aplicações / Anton Howard e Chris Rorres; trad. Claus Ivo Doering. - 8. ed. - Porto Alegre: Bookman, 2001."
   ]
  },
  {
   "cell_type": "markdown",
   "metadata": {},
   "source": [
    "### Importando as Bibliotecas"
   ]
  },
  {
   "cell_type": "code",
   "execution_count": 5,
   "metadata": {},
   "outputs": [],
   "source": [
    "# importando a biblioteca numpy do python\n",
    "import numpy \n",
    "# importando a biblioteca matplotlib do python\n",
    "import matplotlib.pyplot as plt\n",
    "%matplotlib inline"
   ]
  },
  {
   "cell_type": "markdown",
   "metadata": {},
   "source": [
    "## Uma Reta por Dois Pontos"
   ]
  },
  {
   "cell_type": "markdown",
   "metadata": {},
   "source": [
    "Suponha que (x1,y1) e (x2,y2) são dois pontos distintos no plano. existe uma única reta "
   ]
  },
  {
   "cell_type": "markdown",
   "metadata": {},
   "source": [
    "$c1x + c2y + c3 = 0$ "
   ]
  },
  {
   "cell_type": "markdown",
   "metadata": {},
   "source": [
    "que passa por esses dois pontos. Observe que c1, c2 e c3 não são todos nulos e que estes coeficientes são únicos a menos de uma constante multiplicativa. Como (x1,y1) e (x2,y2) estão na reta, substituindo-se obtemos as duas equações:"
   ]
  },
  {
   "cell_type": "markdown",
   "metadata": {},
   "source": [
    "- $1-) c1x1 + c2y1 + c3 = 0$\n",
    "- $2-) c1x2 + c2y2 + c3 = 0$"
   ]
  },
  {
   "cell_type": "markdown",
   "metadata": {},
   "source": [
    "Essas três equações podem ser agrupadas da seguinte forma:"
   ]
  },
  {
   "cell_type": "markdown",
   "metadata": {},
   "source": [
    "- $xc1 + yc2 + c3 = 0$\n",
    "- $x1c1 + y1c2 + c3 = 0$\n",
    "- $x2c1 + y2c2 + c3 = 0$"
   ]
  },
  {
   "cell_type": "markdown",
   "metadata": {},
   "source": [
    "que é um sistema linear homogêneo de três equações em c1, c2 e c3. Como c1, c2 e c3 não são todos nulos, este sistema tem uma solução não-trivial, de modo que o determinante do sistema deve ser zero. Ou seja:"
   ]
  },
  {
   "cell_type": "markdown",
   "metadata": {},
   "source": [
    "$\\begin{bmatrix}\n",
    "         x & y & 1 \\\\\n",
    "         x1 & y1 & 1 \\\\\n",
    "         x2 & y2 & 1 \\\\\n",
    "         \\end{bmatrix} = 0$"
   ]
  },
  {
   "cell_type": "markdown",
   "metadata": {},
   "source": [
    "Dai, temos o teorema:"
   ]
  },
  {
   "cell_type": "markdown",
   "metadata": {},
   "source": [
    "> **_Um sistema linear homogêneo com o mesmo número de equações e de incógnitas tem uma solução não-trivial se, e somente se, o determinante da matriz de coeficientes é zero._**"
   ]
  },
  {
   "cell_type": "markdown",
   "metadata": {},
   "source": [
    "### Ex: Encontre a equação da reta que passa pelos dois pontos (2,1) e (3,7)."
   ]
  },
  {
   "cell_type": "markdown",
   "metadata": {},
   "source": [
    "$$\\begin{bmatrix}\n",
    "         x & y & 1 \\\\\n",
    "         2 & 1 & 1 \\\\\n",
    "         3 & 7 & 1 \\\\\n",
    "         \\end{bmatrix}$$"
   ]
  },
  {
   "cell_type": "markdown",
   "metadata": {},
   "source": [
    "A expansão deste determinante em co-fatores ao longo da primeira linha, vai nos dar a equação da reta:"
   ]
  },
  {
   "cell_type": "code",
   "execution_count": 6,
   "metadata": {},
   "outputs": [],
   "source": [
    "# definindo um sistema linear homogêneo de equações\n",
    "matriz = numpy.array([[2,1,1],[3,7,1]]) \n",
    "# matriz de co-fatores do elemento [1,1]\n",
    "constanteX = numpy.dot((-1) ** (1 + 1), numpy.linalg.det(numpy.delete(matriz,0,axis=1))) \n",
    "# matriz de co-fatores do elemento [1,2]\n",
    "constanteY = numpy.dot((-1) ** (1 + 2), numpy.linalg.det(numpy.delete(matriz,1,axis=1))) \n",
    "# matriz de co-fatores do elemento [1,3]\n",
    "constante = numpy.dot((-1) ** (1 + 3), numpy.linalg.det(numpy.delete(matriz,2,axis=1))) "
   ]
  },
  {
   "cell_type": "code",
   "execution_count": 7,
   "metadata": {},
   "outputs": [
    {
     "name": "stdout",
     "output_type": "stream",
     "text": [
      "Equação da reta: -6.00x 1.00y 11.00 = 0\n"
     ]
    }
   ],
   "source": [
    "# imprime a equação da reta\n",
    "print(\"Equação da reta: {:.2f}x {:.2f}y {:.2f} = 0\".format(constanteX, constanteY, constante)) "
   ]
  },
  {
   "cell_type": "markdown",
   "metadata": {},
   "source": [
    "E temos a equação: $-6x + y + 11 = 0$"
   ]
  },
  {
   "cell_type": "code",
   "execution_count": 8,
   "metadata": {},
   "outputs": [
    {
     "data": {
      "text/plain": [
       "Text(0.5, 1.0, 'Equação da Reta')"
      ]
     },
     "execution_count": 8,
     "metadata": {},
     "output_type": "execute_result"
    },
    {
     "data": {
      "image/png": "[encoded data removed]",
      "text/plain": [
       "<Figure size 720x360 with 1 Axes>"
      ]
     },
     "metadata": {
      "needs_background": "light"
     },
     "output_type": "display_data"
    }
   ],
   "source": [
    "# define valores arbitrários para a variável x, entre -2 e 6\n",
    "valoresX = numpy.linspace(-2,6) \n",
    "# coordenadas associadas a y\n",
    "y1 = 6.0 \n",
    "# valor resultante da operação do sistema\n",
    "b1= -11.0 \n",
    "# definindo o tamanho da figura\n",
    "plt.figure(figsize = (10,5)) \n",
    "# plota a reta y = 6x - 11\n",
    "plt.plot(valoresX, y1 * valoresX + b1) \n",
    "# adição da caixa preta nas bordas do gráfico\n",
    "plt.box(True) \n",
    "# adição do quadriculado do gráfico\n",
    "plt.grid(True) \n",
    " # Título da Reta\n",
    "plt.title(\"Equação da Reta\")"
   ]
  },
  {
   "cell_type": "markdown",
   "metadata": {},
   "source": [
    "## Um Círculo por Três Pontos"
   ]
  },
  {
   "cell_type": "markdown",
   "metadata": {},
   "source": [
    "Suponha que (x1,y1), (x2,y2) e (x3,y3) são três pontos distintos não-colineares do plano. Da Geometria Analítica sabemos que existe um único círculo, digamos,"
   ]
  },
  {
   "cell_type": "markdown",
   "metadata": {},
   "source": [
    "- $c_{1}(x^{2} + y^{2}) + c_{2}x + c_{3}y + c_{4} = 0$"
   ]
  },
  {
   "cell_type": "markdown",
   "metadata": {},
   "source": [
    "que passa por esses três pontos. Substituindo as coordenadas destes pontos nesta equação, obtemos:"
   ]
  },
  {
   "cell_type": "markdown",
   "metadata": {},
   "source": [
    "- $1-) c_{1}(x1^{2} + y1^{2}) + c_{2}x1 + c_{3}y1 + c_{4} = 0$\n",
    "- $2-) c_{1}(x2^{2} + y2^{2}) + c_{2}x2 + c_{3}y2 + c_{4} = 0$\n",
    "- $3-) c_{1}(x3^{2} + y3^{2}) + c_{2}x3 + c_{3}y3 + c_{4} = 0$"
   ]
  },
  {
   "cell_type": "markdown",
   "metadata": {},
   "source": [
    "Como antes, as equações formam um sistema linear homogêneo com uma solução não-trivial em c1, c2, c3 e c4. Assim, o determinante da matriz de coeficientes é zero."
   ]
  },
  {
   "cell_type": "markdown",
   "metadata": {},
   "source": [
    "$\\begin{bmatrix}\n",
    "          x^2 + y^2 & x & y & 1 \\\\\n",
    "          x1^2 + y1^2 & x1 & y1 & 1 \\\\\n",
    "          x2^2 + y2^2 & x2 & y2 & 1 \\\\\n",
    "          x3^2 + y3^2 & x3 & y3 & 1 \\\\\n",
    "          \\end{bmatrix}$"
   ]
  },
  {
   "cell_type": "markdown",
   "metadata": {},
   "source": [
    "### Ex: Encontre a equação do círculo que passa pelos três pontos (1,7) e (6,2) e (4,6)."
   ]
  },
  {
   "cell_type": "markdown",
   "metadata": {},
   "source": [
    "A expansão deste determinante em co-fatores ao longo da primeira linha, vai nos dar a equação da reta:"
   ]
  },
  {
   "cell_type": "markdown",
   "metadata": {},
   "source": [
    "$\\begin{bmatrix}\n",
    "         x^2 + y^2 & x & y & 1 \\\\\n",
    "         50 & 1 & 7 & 1 \\\\\n",
    "         40 & 6 & 2 & 1 \\\\\n",
    "         52 & 4 & 6 & 1 \\\\\n",
    "         \\end{bmatrix} = 0$"
   ]
  },
  {
   "cell_type": "code",
   "execution_count": 9,
   "metadata": {},
   "outputs": [],
   "source": [
    "# definindo um sistema linear homogêneo de equações\n",
    "matriz = numpy.array([[50,1,7,1],[40,6,2,1],[52,4,6,1]])\n",
    "# matriz de co-fatores do elemento [1,1]\n",
    "constanteXY = numpy.dot((-1) ** (1 + 1), numpy.linalg.det(numpy.delete(matriz,0,axis=1))) \n",
    "# matriz de co-fatores do elemento [1,2]\n",
    "constanteX = numpy.dot((-1) ** (1 + 2), numpy.linalg.det(numpy.delete(matriz,1,axis=1))) \n",
    "# matriz de co-fatores do elemento [1,3]\n",
    "constanteY = numpy.dot((-1) ** (1 + 3), numpy.linalg.det(numpy.delete(matriz,2,axis=1))) \n",
    "# matriz de co-fatores do elemento [1,4]\n",
    "constante = numpy.dot((-1) ** (1 + 4), numpy.linalg.det(numpy.delete(matriz,3,axis=1))) "
   ]
  },
  {
   "cell_type": "code",
   "execution_count": 10,
   "metadata": {},
   "outputs": [
    {
     "name": "stdout",
     "output_type": "stream",
     "text": [
      "Equação da circunferência: 10.00(x² + y²) -20.00x -40.00y -200.00 = 0\n"
     ]
    }
   ],
   "source": [
    "print(\"Equação da circunferência: {:.2f}(x² + y²) {:.2f}x {:.2f}y {:.2f} = 0\".format(constanteXY,\n",
    "                                                                                     constanteX,\n",
    "                                                                                     constanteY,\n",
    "                                                                                     constante))"
   ]
  },
  {
   "cell_type": "markdown",
   "metadata": {},
   "source": [
    "Temos a equação da circunferência: $10(x² + y²) - 20x - 40y - 200 = 0$"
   ]
  },
  {
   "cell_type": "markdown",
   "metadata": {},
   "source": [
    "- $1-) (x² + y²) - 2x - 4y - 20 = 0$\n",
    "- $2-) (x² - 2x + 1) - 1 + (y² - 4y + 2) - 4 - 20 = 0$\n",
    "- $3-) (x - 1)² + (y - 2)² = 5²$"
   ]
  },
  {
   "cell_type": "markdown",
   "metadata": {},
   "source": [
    "De forma mais simplificada ainda:"
   ]
  },
  {
   "cell_type": "markdown",
   "metadata": {},
   "source": [
    "- $1-) x = 1 + 5*cos(t)$\n",
    "- $2-) y = 2 + 5*sen(t)$"
   ]
  },
  {
   "cell_type": "code",
   "execution_count": 11,
   "metadata": {},
   "outputs": [
    {
     "data": {
      "text/plain": [
       "Text(0.5, 1.0, 'Equação da circunferência')"
      ]
     },
     "execution_count": 11,
     "metadata": {},
     "output_type": "execute_result"
    },
    {
     "data": {
      "image/png": "[encoded data removed]",
      "text/plain": [
       "<Figure size 720x720 with 1 Axes>"
      ]
     },
     "metadata": {
      "needs_background": "light"
     },
     "output_type": "display_data"
    }
   ],
   "source": [
    "# definindo as coordenadas do centro e o raio do círculo\n",
    "x0, y0, raio = 1, 2, 5 \n",
    "# dominio da função (passo 0.01 para melhorar a precisão)\n",
    "teta = numpy.arange(0, 2*numpy.pi, 0.01) \n",
    "# calculando x\n",
    "x = x0 + raio * numpy.cos(teta) \n",
    "# calculando y\n",
    "y = y0 + raio * numpy.sin(teta) \n",
    "# definindo o tamanho da figura\n",
    "plt.figure(figsize = (10,10)) \n",
    "# plota o gráfico\n",
    "plt.plot(x,y) \n",
    "# adição da caixa preta nas bordas do gráfico\n",
    "plt.box(True) \n",
    "# desenho do quadriculado do gráfico\n",
    "plt.grid(True)\n",
    "# título do gráfico\n",
    "plt.title(\"Equação da circunferência\") "
   ]
  },
  {
   "cell_type": "markdown",
   "metadata": {},
   "source": [
    "## Uma Cônica Arbitrária por Cinco Pontos"
   ]
  },
  {
   "cell_type": "markdown",
   "metadata": {},
   "source": [
    "A equação  geral de uma seção cônica arbitrária no plano (uma parábola, hipérbole ou elipse, ou formas degeneradas destas) é dada por "
   ]
  },
  {
   "cell_type": "markdown",
   "metadata": {},
   "source": [
    "- $c1x^2 + c2xy + c3y^2 + c4x + c5y + c6 = 0$"
   ]
  },
  {
   "cell_type": "markdown",
   "metadata": {},
   "source": [
    "Esta equação contém seis coeficientes, mas nós podemos reduzir este número a cinco se dividirmos todos por um que não seja zero. Assim,  basta determinar cinco coeficientes e portanto cinco pontos distintos do plano são suficientes para determinar a equação da seção cônica. Como antes, a equação pode ser posta na forma de determinante:"
   ]
  },
  {
   "cell_type": "markdown",
   "metadata": {},
   "source": [
    "$\\begin{bmatrix}\n",
    "         x² & xy & y² & x & y & 1\\\\\n",
    "         x1² & x1y1 & y1² & x1 & y1 & 1\\\\\n",
    "         x2² & x2y2 & y2² & x2 & y2 & 1\\\\\n",
    "         x3² & x3y3 & y3² & x3 & y3 & 1\\\\\n",
    "         x4² & x4y4 & y4² & x4 & y4 & 1\\\\\n",
    "         x5² & x5y5 & y5² & x5 & y5 & 1\\\\\n",
    "         \\end{bmatrix} = 0$"
   ]
  },
  {
   "cell_type": "markdown",
   "metadata": {},
   "source": [
    "**Ex**: Um astrônomo que deseja determinar a órbita de um asteróide em torno do Sol coloca um sistema de coordenadas cartesianas no plano da órbita, com o Sol na origem. Ao longo dos eixos são usadas unidades astronômicas (1 UA = 1 unidade astronômica = distância média da Terra ao Sol = 149.504.200 km). Pela  Primeira Lei de Kepler, a órbita deve ser uma elípse, de modo que o astrônomo faz cinco observações do asteróide em cinco tempos distintos: os cinco pontos ao longo da órbita são (8,025;8,310), (10,170;6,355), (11,202;3,212), (10,736;0,375), (9,092;-2.267). Encontre a equação da órbita."
   ]
  },
  {
   "cell_type": "markdown",
   "metadata": {},
   "source": [
    "$\\begin{bmatrix}\n",
    "         x² & xy & y² & x & y & 1 \\\\\n",
    "         64,401 & 66,688 & 69,056 & 8,025 & 8,310 & 1 \\\\\n",
    "         103,429 & 64,630 & 40,386 & 10,170 & 6,355 & 1 \\\\\n",
    "         125,485 & 35,981 & 10,317 & 11,202 & 3,212 & 1 \\\\\n",
    "         115,262 & 4,026 & 0,141 & 10,736 & 0,375 & 1 \\\\\n",
    "         82,664 & -20,612 & 5,139 & 9,092 & -2,267 & 1 \\\\\n",
    "         \\end{bmatrix} = 0$"
   ]
  },
  {
   "cell_type": "markdown",
   "metadata": {},
   "source": [
    "A expansão desse determinante em co-fatores ao longo da primeira linha é:"
   ]
  },
  {
   "cell_type": "code",
   "execution_count": 12,
   "metadata": {},
   "outputs": [],
   "source": [
    "# definindo um sistema linear homogêneo de equações\n",
    "matriz = numpy.array([[64.401, 66.688, 69.056, 8.025, 8.310, 1], \n",
    "                      [103.429, 64.630, 40.386, 10.170, 6.355, 1],\n",
    "                      [125.485, 35.981, 10.317, 11.202, 3.212, 1],\n",
    "                      [115.262, 4.026, 0.141, 10.736, 0.375, 1],\n",
    "                      [82.664, -20.612, 5.139, 9.092, -2.267, 1]])\n",
    "# matriz de co-fatores do elemento [1,1]\n",
    "constanteX2 = numpy.dot((-1) ** (1 + 1), numpy.linalg.det(numpy.delete(matriz,0,axis=1))) \n",
    "# matriz de co-fatores do elemento [1,2]\n",
    "constanteXY = numpy.dot((-1) ** (1 + 2), numpy.linalg.det(numpy.delete(matriz,1,axis=1))) \n",
    "# matriz de co-fatores do elemento [1,3]\n",
    "constanteY2 = numpy.dot((-1) ** (1 + 3), numpy.linalg.det(numpy.delete(matriz,2,axis=1))) \n",
    "# matriz de co-fatores do elemento [1,4]\n",
    "constanteX = numpy.dot((-1) ** (1 + 4), numpy.linalg.det(numpy.delete(matriz,3,axis=1))) \n",
    "# matriz de co-fatores do elemento [1,5]\n",
    "constanteY = numpy.dot((-1) ** (1 + 5), numpy.linalg.det(numpy.delete(matriz,4,axis=1)))\n",
    "# matriz de co-fatores do elemento [1,6]\n",
    "constante = numpy.dot((-1) ** (1 + 6), numpy.linalg.det(numpy.delete(matriz,5,axis=1))) "
   ]
  },
  {
   "cell_type": "code",
   "execution_count": 13,
   "metadata": {},
   "outputs": [
    {
     "name": "stdout",
     "output_type": "stream",
     "text": [
      "Equação da órbita: 386.872x² -102.830xy 445.995y² -2478.513x -1428.452y -17095.562\n"
     ]
    }
   ],
   "source": [
    "# imprime a equação geral da órbita\n",
    "print(\"Equação da órbita: {:.3f}x² {:.3f}xy {:.3f}y² {:.3f}x {:.3f}y {:.3f}\".format(constanteX2, \n",
    "                                                                                    constanteXY, \n",
    "                                                                                    constanteY2, \n",
    "                                                                                    constanteX, \n",
    "                                                                                    constanteY, \n",
    "                                                                                    constante))"
   ]
  },
  {
   "cell_type": "markdown",
   "metadata": {},
   "source": [
    "## Um Plano por Três Pontos"
   ]
  },
  {
   "cell_type": "markdown",
   "metadata": {},
   "source": [
    "O plano no espaço tridimensional de equação:"
   ]
  },
  {
   "cell_type": "markdown",
   "metadata": {},
   "source": [
    "- $c1x +c2y + c3z + c4 = 0$"
   ]
  },
  {
   "cell_type": "markdown",
   "metadata": {},
   "source": [
    "que passa por três pontos não-colineares (x1,y1,z1), (x2,y2,z2) e (x3,y3,z3) é dado pela equação em formato de determinante:"
   ]
  },
  {
   "cell_type": "markdown",
   "metadata": {},
   "source": [
    "$$\\begin{bmatrix}\n",
    "          x & y & z & 1 \\\\\n",
    "          x1 & y1 & z1 & 1 \\\\\n",
    "          x2 & y2 & z2 & 1 \\\\\n",
    "          x3 & y3 & z3 & 1 \\\\\n",
    "          \\end{bmatrix} = 0$$"
   ]
  },
  {
   "cell_type": "markdown",
   "metadata": {},
   "source": [
    "**Ex**: Qual a equação do plano que passa pelos três pontos não-colineares (1,1,0),(2,0,-1) e (2,9,2).\n",
    "A expansão desse determinante em co-fatores ao longo da primeira linha é:"
   ]
  },
  {
   "cell_type": "markdown",
   "metadata": {},
   "source": [
    "A expansão desse determinante em co-fatores ao longo da primeira linha é:"
   ]
  },
  {
   "cell_type": "markdown",
   "metadata": {},
   "source": [
    "$$\\begin{bmatrix}\n",
    "          x & y & z & 1 \\\\\n",
    "          1 & 1 & 0 & 1 \\\\\n",
    "          2 & 0 & -1 & 1 \\\\\n",
    "          2 & 9 & 2 & 1 \\\\\n",
    "          \\end{bmatrix} = 0$$"
   ]
  },
  {
   "cell_type": "code",
   "execution_count": 14,
   "metadata": {},
   "outputs": [],
   "source": [
    "# definindo um sistema linear homogêneo de equações\n",
    "matriz = numpy.array([[1,1,0,1], [2,0,-1,1], [2,9,2,1]])\n",
    "# matriz de co-fatores do elemento [1,1]\n",
    "constanteX = numpy.dot((-1) ** (1 + 1), numpy.linalg.det(numpy.delete(matriz,0,axis=1))) \n",
    "# matriz de co-fatores do elemento [1,2]\n",
    "constanteY = numpy.dot((-1) ** (1 + 2), numpy.linalg.det(numpy.delete(matriz,1,axis=1))) \n",
    "# matriz de co-fatores do elemento [1,3]\n",
    "constanteZ = numpy.dot((-1) ** (1 + 3), numpy.linalg.det(numpy.delete(matriz,2,axis=1))) \n",
    "# matriz de co-fatores do elemento [1,4]\n",
    "constante = numpy.dot((-1) ** (1 + 4), numpy.linalg.det(numpy.delete(matriz,3,axis=1))) "
   ]
  },
  {
   "cell_type": "code",
   "execution_count": 15,
   "metadata": {},
   "outputs": [
    {
     "name": "stdout",
     "output_type": "stream",
     "text": [
      "A equação do plano é: 6.00x -3.00y 9.00z -3.00 = 0\n"
     ]
    }
   ],
   "source": [
    "# imprime a equação do plano\n",
    "print(\"A equação do plano é: {:.2f}x {:.2f}y {:.2f}z {:.2f} = 0\".format(constanteX, \n",
    "                                                                        constanteY, \n",
    "                                                                        constanteZ, \n",
    "                                                                        constante))"
   ]
  },
  {
   "cell_type": "markdown",
   "metadata": {},
   "source": [
    "## Uma Esfera por Quatro Pontos"
   ]
  },
  {
   "cell_type": "markdown",
   "metadata": {},
   "source": [
    "A esfera no espaço tridimensional de equação:"
   ]
  },
  {
   "cell_type": "markdown",
   "metadata": {},
   "source": [
    "- $c1(x² + y² + z²) + c2x + c3y + c4z + c5 = 0$"
   ]
  },
  {
   "cell_type": "markdown",
   "metadata": {},
   "source": [
    "que passa por quatro pontos não-coplanares (x1, y1, z1), (x2, y2, z2), (x3, y3, z3) e (x4, y4, z4) é dado pela equação em formato de determinante:"
   ]
  },
  {
   "cell_type": "markdown",
   "metadata": {},
   "source": [
    "$$\\begin{bmatrix}\n",
    "          x² & y² & z² & x & y & z \\\\\n",
    "          x1² & y1² & z1² & x1 & y1 & z1 \\\\\n",
    "          x2² & y2² & z2² & x2 & y2 & z2 \\\\\n",
    "          x3² & y3² & z3² & x3 & y3 & z3 \\\\\n",
    "          x4² & y4² & z4² & x4 & y4 & z4 \\\\\n",
    "          \\end{bmatrix} = 0$$"
   ]
  },
  {
   "cell_type": "markdown",
   "metadata": {},
   "source": [
    "**Ex**: Qual a equação que passa pelos quatro pontos não-coplanares (0,3,2), (1,-1,1), (2,1,0) e (5,1,3)."
   ]
  },
  {
   "cell_type": "markdown",
   "metadata": {},
   "source": [
    "A expansão desse determinante em co-fatores ao longo da primeira linha é:"
   ]
  },
  {
   "cell_type": "markdown",
   "metadata": {},
   "source": [
    "$$\\begin{bmatrix}\n",
    "          x² + y² + z² & x & y & z & 1 \\\\\n",
    "          13 & 0 & 3 & 2 & 1 \\\\\n",
    "          3 & 1 & -1 & 1 & 1 \\\\\n",
    "          5 & 2 & 1 & 0 & 1 \\\\\n",
    "          35 & 5 & 1 & 3 & 1 \\\\\n",
    "          \\end{bmatrix} = 0$$"
   ]
  },
  {
   "cell_type": "code",
   "execution_count": 16,
   "metadata": {},
   "outputs": [],
   "source": [
    "# definindo um sistema linear homogêneo de equações\n",
    "matriz = numpy.array([[13,0,3,2,1], [3,1,-1,1,1], [5,2,1,0,1], [35,5,1,3,1]])\n",
    "# matriz de co-fatores do elemento [1,1]\n",
    "constX2Y2Z2 = numpy.dot((-1) ** (1 + 1), numpy.linalg.det(numpy.delete(matriz,0,axis=1))) \n",
    "# matriz de co-fatores do elemento [1,2]\n",
    "constanteX = numpy.dot((-1) ** (1 + 2), numpy.linalg.det(numpy.delete(matriz,1,axis=1))) \n",
    "# matriz de co-fatores do elemento [1,3]\n",
    "constanteY = numpy.dot((-1) ** (1 + 3), numpy.linalg.det(numpy.delete(matriz,2,axis=1))) \n",
    "# matriz de co-fatores do elemento [1,4]\n",
    "constanteZ = numpy.dot((-1) ** (1 + 4), numpy.linalg.det(numpy.delete(matriz,3,axis=1))) \n",
    "# matriz de co-fatores do elemento [1,5]\n",
    "constante = numpy.dot((-1) ** (1 + 5), numpy.linalg.det(numpy.delete(matriz,4,axis=1))) "
   ]
  },
  {
   "cell_type": "code",
   "execution_count": 17,
   "metadata": {},
   "outputs": [
    {
     "name": "stdout",
     "output_type": "stream",
     "text": [
      "A equação da esfera é -36.00(x² + y² + z²) 144.00x 72.00y 216.00z -180.00 = 0\n"
     ]
    }
   ],
   "source": [
    "# imprime a equação da esfera\n",
    "print(\"A equação da esfera é {:.2f}(x² + y² + z²) {:.2f}x {:.2f}y {:.2f}z {:.2f} = 0\".format(constX2Y2Z2, \n",
    "                                                                                             constanteX, \n",
    "                                                                                             constanteY, \n",
    "                                                                                             constanteZ, \n",
    "                                                                                             constante))"
   ]
  },
  {
   "cell_type": "markdown",
   "metadata": {},
   "source": [
    "### Alguma Dúvida? Entre em Contato Comigo:"
   ]
  },
  {
   "cell_type": "markdown",
   "metadata": {},
   "source": [
    "- [Me envie um e-mail](mailto:alysson.barbosa@ee.ufcg.edu.br);"
   ]
  }
 ],
 "metadata": {
  "kernelspec": {
   "display_name": "Python 3",
   "language": "python",
   "name": "python3"
  },
  "language_info": {
   "codemirror_mode": {
    "name": "ipython",
    "version": 3
   },
   "file_extension": ".py",
   "mimetype": "text/x-python",
   "name": "python",
   "nbconvert_exporter": "python",
   "pygments_lexer": "ipython3",
   "version": "3.7.4"
  }
 },
 "nbformat": 4,
 "nbformat_minor": 4
}
