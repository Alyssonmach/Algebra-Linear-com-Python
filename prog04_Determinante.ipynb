{
 "cells": [
  {
   "cell_type": "markdown",
   "metadata": {},
   "source": [
    "# Progama que Calcula o Determinante de uma Matriz"
   ]
  },
  {
   "cell_type": "markdown",
   "metadata": {},
   "source": [
    "> Em matemática, determinante é uma função matricial que associa a cada matriz quadrada um escalar. Essa função transforma essa matriz em um número real. Esta função permite saber se a matriz tem ou não inversa, pois as que não têm são precisamente aquelas cujo determinante é igual a 0. O cálculo de determinantes está ligado com o conjunto solução de um sistema linear, pois se o cálculo da matriz dos coeficientes de um sistema de equações lineares, onde o número de equações é igual o número de incógnitas (uma matriz quadrada) for um valor diferente de zero, possuímos uma única solução para o sistema, caso o valor do determinante for zero, temos um sistema possível indeterminado ou impossível."
   ]
  },
  {
   "cell_type": "code",
   "execution_count": 1,
   "metadata": {},
   "outputs": [
    {
     "name": "stdin",
     "output_type": "stream",
     "text": [
      "Informe o ordem da matriz:  4\n"
     ]
    },
    {
     "name": "stdout",
     "output_type": "stream",
     "text": [
      "\n",
      "\n"
     ]
    },
    {
     "name": "stdin",
     "output_type": "stream",
     "text": [
      "Digite [1][1] da matriz:  4\n",
      "Digite [1][2] da matriz:  5\n",
      "Digite [1][3] da matriz:  -3\n",
      "Digite [1][4] da matriz:  0\n",
      "Digite [2][1] da matriz:  2\n",
      "Digite [2][2] da matriz:  -1\n",
      "Digite [2][3] da matriz:  3\n",
      "Digite [2][4] da matriz:  1\n",
      "Digite [3][1] da matriz:  1\n",
      "Digite [3][2] da matriz:  -3\n",
      "Digite [3][3] da matriz:  2\n",
      "Digite [3][4] da matriz:  1\n",
      "Digite [4][1] da matriz:  0\n",
      "Digite [4][2] da matriz:  2\n",
      "Digite [4][3] da matriz:  -2\n",
      "Digite [4][4] da matriz:  5\n"
     ]
    },
    {
     "name": "stdout",
     "output_type": "stream",
     "text": [
      "\n",
      "A matriz é:\n",
      " [[ 4.  5. -3.  0.]\n",
      " [ 2. -1.  3.  1.]\n",
      " [ 1. -3.  2.  1.]\n",
      " [ 0.  2. -2.  5.]]\n",
      "\n",
      "O determinante da matriz é: 210.00.\n"
     ]
    }
   ],
   "source": [
    "import numpy as np #Importa Funções da biblioteca Numpy\n",
    "\n",
    "qtd = int(input('Informe o ordem da matriz: ')) #Recebe a ordem da matriz\n",
    "\n",
    "matriz = np.empty([qtd, qtd], dtype = float) #Inicializa a matriz, ainda com 'lixo de endereços de memória' nele\n",
    "\n",
    "print('\\n')\n",
    "\n",
    "#Adiciona elementos na matriz\n",
    "for i in range(0, qtd):\n",
    "    for j in range(0, qtd):\n",
    "        matriz[i][j] = float(input('Digite [{}][{}] da matriz: '.format(i + 1, j + 1)))\n",
    "\n",
    "#Imprime a matriz\n",
    "print('\\nA matriz é:\\n', matriz)\n",
    "\n",
    "#a variável 'determinante' recebe o determinante da matriz\n",
    "determinante = np.linalg.det(matriz)\n",
    "\n",
    "#Imprime o determinante\n",
    "print('\\nO determinante da matriz é: {:.2f}.'.format(determinante))\n"
   ]
  },
  {
   "cell_type": "markdown",
   "metadata": {},
   "source": [
    "|**Aprenda mais:**                                                                                                       |\n",
    "|------------------------------------------------------------------------------------------------------------------------|\n",
    "|- [Curso de Álgebra Linear](https://www.labma.ufrj.br/~mcabral/livros/livro-alglin/alglin-material/CursoAlgLinlivro.pdf)|\n",
    "|- [Álgebra Linear - Vol 1](http://matematicaufsj.files.wordpress.com/2012/12/caderno_al_vol1.pdf)                       |\n",
    "|- [Determinante, Essência da Álgebra Linear](https://www.youtube.com/watch?v=yt3eoYvGel0)                               |"
   ]
  }
 ],
 "metadata": {
  "kernelspec": {
   "display_name": "Python 3",
   "language": "python",
   "name": "python3"
  },
  "language_info": {
   "codemirror_mode": {
    "name": "ipython",
    "version": 3
   },
   "file_extension": ".py",
   "mimetype": "text/x-python",
   "name": "python",
   "nbconvert_exporter": "python",
   "pygments_lexer": "ipython3",
   "version": "3.7.4"
  }
 },
 "nbformat": 4,
 "nbformat_minor": 4
}
