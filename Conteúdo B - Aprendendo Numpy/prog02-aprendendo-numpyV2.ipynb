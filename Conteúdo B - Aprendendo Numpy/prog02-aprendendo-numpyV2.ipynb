{
  "nbformat": 4,
  "nbformat_minor": 0,
  "metadata": {
    "kernelspec": {
      "display_name": "Python 3",
      "language": "python",
      "name": "python3"
    },
    "language_info": {
      "codemirror_mode": {
        "name": "ipython",
        "version": 3
      },
      "file_extension": ".py",
      "mimetype": "text/x-python",
      "name": "python",
      "nbconvert_exporter": "python",
      "pygments_lexer": "ipython3",
      "version": "3.8.7"
    },
    "colab": {
      "name": "prog02-aprendendo-numpyV2.ipynb",
      "provenance": []
    }
  },
  "cells": [
    {
      "cell_type": "markdown",
      "metadata": {
        "id": "oX1VyozgGCrH"
      },
      "source": [
        "# Estudando a Biblioteca Numpy\n",
        "***\n",
        "Neste módulo, vamos analisar alguns métodos pertencentes a biblioteca numpy. É pertinente saber que tal biblioteca nos permite implementar métodos numéricos em Àlgebra Linear, de modo rápido e preciso."
      ]
    },
    {
      "cell_type": "markdown",
      "metadata": {
        "id": "16onl12wGCrJ"
      },
      "source": [
        "> `Versão do Python:` 3.x"
      ]
    },
    {
      "cell_type": "markdown",
      "metadata": {
        "id": "RKffK0k-GCrK"
      },
      "source": [
        "`\"NumPy é um pacote para a linguagem Python que suporta arrays e matrizes multidimensionais, possuindo uma larga coleção de funções matemáticas para trabalhar com estas estruturas.\"` - [numpy](https://numpy.org/)"
      ]
    },
    {
      "cell_type": "markdown",
      "metadata": {
        "id": "nCO8nzaZGCrK"
      },
      "source": [
        "### Importando a Biblioteca"
      ]
    },
    {
      "cell_type": "code",
      "metadata": {
        "id": "RadTLemnGCrL"
      },
      "source": [
        "import numpy as np "
      ],
      "execution_count": 1,
      "outputs": []
    },
    {
      "cell_type": "markdown",
      "metadata": {
        "id": "uZu92Q8mGCrM"
      },
      "source": [
        "### Criando uma Matriz"
      ]
    },
    {
      "cell_type": "code",
      "metadata": {
        "id": "Jlc-fplyGCrN"
      },
      "source": [
        "M = np.array([10,24,34,45,56]) "
      ],
      "execution_count": 2,
      "outputs": []
    },
    {
      "cell_type": "markdown",
      "metadata": {
        "id": "dv9lz1yOGCrN"
      },
      "source": [
        "### Verificando o Tipo da Variável"
      ]
    },
    {
      "cell_type": "code",
      "metadata": {
        "id": "9NIrKq-NGCrO",
        "outputId": "9a633f86-0d3c-4cd0-ecb1-d0c83bec66d2",
        "colab": {
          "base_uri": "https://localhost:8080/"
        }
      },
      "source": [
        "type(M) "
      ],
      "execution_count": 3,
      "outputs": [
        {
          "output_type": "execute_result",
          "data": {
            "text/plain": [
              "numpy.ndarray"
            ]
          },
          "metadata": {
            "tags": []
          },
          "execution_count": 3
        }
      ]
    },
    {
      "cell_type": "code",
      "metadata": {
        "id": "-rP3mm8iGCrP",
        "outputId": "010b9ec2-1d04-42ca-ff65-2bd9db2fc571",
        "colab": {
          "base_uri": "https://localhost:8080/"
        }
      },
      "source": [
        "print(M) "
      ],
      "execution_count": 4,
      "outputs": [
        {
          "output_type": "stream",
          "text": [
            "[10 24 34 45 56]\n"
          ],
          "name": "stdout"
        }
      ]
    },
    {
      "cell_type": "markdown",
      "metadata": {
        "id": "LZtoIfbvGCrQ"
      },
      "source": [
        "### Trabalhando com Elementos da Matriz"
      ]
    },
    {
      "cell_type": "code",
      "metadata": {
        "id": "wTJYcxdgGCrQ",
        "outputId": "e164c86a-b766-4e19-c15d-e3ddd5133824",
        "colab": {
          "base_uri": "https://localhost:8080/"
        }
      },
      "source": [
        "print(\"{}\".format(M[0])) "
      ],
      "execution_count": 5,
      "outputs": [
        {
          "output_type": "stream",
          "text": [
            "10\n"
          ],
          "name": "stdout"
        }
      ]
    },
    {
      "cell_type": "code",
      "metadata": {
        "id": "6DsRgAkfGCrR",
        "outputId": "8cda0c8b-8c95-439c-b37b-c59d3efba070",
        "colab": {
          "base_uri": "https://localhost:8080/"
        }
      },
      "source": [
        "print(\"{}\".format(M[4]))"
      ],
      "execution_count": 6,
      "outputs": [
        {
          "output_type": "stream",
          "text": [
            "56\n"
          ],
          "name": "stdout"
        }
      ]
    },
    {
      "cell_type": "code",
      "metadata": {
        "id": "ytYC1jyPGCrR",
        "outputId": "09e62404-7533-495f-f278-9887f843d9b9",
        "colab": {
          "base_uri": "https://localhost:8080/"
        }
      },
      "source": [
        "print(\"{}\".format(M[0:4])) "
      ],
      "execution_count": 7,
      "outputs": [
        {
          "output_type": "stream",
          "text": [
            "[10 24 34 45]\n"
          ],
          "name": "stdout"
        }
      ]
    },
    {
      "cell_type": "markdown",
      "metadata": {
        "id": "X5ZAnqxiGCrS"
      },
      "source": [
        "### Dimensões da Matriz"
      ]
    },
    {
      "cell_type": "code",
      "metadata": {
        "id": "vfZMEho-GCrS",
        "outputId": "4a3dfc35-6154-49f3-a95e-db92f44034b7",
        "colab": {
          "base_uri": "https://localhost:8080/"
        }
      },
      "source": [
        "print(M.shape) "
      ],
      "execution_count": 8,
      "outputs": [
        {
          "output_type": "stream",
          "text": [
            "(5,)\n"
          ],
          "name": "stdout"
        }
      ]
    },
    {
      "cell_type": "markdown",
      "metadata": {
        "id": "jHwzf8zSGCrS"
      },
      "source": [
        "### Matrizes com mais dimensões"
      ]
    },
    {
      "cell_type": "code",
      "metadata": {
        "id": "BK4zrwW_GCrT"
      },
      "source": [
        "MD = np.array([[1,2,3,4,5],[6,7,8,9,10]]) "
      ],
      "execution_count": 9,
      "outputs": []
    },
    {
      "cell_type": "code",
      "metadata": {
        "id": "17zJbF-SGCrT",
        "outputId": "49a7ab67-135c-458d-eab1-21d87abd807c",
        "colab": {
          "base_uri": "https://localhost:8080/"
        }
      },
      "source": [
        "print(\"{}\".format(MD)) "
      ],
      "execution_count": 10,
      "outputs": [
        {
          "output_type": "stream",
          "text": [
            "[[ 1  2  3  4  5]\n",
            " [ 6  7  8  9 10]]\n"
          ],
          "name": "stdout"
        }
      ]
    },
    {
      "cell_type": "code",
      "metadata": {
        "id": "0GlDMEo4GCrT",
        "outputId": "d7330fda-4554-4f87-ae08-d9ca41baf36d",
        "colab": {
          "base_uri": "https://localhost:8080/"
        }
      },
      "source": [
        "MD.shape "
      ],
      "execution_count": 11,
      "outputs": [
        {
          "output_type": "execute_result",
          "data": {
            "text/plain": [
              "(2, 5)"
            ]
          },
          "metadata": {
            "tags": []
          },
          "execution_count": 11
        }
      ]
    },
    {
      "cell_type": "markdown",
      "metadata": {
        "id": "ckEZVUIsGCrU"
      },
      "source": [
        "### Visualizando elementos da matriz"
      ]
    },
    {
      "cell_type": "code",
      "metadata": {
        "id": "NQ5Wx_bEGCrU",
        "outputId": "58a8c151-b701-452f-c90a-f34d26006c83",
        "colab": {
          "base_uri": "https://localhost:8080/"
        }
      },
      "source": [
        "MD[1,1] "
      ],
      "execution_count": 12,
      "outputs": [
        {
          "output_type": "execute_result",
          "data": {
            "text/plain": [
              "7"
            ]
          },
          "metadata": {
            "tags": []
          },
          "execution_count": 12
        }
      ]
    },
    {
      "cell_type": "code",
      "metadata": {
        "id": "1Fiksnm_GCrV",
        "outputId": "dd476fb2-d657-4829-917b-b5168a6447ad",
        "colab": {
          "base_uri": "https://localhost:8080/"
        }
      },
      "source": [
        "MD[1][1] "
      ],
      "execution_count": 13,
      "outputs": [
        {
          "output_type": "execute_result",
          "data": {
            "text/plain": [
              "7"
            ]
          },
          "metadata": {
            "tags": []
          },
          "execution_count": 13
        }
      ]
    },
    {
      "cell_type": "code",
      "metadata": {
        "id": "izTv4bkXGCrV",
        "outputId": "d30132a6-baa3-4578-be75-f7066253740c",
        "colab": {
          "base_uri": "https://localhost:8080/"
        }
      },
      "source": [
        "MD.shape[0] "
      ],
      "execution_count": 14,
      "outputs": [
        {
          "output_type": "execute_result",
          "data": {
            "text/plain": [
              "2"
            ]
          },
          "metadata": {
            "tags": []
          },
          "execution_count": 14
        }
      ]
    },
    {
      "cell_type": "code",
      "metadata": {
        "id": "Iy8t6cq2GCrV",
        "outputId": "a502308b-6cc7-4ab2-9d30-f94bfc90106f",
        "colab": {
          "base_uri": "https://localhost:8080/"
        }
      },
      "source": [
        "MD.shape[1] "
      ],
      "execution_count": 15,
      "outputs": [
        {
          "output_type": "execute_result",
          "data": {
            "text/plain": [
              "5"
            ]
          },
          "metadata": {
            "tags": []
          },
          "execution_count": 15
        }
      ]
    },
    {
      "cell_type": "markdown",
      "metadata": {
        "id": "68k45N-HGCrW"
      },
      "source": [
        "### Criando uma Submatriz de Outra Matriz"
      ]
    },
    {
      "cell_type": "code",
      "metadata": {
        "id": "JSyhtBkuGCrW"
      },
      "source": [
        "subMD = MD[0:2, 0:3] "
      ],
      "execution_count": 16,
      "outputs": []
    },
    {
      "cell_type": "code",
      "metadata": {
        "id": "RTn_DpQLGCrW",
        "outputId": "f198bf57-24bc-4336-e9d7-61b4ca0f1322",
        "colab": {
          "base_uri": "https://localhost:8080/"
        }
      },
      "source": [
        "print(\"{}\".format(subMD)) "
      ],
      "execution_count": 17,
      "outputs": [
        {
          "output_type": "stream",
          "text": [
            "[[1 2 3]\n",
            " [6 7 8]]\n"
          ],
          "name": "stdout"
        }
      ]
    },
    {
      "cell_type": "markdown",
      "metadata": {
        "id": "tRbOcPcUGCrX"
      },
      "source": [
        "### Modificando Elementos das Matrizes"
      ]
    },
    {
      "cell_type": "code",
      "metadata": {
        "id": "BqHsXKUAGCrX"
      },
      "source": [
        "MD[1,1] = 11 "
      ],
      "execution_count": 18,
      "outputs": []
    },
    {
      "cell_type": "code",
      "metadata": {
        "id": "w1h2sLkCGCrX",
        "outputId": "3638017f-b21e-412f-a241-423e916252a9",
        "colab": {
          "base_uri": "https://localhost:8080/"
        }
      },
      "source": [
        "print(\"{}\".format(MD)) "
      ],
      "execution_count": 19,
      "outputs": [
        {
          "output_type": "stream",
          "text": [
            "[[ 1  2  3  4  5]\n",
            " [ 6 11  8  9 10]]\n"
          ],
          "name": "stdout"
        }
      ]
    },
    {
      "cell_type": "markdown",
      "metadata": {
        "id": "YOUo1Xb5GCrX"
      },
      "source": [
        "### Transformando uma Matriz de Números Inteiros em Números Reais"
      ]
    },
    {
      "cell_type": "code",
      "metadata": {
        "id": "PL5xKpN_GCrY"
      },
      "source": [
        "# o fato do primeiro elemento ser um float, número real, indica que todos os outros elementos serão também do tipo float\n",
        "MR = np.array([[1.0,2,3,4,5], [1000,12,4556,788,1], [6,7,8,9,1000]])"
      ],
      "execution_count": 20,
      "outputs": []
    },
    {
      "cell_type": "code",
      "metadata": {
        "id": "xnmdMyFOGCrY",
        "outputId": "81fd5ab7-a862-4c1a-eafe-85af22775bf3",
        "colab": {
          "base_uri": "https://localhost:8080/"
        }
      },
      "source": [
        "print(\"{}\".format(MR))"
      ],
      "execution_count": 21,
      "outputs": [
        {
          "output_type": "stream",
          "text": [
            "[[1.000e+00 2.000e+00 3.000e+00 4.000e+00 5.000e+00]\n",
            " [1.000e+03 1.200e+01 4.556e+03 7.880e+02 1.000e+00]\n",
            " [6.000e+00 7.000e+00 8.000e+00 9.000e+00 1.000e+03]]\n"
          ],
          "name": "stdout"
        }
      ]
    },
    {
      "cell_type": "markdown",
      "metadata": {
        "id": "pAlyI73sGCrY"
      },
      "source": [
        "### Criando uma Matriz Identidade"
      ]
    },
    {
      "cell_type": "code",
      "metadata": {
        "id": "NomkvlVgGCrZ"
      },
      "source": [
        "I = np.eye(4) "
      ],
      "execution_count": 22,
      "outputs": []
    },
    {
      "cell_type": "code",
      "metadata": {
        "id": "rYhVm3-sGCrZ",
        "outputId": "9cfad459-087d-406d-898e-b3f5121ec680",
        "colab": {
          "base_uri": "https://localhost:8080/"
        }
      },
      "source": [
        "print(\"{}\".format(I)) "
      ],
      "execution_count": 23,
      "outputs": [
        {
          "output_type": "stream",
          "text": [
            "[[1. 0. 0. 0.]\n",
            " [0. 1. 0. 0.]\n",
            " [0. 0. 1. 0.]\n",
            " [0. 0. 0. 1.]]\n"
          ],
          "name": "stdout"
        }
      ]
    },
    {
      "cell_type": "markdown",
      "metadata": {
        "id": "C6o_KLUIGCrZ"
      },
      "source": [
        "### Criando uma Matriz de Zeros"
      ]
    },
    {
      "cell_type": "code",
      "metadata": {
        "id": "Ngdlw_JbGCra"
      },
      "source": [
        "Z = np.zeros((4,4)) "
      ],
      "execution_count": 24,
      "outputs": []
    },
    {
      "cell_type": "code",
      "metadata": {
        "id": "njrbvyzhGCra",
        "outputId": "0bc0a9bb-8b4d-4de7-f768-1d754fc72e71",
        "colab": {
          "base_uri": "https://localhost:8080/"
        }
      },
      "source": [
        "print(\"{}\".format(Z)) "
      ],
      "execution_count": 25,
      "outputs": [
        {
          "output_type": "stream",
          "text": [
            "[[0. 0. 0. 0.]\n",
            " [0. 0. 0. 0.]\n",
            " [0. 0. 0. 0.]\n",
            " [0. 0. 0. 0.]]\n"
          ],
          "name": "stdout"
        }
      ]
    },
    {
      "cell_type": "markdown",
      "metadata": {
        "id": "Eaz3ZVx1GCra"
      },
      "source": [
        "### Criando uma Matriz de 1s"
      ]
    },
    {
      "cell_type": "code",
      "metadata": {
        "id": "zCnHAIjmGCrb"
      },
      "source": [
        "U = np.ones((4,2)) "
      ],
      "execution_count": 26,
      "outputs": []
    },
    {
      "cell_type": "code",
      "metadata": {
        "id": "1gcaP-fIGCrb",
        "outputId": "fd83c266-1fb7-4345-dada-84b43e31f399",
        "colab": {
          "base_uri": "https://localhost:8080/"
        }
      },
      "source": [
        "print(\"{}\".format(U)) "
      ],
      "execution_count": 27,
      "outputs": [
        {
          "output_type": "stream",
          "text": [
            "[[1. 1.]\n",
            " [1. 1.]\n",
            " [1. 1.]\n",
            " [1. 1.]]\n"
          ],
          "name": "stdout"
        }
      ]
    },
    {
      "cell_type": "code",
      "metadata": {
        "id": "Cr6_uieJGCrb",
        "outputId": "1715646a-2b04-4f8f-b5b1-3576db86721c",
        "colab": {
          "base_uri": "https://localhost:8080/"
        }
      },
      "source": [
        "print(\"{}\".format(U * 10)) # multiplicação por um escalar"
      ],
      "execution_count": 28,
      "outputs": [
        {
          "output_type": "stream",
          "text": [
            "[[10. 10.]\n",
            " [10. 10.]\n",
            " [10. 10.]\n",
            " [10. 10.]]\n"
          ],
          "name": "stdout"
        }
      ]
    },
    {
      "cell_type": "code",
      "metadata": {
        "id": "S0jurG6sGCrc"
      },
      "source": [
        "U = np.full((5,2), 10) # outra forma de definir uma matriz de 1s multiplicada por um escalar"
      ],
      "execution_count": 29,
      "outputs": []
    },
    {
      "cell_type": "code",
      "metadata": {
        "id": "ogUvarC1GCrd",
        "outputId": "d87e8bd4-e543-42c9-bc3a-01655a2322e5",
        "colab": {
          "base_uri": "https://localhost:8080/"
        }
      },
      "source": [
        "print(\"{}\".format(U)) "
      ],
      "execution_count": 30,
      "outputs": [
        {
          "output_type": "stream",
          "text": [
            "[[10 10]\n",
            " [10 10]\n",
            " [10 10]\n",
            " [10 10]\n",
            " [10 10]]\n"
          ],
          "name": "stdout"
        }
      ]
    },
    {
      "cell_type": "markdown",
      "metadata": {
        "id": "0uOhab85GCre"
      },
      "source": [
        "### Matriz Randômica"
      ]
    },
    {
      "cell_type": "code",
      "metadata": {
        "id": "vEGWVjepGCre"
      },
      "source": [
        "R = np.random.random((4,5)) # gera uma matriz com valores aleatórios"
      ],
      "execution_count": 31,
      "outputs": []
    },
    {
      "cell_type": "code",
      "metadata": {
        "id": "0h8G6XdRGCre",
        "outputId": "a30eebdb-b9d1-4cc4-8054-56e4266352d8",
        "colab": {
          "base_uri": "https://localhost:8080/"
        }
      },
      "source": [
        "print(\"{}\".format(R)) "
      ],
      "execution_count": 32,
      "outputs": [
        {
          "output_type": "stream",
          "text": [
            "[[0.26000138 0.39089893 0.904526   0.97424014 0.71690065]\n",
            " [0.45488197 0.15040118 0.61285715 0.2440388  0.35228807]\n",
            " [0.65954555 0.51509763 0.91592963 0.69034736 0.68927103]\n",
            " [0.95392847 0.21745955 0.49925365 0.06144697 0.28882509]]\n"
          ],
          "name": "stdout"
        }
      ]
    },
    {
      "cell_type": "markdown",
      "metadata": {
        "id": "z_lcq75MGCrf"
      },
      "source": [
        "### Operações numéricas com uma matriz"
      ]
    },
    {
      "cell_type": "code",
      "metadata": {
        "id": "BcVTpm6yGCrf"
      },
      "source": [
        "X = np.array([[1,2,3],[4,5,6]])  "
      ],
      "execution_count": 33,
      "outputs": []
    },
    {
      "cell_type": "code",
      "metadata": {
        "id": "IA3Dv-RAGCrf",
        "outputId": "5fffdb24-f3e1-4b54-8310-2384aa4f1638",
        "colab": {
          "base_uri": "https://localhost:8080/"
        }
      },
      "source": [
        "print(np.mean(X)) # média\n",
        "print(np.std(X)) # desvio padrão\n",
        "print(np.sum(X)) # soma dos elementos\n",
        "# [...]"
      ],
      "execution_count": 34,
      "outputs": [
        {
          "output_type": "stream",
          "text": [
            "3.5\n",
            "1.707825127659933\n",
            "21\n"
          ],
          "name": "stdout"
        }
      ]
    },
    {
      "cell_type": "markdown",
      "metadata": {
        "id": "v-lDsMXoGCrg"
      },
      "source": [
        "### Operações com Matrizes"
      ]
    },
    {
      "cell_type": "code",
      "metadata": {
        "id": "6BPEKkZfGCrg"
      },
      "source": [
        "A = np.array([[1,2,3],[4,5,6],[7,8,9]]) \n",
        "B = np.array([[-1,0,1],[0,1,1],[4,4,4]]) "
      ],
      "execution_count": 35,
      "outputs": []
    },
    {
      "cell_type": "code",
      "metadata": {
        "id": "dZQQ-4UkGCrg",
        "outputId": "303b6aed-2de1-48db-a497-90237aab6e2a",
        "colab": {
          "base_uri": "https://localhost:8080/"
        }
      },
      "source": [
        "A * B # multiplicação de elemento a elemento "
      ],
      "execution_count": 36,
      "outputs": [
        {
          "output_type": "execute_result",
          "data": {
            "text/plain": [
              "array([[-1,  0,  3],\n",
              "       [ 0,  5,  6],\n",
              "       [28, 32, 36]])"
            ]
          },
          "metadata": {
            "tags": []
          },
          "execution_count": 36
        }
      ]
    },
    {
      "cell_type": "code",
      "metadata": {
        "id": "LMGCi6heGCrh",
        "outputId": "786fe27e-6810-4c89-d1ec-3bfc40975503",
        "colab": {
          "base_uri": "https://localhost:8080/"
        }
      },
      "source": [
        "A + B # soma de elemento a elemento "
      ],
      "execution_count": 37,
      "outputs": [
        {
          "output_type": "execute_result",
          "data": {
            "text/plain": [
              "array([[ 0,  2,  4],\n",
              "       [ 4,  6,  7],\n",
              "       [11, 12, 13]])"
            ]
          },
          "metadata": {
            "tags": []
          },
          "execution_count": 37
        }
      ]
    },
    {
      "cell_type": "code",
      "metadata": {
        "id": "BIRO98aBGCrh",
        "outputId": "133749a5-f74f-45f2-aa2a-d6e5b17d5196",
        "colab": {
          "base_uri": "https://localhost:8080/"
        }
      },
      "source": [
        "A - B # subtração de elemento a elemento "
      ],
      "execution_count": 38,
      "outputs": [
        {
          "output_type": "execute_result",
          "data": {
            "text/plain": [
              "array([[2, 2, 2],\n",
              "       [4, 4, 5],\n",
              "       [3, 4, 5]])"
            ]
          },
          "metadata": {
            "tags": []
          },
          "execution_count": 38
        }
      ]
    },
    {
      "cell_type": "code",
      "metadata": {
        "id": "U5HB3IjoGCrh",
        "outputId": "b3bdc4ef-6919-4805-8475-33ed7a36c1a1",
        "colab": {
          "base_uri": "https://localhost:8080/"
        }
      },
      "source": [
        "B - A # subtração de elemento a elemento"
      ],
      "execution_count": 39,
      "outputs": [
        {
          "output_type": "execute_result",
          "data": {
            "text/plain": [
              "array([[-2, -2, -2],\n",
              "       [-4, -4, -5],\n",
              "       [-3, -4, -5]])"
            ]
          },
          "metadata": {
            "tags": []
          },
          "execution_count": 39
        }
      ]
    },
    {
      "cell_type": "markdown",
      "metadata": {
        "id": "ZOG5gwJ0GCri"
      },
      "source": [
        "> - `As operações acima podem ser resolvidas utilizando o numpy`"
      ]
    },
    {
      "cell_type": "code",
      "metadata": {
        "id": "33bdgmmpGCri",
        "outputId": "da441bcd-e585-4e7d-f061-58f1705c11af",
        "colab": {
          "base_uri": "https://localhost:8080/"
        }
      },
      "source": [
        "np.multiply(A,B, dtype = float) # multiplicação de elemento a elemento"
      ],
      "execution_count": 40,
      "outputs": [
        {
          "output_type": "execute_result",
          "data": {
            "text/plain": [
              "array([[-1.,  0.,  3.],\n",
              "       [ 0.,  5.,  6.],\n",
              "       [28., 32., 36.]])"
            ]
          },
          "metadata": {
            "tags": []
          },
          "execution_count": 40
        }
      ]
    },
    {
      "cell_type": "code",
      "metadata": {
        "id": "3sSXDoL4GCri",
        "outputId": "37cdbcf6-9a87-4813-c1b7-043f00d8ed7b",
        "colab": {
          "base_uri": "https://localhost:8080/"
        }
      },
      "source": [
        "np.add(A,B, dtype = np.float16) # soma de matrizes elemento a elemento"
      ],
      "execution_count": 41,
      "outputs": [
        {
          "output_type": "execute_result",
          "data": {
            "text/plain": [
              "array([[ 0.,  2.,  4.],\n",
              "       [ 4.,  6.,  7.],\n",
              "       [11., 12., 13.]], dtype=float16)"
            ]
          },
          "metadata": {
            "tags": []
          },
          "execution_count": 41
        }
      ]
    },
    {
      "cell_type": "code",
      "metadata": {
        "id": "_0dKKos_GCri",
        "outputId": "81ab8d0c-aa9f-42d2-8038-f36cbae7d084",
        "colab": {
          "base_uri": "https://localhost:8080/"
        }
      },
      "source": [
        "np.subtract(A,B, dtype = np.int32) # subtração de elemento a elemento"
      ],
      "execution_count": 42,
      "outputs": [
        {
          "output_type": "execute_result",
          "data": {
            "text/plain": [
              "array([[2, 2, 2],\n",
              "       [4, 4, 5],\n",
              "       [3, 4, 5]], dtype=int32)"
            ]
          },
          "metadata": {
            "tags": []
          },
          "execution_count": 42
        }
      ]
    },
    {
      "cell_type": "code",
      "metadata": {
        "id": "OlNpCLV6GCrj",
        "outputId": "d9fa56f0-1252-430c-ef31-44d68a12049a",
        "colab": {
          "base_uri": "https://localhost:8080/"
        }
      },
      "source": [
        "np.subtract(B,A, dtype = np.int32) # subtração de elemento a elemento"
      ],
      "execution_count": 43,
      "outputs": [
        {
          "output_type": "execute_result",
          "data": {
            "text/plain": [
              "array([[-2, -2, -2],\n",
              "       [-4, -4, -5],\n",
              "       [-3, -4, -5]], dtype=int32)"
            ]
          },
          "metadata": {
            "tags": []
          },
          "execution_count": 43
        }
      ]
    },
    {
      "cell_type": "code",
      "metadata": {
        "id": "qIfdEkLaGCrj"
      },
      "source": [
        "A = np.array([[1,2,3],[4,5,6]]) \n",
        "B = np.array([[1],[1],[1]]) "
      ],
      "execution_count": 44,
      "outputs": []
    },
    {
      "cell_type": "code",
      "metadata": {
        "id": "K5Q0ALKTGCrj",
        "outputId": "00590a37-d339-4b50-ec1c-4966cc3ddbee",
        "colab": {
          "base_uri": "https://localhost:8080/"
        }
      },
      "source": [
        "np.matmul(A,B) # multiplicação matricial linha x coluna"
      ],
      "execution_count": 45,
      "outputs": [
        {
          "output_type": "execute_result",
          "data": {
            "text/plain": [
              "array([[ 6],\n",
              "       [15]])"
            ]
          },
          "metadata": {
            "tags": []
          },
          "execution_count": 45
        }
      ]
    },
    {
      "cell_type": "code",
      "metadata": {
        "id": "YkTC8p7CGCrk",
        "outputId": "0c27ff89-20fe-4dd1-9663-807e59bc8748",
        "colab": {
          "base_uri": "https://localhost:8080/",
          "height": 164
        }
      },
      "source": [
        "np.matmul(B,A) # observe que a operação não está definida "
      ],
      "execution_count": 46,
      "outputs": [
        {
          "output_type": "error",
          "ename": "ValueError",
          "evalue": "ignored",
          "traceback": [
            "\u001b[0;31m---------------------------------------------------------------------------\u001b[0m",
            "\u001b[0;31mValueError\u001b[0m                                Traceback (most recent call last)",
            "\u001b[0;32m<ipython-input-46-e3e922f9029b>\u001b[0m in \u001b[0;36m<module>\u001b[0;34m()\u001b[0m\n\u001b[0;32m----> 1\u001b[0;31m \u001b[0mnp\u001b[0m\u001b[0;34m.\u001b[0m\u001b[0mmatmul\u001b[0m\u001b[0;34m(\u001b[0m\u001b[0mB\u001b[0m\u001b[0;34m,\u001b[0m\u001b[0mA\u001b[0m\u001b[0;34m)\u001b[0m \u001b[0;31m# observe que a operação não está definida\u001b[0m\u001b[0;34m\u001b[0m\u001b[0;34m\u001b[0m\u001b[0m\n\u001b[0m",
            "\u001b[0;31mValueError\u001b[0m: matmul: Input operand 1 has a mismatch in its core dimension 0, with gufunc signature (n?,k),(k,m?)->(n?,m?) (size 2 is different from 1)"
          ]
        }
      ]
    },
    {
      "cell_type": "markdown",
      "metadata": {
        "id": "fQPPd-p7GCrk"
      },
      "source": [
        "> - `Cuidado, pois mesmo o código estando digitado corretamente, operações matemáticas podem não estar definidas.`"
      ]
    },
    {
      "cell_type": "code",
      "metadata": {
        "id": "u6c3hwQXGCrk",
        "outputId": "d623912b-327b-450b-9e6d-c911fba407c7",
        "colab": {
          "base_uri": "https://localhost:8080/"
        }
      },
      "source": [
        "np.dot(A,B) # outra forma de realizar multiplicação matricial linha x coluna"
      ],
      "execution_count": 47,
      "outputs": [
        {
          "output_type": "execute_result",
          "data": {
            "text/plain": [
              "array([[ 6],\n",
              "       [15]])"
            ]
          },
          "metadata": {
            "tags": []
          },
          "execution_count": 47
        }
      ]
    },
    {
      "cell_type": "code",
      "metadata": {
        "id": "Jp3KQ6GKGCrl"
      },
      "source": [
        "a = np.array([[1,2,3]]) \n",
        "b = np.array([[4,5,6]]) "
      ],
      "execution_count": 48,
      "outputs": []
    },
    {
      "cell_type": "code",
      "metadata": {
        "id": "4m3GVVJBGCrl",
        "outputId": "8cb40616-dee0-4d32-f6ca-01d1d6da2395",
        "colab": {
          "base_uri": "https://localhost:8080/"
        }
      },
      "source": [
        "np.inner(a,b) # produto interno"
      ],
      "execution_count": 49,
      "outputs": [
        {
          "output_type": "execute_result",
          "data": {
            "text/plain": [
              "array([[32]])"
            ]
          },
          "metadata": {
            "tags": []
          },
          "execution_count": 49
        }
      ]
    },
    {
      "cell_type": "code",
      "metadata": {
        "id": "FcUecVLaGCrl"
      },
      "source": [
        "A = np.array([[1,2,3],[3,4,5]]) \n",
        "B = np.array([[1,5,7],[5,9,9]]) "
      ],
      "execution_count": 50,
      "outputs": []
    },
    {
      "cell_type": "code",
      "metadata": {
        "id": "Mi1RMR9NGCrm",
        "outputId": "ab973d5d-bd8f-4901-908c-cce0284fba4a",
        "colab": {
          "base_uri": "https://localhost:8080/"
        }
      },
      "source": [
        "np.tensordot(A,B) # produto tensorial"
      ],
      "execution_count": 51,
      "outputs": [
        {
          "output_type": "execute_result",
          "data": {
            "text/plain": [
              "array(128)"
            ]
          },
          "metadata": {
            "tags": []
          },
          "execution_count": 51
        }
      ]
    },
    {
      "cell_type": "code",
      "metadata": {
        "id": "9iOr3WrMGCrm"
      },
      "source": [
        "A = np.array([[1,2,7],[3,6,7],[8,9,0]]) "
      ],
      "execution_count": 52,
      "outputs": []
    },
    {
      "cell_type": "code",
      "metadata": {
        "id": "DBWNAWRvGCrm",
        "outputId": "0e6e1c26-dc5e-4630-9e0d-4eef0fcb55a1",
        "colab": {
          "base_uri": "https://localhost:8080/"
        }
      },
      "source": [
        "np.linalg.matrix_power(A,5) # elevando os elementos da matriz a uma potência n"
      ],
      "execution_count": 53,
      "outputs": [
        {
          "output_type": "execute_result",
          "data": {
            "text/plain": [
              "array([[123235, 185759, 175273],\n",
              "       [205065, 300027, 255535],\n",
              "       [221333, 307524, 210945]])"
            ]
          },
          "metadata": {
            "tags": []
          },
          "execution_count": 53
        }
      ]
    },
    {
      "cell_type": "markdown",
      "metadata": {
        "id": "4sLybN0sGCrm"
      },
      "source": [
        "### Produto Kronecker"
      ]
    },
    {
      "cell_type": "code",
      "metadata": {
        "id": "oUbnTQi0GCrn"
      },
      "source": [
        "A = np.array([[1,2],[3,4]]) \n",
        "B = np.array([[0,5],[6,7]]) "
      ],
      "execution_count": 54,
      "outputs": []
    },
    {
      "cell_type": "code",
      "metadata": {
        "id": "WQhISzpjGCrn",
        "outputId": "0fca82c9-fddb-4069-db38-44d9e5efec1d",
        "colab": {
          "base_uri": "https://localhost:8080/"
        }
      },
      "source": [
        "np.kron(A,B) # produto kronecker"
      ],
      "execution_count": 55,
      "outputs": [
        {
          "output_type": "execute_result",
          "data": {
            "text/plain": [
              "array([[ 0,  5,  0, 10],\n",
              "       [ 6,  7, 12, 14],\n",
              "       [ 0, 15,  0, 20],\n",
              "       [18, 21, 24, 28]])"
            ]
          },
          "metadata": {
            "tags": []
          },
          "execution_count": 55
        }
      ]
    },
    {
      "cell_type": "markdown",
      "metadata": {
        "id": "YhxR3mfSGCrn"
      },
      "source": [
        "### Fatoração de Cholesky"
      ]
    },
    {
      "cell_type": "code",
      "metadata": {
        "id": "SgmncUFRGCro"
      },
      "source": [
        "A = np.array([[4,12,-16],[12,37,-43],[-16,-43,98]]) "
      ],
      "execution_count": 56,
      "outputs": []
    },
    {
      "cell_type": "code",
      "metadata": {
        "id": "iygRNgRbGCro"
      },
      "source": [
        "fatorada = np.linalg.cholesky(A) "
      ],
      "execution_count": 57,
      "outputs": []
    },
    {
      "cell_type": "code",
      "metadata": {
        "id": "oyXkTFg_GCro",
        "outputId": "140df474-2f95-4393-8ab0-8b65160d9c71",
        "colab": {
          "base_uri": "https://localhost:8080/"
        }
      },
      "source": [
        "fatorada  # realizando a fatoração de cholesky"
      ],
      "execution_count": 58,
      "outputs": [
        {
          "output_type": "execute_result",
          "data": {
            "text/plain": [
              "array([[ 2.,  0.,  0.],\n",
              "       [ 6.,  1.,  0.],\n",
              "       [-8.,  5.,  3.]])"
            ]
          },
          "metadata": {
            "tags": []
          },
          "execution_count": 58
        }
      ]
    },
    {
      "cell_type": "code",
      "metadata": {
        "id": "AwlGwHjdGCrp",
        "outputId": "92058ba5-6ea5-4d74-cfa2-1be095d86a5d",
        "colab": {
          "base_uri": "https://localhost:8080/"
        }
      },
      "source": [
        "np.matmul(fatorada,fatorada.transpose()) \n",
        "# == provando a validade da Fatoração de Cholesky ==\n",
        "# multiplica a matriz fatorada por sua transposta, obtendo a matriz A que foi fatorada"
      ],
      "execution_count": 59,
      "outputs": [
        {
          "output_type": "execute_result",
          "data": {
            "text/plain": [
              "array([[  4.,  12., -16.],\n",
              "       [ 12.,  37., -43.],\n",
              "       [-16., -43.,  98.]])"
            ]
          },
          "metadata": {
            "tags": []
          },
          "execution_count": 59
        }
      ]
    },
    {
      "cell_type": "markdown",
      "metadata": {
        "id": "HkN1KZsZGCrp"
      },
      "source": [
        "### Autovalores e Autovetores"
      ]
    },
    {
      "cell_type": "code",
      "metadata": {
        "id": "GUGcbwXfGCrq"
      },
      "source": [
        "A = np.array([[2,0],[0,1]])"
      ],
      "execution_count": 60,
      "outputs": []
    },
    {
      "cell_type": "code",
      "metadata": {
        "id": "Q_vr3Ld8GCrq"
      },
      "source": [
        "# == determinando autovalores e autovetores ==\n",
        "autovalores, autovetores = np.linalg.eig(A) \n",
        "# == matriz diagonal de autovalores ==\n",
        "matrizDiagonal = np.diag(autovalores) \n",
        "\n",
        "# == obtendo novamente a matriz A através da decomposição espectral ou valores singulares ==  A = PDP^(-1)\n",
        "A = np.matmul(np.matmul(autovetores,matrizDiagonal),np.linalg.inv(autovetores)) "
      ],
      "execution_count": 61,
      "outputs": []
    },
    {
      "cell_type": "code",
      "metadata": {
        "id": "SAaZPevaGCrr",
        "outputId": "7a8f5c8c-7040-4830-f1cc-4d0a85ea776b",
        "colab": {
          "base_uri": "https://localhost:8080/"
        }
      },
      "source": [
        "autovetores "
      ],
      "execution_count": 62,
      "outputs": [
        {
          "output_type": "execute_result",
          "data": {
            "text/plain": [
              "array([[1., 0.],\n",
              "       [0., 1.]])"
            ]
          },
          "metadata": {
            "tags": []
          },
          "execution_count": 62
        }
      ]
    },
    {
      "cell_type": "code",
      "metadata": {
        "id": "6SL1F5PIGCrr",
        "outputId": "e901c9b6-09c7-4f85-8575-5ba23840d7b8",
        "colab": {
          "base_uri": "https://localhost:8080/"
        }
      },
      "source": [
        "matrizDiagonal "
      ],
      "execution_count": 63,
      "outputs": [
        {
          "output_type": "execute_result",
          "data": {
            "text/plain": [
              "array([[2., 0.],\n",
              "       [0., 1.]])"
            ]
          },
          "metadata": {
            "tags": []
          },
          "execution_count": 63
        }
      ]
    },
    {
      "cell_type": "code",
      "metadata": {
        "id": "1nasX_BsGCrs",
        "outputId": "d840d9d5-3554-4195-aab8-0d2759507e12",
        "colab": {
          "base_uri": "https://localhost:8080/"
        }
      },
      "source": [
        "A "
      ],
      "execution_count": 64,
      "outputs": [
        {
          "output_type": "execute_result",
          "data": {
            "text/plain": [
              "array([[2., 0.],\n",
              "       [0., 1.]])"
            ]
          },
          "metadata": {
            "tags": []
          },
          "execution_count": 64
        }
      ]
    },
    {
      "cell_type": "code",
      "metadata": {
        "id": "XJ1-vjO1GCrt",
        "outputId": "44d5f8b5-461e-48eb-bf77-daa3b30f3a37",
        "colab": {
          "base_uri": "https://localhost:8080/"
        }
      },
      "source": [
        "autovalores"
      ],
      "execution_count": 65,
      "outputs": [
        {
          "output_type": "execute_result",
          "data": {
            "text/plain": [
              "array([2., 1.])"
            ]
          },
          "metadata": {
            "tags": []
          },
          "execution_count": 65
        }
      ]
    },
    {
      "cell_type": "code",
      "metadata": {
        "id": "FVFiayI7GCrt",
        "outputId": "f2f8c479-540a-414d-9bc4-9b065bcfbb4b",
        "colab": {
          "base_uri": "https://localhost:8080/"
        }
      },
      "source": [
        "np.linalg.eigvals(A) # outra forma de se obter os autovalores"
      ],
      "execution_count": 66,
      "outputs": [
        {
          "output_type": "execute_result",
          "data": {
            "text/plain": [
              "array([2., 1.])"
            ]
          },
          "metadata": {
            "tags": []
          },
          "execution_count": 66
        }
      ]
    },
    {
      "cell_type": "markdown",
      "metadata": {
        "id": "lrnXAalqGCrt"
      },
      "source": [
        "### Decomposição em Valores Singulares"
      ]
    },
    {
      "cell_type": "code",
      "metadata": {
        "id": "BqOP1-lPGCru"
      },
      "source": [
        "A = np.array([[2,0],[0,1]]) \n",
        "(U,s,V) = np.linalg.svd(A) # decompondo em valores singulares"
      ],
      "execution_count": 67,
      "outputs": []
    },
    {
      "cell_type": "code",
      "metadata": {
        "id": "hLBfD1tJGCru",
        "outputId": "7268eb53-ef87-4bc3-9751-69766cc7eac4",
        "colab": {
          "base_uri": "https://localhost:8080/"
        }
      },
      "source": [
        "U"
      ],
      "execution_count": 68,
      "outputs": [
        {
          "output_type": "execute_result",
          "data": {
            "text/plain": [
              "array([[1., 0.],\n",
              "       [0., 1.]])"
            ]
          },
          "metadata": {
            "tags": []
          },
          "execution_count": 68
        }
      ]
    },
    {
      "cell_type": "code",
      "metadata": {
        "id": "bUYENUBbGCru",
        "outputId": "a25eb97c-6095-43b3-e93e-18fa062d404a",
        "colab": {
          "base_uri": "https://localhost:8080/"
        }
      },
      "source": [
        "s "
      ],
      "execution_count": 69,
      "outputs": [
        {
          "output_type": "execute_result",
          "data": {
            "text/plain": [
              "array([2., 1.])"
            ]
          },
          "metadata": {
            "tags": []
          },
          "execution_count": 69
        }
      ]
    },
    {
      "cell_type": "code",
      "metadata": {
        "id": "-8HDGYWXGCrv",
        "outputId": "e3b617ec-ddf4-4d7e-d18a-74473e3ffa31",
        "colab": {
          "base_uri": "https://localhost:8080/"
        }
      },
      "source": [
        "V "
      ],
      "execution_count": 70,
      "outputs": [
        {
          "output_type": "execute_result",
          "data": {
            "text/plain": [
              "array([[1., 0.],\n",
              "       [0., 1.]])"
            ]
          },
          "metadata": {
            "tags": []
          },
          "execution_count": 70
        }
      ]
    },
    {
      "cell_type": "markdown",
      "metadata": {
        "id": "5qjBuuQIGCrv"
      },
      "source": [
        "### Determinante de Matrizes\n"
      ]
    },
    {
      "cell_type": "code",
      "metadata": {
        "id": "SPBhn-J6GCrv",
        "outputId": "8a119d7b-1bd1-4f82-c456-1386de07a21f",
        "colab": {
          "base_uri": "https://localhost:8080/"
        }
      },
      "source": [
        "np.linalg.det(A) # determinante da matriz"
      ],
      "execution_count": 71,
      "outputs": [
        {
          "output_type": "execute_result",
          "data": {
            "text/plain": [
              "2.0"
            ]
          },
          "metadata": {
            "tags": []
          },
          "execution_count": 71
        }
      ]
    },
    {
      "cell_type": "markdown",
      "metadata": {
        "id": "LlDpDmxMGCrv"
      },
      "source": [
        "### Posto da Matriz"
      ]
    },
    {
      "cell_type": "code",
      "metadata": {
        "id": "y_ICEYsGGCrw",
        "outputId": "987d8213-3b87-403c-a85a-8ad1c5ba5ace",
        "colab": {
          "base_uri": "https://localhost:8080/"
        }
      },
      "source": [
        "np.linalg.matrix_rank(A) # posto da matriz"
      ],
      "execution_count": 72,
      "outputs": [
        {
          "output_type": "execute_result",
          "data": {
            "text/plain": [
              "2"
            ]
          },
          "metadata": {
            "tags": []
          },
          "execution_count": 72
        }
      ]
    },
    {
      "cell_type": "markdown",
      "metadata": {
        "id": "U7ShQyZrGCrw"
      },
      "source": [
        "### Traço da Matriz (Soma da Diagonal)"
      ]
    },
    {
      "cell_type": "code",
      "metadata": {
        "id": "lgfjSllMGCrw",
        "outputId": "8457348e-c3c6-415c-89fd-983e05d93533",
        "colab": {
          "base_uri": "https://localhost:8080/"
        }
      },
      "source": [
        "np.trace(A) # traço da matriz (soma da diagonal)"
      ],
      "execution_count": 73,
      "outputs": [
        {
          "output_type": "execute_result",
          "data": {
            "text/plain": [
              "3"
            ]
          },
          "metadata": {
            "tags": []
          },
          "execution_count": 73
        }
      ]
    },
    {
      "cell_type": "markdown",
      "metadata": {
        "id": "GD_Z06CrGCr1"
      },
      "source": [
        "### Resolução de Sistema de Equações"
      ]
    },
    {
      "cell_type": "code",
      "metadata": {
        "id": "0q_IWxJDGCr1"
      },
      "source": [
        "# Vamos considerar Ax = B\n",
        "A = np.array([[3], [4]])\n",
        "b = np.array([[6], [8]])\n",
        "\n",
        "# == 3x = 6 == \n",
        "# == 4y = 8 =="
      ],
      "execution_count": 74,
      "outputs": []
    },
    {
      "cell_type": "code",
      "metadata": {
        "id": "agyBBwjDGCr2"
      },
      "source": [
        "X = np.matmul(np.linalg.pinv(A), b) # realiza a multiplicação da matriz inversa de A com a matriz b"
      ],
      "execution_count": 75,
      "outputs": []
    },
    {
      "cell_type": "code",
      "metadata": {
        "id": "HBBzpZQOGCr2",
        "outputId": "1b0b1142-ef1c-4818-a37d-f870c2183562",
        "colab": {
          "base_uri": "https://localhost:8080/"
        }
      },
      "source": [
        "X "
      ],
      "execution_count": 76,
      "outputs": [
        {
          "output_type": "execute_result",
          "data": {
            "text/plain": [
              "array([[2.]])"
            ]
          },
          "metadata": {
            "tags": []
          },
          "execution_count": 76
        }
      ]
    },
    {
      "cell_type": "markdown",
      "metadata": {
        "id": "EA8xrpIoGCr2"
      },
      "source": [
        "### Matriz Inversa"
      ]
    },
    {
      "cell_type": "code",
      "metadata": {
        "id": "PKXYeen7GCr2"
      },
      "source": [
        "A = np.array([[1,2],[3,4]]) "
      ],
      "execution_count": 77,
      "outputs": []
    },
    {
      "cell_type": "code",
      "metadata": {
        "id": "-J3FkFYaGCr3",
        "outputId": "4cfb0969-4857-4b81-8264-766395444f6e",
        "colab": {
          "base_uri": "https://localhost:8080/"
        }
      },
      "source": [
        "np.linalg.pinv(A) # matriz inversa"
      ],
      "execution_count": 78,
      "outputs": [
        {
          "output_type": "execute_result",
          "data": {
            "text/plain": [
              "array([[-2. ,  1. ],\n",
              "       [ 1.5, -0.5]])"
            ]
          },
          "metadata": {
            "tags": []
          },
          "execution_count": 78
        }
      ]
    },
    {
      "cell_type": "markdown",
      "metadata": {
        "id": "0pZ20HjvGCr3"
      },
      "source": [
        "Observe que o pacote [numpy](https://numpy.org/) abrange uma série de problemas relativos a álgebra linear. Não se preocupe em decorar todos os problemas, o própio site do numpy oferece uma boa documentação para cada uma das implementações. O mais adequado é que o usuário entenda como é que funciona o fluxo de organização do numpy e, conforme for precisando resolver determinadas operações, buscar na documentação a possível solução. Observe também que o numpy abrange algumas otimizações computacionais, como vectorization, indexing e broadcasting. Recomendo produndamente que você pesquise os conceitos de cada uma dessas otimizações. Além disso, em problemas da área da inteligência artificial, isso economiza tempo e poder computacional."
      ]
    },
    {
      "cell_type": "markdown",
      "metadata": {
        "id": "VvFHSMIUGCr3"
      },
      "source": [
        "### Alguma Dúvida? Entre em Contato Comigo: [Me envie um e-mail](mailto:alysson.barbosa@ee.ufcg.edu.br)"
      ]
    },
    {
      "cell_type": "markdown",
      "metadata": {
        "id": "2aEKPy0TGCr4"
      },
      "source": [
        "### Extra\n",
        "***\n",
        "- [Código aberto numpy](https://github.com/numpy/numpy)"
      ]
    }
  ]
}