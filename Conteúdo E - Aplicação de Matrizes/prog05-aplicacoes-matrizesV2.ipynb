{
  "nbformat": 4,
  "nbformat_minor": 0,
  "metadata": {
    "kernelspec": {
      "display_name": "Python 3",
      "language": "python",
      "name": "python3"
    },
    "language_info": {
      "codemirror_mode": {
        "name": "ipython",
        "version": 3
      },
      "file_extension": ".py",
      "mimetype": "text/x-python",
      "name": "python",
      "nbconvert_exporter": "python",
      "pygments_lexer": "ipython3",
      "version": "3.8.7"
    },
    "colab": {
      "name": "prog05-aplicacoes-matrizesV2.ipynb",
      "provenance": [],
      "include_colab_link": true
    }
  },
  "cells": [
    {
      "cell_type": "markdown",
      "metadata": {
        "id": "view-in-github",
        "colab_type": "text"
      },
      "source": [
        "<a href=\"https://colab.research.google.com/github/Alyssonmach/Algebra-Linear-com-Python/blob/master/Conte%C3%BAdo%20E%20-%20Aplica%C3%A7%C3%A3o%20de%20Matrizes/prog05-aplicacoes-matrizesV2.ipynb\" target=\"_parent\"><img src=\"https://colab.research.google.com/assets/colab-badge.svg\" alt=\"Open In Colab\"/></a>"
      ]
    },
    {
      "cell_type": "markdown",
      "metadata": {
        "id": "JI2a1OI6VStd"
      },
      "source": [
        "# Aplicações de Matrizes em Situações do Dia a Dia\n",
        "#### Vamos apresentar dois problemas rotineiros: um sobre um planejamento de atividades físicas e outro sobre planejamento financeiro de uma empresa. Ambos podem ser solucionados utilizando conhecimentos sobre matrizes em Álgebra Linear."
      ]
    },
    {
      "cell_type": "markdown",
      "metadata": {
        "id": "fDH_32K2VStn"
      },
      "source": [
        "##### Leon, Steven J., 1943 - Álgebra Linear com Aplicações/ Steven J. Leon; tradução Valéria de Magalhães Iório - [reimpr]. Rio de Janeiro: LTC, 2008."
      ]
    },
    {
      "cell_type": "markdown",
      "metadata": {
        "id": "zySTTAuzVStp"
      },
      "source": [
        "### Aplicação 1: Queimando calorias"
      ]
    },
    {
      "cell_type": "markdown",
      "metadata": {
        "id": "Md6n3SsrVStp"
      },
      "source": [
        "Alysson pesa 81 quilos (os dados são meramente ilustrativos...). Ele quer perder peso por meio de um progama de dieta e exercícios. Após consultar a **tabela 1**, ele monta o programa de exercícios na **tabela 2**. quantas calorias ele vai queimar por dia se seguir esse progama?"
      ]
    },
    {
      "cell_type": "markdown",
      "metadata": {
        "id": "t_W_m0s8VStq"
      },
      "source": [
        "#### Tabela 1. Calorias Queimadas por Hora"
      ]
    },
    {
      "cell_type": "markdown",
      "metadata": {
        "id": "FZLAeIjmVStr"
      },
      "source": [
        "- **Atividades Esportivas**"
      ]
    },
    {
      "cell_type": "markdown",
      "metadata": {
        "id": "rYGhvtFzVStr"
      },
      "source": [
        "|**Peso**|**Andar a 3km/h**|**Correr a 9km/h**|**Andar de bicicleta a 9km/h**|**Jogar Tênis(Moderado)**|\n",
        "|:------:|:---------------:|:----------------:|:----------------------------:|:-----------------------:|\n",
        "|69      |213              |651               |304                           |420                      |\n",
        "|73      |225              |688               |321                           |441                      |\n",
        "|77      |237              |726               |338                           |468                      |\n",
        "|81      |249              |764               |356                           |492                      |"
      ]
    },
    {
      "cell_type": "code",
      "metadata": {
        "id": "WPflMkG-VSts"
      },
      "source": [
        "# importando a biblioteca numpy do Python\n",
        "import numpy as np\n",
        "# importando a biblioteca de funções do Python matplotlib\n",
        "import matplotlib \n",
        "import matplotlib.pyplot as plt\n",
        "%matplotlib inline  "
      ],
      "execution_count": 1,
      "outputs": []
    },
    {
      "cell_type": "code",
      "metadata": {
        "id": "cj-60WzoVStu"
      },
      "source": [
        "# definindo a matriz A a partir da tabela 1\n",
        "A = np.array([[213, 651, 304, 420],\n",
        "              [225, 688, 321, 441],\n",
        "              [237, 726, 338, 468],\n",
        "              [249, 764, 356, 492]])"
      ],
      "execution_count": 2,
      "outputs": []
    },
    {
      "cell_type": "code",
      "metadata": {
        "id": "8TE8XHNAVStv",
        "outputId": "4a0a4316-1cab-4361-d4c1-d94dd86b72a2",
        "colab": {
          "base_uri": "https://localhost:8080/"
        }
      },
      "source": [
        "# imprimindo a matriz A\n",
        "print(\"A matriz A é\\n\\n\", A)"
      ],
      "execution_count": 3,
      "outputs": [
        {
          "output_type": "stream",
          "text": [
            "A matriz A é\n",
            "\n",
            " [[213 651 304 420]\n",
            " [225 688 321 441]\n",
            " [237 726 338 468]\n",
            " [249 764 356 492]]\n"
          ],
          "name": "stdout"
        }
      ]
    },
    {
      "cell_type": "markdown",
      "metadata": {
        "id": "5enL2ysNVStw"
      },
      "source": [
        "#### Tabela 2. Horas por Dia para Cada Atividade"
      ]
    },
    {
      "cell_type": "markdown",
      "metadata": {
        "id": "Y-4JqBEuVStx"
      },
      "source": [
        "- **Programa de Exercícios**"
      ]
    },
    {
      "cell_type": "markdown",
      "metadata": {
        "id": "71auFXTaVStx"
      },
      "source": [
        "|**Dias da Semana**|**Andar**|**Correr**|**Andar de Bicicleta**|**Jogar Tênis**|\n",
        "|:----------------:|:-------:|:--------:|:--------------------:|:-------------:|\n",
        "|Segunda-feira     |1.0      |0.0       |1.0                   |0.0            | \n",
        "|Terça-feira       |0.0      |0.0       |0.0                   |2.0            |\n",
        "|Quarta-feira      |0.4      |0.5       |0.0                   |0.0            |\n",
        "|Quinta-feira      |0.0      |0.0       |0.5                   |2.0            |\n",
        "|Sexta-feira       |0.4      |0.5       |0.0                   |0.0            |"
      ]
    },
    {
      "cell_type": "code",
      "metadata": {
        "id": "T8cRM03cVSty"
      },
      "source": [
        "# definindo a matriz B a partir da tabela 2\n",
        "B = np.array([[1.0, 0.0, 1.0, 0.0],\n",
        "              [0.0, 0.0, 0.0, 2.0],\n",
        "              [0.4, 0.5, 0.0, 0.0],\n",
        "              [0.0, 0.0, 0.5, 2.0],\n",
        "              [0.4, 0.5, 0.0, 0.0]])"
      ],
      "execution_count": 4,
      "outputs": []
    },
    {
      "cell_type": "code",
      "metadata": {
        "id": "m54Db_QiVStz",
        "outputId": "0e05c5f7-7240-411c-8e7a-c2da62d4a817",
        "colab": {
          "base_uri": "https://localhost:8080/"
        }
      },
      "source": [
        "# imprimindo a matriz B\n",
        "print(\"A matriz B é\\n\\n\", B)"
      ],
      "execution_count": 5,
      "outputs": [
        {
          "output_type": "stream",
          "text": [
            "A matriz B é\n",
            "\n",
            " [[1.  0.  1.  0. ]\n",
            " [0.  0.  0.  2. ]\n",
            " [0.4 0.5 0.  0. ]\n",
            " [0.  0.  0.5 2. ]\n",
            " [0.4 0.5 0.  0. ]]\n"
          ],
          "name": "stdout"
        }
      ]
    },
    {
      "cell_type": "markdown",
      "metadata": {
        "id": "2Bj5jjNmVStz"
      },
      "source": [
        "###### Solução:"
      ]
    },
    {
      "cell_type": "markdown",
      "metadata": {
        "id": "du2tlqL6VSt0"
      },
      "source": [
        "A informação pertinente para Alysson está localizada na quarta linha da **matriz A**, pois são os dados referentes a quem pesa 81 quilos."
      ]
    },
    {
      "cell_type": "markdown",
      "metadata": {
        "id": "lgbt8USKVSt0"
      },
      "source": [
        "Vamos criar uma nova matriz **x** do tipo **vetor-coluna** baseado nos dados contidos na 4º linha da **matriz A**."
      ]
    },
    {
      "cell_type": "code",
      "metadata": {
        "id": "a3zPuBgxVSt1"
      },
      "source": [
        "# x recebe a quarta linha de A\n",
        "x = A[3]"
      ],
      "execution_count": 6,
      "outputs": []
    },
    {
      "cell_type": "code",
      "metadata": {
        "id": "xloFVrQgVSt1"
      },
      "source": [
        "# x é transposta para se tornar um vetor-coluna\n",
        "x = np.transpose(x)"
      ],
      "execution_count": 7,
      "outputs": []
    },
    {
      "cell_type": "markdown",
      "metadata": {
        "id": "IOPn1Vb4VSt2"
      },
      "source": [
        "Para resolver o problema, basta multiplicar a matriz $B_{5_{x}4}$ pela matriz $x_{4_{x}1}$."
      ]
    },
    {
      "cell_type": "code",
      "metadata": {
        "id": "6_XTTyUrVSt3"
      },
      "source": [
        "# realizando a multiplicação da matriz B com a matriz x\n",
        "Calorias = np.dot(B,x)"
      ],
      "execution_count": 8,
      "outputs": []
    },
    {
      "cell_type": "code",
      "metadata": {
        "id": "3E80_ZhtVSt4",
        "outputId": "815c6a4e-4420-4b33-bdee-78f48d13321b",
        "colab": {
          "base_uri": "https://localhost:8080/"
        }
      },
      "source": [
        "# imprimindo a matriz de calorias gastas por semana\n",
        "print(\"A matriz com valores de calorias gastas é:\\n\\n\", Calorias)"
      ],
      "execution_count": 9,
      "outputs": [
        {
          "output_type": "stream",
          "text": [
            "A matriz com valores de calorias gastas é:\n",
            "\n",
            " [ 605.   984.   481.6 1162.   481.6]\n"
          ],
          "name": "stdout"
        }
      ]
    },
    {
      "cell_type": "code",
      "metadata": {
        "id": "UnU2YWylVSt5"
      },
      "source": [
        "# esquematizando as etiquetas do gráfico no eixo x\n",
        "DiasdaSemana = ['Segunda-feira', 'Terça-feira', 'Quarta-feira', 'Quinta-feira', 'Sexta-feira']"
      ],
      "execution_count": 10,
      "outputs": []
    },
    {
      "cell_type": "markdown",
      "metadata": {
        "id": "P7Ac1FdnVSt6"
      },
      "source": [
        "Dessa forma, vemos que Alysson, seguindo sua rotina de atividades físicas, queimara as respectivas calorias durante a semana:"
      ]
    },
    {
      "cell_type": "markdown",
      "metadata": {
        "id": "ZocqBm2HVSt6"
      },
      "source": [
        "|**Dias da Semana**|**Calorias Gastas**|\n",
        "|:----------------:|:-----------------:|\n",
        "|Segunda-feira     |605.0 calorias     |\n",
        "|Terça-feira       |984.0 calorias     |\n",
        "|Quarta-feira      |481.6 calorias     |\n",
        "|Quinta-feira      |1162.0 calorias    |\n",
        "|Sexta-feira       |481.6 calorias     |"
      ]
    },
    {
      "cell_type": "markdown",
      "metadata": {
        "id": "ijJb6fWoVSt6"
      },
      "source": [
        "Assim, podemos ter o seguinte gráfico:"
      ]
    },
    {
      "cell_type": "code",
      "metadata": {
        "id": "vRy6Do5zVSt6",
        "outputId": "cabde0bd-6b48-4b2b-a825-a4f4c1e5b296",
        "colab": {
          "base_uri": "https://localhost:8080/",
          "height": 367
        }
      },
      "source": [
        "# definindo as dimensões do gráfico\n",
        "plt.figure(figsize=(8,5))\n",
        "# definindo a legenda do eixo x\n",
        "plt.xlabel('Dias da Semana')\n",
        "# definindo as legendas do eixo y\n",
        "plt.ylabel('Calorias Gastas')\n",
        "# plotando o gráfico e definindo uma legenda\n",
        "plt.plot(DiasdaSemana, Calorias, label = 'Calorias Gastas/Dia')\n",
        "# chamando a legenda para ser exposta no gráfico\n",
        "plt.legend()\n",
        "# definindo um input diferente de 0 para entrada verdadeira na grade do gráfico\n",
        "plt.grid(True)\n",
        "# definindo o título do gráfico\n",
        "plt.title('Gráfico de Calorias Gastas por Alysson')"
      ],
      "execution_count": 11,
      "outputs": [
        {
          "output_type": "execute_result",
          "data": {
            "text/plain": [
              "Text(0.5, 1.0, 'Gráfico de Calorias Gastas por Alysson')"
            ]
          },
          "metadata": {
            "tags": []
          },
          "execution_count": 11
        },
        {
          "output_type": "display_data",
          "data": {
            "image/png": "[encoded data removed]",
            "text/plain": [
              "<Figure size 576x360 with 1 Axes>"
            ]
          },
          "metadata": {
            "tags": [],
            "needs_background": "light"
          }
        }
      ]
    },
    {
      "cell_type": "markdown",
      "metadata": {
        "id": "ROer-0sIVSt7"
      },
      "source": [
        "A visualização não ficou muito adequada com esse gráfico. Talvez um gráfico de barras fosse mais adequado para essa situação."
      ]
    },
    {
      "cell_type": "code",
      "metadata": {
        "id": "KfQn5XyZVSt7",
        "outputId": "d43387d3-7eda-4f6e-a354-5bb48ce988fc",
        "colab": {
          "base_uri": "https://localhost:8080/",
          "height": 367
        }
      },
      "source": [
        "# definindo as dimensões do gráfico\n",
        "plt.figure(figsize=(8,5))\n",
        "# definindo a legenda do eixo x\n",
        "plt.xlabel('Dias da Semana')\n",
        "# definindo as legendas do eixo y\n",
        "plt.ylabel('Calorias Gastas')\n",
        "# plotando o gráfico e definindo uma legenda\n",
        "plt.barh(DiasdaSemana, Calorias, label = 'Calorias Gastas/Dia')\n",
        "# chamando a legenda para ser exposta no gráfico\n",
        "plt.legend()\n",
        "# definindo um input diferente de 0 para entrada verdadeira na grade do gráfico\n",
        "plt.grid(True)\n",
        "# definindo o título do gráfico\n",
        "plt.title('Gráfico de Calorias Gastas por Alysson')"
      ],
      "execution_count": 12,
      "outputs": [
        {
          "output_type": "execute_result",
          "data": {
            "text/plain": [
              "Text(0.5, 1.0, 'Gráfico de Calorias Gastas por Alysson')"
            ]
          },
          "metadata": {
            "tags": []
          },
          "execution_count": 12
        },
        {
          "output_type": "display_data",
          "data": {
            "image/png": "[encoded data removed]",
            "text/plain": [
              "<Figure size 576x360 with 1 Axes>"
            ]
          },
          "metadata": {
            "tags": [],
            "needs_background": "light"
          }
        }
      ]
    },
    {
      "cell_type": "markdown",
      "metadata": {
        "id": "kDNVVyaiVSt8"
      },
      "source": [
        "### Aplicação 2: Gestão Financeira de uma Empresa"
      ]
    },
    {
      "cell_type": "markdown",
      "metadata": {
        "id": "ZvRJsRBYVSt8"
      },
      "source": [
        "Uma empresa fabrica três produtos. Suas despesas de produção estão divididas em três categorias. Em cada uma dessas categorias, faz-se uma estimativa do custo de produção de um único exemplar de cada produto. Faz-se, também, uma estimativa da quantidade de cada produto a ser fabricado por trimestre. Essas estimativas são dadas na **tabela 3** e na **tabela 4**. A empresa gostaria de apresentar a seus acionistas uma única tabela mostrando o custo total por **trimestre** de cada uma das três categorias: **matéria- prima**, **pessoal** e **despesas gerais**."
      ]
    },
    {
      "cell_type": "markdown",
      "metadata": {
        "id": "guZYZfHqVSt8"
      },
      "source": [
        "#### Tabela 3. Custo de Produção por Item (em reais)"
      ]
    },
    {
      "cell_type": "markdown",
      "metadata": {
        "id": "a8yCZF6SVSt9"
      },
      "source": [
        "|**Gastos**     |**Produto A**|**Produto B**|**Produto C**|\n",
        "|:-------------:|:-----------:|:-----------:|:-----------:|\n",
        "|Matéria-prima  |0.10         |0.30         |0.15         |\n",
        "|Pessoal        |0.30         |0.40         |0.25         |\n",
        "|Despesas-gerais|0.10         |0.20         |0.15         |"
      ]
    },
    {
      "cell_type": "code",
      "metadata": {
        "id": "JUrf_0dAVSt9"
      },
      "source": [
        "# definindo a matriz C baseada na tabela 3\n",
        "C = np.array([[0.10, 0.30, 0.15],\n",
        "              [0.30, 0.40, 0.25], \n",
        "              [0.10, 0.20, 0.15]])"
      ],
      "execution_count": 13,
      "outputs": []
    },
    {
      "cell_type": "code",
      "metadata": {
        "id": "pxq9YHIAVSt-",
        "outputId": "f6e83577-1c24-4ae3-b686-434bfd25c9f4",
        "colab": {
          "base_uri": "https://localhost:8080/"
        }
      },
      "source": [
        "# imprimindo a matriz C\n",
        "print(\"A matriz C é:\\n\\n\", C)"
      ],
      "execution_count": 14,
      "outputs": [
        {
          "output_type": "stream",
          "text": [
            "A matriz C é:\n",
            "\n",
            " [[0.1  0.3  0.15]\n",
            " [0.3  0.4  0.25]\n",
            " [0.1  0.2  0.15]]\n"
          ],
          "name": "stdout"
        }
      ]
    },
    {
      "cell_type": "markdown",
      "metadata": {
        "id": "eTAy_pJYVSt_"
      },
      "source": [
        "###### Tabela 4. Quantidade Produzida por Trimestre"
      ]
    },
    {
      "cell_type": "markdown",
      "metadata": {
        "id": "iXlwIX8dVSt_"
      },
      "source": [
        "|**Produto**|**Verão**|**Outono**|**Inverno**|**Primavera**|\n",
        "|:---------:|:-------:|:--------:|:---------:|:-----------:|\n",
        "|A          |4000     |4500      |4500       |4000         |\n",
        "|B          |2000     |2600      |2400       |2200         |\n",
        "|C          |5800     |6200      |6000       |6000         |"
      ]
    },
    {
      "cell_type": "code",
      "metadata": {
        "id": "n74ZZy54VSuA"
      },
      "source": [
        "# definindo a matriz D baseado na tabela 4\n",
        "D = np.array([[4000, 4500, 4500, 4000], \n",
        "              [2000, 2600, 2400, 2200],\n",
        "              [5800, 6200, 6000, 6000]])"
      ],
      "execution_count": 15,
      "outputs": []
    },
    {
      "cell_type": "code",
      "metadata": {
        "id": "6BfKIwupVSuA",
        "outputId": "876ab68d-d7f1-4355-deed-9e6730513891",
        "colab": {
          "base_uri": "https://localhost:8080/"
        }
      },
      "source": [
        "print(\"A matriz D é:\\n\\n\", D)"
      ],
      "execution_count": 16,
      "outputs": [
        {
          "output_type": "stream",
          "text": [
            "A matriz D é:\n",
            "\n",
            " [[4000 4500 4500 4000]\n",
            " [2000 2600 2400 2200]\n",
            " [5800 6200 6000 6000]]\n"
          ],
          "name": "stdout"
        }
      ]
    },
    {
      "cell_type": "markdown",
      "metadata": {
        "id": "C89agiAoVSuC"
      },
      "source": [
        "Se fizermos o produto **CD**, teremos o custo de cada categoria por trimestre."
      ]
    },
    {
      "cell_type": "code",
      "metadata": {
        "id": "_FzkDMCeVSuD"
      },
      "source": [
        "# realizando a multiplicação da matriz C com a matriz D\n",
        "Custos = np.dot(C, D)"
      ],
      "execution_count": 17,
      "outputs": []
    },
    {
      "cell_type": "code",
      "metadata": {
        "id": "PO4fsRAlVSuD",
        "outputId": "51988ab9-ad4d-4768-a456-cfa0bdbf69e4",
        "colab": {
          "base_uri": "https://localhost:8080/"
        }
      },
      "source": [
        "# imprime a matriz de custos por trimeste em cada categoria, em reais\n",
        "print(\"A matriz de Custos é:\\n\\n\", Custos)"
      ],
      "execution_count": 18,
      "outputs": [
        {
          "output_type": "stream",
          "text": [
            "A matriz de Custos é:\n",
            "\n",
            " [[1870. 2160. 2070. 1960.]\n",
            " [3450. 3940. 3810. 3580.]\n",
            " [1670. 1900. 1830. 1740.]]\n"
          ],
          "name": "stdout"
        }
      ]
    },
    {
      "cell_type": "markdown",
      "metadata": {
        "id": "QwsiBAWCVSuE"
      },
      "source": [
        "|**Custos de cada Categoria por Trimeste**|**Verão**|**Outono**|**Inverno**|**Primavera**|\n",
        "|:---------------------------------------:|:-------:|:--------:|:---------:|:-----------:|\n",
        "|Matéria-prima                            |1870     |2160      |2070       |1960         |     \n",
        "|Pessoal                                  |3450     |3940      |3810       |3580         |\n",
        "|Despesas Gerais                          |1670     |1900      |1830       |1740         |"
      ]
    },
    {
      "cell_type": "code",
      "metadata": {
        "id": "p0nu0iQXVSuE"
      },
      "source": [
        "# esquematizando as etiquetas do gráfico no eixo x\n",
        "Trimestres = ['Verão', 'Outono', 'Inverno', 'Primaveira']\n",
        "# definindo os valores gastos apenas na categoria Matéria-Prima\n",
        "MateriaPrima = Custos[0]\n",
        "# definindo os valores gastos apenas na categoria Pessoal\n",
        "Pessoal = Custos[1]\n",
        "# definindo os valores gastos apenas na categoria Despesas Gerais\n",
        "DespesasGerais = Custos[2]"
      ],
      "execution_count": 19,
      "outputs": []
    },
    {
      "cell_type": "code",
      "metadata": {
        "id": "rmyYLHCmVSuF",
        "outputId": "8349af56-3811-4580-c9b8-b49fe589632f",
        "colab": {
          "base_uri": "https://localhost:8080/",
          "height": 530
        }
      },
      "source": [
        "# definindo as dimensões do gráfico\n",
        "plt.figure(figsize=(12,8))\n",
        "# definindo a legenda do eixo x\n",
        "plt.xlabel('Trimestres')\n",
        "# definindo a legenda do eixo y\n",
        "plt.ylabel('Dinheiro(R$)')\n",
        "# plotando o gráfico para a categoria Matéria-Prima, com sua respectiva legenda\n",
        "plt.plot(Trimestres, MateriaPrima, label = 'Matéria-Prima')\n",
        "# plotando o gráfico para a categoria Pessoal, com sua respectiva legenda\n",
        "plt.plot(Trimestres, Pessoal, label = 'Pessoal')\n",
        "# plotando o gráfico para a categoria Despesas Gerais, com sua respectiva legenda\n",
        "plt.plot(Trimestres, DespesasGerais, label = 'Despesas Gerais')\n",
        "# chamando a legenda para ser exposta no gráfico\n",
        "plt.legend()\n",
        "# definindo um input diferente de 0 para entrada verdadeira na grade do gráfico\n",
        "plt.grid(True)\n",
        "# definindo o título do gráfico\n",
        "plt.title('Gráfico de Custos por Categoria em cada Trimestre')"
      ],
      "execution_count": 20,
      "outputs": [
        {
          "output_type": "execute_result",
          "data": {
            "text/plain": [
              "Text(0.5, 1.0, 'Gráfico de Custos por Categoria em cada Trimestre')"
            ]
          },
          "metadata": {
            "tags": []
          },
          "execution_count": 20
        },
        {
          "output_type": "display_data",
          "data": {
            "image/png": "[encoded data removed]",
            "text/plain": [
              "<Figure size 864x576 with 1 Axes>"
            ]
          },
          "metadata": {
            "tags": [],
            "needs_background": "light"
          }
        }
      ]
    },
    {
      "cell_type": "markdown",
      "metadata": {
        "id": "oiuht9XWVSuG"
      },
      "source": [
        "Desse modo, observe que a álgebra linear pode estar presente em diversas situações do nosso dia a dia, das mais simples até as situações mais complexas da engenharia. Por esse motivo, a disciplina deve ser levada a sério e merece ser estudada com um maior grau de profundidade por parte dos estudantes."
      ]
    },
    {
      "cell_type": "markdown",
      "metadata": {
        "id": "MNr8f8JKVSuH"
      },
      "source": [
        "### Alguma Dúvida? Entre em Contato Comigo: [Me envie um e-mail](mailto:alysson.barbosa@ee.ufcg.edu.br)"
      ]
    }
  ]
}