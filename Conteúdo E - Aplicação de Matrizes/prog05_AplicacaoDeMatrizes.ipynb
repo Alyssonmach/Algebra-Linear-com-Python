{
 "cells": [
  {
   "cell_type": "markdown",
   "metadata": {},
   "source": [
    "# Aplicações de Matrizes em Situações do Dia a Dia\n",
    "#### Vamos apresentar dois problemas rotineiros: um sobre um planejamento de atividades físicas e outro sobre planejamento financeiro de uma empresa. Ambos podem ser solucionados utilizando conhecimentos sobre matrizes em Álgebra Linear."
   ]
  },
  {
   "cell_type": "markdown",
   "metadata": {},
   "source": [
    "##### Leon, Steven J., 1943 - Álgebra Linear com Aplicações/ Steven J. Leon; tradução Valéria de Magalhães Iório - [reimpr]. Rio de Janeiro: LTC, 2008."
   ]
  },
  {
   "cell_type": "markdown",
   "metadata": {},
   "source": [
    "### Aplicação 1: Queimando calorias"
   ]
  },
  {
   "cell_type": "markdown",
   "metadata": {},
   "source": [
    "Alysson pesa 81 quilos (os dados são meramente ilustrativos...). Ele quer perder peso por meio de um progama de dieta e exercícios. Após consultar a **tabela 1**, ele monta o programa de exercícios na **tabela 2**. quantas calorias ele vai queimar por dia se seguir esse progama?"
   ]
  },
  {
   "cell_type": "markdown",
   "metadata": {},
   "source": [
    "#### Tabela 1. Calorias Queimadas por Hora"
   ]
  },
  {
   "cell_type": "markdown",
   "metadata": {},
   "source": [
    "- **Atividades Esportivas**"
   ]
  },
  {
   "cell_type": "markdown",
   "metadata": {},
   "source": [
    "|**Peso**|**Andar a 3km/h**|**Correr a 9km/h**|**Andar de bicicleta a 9km/h**|**Jogar Tênis(Moderado)**|\n",
    "|:------:|:---------------:|:----------------:|:----------------------------:|:-----------------------:|\n",
    "|69      |213              |651               |304                           |420                      |\n",
    "|73      |225              |688               |321                           |441                      |\n",
    "|77      |237              |726               |338                           |468                      |\n",
    "|81      |249              |764               |356                           |492                      |"
   ]
  },
  {
   "cell_type": "code",
   "execution_count": 1,
   "metadata": {},
   "outputs": [],
   "source": [
    "# importando a biblioteca numpy do Python\n",
    "import numpy as np\n",
    "# importando a biblioteca de funções do Python matplotlib\n",
    "import matplotlib \n",
    "import matplotlib.pyplot as plt\n",
    "%matplotlib inline  "
   ]
  },
  {
   "cell_type": "code",
   "execution_count": 2,
   "metadata": {},
   "outputs": [],
   "source": [
    "# definindo a matriz A a partir da tabela 1\n",
    "A = np.array([[213, 651, 304, 420],\n",
    "              [225, 688, 321, 441],\n",
    "              [237, 726, 338, 468],\n",
    "              [249, 764, 356, 492]])"
   ]
  },
  {
   "cell_type": "code",
   "execution_count": 3,
   "metadata": {},
   "outputs": [
    {
     "name": "stdout",
     "output_type": "stream",
     "text": [
      "A matriz A é\n",
      "\n",
      " [[213 651 304 420]\n",
      " [225 688 321 441]\n",
      " [237 726 338 468]\n",
      " [249 764 356 492]]\n"
     ]
    }
   ],
   "source": [
    "# imprimindo a matriz A\n",
    "print(\"A matriz A é\\n\\n\", A)"
   ]
  },
  {
   "cell_type": "markdown",
   "metadata": {},
   "source": [
    "#### Tabela 2. Horas por Dia para Cada Atividade"
   ]
  },
  {
   "cell_type": "markdown",
   "metadata": {},
   "source": [
    "- **Programa de Exercícios**"
   ]
  },
  {
   "cell_type": "markdown",
   "metadata": {},
   "source": [
    "|**Dias da Semana**|**Andar**|**Correr**|**Andar de Bicicleta**|**Jogar Tênis**|\n",
    "|:----------------:|:-------:|:--------:|:--------------------:|:-------------:|\n",
    "|Segunda-feira     |1.0      |0.0       |1.0                   |0.0            | \n",
    "|Terça-feira       |0.0      |0.0       |0.0                   |2.0            |\n",
    "|Quarta-feira      |0.4      |0.5       |0.0                   |0.0            |\n",
    "|Quinta-feira      |0.0      |0.0       |0.5                   |2.0            |\n",
    "|Sexta-feira       |0.4      |0.5       |0.0                   |0.0            |"
   ]
  },
  {
   "cell_type": "code",
   "execution_count": 4,
   "metadata": {},
   "outputs": [],
   "source": [
    "# definindo a matriz B a partir da tabela 2\n",
    "B = np.array([[1.0, 0.0, 1.0, 0.0],\n",
    "              [0.0, 0.0, 0.0, 2.0],\n",
    "              [0.4, 0.5, 0.0, 0.0],\n",
    "              [0.0, 0.0, 0.5, 2.0],\n",
    "              [0.4, 0.5, 0.0, 0.0]])"
   ]
  },
  {
   "cell_type": "code",
   "execution_count": 5,
   "metadata": {},
   "outputs": [
    {
     "name": "stdout",
     "output_type": "stream",
     "text": [
      "A matriz B é\n",
      "\n",
      " [[1.  0.  1.  0. ]\n",
      " [0.  0.  0.  2. ]\n",
      " [0.4 0.5 0.  0. ]\n",
      " [0.  0.  0.5 2. ]\n",
      " [0.4 0.5 0.  0. ]]\n"
     ]
    }
   ],
   "source": [
    "# imprimindo a matriz B\n",
    "print(\"A matriz B é\\n\\n\", B)"
   ]
  },
  {
   "cell_type": "markdown",
   "metadata": {},
   "source": [
    "###### Solução:"
   ]
  },
  {
   "cell_type": "markdown",
   "metadata": {},
   "source": [
    "A informação pertinente para Alysson está localizada na quarta linha da **matriz A**, pois são os dados referentes a quem pesa 81 quilos."
   ]
  },
  {
   "cell_type": "markdown",
   "metadata": {},
   "source": [
    "Vamos criar uma nova matriz **x** do tipo **vetor-coluna** baseado nos dados contidos na 4º linha da **matriz A**."
   ]
  },
  {
   "cell_type": "code",
   "execution_count": 6,
   "metadata": {},
   "outputs": [],
   "source": [
    "# x recebe a quarta linha de A\n",
    "x = A[3]"
   ]
  },
  {
   "cell_type": "code",
   "execution_count": 7,
   "metadata": {},
   "outputs": [],
   "source": [
    "# x é transposta para se tornar um vetor-coluna\n",
    "x = np.transpose(x)"
   ]
  },
  {
   "cell_type": "markdown",
   "metadata": {},
   "source": [
    "Para resolver o problema, basta multiplicar a matriz $B_{5_{x}4}$ pela matriz $x_{4_{x}1}$."
   ]
  },
  {
   "cell_type": "code",
   "execution_count": 8,
   "metadata": {},
   "outputs": [],
   "source": [
    "# realizando a multiplicação da matriz B com a matriz x\n",
    "Calorias = np.dot(B,x)"
   ]
  },
  {
   "cell_type": "code",
   "execution_count": 10,
   "metadata": {},
   "outputs": [
    {
     "name": "stdout",
     "output_type": "stream",
     "text": [
      "A matriz com valores de calorias gastas é:\n",
      "\n",
      " [ 605.   984.   481.6 1162.   481.6]\n"
     ]
    }
   ],
   "source": [
    "# imprimindo a matriz de calorias gastas por semana\n",
    "print(\"A matriz com valores de calorias gastas é:\\n\\n\", Calorias)"
   ]
  },
  {
   "cell_type": "code",
   "execution_count": 11,
   "metadata": {},
   "outputs": [],
   "source": [
    "# esquematizando as etiquetas do gráfico no eixo x\n",
    "DiasdaSemana = ['Segunda-feira', 'Terça-feira', 'Quarta-feira', 'Quinta-feira', 'Sexta-feira']"
   ]
  },
  {
   "cell_type": "markdown",
   "metadata": {},
   "source": [
    "Dessa forma, vemos que Alysson, seguindo sua rotina de atividades físicas, queimara as respectivas calorias durante a semana:"
   ]
  },
  {
   "cell_type": "markdown",
   "metadata": {},
   "source": [
    "|**Dias da Semana**|**Calorias Gastas**|\n",
    "|:----------------:|:-----------------:|\n",
    "|Segunda-feira     |605.0 calorias     |\n",
    "|Terça-feira       |984.0 calorias     |\n",
    "|Quarta-feira      |481.6 calorias     |\n",
    "|Quinta-feira      |1162.0 calorias    |\n",
    "|Sexta-feira       |481.6 calorias     |"
   ]
  },
  {
   "cell_type": "markdown",
   "metadata": {},
   "source": [
    "Assim, podemos ter o seguinte gráfico:"
   ]
  },
  {
   "cell_type": "code",
   "execution_count": 12,
   "metadata": {},
   "outputs": [
    {
     "data": {
      "text/plain": [
       "Text(0.5, 1.0, 'Gráfico de Calorias Gastas por Alysson')"
      ]
     },
     "execution_count": 12,
     "metadata": {},
     "output_type": "execute_result"
    },
    {
     "data": {
      "image/png": "[encoded data removed]",
      "text/plain": [
       "<Figure size 576x360 with 1 Axes>"
      ]
     },
     "metadata": {
      "needs_background": "light"
     },
     "output_type": "display_data"
    }
   ],
   "source": [
    "# definindo as dimensões do gráfico\n",
    "plt.figure(figsize=(8,5))\n",
    "# definindo a legenda do eixo x\n",
    "plt.xlabel('Dias da Semana')\n",
    "# definindo as legendas do eixo y\n",
    "plt.ylabel('Calorias Gastas')\n",
    "# plotando o gráfico e definindo uma legenda\n",
    "plt.plot(DiasdaSemana, Calorias, label = 'Calorias Gastas/Dia')\n",
    "# chamando a legenda para ser exposta no gráfico\n",
    "plt.legend()\n",
    "# definindo um input diferente de 0 para entrada verdadeira na grade do gráfico\n",
    "plt.grid(True)\n",
    "# definindo o título do gráfico\n",
    "plt.title('Gráfico de Calorias Gastas por Alysson')"
   ]
  },
  {
   "cell_type": "markdown",
   "metadata": {},
   "source": [
    "A visualização não ficou muito adequada com esse gráfico. Talvez um gráfico de barras fosse mais adequado para essa situação."
   ]
  },
  {
   "cell_type": "code",
   "execution_count": 15,
   "metadata": {},
   "outputs": [
    {
     "data": {
      "text/plain": [
       "Text(0.5, 1.0, 'Gráfico de Calorias Gastas por Alysson')"
      ]
     },
     "execution_count": 15,
     "metadata": {},
     "output_type": "execute_result"
    },
    {
     "data": {
      "image/png": "[encoded data removed]",
      "text/plain": [
       "<Figure size 576x360 with 1 Axes>"
      ]
     },
     "metadata": {
      "needs_background": "light"
     },
     "output_type": "display_data"
    }
   ],
   "source": [
    "# definindo as dimensões do gráfico\n",
    "plt.figure(figsize=(8,5))\n",
    "# definindo a legenda do eixo x\n",
    "plt.xlabel('Dias da Semana')\n",
    "# definindo as legendas do eixo y\n",
    "plt.ylabel('Calorias Gastas')\n",
    "# plotando o gráfico e definindo uma legenda\n",
    "plt.barh(DiasdaSemana, Calorias, label = 'Calorias Gastas/Dia')\n",
    "# chamando a legenda para ser exposta no gráfico\n",
    "plt.legend()\n",
    "# definindo um input diferente de 0 para entrada verdadeira na grade do gráfico\n",
    "plt.grid(True)\n",
    "# definindo o título do gráfico\n",
    "plt.title('Gráfico de Calorias Gastas por Alysson')"
   ]
  },
  {
   "cell_type": "markdown",
   "metadata": {},
   "source": [
    "### Aplicação 2: Gestão Financeira de uma Empresa"
   ]
  },
  {
   "cell_type": "markdown",
   "metadata": {},
   "source": [
    "Uma empresa fabrica três produtos. Suas despesas de produção estão divididas em três categorias. Em cada uma dessas categorias, faz-se uma estimativa do custo de produção de um único exemplar de cada produto. Faz-se, também, uma estimativa da quantidade de cada produto a ser fabricado por trimestre. Essas estimativas são dadas na **tabela 3** e na **tabela 4**. A empresa gostaria de apresentar a seus acionistas uma única tabela mostrando o custo total por **trimestre** de cada uma das três categorias: **matéria- prima**, **pessoal** e **despesas gerais**."
   ]
  },
  {
   "cell_type": "markdown",
   "metadata": {},
   "source": [
    "#### Tabela 3. Custo de Produção por Item (em reais)"
   ]
  },
  {
   "cell_type": "markdown",
   "metadata": {},
   "source": [
    "|**Gastos**     |**Produto A**|**Produto B**|**Produto C**|\n",
    "|:-------------:|:-----------:|:-----------:|:-----------:|\n",
    "|Matéria-prima  |0.10         |0.30         |0.15         |\n",
    "|Pessoal        |0.30         |0.40         |0.25         |\n",
    "|Despesas-gerais|0.10         |0.20         |0.15         |"
   ]
  },
  {
   "cell_type": "code",
   "execution_count": 16,
   "metadata": {},
   "outputs": [],
   "source": [
    "# definindo a matriz C baseada na tabela 3\n",
    "C = np.array([[0.10, 0.30, 0.15],\n",
    "              [0.30, 0.40, 0.25], \n",
    "              [0.10, 0.20, 0.15]])"
   ]
  },
  {
   "cell_type": "code",
   "execution_count": 17,
   "metadata": {},
   "outputs": [
    {
     "name": "stdout",
     "output_type": "stream",
     "text": [
      "A matriz C é:\n",
      "\n",
      " [[0.1  0.3  0.15]\n",
      " [0.3  0.4  0.25]\n",
      " [0.1  0.2  0.15]]\n"
     ]
    }
   ],
   "source": [
    "# imprimindo a matriz C\n",
    "print(\"A matriz C é:\\n\\n\", C)"
   ]
  },
  {
   "cell_type": "markdown",
   "metadata": {},
   "source": [
    "###### Tabela 4. Quantidade Produzida por Trimestre"
   ]
  },
  {
   "cell_type": "markdown",
   "metadata": {},
   "source": [
    "|**Produto**|**Verão**|**Outono**|**Inverno**|**Primavera**|\n",
    "|:---------:|:-------:|:--------:|:---------:|:-----------:|\n",
    "|A          |4000     |4500      |4500       |4000         |\n",
    "|B          |2000     |2600      |2400       |2200         |\n",
    "|C          |5800     |6200      |6000       |6000         |"
   ]
  },
  {
   "cell_type": "code",
   "execution_count": 18,
   "metadata": {},
   "outputs": [],
   "source": [
    "# definindo a matriz D baseado na tabela 4\n",
    "D = np.array([[4000, 4500, 4500, 4000], \n",
    "              [2000, 2600, 2400, 2200],\n",
    "              [5800, 6200, 6000, 6000]])"
   ]
  },
  {
   "cell_type": "code",
   "execution_count": 19,
   "metadata": {},
   "outputs": [
    {
     "name": "stdout",
     "output_type": "stream",
     "text": [
      "A matriz D é:\n",
      "\n",
      " [[4000 4500 4500 4000]\n",
      " [2000 2600 2400 2200]\n",
      " [5800 6200 6000 6000]]\n"
     ]
    }
   ],
   "source": [
    "print(\"A matriz D é:\\n\\n\", D)"
   ]
  },
  {
   "cell_type": "markdown",
   "metadata": {},
   "source": [
    "Se fizermos o produto **CD**, teremos o custo de cada categoria por trimestre."
   ]
  },
  {
   "cell_type": "code",
   "execution_count": 20,
   "metadata": {},
   "outputs": [],
   "source": [
    "# realizando a multiplicação da matriz C com a matriz D\n",
    "Custos = np.dot(C, D)"
   ]
  },
  {
   "cell_type": "code",
   "execution_count": 21,
   "metadata": {},
   "outputs": [
    {
     "name": "stdout",
     "output_type": "stream",
     "text": [
      "A matriz de Custos é:\n",
      "\n",
      " [[1870. 2160. 2070. 1960.]\n",
      " [3450. 3940. 3810. 3580.]\n",
      " [1670. 1900. 1830. 1740.]]\n"
     ]
    }
   ],
   "source": [
    "# imprime a matriz de custos por trimeste em cada categoria, em reais\n",
    "print(\"A matriz de Custos é:\\n\\n\", Custos)"
   ]
  },
  {
   "cell_type": "markdown",
   "metadata": {},
   "source": [
    "|**Custos de cada Categoria por Trimeste**|**Verão**|**Outono**|**Inverno**|**Primavera**|\n",
    "|:---------------------------------------:|:-------:|:--------:|:---------:|:-----------:|\n",
    "|Matéria-prima                            |1870     |2160      |2070       |1960         |     \n",
    "|Pessoal                                  |3450     |3940      |3810       |3580         |\n",
    "|Despesas Gerais                          |1670     |1900      |1830       |1740         |"
   ]
  },
  {
   "cell_type": "code",
   "execution_count": 22,
   "metadata": {},
   "outputs": [],
   "source": [
    "# esquematizando as etiquetas do gráfico no eixo x\n",
    "Trimestres = ['Verão', 'Outono', 'Inverno', 'Primaveira']\n",
    "# definindo os valores gastos apenas na categoria Matéria-Prima\n",
    "MateriaPrima = Custos[0]\n",
    "# definindo os valores gastos apenas na categoria Pessoal\n",
    "Pessoal = Custos[1]\n",
    "# definindo os valores gastos apenas na categoria Despesas Gerais\n",
    "DespesasGerais = Custos[2]"
   ]
  },
  {
   "cell_type": "code",
   "execution_count": 23,
   "metadata": {},
   "outputs": [
    {
     "data": {
      "text/plain": [
       "Text(0.5, 1.0, 'Gráfico de Custos por Categoria em cada Trimestre')"
      ]
     },
     "execution_count": 23,
     "metadata": {},
     "output_type": "execute_result"
    },
    {
     "data": {
      "image/png": "[encoded data removed]",
      "text/plain": [
       "<Figure size 864x576 with 1 Axes>"
      ]
     },
     "metadata": {
      "needs_background": "light"
     },
     "output_type": "display_data"
    }
   ],
   "source": [
    "# definindo as dimensões do gráfico\n",
    "plt.figure(figsize=(12,8))\n",
    "# definindo a legenda do eixo x\n",
    "plt.xlabel('Trimestres')\n",
    "# definindo a legenda do eixo y\n",
    "plt.ylabel('Dinheiro(R$)')\n",
    "# plotando o gráfico para a categoria Matéria-Prima, com sua respectiva legenda\n",
    "plt.plot(Trimestres, MateriaPrima, label = 'Matéria-Prima')\n",
    "# plotando o gráfico para a categoria Pessoal, com sua respectiva legenda\n",
    "plt.plot(Trimestres, Pessoal, label = 'Pessoal')\n",
    "# plotando o gráfico para a categoria Despesas Gerais, com sua respectiva legenda\n",
    "plt.plot(Trimestres, DespesasGerais, label = 'Despesas Gerais')\n",
    "# chamando a legenda para ser exposta no gráfico\n",
    "plt.legend()\n",
    "# definindo um input diferente de 0 para entrada verdadeira na grade do gráfico\n",
    "plt.grid(True)\n",
    "# definindo o título do gráfico\n",
    "plt.title('Gráfico de Custos por Categoria em cada Trimestre')"
   ]
  },
  {
   "cell_type": "markdown",
   "metadata": {},
   "source": [
    "Desse modo, observe que a álgebra linear pode estar presente em diversas situações do nosso dia a dia, das mais simples até as situações mais complexas da engenharia. Por esse motivo, a disciplina deve ser levada a sério e merece ser estudada com um maior grau de profundidade por parte dos estudantes."
   ]
  },
  {
   "cell_type": "markdown",
   "metadata": {},
   "source": [
    "### Alguma Dúvida? Entre em Contato Comigo: [Me envie um e-mail](mailto:alysson.barbosa@ee.ufcg.edu.br)"
   ]
  }
 ],
 "metadata": {
  "kernelspec": {
   "display_name": "Python 3",
   "language": "python",
   "name": "python3"
  },
  "language_info": {
   "codemirror_mode": {
    "name": "ipython",
    "version": 3
   },
   "file_extension": ".py",
   "mimetype": "text/x-python",
   "name": "python",
   "nbconvert_exporter": "python",
   "pygments_lexer": "ipython3",
   "version": "3.8.7"
  }
 },
 "nbformat": 4,
 "nbformat_minor": 4
}
