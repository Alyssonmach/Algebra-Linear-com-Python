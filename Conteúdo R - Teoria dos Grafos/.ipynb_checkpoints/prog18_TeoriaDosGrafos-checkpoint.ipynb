{
 "cells": [
  {
   "cell_type": "markdown",
   "metadata": {},
   "source": [
    "# Teoria dos Grafos\n",
    "#### Vamos utilizar representações matriciais das relações entre elementos de um conjunto e, através de arítimética matricial, vamos analisar essas relações."
   ]
  },
  {
   "cell_type": "markdown",
   "metadata": {},
   "source": [
    "##### Referência: Álgebra Linear com aplicações / Anton Howard e Chris Rorres; trad. Claus Ivo Doering. - 8. ed. - Porto Alegre: Bookman, 2001."
   ]
  },
  {
   "cell_type": "markdown",
   "metadata": {},
   "source": [
    "### Relações entre membros do conjunto"
   ]
  },
  {
   "cell_type": "markdown",
   "metadata": {},
   "source": [
    "Existem inúmeros exemplos de conjuntos com um número finito de elementos nos quais existe alguma relação entre os elementos do conjunto. Por exemplo, o conjunto poderia consistir de uma coleção de pessoas, animais, países, companhias, equipes esportivas ou cidades; e a relação entre dois elementos A e B de um tal conjunto poderia ser que a pessoa A domina a pessoa B, o animal A alimenta-se do animal B, o país A apoia militarmente o país B, A companhia A vende seus produtos para a companhia B, a equipe A derrota sistematicamente a equipe B ou a cidade A possui um vôo sem escalas para a cidade B."
   ]
  },
  {
   "cell_type": "markdown",
   "metadata": {},
   "source": [
    "### Exemplo: Influências numa família"
   ]
  },
  {
   "cell_type": "markdown",
   "metadata": {},
   "source": [
    "Uma certa família consiste de uma mãe, um pai, uma filha e dois filhos. Os membros da família exercem influência, ou poder, sobre os outros membros da família da seguinte maneira: a mãe pode influenciar a filha e o filho mais velho; o pai pode influenciar os dois filhos; a filha pode influenciar o pai; o filho mais velho pode influenciar o filho mais novo; o filho mais novo pode influenciar a mãe."
   ]
  },
  {
   "cell_type": "markdown",
   "metadata": {},
   "source": [
    "Vamos moldar essa ideia de influência:"
   ]
  },
  {
   "cell_type": "markdown",
   "metadata": {},
   "source": [
    "$\\begin{bmatrix}\n",
    "           [] & Mae & Pai & Filha & Filho Velho & Filho Novo \\\\\n",
    "          Mae & 0 & 0 & 1 & 1 & 0 \\\\\n",
    "          \\end{bmatrix}$"
   ]
  },
  {
   "cell_type": "markdown",
   "metadata": {},
   "source": [
    "$\\begin{bmatrix}\n",
    "           [] & Mae & Pai & Filha & Filho Velho & Filho Novo \\\\\n",
    "          Pai & 0 & 0 & 0 & 1 & 1 \\\\\n",
    "          \\end{bmatrix}$"
   ]
  },
  {
   "cell_type": "markdown",
   "metadata": {},
   "source": [
    "$\\begin{bmatrix}\n",
    "            []  & Mae & Pai & Filha & Filho Velho & Filho Novo \\\\\n",
    "          Filha & 0 & 1 & 0 & 0 & 0 \\\\\n",
    "          \\end{bmatrix}$"
   ]
  },
  {
   "cell_type": "markdown",
   "metadata": {},
   "source": [
    "$\\begin{bmatrix}\n",
    "              []      & Mae & Pai & Filha & Filho Velho & Filho Novo \\\\\n",
    "          Filho Velho & 0 & 0 & 0 & 0 & 1 \\\\\n",
    "          \\end{bmatrix}$"
   ]
  },
  {
   "cell_type": "markdown",
   "metadata": {},
   "source": [
    "$\\begin{bmatrix}\n",
    "              []     & Mae & Pai & Filha & Filho Velho & Filho Novo \\\\\n",
    "          Filho Novo & 1 & 0 & 0 & 0 & 0 \\\\\n",
    "          \\end{bmatrix}$"
   ]
  },
  {
   "cell_type": "markdown",
   "metadata": {},
   "source": [
    "As entradas em 1 indicam o poder de influência que o objeto da linha tem sobre a coluna, e o 0 é a ausência de influência."
   ]
  },
  {
   "cell_type": "markdown",
   "metadata": {},
   "source": [
    "A partir disso, podemos montar a matriz:"
   ]
  },
  {
   "cell_type": "markdown",
   "metadata": {},
   "source": [
    "$$\\begin{bmatrix}\n",
    "         [] & M & P & FA & FV & FN \\\\\n",
    "          M & 0 & 0 & 1 & 1 & 0 \\\\\n",
    "          P & 0 & 0 & 0 & 1 & 1 \\\\\n",
    "          FA & 0 & 1 & 0 & 0 & 0 \\\\\n",
    "          FV & 0 & 0 & 0 & 0 & 1 \\\\\n",
    "          FN & 1 & 0 & 0 & 0 & 0 \\\\\n",
    "          \\end{bmatrix}$$"
   ]
  },
  {
   "cell_type": "code",
   "execution_count": 39,
   "metadata": {},
   "outputs": [],
   "source": [
    "# importando a biblioteca numpy do Python\n",
    "import numpy as np "
   ]
  },
  {
   "cell_type": "code",
   "execution_count": 40,
   "metadata": {},
   "outputs": [],
   "source": [
    "# definindo a matriz influenciaFamilia\n",
    "influenciaFamilia = np.array([[0,0,1,1,0],[0,0,0,1,1],[0,1,0,0,0],[0,0,0,0,1],[1,0,0,0,0]]) "
   ]
  },
  {
   "cell_type": "code",
   "execution_count": 41,
   "metadata": {},
   "outputs": [
    {
     "name": "stdout",
     "output_type": "stream",
     "text": [
      "A matriz de influência familiar é:\n",
      "\n",
      "[[0 0 1 1 0]\n",
      " [0 0 0 1 1]\n",
      " [0 1 0 0 0]\n",
      " [0 0 0 0 1]\n",
      " [1 0 0 0 0]]\n"
     ]
    }
   ],
   "source": [
    "# imprimindo a matriz influenciaFamilia\n",
    "print(\"A matriz de influência familiar é:\\n\\n{}\".format(influenciaFamilia))"
   ]
  },
  {
   "cell_type": "markdown",
   "metadata": {},
   "source": [
    "Por definição as matrizes obedecerão as seguintes propiedades:"
   ]
  },
  {
   "cell_type": "markdown",
   "metadata": {},
   "source": [
    "1. Todas entradas são 0 ou 1."
   ]
  },
  {
   "cell_type": "markdown",
   "metadata": {},
   "source": [
    "2. Todas entradas na diagonal principal são 0."
   ]
  },
  {
   "cell_type": "markdown",
   "metadata": {},
   "source": [
    "No exemplo 1, o pai não pode influenciar diretamente a mãe, ou seja $P -> M$ não é verdadeiro. Mas o pai pode influenciar o filho mais novo, que por sua vez pode influenciar a mãe. Nós escrevemos isto $P -> FN -> M$ e chamamos conexão de de 2 passos de P para M. Analogamente, chamamos $M -> FV$ de conexão de 1 passo, $FA -> FV -> FN -> M$ de conexão de 3 passos, e assim por diante. Vamos considerar, agora, uma técnica para encontrar o número de todas as conexões de r passos (r = 1,2...) de um vértice $P_{i}$ para um vértice $P_{j}$ de um grafo dirido qualquer. (Isto incluirá o caso em que $P_{i}$ e $P_{j}$ são o mesmo vértice). O número de conexões de 1 passo de $P_{i}$ para $P_{j}$ é simplesmente $M{ij}$. Ou seja, há somente zero ou uma conexão de 1 passo de $P_{i}$ para $P_{j}$, dependendo se $m_{ij}$  é zero ou um. Para o número de conexões de 2 passos, nós consideramos o quadrado da matriz de vértices. Se $m_{ij}^{(2)}$ é o (i,j)-ésimo elemento de $M^2$, nós temos:"
   ]
  },
  {
   "cell_type": "markdown",
   "metadata": {},
   "source": [
    "- $m_{ij}^{(2)} = m_{i1}m_{1j} + m_{i2}m_{2j} + ... + m_{in}m_{nj}$"
   ]
  },
  {
   "cell_type": "markdown",
   "metadata": {},
   "source": [
    "Agora, se $m_{i1} = m_{1j} = 1$, existe uma conexão de 2 passos $P_{i} -> P_{1} -> P_{j}$ de $P_{i}$ para $P_{j}$. No entanto, se $m_{i1}$ ou se $m_{1j}$ é zero, uma tal conexão de 2 passos não é possível. Assim, $P_{i} -> P_{1} -> P_{j}$ é uma conexão de 2 passos se, e somente se, $m_{i1}m_{1j} = 1$. Similarmente, para cada $k = 1, 2,...,n,P_{i} -> P_{k} -> P_{j}$ é uma conexão de 2 passos de $P_{i}$ para $P_{j}$ se, e somente se, o termo $m_{ik}m_{kj}$ é igual a um; caso contrário, o termo é zero."
   ]
  },
  {
   "cell_type": "markdown",
   "metadata": {},
   "source": [
    "Um argumento semelhante funcionará para encontrar o número de conexões de 3,4,...,n passos de $P_{i}$ para $P_{j}$."
   ]
  },
  {
   "cell_type": "markdown",
   "metadata": {},
   "source": [
    "### Teorema:"
   ]
  },
  {
   "cell_type": "markdown",
   "metadata": {},
   "source": [
    "> Seja M a matriz de vértices de um grafo dirigido e seja $m_{ij}^{(r)}$ o (i,j)-ésimo elemento de $M^{r}$. Então $m_{ij}^{(r)}$ é igual ao número de conexões de r passos de $_{i}$ para $P_{j}$."
   ]
  },
  {
   "cell_type": "markdown",
   "metadata": {},
   "source": [
    "Vamos utilizar o exemplo acima para ver, qual familiar pode influenciar outrem, de forma indireta."
   ]
  },
  {
   "cell_type": "markdown",
   "metadata": {},
   "source": [
    "### Exemplo: Influência na Família por 2 passos"
   ]
  },
  {
   "cell_type": "code",
   "execution_count": 42,
   "metadata": {},
   "outputs": [],
   "source": [
    "# calcula a matriz elevada a segunda potência.\n",
    "influenciaFamilia_2passos = np.linalg.matrix_power(influenciaFamilia, 2) "
   ]
  },
  {
   "cell_type": "code",
   "execution_count": 43,
   "metadata": {},
   "outputs": [
    {
     "name": "stdout",
     "output_type": "stream",
     "text": [
      "A matriz com 2 passos é:\n",
      "\n",
      "[[0 1 0 0 1]\n",
      " [1 0 0 0 1]\n",
      " [0 0 0 1 1]\n",
      " [1 0 0 0 0]\n",
      " [0 0 1 1 0]]\n"
     ]
    }
   ],
   "source": [
    "print(\"A matriz com 2 passos é:\\n\\n{}\".format(influenciaFamilia_2passos)) \n",
    "# a matriz abaixo informa quantos caminhos há para se influenciar outra pessoa em 2 passos,\n",
    "# levando a consideração que a ordem de influência é da linha para a coluna"
   ]
  },
  {
   "cell_type": "markdown",
   "metadata": {},
   "source": [
    "Observe que agora temos uma nova matriz de influência, essa que ocorrerá por dois passos. Veja o caso discutido acima sobre influência indireta para esse exemplo e observe como a teoria funcionou na prática."
   ]
  },
  {
   "cell_type": "markdown",
   "metadata": {},
   "source": [
    "### Exemplo: Influência na Família por 3 passos"
   ]
  },
  {
   "cell_type": "code",
   "execution_count": 44,
   "metadata": {},
   "outputs": [],
   "source": [
    "# calcula a matriz elevada a terceira potência.\n",
    "influenciaFamilia_3passos = np.linalg.matrix_power(influenciaFamilia,3) "
   ]
  },
  {
   "cell_type": "code",
   "execution_count": 45,
   "metadata": {},
   "outputs": [
    {
     "name": "stdout",
     "output_type": "stream",
     "text": [
      "a matriz com 3 passos é:\n",
      "\n",
      "[[1 0 0 1 1]\n",
      " [1 0 1 1 0]\n",
      " [1 0 0 0 1]\n",
      " [0 0 1 1 0]\n",
      " [0 1 0 0 1]]\n"
     ]
    }
   ],
   "source": [
    "print(\"a matriz com 3 passos é:\\n\\n{}\".format(influenciaFamilia_3passos)) \n",
    "# a matriz abaixo informa quantos caminhos a para se influenciar outra pessoa em 2 passos,\n",
    "# levando a consideração que a ordem de influência é da linha para a coluna"
   ]
  },
  {
   "cell_type": "markdown",
   "metadata": {},
   "source": [
    "### Exemplo: Rota Aérea"
   ]
  },
  {
   "cell_type": "markdown",
   "metadata": {},
   "source": [
    "A matriz abaixo representa o mapa de uma pequena companhia aére que atende a quatro cidades $P_{1}$,$P_{2}$,$P_{3}$ e $P_{4}$. Como grafo dirigido, a matriz é:"
   ]
  },
  {
   "cell_type": "markdown",
   "metadata": {},
   "source": [
    "$$\\begin{bmatrix}\n",
    "                 & P_{1} & P_{2} & P_{3} & P_{4} \\\\\n",
    "           P_{1} & 0 & 1 & 1 & 0 \\\\\n",
    "           P_{2} & 1 & 0 & 1 & 0 \\\\\n",
    "           P_{3} & 1 & 0 & 0 & 1 \\\\\n",
    "           P_{4} & 0 & 1 & 1 & 0 \\\\\n",
    "           \\end{bmatrix}$$"
   ]
  },
  {
   "cell_type": "code",
   "execution_count": 46,
   "metadata": {},
   "outputs": [],
   "source": [
    "# definindo a matriz rotaAerea\n",
    "rotaAerea = np.array([[0,1,1,0], [1,0,1,0] , [1,0,0,1], [0,1,1,0]])"
   ]
  },
  {
   "cell_type": "code",
   "execution_count": 47,
   "metadata": {},
   "outputs": [
    {
     "name": "stdout",
     "output_type": "stream",
     "text": [
      "A matriz rotaAerea é:\n",
      "\n",
      "[[0 1 1 0]\n",
      " [1 0 1 0]\n",
      " [1 0 0 1]\n",
      " [0 1 1 0]]\n"
     ]
    }
   ],
   "source": [
    "# imprimindo a matriz rotaAerea\n",
    "print(\"A matriz rotaAerea é:\\n\\n{}\".format(rotaAerea))"
   ]
  },
  {
   "cell_type": "markdown",
   "metadata": {},
   "source": [
    "Se comunicando diretamente temos:"
   ]
  },
  {
   "cell_type": "markdown",
   "metadata": {},
   "source": [
    "- $P_{1} -> P_{2}$\n",
    "- $P_{1} -> P_{3}$\n",
    "- $P_{2} -> P_{1}$\n",
    "- $P_{2} -> P_{3}$\n",
    "- $P_{3} -> P_{1}$\n",
    "- $P_{3} -> P_{4}$\n",
    "- $P_{4} -> P_{2}$\n",
    "- $P_{4} -> P_{3}$"
   ]
  },
  {
   "cell_type": "markdown",
   "metadata": {},
   "source": [
    "Agora vamos ver a comunicação em dois passos:"
   ]
  },
  {
   "cell_type": "code",
   "execution_count": 48,
   "metadata": {},
   "outputs": [],
   "source": [
    "# definindo a matriz de rotaAerea_2passos para uma comunicação em dois passos, elevando-a \n",
    "# na segunda potência\n",
    "rotaAerea_2passos = np.linalg.matrix_power(rotaAerea,2)"
   ]
  },
  {
   "cell_type": "code",
   "execution_count": 49,
   "metadata": {},
   "outputs": [
    {
     "name": "stdout",
     "output_type": "stream",
     "text": [
      "A matriz com dois passos é:\n",
      "\n",
      "[[2 0 1 1]\n",
      " [1 1 1 1]\n",
      " [0 2 2 0]\n",
      " [2 0 1 1]]\n"
     ]
    }
   ],
   "source": [
    "# imprimindo a matriz rotaAerea_2passos com dois passos\n",
    "print(\"A matriz com dois passos é:\\n\\n{}\".format(rotaAerea_2passos))"
   ]
  },
  {
   "cell_type": "markdown",
   "metadata": {},
   "source": [
    "Agora, analisando os dados dessa matriz, temos que a rota $P_{3}$ tem duas formas de se comunicar com $P_{2}$"
   ]
  },
  {
   "cell_type": "markdown",
   "metadata": {},
   "source": [
    "$P_{3} -> P_{1} -> P_{2}$\n",
    "###### ou\n",
    "$P_{3} -> P_{4} -> P_{2}$"
   ]
  },
  {
   "cell_type": "markdown",
   "metadata": {},
   "source": [
    "Ou então há duas formas da rota $P_{3}$ se comunicar com ela mesma, fato impossível na matriz inicial $rotaAerea^{1}$:"
   ]
  },
  {
   "cell_type": "markdown",
   "metadata": {},
   "source": [
    "$P_{3} -> P_{1} -> P_{3}$"
   ]
  },
  {
   "cell_type": "markdown",
   "metadata": {},
   "source": [
    "ou"
   ]
  },
  {
   "cell_type": "markdown",
   "metadata": {},
   "source": [
    "$P_{3} -> P_{4} -> P_{3}$"
   ]
  },
  {
   "cell_type": "markdown",
   "metadata": {},
   "source": [
    "E assim sucessivamente para as outras rotas."
   ]
  },
  {
   "cell_type": "markdown",
   "metadata": {},
   "source": [
    "Agora vamos ver conexões com 3 passos:"
   ]
  },
  {
   "cell_type": "code",
   "execution_count": 50,
   "metadata": {},
   "outputs": [],
   "source": [
    "# realiza a terceira potência da matriz rotaAerea em rotaAerea_3passos\n",
    "rotaAerea_3passos = np.linalg.matrix_power(rotaAerea, 3)"
   ]
  },
  {
   "cell_type": "code",
   "execution_count": 51,
   "metadata": {},
   "outputs": [
    {
     "name": "stdout",
     "output_type": "stream",
     "text": [
      "A matriz com 3 passos é:\n",
      "\n",
      "[[1 3 3 1]\n",
      " [2 2 3 1]\n",
      " [4 0 2 2]\n",
      " [1 3 3 1]]\n"
     ]
    }
   ],
   "source": [
    "# imprimindo a matriz rotaAerea com 3 passos de conexão\n",
    "print(\"A matriz com 3 passos é:\\n\\n{}\".format(rotaAerea_3passos))"
   ]
  },
  {
   "cell_type": "markdown",
   "metadata": {},
   "source": [
    "Agora vamos ver como a rota $P_{1}$ pode se comunicar por 3 passos com a rota $P_{2}$:"
   ]
  },
  {
   "cell_type": "markdown",
   "metadata": {},
   "source": [
    "$P_{1} -> P_{3} -> P_{4} -> P_{2}$"
   ]
  },
  {
   "cell_type": "markdown",
   "metadata": {},
   "source": [
    "ou"
   ]
  },
  {
   "cell_type": "markdown",
   "metadata": {},
   "source": [
    "$P_{1} -> P_{3} -> P_{1} -> P_{2}$"
   ]
  },
  {
   "cell_type": "markdown",
   "metadata": {},
   "source": [
    "E de mesmo modo para as outras rotas."
   ]
  },
  {
   "cell_type": "markdown",
   "metadata": {},
   "source": [
    "#### Aprenda mais Sobre Teoria dos Grafos"
   ]
  },
  {
   "cell_type": "markdown",
   "metadata": {},
   "source": [
    "###### P. Feofiloff, Y. Kohayakawa, Y. Wakabayashi,   Uma Introdução Sucinta à Teoria dos Grafos,  2004."
   ]
  },
  {
   "cell_type": "markdown",
   "metadata": {},
   "source": [
    "###### J.M.S. Simões Pereira,  Matemática Discreta: Grafos, Redes, Aplicações,  Ed. Luz da Vida (Portugal), 2009."
   ]
  },
  {
   "cell_type": "markdown",
   "metadata": {},
   "source": [
    "### Alguma Dúvida? Entre em Contato Comigo:"
   ]
  },
  {
   "cell_type": "markdown",
   "metadata": {},
   "source": [
    "- [Me envie um e-mail](mailto:alysson.barbosa@ee.ufcg.edu.br);"
   ]
  }
 ],
 "metadata": {
  "kernelspec": {
   "display_name": "Python 3",
   "language": "python",
   "name": "python3"
  },
  "language_info": {
   "codemirror_mode": {
    "name": "ipython",
    "version": 3
   },
   "file_extension": ".py",
   "mimetype": "text/x-python",
   "name": "python",
   "nbconvert_exporter": "python",
   "pygments_lexer": "ipython3",
   "version": "3.7.4"
  }
 },
 "nbformat": 4,
 "nbformat_minor": 4
}
