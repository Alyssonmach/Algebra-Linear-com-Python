{
 "cells": [
  {
   "cell_type": "markdown",
   "metadata": {},
   "source": [
    "# Autovalores em ecologia"
   ]
  },
  {
   "cell_type": "markdown",
   "metadata": {},
   "source": [
    "Uma aplicação interessante da álgebra linear são modelos de população matricial, amplamente utilizados na ecologia e em problemas demográficos. Um tipo de modelo considera a distribuição etária da fertilidade e sobrevivência em uma população animal ou vegetal. Vamos ver como isso ocorre em um estudo de caso sobre coelhos."
   ]
  },
  {
   "cell_type": "code",
   "execution_count": 1,
   "metadata": {},
   "outputs": [],
   "source": [
    "# execute essa linha de código para importar as definições do plot_helper\n",
    "\n",
    "import numpy\n",
    "from numpy.linalg import inv, eig\n",
    "from math import ceil\n",
    "from matplotlib import pyplot, ticker, get_backend, rc\n",
    "from mpl_toolkits.mplot3d import Axes3D\n",
    "from itertools import cycle\n",
    "\n",
    "# interactive backends\n",
    "_int_backends = ['GTK3Agg', 'GTK3Cairo', 'MacOSX', 'nbAgg',\n",
    "                 'Qt4Agg', 'Qt4Cairo', 'Qt5Agg', 'Qt5Cairo',\n",
    "                 'TkAgg', 'TkCairo', 'WebAgg', 'WX', 'WXAgg', 'WXCairo']\n",
    "_backend = get_backend()   # get current backend name\n",
    "\n",
    "# shrink figsize and fontsize when using %matplotlib notebook\n",
    "if _backend in _int_backends:\n",
    "    fontsize = 4\n",
    "    fig_scale = 0.75\n",
    "else:\n",
    "    fontsize = 5\n",
    "    fig_scale = 1\n",
    "\n",
    "grey = '#808080'\n",
    "gold = '#cab18c'   # x-axis grid\n",
    "lightblue = '#0096d6'  # y-axis grid\n",
    "green = '#008367'  # x-axis basis vector\n",
    "red = '#E31937'    # y-axis basis vector\n",
    "darkblue = '#004065'\n",
    "\n",
    "pink, yellow, orange, purple, brown = '#ef7b9d', '#fbd349', '#ffa500', '#a35cff', '#731d1d'\n",
    "\n",
    "quiver_params = {'angles': 'xy',\n",
    "                 'scale_units': 'xy',\n",
    "                 'scale': 1,\n",
    "                 'width': 0.012}\n",
    "\n",
    "grid_params = {'linewidth': 0.5,\n",
    "               'alpha': 0.8}\n",
    "\n",
    "def set_rc(func):\n",
    "    def wrapper(*args, **kwargs):\n",
    "        rc('font', family='serif', size=fontsize)\n",
    "        rc('figure', dpi=200)\n",
    "        rc('axes', axisbelow=True, titlesize=5)\n",
    "        rc('lines', linewidth=1)\n",
    "        func(*args, **kwargs)\n",
    "    return wrapper\n",
    "\n",
    "@set_rc\n",
    "def plot_vector(vectors, tails=None):\n",
    "    ''' Draw 2d vectors based on the values of the vectors and the position of their tails.\n",
    "    \n",
    "    Parameters\n",
    "    ----------\n",
    "    vectors : list.\n",
    "        List of 2-element array-like structures, each represents a 2d vector.\n",
    "    \n",
    "    tails : list, optional.\n",
    "        List of 2-element array-like structures, each represents the coordinates of the tail\n",
    "        of the corresponding vector in vectors. If None (default), all tails are set at the\n",
    "        origin (0,0). If len(tails) is 1, all tails are set at the same position. Otherwise,\n",
    "        vectors and tails must have the same length.\n",
    "    \n",
    "    Examples\n",
    "    --------\n",
    "    >>> v = [(1, 3), (3, 3), (4, 6)]\n",
    "    >>> plot_vector(v)      # draw 3 vectors with their tails at origin\n",
    "    >>> t = [numpy.array((2, 2))]\n",
    "    >>> plot_vector(v, t)   # draw 3 vectors with their tails at (2,2)\n",
    "    >>> t = [[3, 2], [-1, -2], [3, 5]]\n",
    "    >>> plot_vector(v, t)   # draw 3 vectors with 3 different tails\n",
    "    '''   \n",
    "    vectors = numpy.array(vectors)\n",
    "    assert vectors.shape[1] == 2, \"Each vector should have 2 elements.\"  \n",
    "    if tails is not None:\n",
    "        tails = numpy.array(tails)\n",
    "        assert tails.shape[1] == 2, \"Each tail should have 2 elements.\"\n",
    "    else:\n",
    "        tails = numpy.zeros_like(vectors)\n",
    "    \n",
    "    # tile vectors or tails array if needed\n",
    "    nvectors = vectors.shape[0]\n",
    "    ntails = tails.shape[0]\n",
    "    if nvectors == 1 and ntails > 1:\n",
    "        vectors = numpy.tile(vectors, (ntails, 1))\n",
    "    elif ntails == 1 and nvectors > 1:\n",
    "        tails = numpy.tile(tails, (nvectors, 1))\n",
    "    else:\n",
    "        assert tails.shape == vectors.shape, \"vectors and tail must have a same shape\"\n",
    "\n",
    "    # calculate xlimit & ylimit\n",
    "    heads = tails + vectors\n",
    "    limit = numpy.max(numpy.abs(numpy.hstack((tails, heads))))\n",
    "    limit = numpy.ceil(limit * 1.2)   # add some margins\n",
    "    \n",
    "    figsize = numpy.array([2,2]) * fig_scale\n",
    "    figure, axis = pyplot.subplots(figsize=figsize)\n",
    "    axis.quiver(tails[:,0], tails[:,1], vectors[:,0], vectors[:,1], color=darkblue, \n",
    "                  angles='xy', scale_units='xy', scale=1)\n",
    "    axis.set_xlim([-limit, limit])\n",
    "    axis.set_ylim([-limit, limit])\n",
    "    axis.set_aspect('equal')\n",
    "\n",
    "    # if xticks and yticks of grid do not match, choose the finer one\n",
    "    xticks = axis.get_xticks()\n",
    "    yticks = axis.get_yticks()\n",
    "    dx = xticks[1] - xticks[0]\n",
    "    dy = yticks[1] - yticks[0]\n",
    "    base = max(int(min(dx, dy)), 1)   # grid interval is always an integer\n",
    "    loc = ticker.MultipleLocator(base=base)\n",
    "    axis.xaxis.set_major_locator(loc)\n",
    "    axis.yaxis.set_major_locator(loc)\n",
    "    axis.grid(True, **grid_params)\n",
    "    \n",
    "    # show x-y axis in the center, hide frames\n",
    "    axis.spines['left'].set_position('center')\n",
    "    axis.spines['bottom'].set_position('center')\n",
    "    axis.spines['right'].set_color('none')\n",
    "    axis.spines['top'].set_color('none')\n",
    "\n",
    "@set_rc\n",
    "def plot_transformation_helper(axis, matrix, *vectors, unit_vector=True, unit_circle=False, title=None):\n",
    "    \"\"\" A helper function to plot the linear transformation defined by a 2x2 matrix.\n",
    "    \n",
    "    Parameters\n",
    "    ----------\n",
    "    axis : class matplotlib.axes.Axes.\n",
    "        The axes to plot on.\n",
    "    matrix : class numpy.ndarray.\n",
    "        The 2x2 matrix to visualize.\n",
    "    *vectors : class numpy.ndarray.\n",
    "        The vector(s) to plot along with the linear transformation. Each array denotes a vector's\n",
    "        coordinates before the transformation and must have a shape of (2,). Accept any number of vectors. \n",
    "    \n",
    "    unit_vector : bool, optional.\n",
    "        Whether to plot unit vectors of the standard basis, default to True.\n",
    "    \n",
    "    unit_circle: bool, optional.\n",
    "        Whether to plot unit circle, default to False.\n",
    "    \n",
    "    title: str, optional.\n",
    "        Title of the plot.\n",
    "    \"\"\"\n",
    "    assert matrix.shape == (2,2), \"the input matrix must have a shape of (2,2)\"\n",
    "    grid_range = 20\n",
    "    x = numpy.arange(-grid_range, grid_range+1)\n",
    "    X_, Y_ = numpy.meshgrid(x,x)\n",
    "    I = matrix[:,0]\n",
    "    J = matrix[:,1]\n",
    "    X = I[0]*X_ + J[0]*Y_\n",
    "    Y = I[1]*X_ + J[1]*Y_\n",
    "    origin = numpy.zeros(1)\n",
    "        \n",
    "    # draw grid lines\n",
    "    for i in range(x.size):\n",
    "        axis.plot(X[i,:], Y[i,:], c=gold, **grid_params)\n",
    "        axis.plot(X[:,i], Y[:,i], c=lightblue, **grid_params)\n",
    "    \n",
    "    # draw (transformed) unit vectors\n",
    "    if unit_vector:\n",
    "        axis.quiver(origin, origin, [I[0]], [I[1]], color=green, **quiver_params)\n",
    "        axis.quiver(origin, origin, [J[0]], [J[1]], color=red, **quiver_params)\n",
    "\n",
    "    # draw optional vectors\n",
    "    color_cycle = cycle([pink, darkblue, orange, purple, brown])\n",
    "    if vectors:\n",
    "        for vector in vectors:\n",
    "            color = next(color_cycle)\n",
    "            vector_ = matrix @ vector.reshape(-1,1)\n",
    "            axis.quiver(origin, origin, [vector_[0]], [vector_[1]], color=color, **quiver_params)\n",
    "\n",
    "    # draw optional unit circle\n",
    "    if unit_circle:\n",
    "        alpha =  numpy.linspace(0, 2*numpy.pi, 41)\n",
    "        circle = numpy.vstack((numpy.cos(alpha), numpy.sin(alpha)))\n",
    "        circle_trans = matrix @ circle\n",
    "        axis.plot(circle_trans[0], circle_trans[1], color=red, lw=0.8)\n",
    "\n",
    "    # hide frames, set xlimit & ylimit, set title\n",
    "    limit = 4\n",
    "    axis.spines['left'].set_position('center')\n",
    "    axis.spines['bottom'].set_position('center')\n",
    "    axis.spines['left'].set_linewidth(0.3)\n",
    "    axis.spines['bottom'].set_linewidth(0.3)\n",
    "    axis.spines['right'].set_color('none')\n",
    "    axis.spines['top'].set_color('none')\n",
    "    axis.set_xlim([-limit, limit])\n",
    "    axis.set_ylim([-limit, limit])\n",
    "    if title is not None:\n",
    "        axis.set_title(title)\n",
    "\n",
    "@set_rc\n",
    "def plot_linear_transformation(matrix, *vectors, unit_vector=True, unit_circle=False):\n",
    "    \"\"\" Plot the linear transformation defined by a 2x2 matrix using the helper\n",
    "    function plot_transformation_helper(). It will create 2 subplots to visualize some\n",
    "    vectors before and after the transformation.\n",
    "    \n",
    "    Parameters\n",
    "    ----------\n",
    "    matrix : class numpy.ndarray.\n",
    "        The 2x2 matrix to visualize.\n",
    "    *vectors : class numpy.ndarray.\n",
    "        The vector(s) to plot along with the linear transformation. Each array denotes a vector's\n",
    "        coordinates before the transformation and must have a shape of (2,). Accept any number of vectors.\n",
    "    \n",
    "    unit_vector : bool, optional.\n",
    "        Whether to plot unit vectors of the standard basis, default to True.\n",
    "    \n",
    "    unit_circle: bool, optional.\n",
    "        Whether to plot unit circle, default to False.\n",
    "    \n",
    "    \"\"\"\n",
    "    figsize = numpy.array([4,2]) * fig_scale\n",
    "    figure, (axis1, axis2) = pyplot.subplots(1, 2, figsize=figsize)\n",
    "    plot_transformation_helper(axis1, numpy.identity(2), *vectors, unit_vector=unit_vector, unit_circle=unit_circle, title='Before transformation')\n",
    "    plot_transformation_helper(axis2, matrix, *vectors, unit_vector=unit_vector, unit_circle=unit_circle, title='After transformation')\n",
    "\n",
    "@set_rc\n",
    "def plot_linear_transformations(*matrices, unit_vector=True, unit_circle=False):\n",
    "    \"\"\" Plot the linear transformation defined by a sequence of n 2x2 matrices using the helper\n",
    "    function plot_transformation_helper(). It will create n+1 subplots to visualize some\n",
    "    vectors before and after each transformation.\n",
    "    Parameters\n",
    "    ----------\n",
    "    *matrices : class numpy.ndarray.\n",
    "        The 2x2 matrices to visualize. Accept any number of matrices.\n",
    "    \n",
    "    unit_vector : bool, optional.\n",
    "        Whether to plot unit vectors of the standard basis, default to True.\n",
    "    \n",
    "    unit_circle: bool, optional.\n",
    "        Whether to plot unit circle, default to False.\n",
    "      \n",
    "    \"\"\"\n",
    "    nplots = len(matrices) + 1\n",
    "    nx = 2\n",
    "    ny = ceil(nplots/nx)\n",
    "    figsize = numpy.array([2*nx, 2*ny]) * fig_scale\n",
    "    figure, axes = pyplot.subplots(nx, ny, figsize=figsize)\n",
    "\n",
    "    for i in range(nplots):  # fig_idx \n",
    "        if i == 0:\n",
    "            matrix_trans = numpy.identity(2)\n",
    "            title = 'Antes da Transformação'\n",
    "        else:\n",
    "            matrix_trans = matrices[i-1] @ matrix_trans\n",
    "            if i == 1:\n",
    "                title = 'Depois de {} Trasnformação'.format(i)\n",
    "            else:\n",
    "                title = 'Depois de {} Transformações'.format(i)\n",
    "        plot_transformation_helper(axes[i//nx, i%nx], matrix_trans, unit_vector=unit_vector, unit_circle=unit_circle, title=title)\n",
    "    # hide axes of the extra subplot (only when nplots is an odd number)\n",
    "    if nx*ny > nplots:\n",
    "        axes[-1,-1].axis('off')\n",
    "        \n",
    "@set_rc\n",
    "def plot_3d_transformation_helper(axis, matrix, grid=True, unit_sphere=False, title=None):\n",
    "    \"\"\" A helper function to plot the linear transformation defined by a 3x3 matrix.\n",
    "    \n",
    "    Parameters\n",
    "    ----------\n",
    "    axis : class matplotlib.axes.Axes.\n",
    "        The axes to plot on.\n",
    "    matrix : class numpy.ndarray.\n",
    "        The 3x3 matrix to visualize.\n",
    "    grid : bool, optional.\n",
    "        Whether to plot 3d grid lines, default to True.\n",
    "    \n",
    "    unit_sphere : bool, optional.\n",
    "        Whether to plot unit sphere, default to False.\n",
    "    \n",
    "    title : str, optional.\n",
    "        Title of the plot.\n",
    "    \"\"\"\n",
    "    assert matrix.shape == (3,3), \"the input matrix must have a shape of (3,3)\"\n",
    "    xcolor, ycolor, zcolor = '#0084b6', '#d8a322', '#FF3333'\n",
    "    linewidth = 0.7\n",
    "    if grid:\n",
    "        grid_range = 2\n",
    "        x = numpy.arange(-grid_range, grid_range+1)\n",
    "        X, Y, Z = numpy.meshgrid(x,x,x)\n",
    "        X_new = matrix[0,0]*X + matrix[0,1]*Y + matrix[0,2]*Z\n",
    "        Y_new = matrix[1,0]*X + matrix[1,1]*Y + matrix[1,2]*Z\n",
    "        Z_new = matrix[2,0]*X + matrix[2,1]*Y + matrix[2,2]*Z\n",
    "        for i in range(x.size):\n",
    "            for j in range(x.size):\n",
    "                axis.plot(X_new[:,i,j], Y_new[:,i,j], Z_new[:,i,j], color=xcolor, linewidth=linewidth)\n",
    "                axis.plot(X_new[i,:,j], Y_new[i,:,j], Z_new[i,:,j], color=ycolor, linewidth=linewidth)\n",
    "                axis.plot(X_new[i,j,:], Y_new[i,j,:], Z_new[i,j,:], color=zcolor, linewidth=linewidth)\n",
    "    \n",
    "    if unit_sphere:\n",
    "        u = numpy.linspace(0, 2 * numpy.pi, 100)\n",
    "        v = numpy.linspace(0, numpy.pi, 100)\n",
    "        X = 1 * numpy.outer(numpy.cos(u), numpy.sin(v))\n",
    "        Y = 1 * numpy.outer(numpy.sin(u), numpy.sin(v))\n",
    "        Z = 1 * numpy.outer(numpy.ones(numpy.size(u)), numpy.cos(v))\n",
    "        X_new = matrix[0,0]*X + matrix[0,1]*Y + matrix[0,2]*Z\n",
    "        Y_new = matrix[1,0]*X + matrix[1,1]*Y + matrix[1,2]*Z\n",
    "        Z_new = matrix[2,0]*X + matrix[2,1]*Y + matrix[2,2]*Z\n",
    "        axis.plot_surface(X_new, Y_new, Z_new, rstride=4, cstride=4, linewidth=0, cmap='ocean', alpha=0.6)\n",
    "\n",
    "    if title is not None:\n",
    "        axis.set_title(title)\n",
    "    \n",
    "    limit = 0\n",
    "    if grid or unit_sphere:\n",
    "        for array in (X_new, Y_new, Z_new):\n",
    "            limit_ = numpy.max(numpy.abs(array))\n",
    "            limit = max(limit, limit_)\n",
    "    else:\n",
    "        limit = 1\n",
    "    axis.set_xlim(-limit, limit)\n",
    "    axis.set_ylim(-limit, limit)\n",
    "    axis.set_zlim(-limit, limit)\n",
    "    # adjust the whitespace between ticks and axes to get a tighter plot\n",
    "    for axis_str in ['x', 'y', 'z']:\n",
    "        axis.tick_params(axis=axis_str, pad=-3)\n",
    "\n",
    "@set_rc\n",
    "def plot_3d_linear_transformation(matrix, grid=True, unit_sphere=False):\n",
    "    \"\"\" Plot the linear transformation defined by a 3x3 matrix using the helper\n",
    "    function plot_3d_transformation_helper(). It will create 2 subplots to visualize some\n",
    "    vectors before and after the transformation.\n",
    "    \n",
    "    Parameters\n",
    "    ----------\n",
    "    matrix : class numpy.ndarray.\n",
    "        The 3x3 matrix to visualize.\n",
    "    grid : bool, optional.\n",
    "        Whether to plot 3d grid lines, default to True.\n",
    "    \n",
    "    unit_sphere : bool, optional.\n",
    "        Whether to plot unit sphere, default to False.\n",
    "    \"\"\"\n",
    "    \n",
    "    figsize = numpy.array([4,2]) * fig_scale\n",
    "    figure = pyplot.figure(figsize=figsize)\n",
    "    axis1 = figure.add_subplot(1, 2, 1, projection='3d')\n",
    "    axis2 = figure.add_subplot(1, 2, 2, projection='3d')\n",
    "    plot_3d_transformation_helper(axis1, numpy.identity(3), grid=grid, unit_sphere=unit_sphere, title='before transformation')\n",
    "    plot_3d_transformation_helper(axis2, matrix, grid=grid, unit_sphere=unit_sphere, title='after transformation')\n",
    "\n",
    "@set_rc\n",
    "def plot_3d_linear_transformations(*matrices, grid=False, unit_sphere=False):\n",
    "    \"\"\" Plot the linear transformation defined by a sequence of n 3x3 matrices using the helper\n",
    "    function plot_3d_transformation_helper(). It will create n+1 subplots to visualize some\n",
    "    vectors before and after each transformation.\n",
    "    \n",
    "    Parameters\n",
    "    ----------\n",
    "    *matrices : class numpy.ndarray.\n",
    "        The 3x3 matrices to visualize. Accept any number of matrices. \n",
    "    grid : bool, optional.\n",
    "        Whether to plot 3d grid lines, default to False.\n",
    "    \n",
    "    unit_sphere : bool, optional.\n",
    "        Whether to plot unit sphere, default to False.\n",
    "    \"\"\"\n",
    "    nplots = len(matrices) + 1\n",
    "    nx = 2                 # number of figures per row\n",
    "    ny = ceil(nplots/nx)   # number of figures per column\n",
    "    figsize = numpy.array([2*nx, 2*ny]) * fig_scale\n",
    "    figure = pyplot.figure(figsize=figsize)\n",
    "\n",
    "    for i in range(nplots):  # fig_idx\n",
    "        axis = figure.add_subplot(ny, nx, i+1, projection='3d')\n",
    "        if i == 0:\n",
    "            matrix_trans = numpy.identity(3)\n",
    "            title = 'Antes da Transformação'\n",
    "        else:\n",
    "            matrix_trans = matrices[i-1] @ matrix_trans\n",
    "            if i == 1:\n",
    "                title = 'Depois de {} Transformação'.format(i)\n",
    "            else:\n",
    "                title = 'Depois de {} Transformações'.format(i)\n",
    "        plot_3d_transformation_helper(axis, matrix_trans, grid=grid, unit_sphere=unit_sphere, title=title)\n",
    "\n",
    "@set_rc\n",
    "def plot_basis_helper(axis, I, J, *vectors, title=None, I_label='i', J_label='j'):\n",
    "    \"\"\" A helper function to plot the 2D coordinate system determined by the basis I,J.\n",
    "    \n",
    "    Parameters\n",
    "    ----------\n",
    "    axis : class matplotlib.axes.Axes.\n",
    "        The axes to plot on.\n",
    "    I, J: class numpy.ndarray.\n",
    "        The coordinates of the basis vector in the standard basis.\n",
    "    *vectors : class numpy.ndarray.\n",
    "        The vector(s) to plot along with the change of basis. Each array denotes a vector's\n",
    "        coordinates in I-J coordinate system (not in the standard basis). Each vector must have\n",
    "        a shape of (2,). Accept any number of vectors.\n",
    "    \n",
    "    I_label, J_label : str, optional.\n",
    "        Label of the new basis, default to 'i' and 'j'.\n",
    "    \n",
    "    title: str, optional.\n",
    "        Title of the plot.\n",
    "    \"\"\"\n",
    "    grid_range = 20\n",
    "    x = numpy.arange(-grid_range, grid_range+1)\n",
    "    X_, Y_ = numpy.meshgrid(x,x)   # grid coordinates on the new basis\n",
    "    X = I[0]*X_ + J[0]*Y_   # grid coordinates on the standard basis\n",
    "    Y = I[1]*X_ + J[1]*Y_\n",
    "    \n",
    "    # draw origin\n",
    "    origin = numpy.zeros(1)\n",
    "    axis.scatter(origin, origin, c='black', s=3)\n",
    "\n",
    "    # draw grid lines of the new coordinate system\n",
    "    lw_grid = 0.4\n",
    "    for i in range(x.size):\n",
    "        axis.plot(X[i,:], Y[i,:], c=grey, lw=lw_grid)\n",
    "        axis.plot(X[:,i], Y[:,i], c=grey, lw=lw_grid)\n",
    "    \n",
    "    # highlight new axes (spines)\n",
    "    lw_spine = 0.7\n",
    "    zero_id = numpy.where(x==0)[0][0]\n",
    "    axis.plot(X[zero_id,:], Y[zero_id,:], c=gold, lw=lw_spine)\n",
    "    axis.plot(X[:,zero_id], Y[:,zero_id], c=lightblue, lw=lw_spine)\n",
    "\n",
    "    # draw basis vectors using quiver plot\n",
    "    axis.quiver(origin, origin, [I[0]], [I[1]], color=gold, **quiver_params)\n",
    "    axis.quiver(origin, origin, [J[0]], [J[1]], color=lightblue, **quiver_params)\n",
    "\n",
    "    # draw input vector on new coordinate system\n",
    "    bound = 5\n",
    "    if vectors:\n",
    "        for vector in vectors:\n",
    "            M = numpy.transpose(numpy.vstack((I,J)))\n",
    "            vector = M @ vector.reshape(-1,1)\n",
    "            axis.quiver(origin, origin, [vector[0]], [vector[1]], color=red, **quiver_params)\n",
    "            bound = max(ceil(numpy.max(numpy.abs(vector))), bound)\n",
    "    \n",
    "    # hide frames, set xlimit & ylimit, set title\n",
    "    axis.set_xlim([-bound, bound])\n",
    "    axis.set_ylim([-bound, bound])\n",
    "    axis.axis('off')\n",
    "    if title is not None:\n",
    "        axis.set_title(title)\n",
    "\n",
    "    # add text next to new basis vectors\n",
    "    text_params = {'ha': 'center', 'va': 'center', 'size' : 6}\n",
    "    axis.text((I[0]-J[0])/2*1.1, (I[1]-J[1])/2*1.1, r'${}$'.format(I_label), color=gold, **text_params)\n",
    "    axis.text((J[0]-I[0])/2*1.1, (J[1]-I[1])/2*1.1, r'${}$'.format(J_label), color=lightblue, **text_params)\n",
    "\n",
    "@set_rc\n",
    "def plot_basis(I, J, *vectors):\n",
    "    \"\"\" Plot 2d vectors on the coordinates system defined by basis I and J using the helper funtion\n",
    "    plot_basis_helper().\n",
    "    \n",
    "    Parameters\n",
    "    ----------\n",
    "    I, J: class numpy.ndarray.\n",
    "        The coordinates of the basis vector in the standard basis.\n",
    "    *vectors : class numpy.ndarray.\n",
    "        The vector(s) to plot along with the change of basis. Each array denotes a vector's\n",
    "        coordinates in I-J coordinate system (not in the standard basis). Each vector must have\n",
    "        a shape of (2,). Accept any number of vectors.\n",
    "    \"\"\"\n",
    "    figsize = numpy.array([2,2]) * fig_scale\n",
    "    figure, axis = pyplot.subplots(figsize=figsize)\n",
    "    plot_basis_helper(axis, I, J, *vectors)\n",
    "\n",
    "@set_rc\n",
    "def plot_change_basis(I, J, *vectors):\n",
    "    \"\"\" Create a side-by-side plot of some vectors both on the standard basis and on the new basis\n",
    "    defined by I and J, using the helper function plot_basis_helper().\n",
    "    \n",
    "    Parameters\n",
    "    ----------\n",
    "    I, J: class numpy.ndarray.\n",
    "        The coordinates of the basis vector in the standard basis.\n",
    "    *vectors : class numpy.ndarray.\n",
    "        The vector(s) to plot along with the change of basis. Each array denotes a vector's\n",
    "        coordinates in I-J coordinate system (not in the standard basis). Each vector must have\n",
    "        a shape of (2,). Accept any number of vectors.\n",
    "    \"\"\"\n",
    "    figsize = numpy.array([4,2]) * fig_scale\n",
    "    figure, (axis1, axis2) = pyplot.subplots(1, 2, figsize=figsize)\n",
    "    M = numpy.transpose(numpy.vstack((I,J)))\n",
    "    M_inv = inv(M)\n",
    "    vectors_ = [ M_inv @ vector.reshape(-1, 1) for vector in vectors ]\n",
    "    plot_basis_helper(axis1, numpy.array([1,0]), numpy.array([0,1]), *vectors, title='standard basis')\n",
    "    plot_basis_helper(axis2, I, J, *vectors_, title='new basis', I_label='a', J_label='b')\n",
    "\n",
    "@set_rc\n",
    "def plot_eigen(matrix):\n",
    "    \"\"\" Visualize the eigendecomposition of a 2x2 matrix as a combination of changing basis \n",
    "    and scaling transformation, using the helper function plot_basis_helper().\n",
    "    Parameters\n",
    "    ----------\n",
    "    matrix : class numpy.ndarray.\n",
    "        The 2x2 matrix to visualize.\n",
    "    \"\"\"\n",
    "    figsize = numpy.array([4,4]) * fig_scale\n",
    "    figure, axes = pyplot.subplots(2, 2, figsize=figsize)\n",
    "    \n",
    "    eigenvalues, eigenvectors = eig(matrix)\n",
    "    C = eigenvectors\n",
    "    D = numpy.diag(eigenvalues)\n",
    "    C_inv = inv(C)\n",
    "\n",
    "    alpha =  numpy.linspace(0, 2*numpy.pi, 41)\n",
    "    circle = numpy.vstack((numpy.cos(alpha), numpy.sin(alpha)))\n",
    "\n",
    "    plot_basis_helper(axes[0,0], numpy.array([1,0]), numpy.array([0,1]), title=r'coords in standard basis $\\mathbf{x}$')\n",
    "    plot_basis_helper(axes[0,1], C[:,0], C[:,1], title=r'change to new basis $C^{-1}\\mathbf{x}$', I_label='a', J_label='b')\n",
    "    plot_basis_helper(axes[1,0], C[:,0], C[:,1], title=r'scale along new basis $DC^{-1}\\mathbf{x}$', I_label='a', J_label='b')\n",
    "    plot_basis_helper(axes[1,1], numpy.array([1,0]), numpy.array([0,1]), title=r'change back to standard basis $CDC^{-1}\\mathbf{x}$')\n",
    "\n",
    "    circle_trans = matrix @ circle\n",
    "    for axis in axes[0]:\n",
    "        axis.plot(circle[0], circle[1], color=red, lw=0.8)\n",
    "    for axis in axes[1]:\n",
    "        axis.plot(circle_trans[0], circle_trans[1], color=red, lw=0.8)\n",
    "\n",
    "if __name__ == \"__main__\":\n",
    "    pass\n",
    "\n",
    "# funções definidas por L Barba e T Wang para uma apresentação no evento SciPy 2019 \n",
    "# aplicação das funções para a aula do professor Edmar Candeia Gurjão feitas por Alysson Machado"
   ]
  },
  {
   "cell_type": "code",
   "execution_count": 2,
   "metadata": {},
   "outputs": [],
   "source": [
    "import numpy # importando a biblioteca de funções do Python numpy\n",
    "%matplotlib inline\n",
    "from matplotlib import pyplot # importando a biblioteca de funções do Python matplotlib"
   ]
  },
  {
   "cell_type": "code",
   "execution_count": 3,
   "metadata": {},
   "outputs": [],
   "source": [
    "import sys # importa as definições feitas no plot_helper\n",
    "sys.path.append('../scripts/')\n",
    "\n",
    "# Ao importar, teremos acesso as funções: \n",
    "# plot_vector, plot_linear_transformation, plot_linear_transformations"
   ]
  },
  {
   "cell_type": "markdown",
   "metadata": {},
   "source": [
    "Em uma população de coelhos:"
   ]
  },
  {
   "cell_type": "markdown",
   "metadata": {},
   "source": [
    "1-)metade dos coelhos recém-nascidos sobrevivem no primeiro ano de vida; \n"
   ]
  },
  {
   "cell_type": "markdown",
   "metadata": {},
   "source": [
    "2-)metade dos coelhos sobrevivem no segundo ano de vida; "
   ]
  },
  {
   "cell_type": "markdown",
   "metadata": {},
   "source": [
    "3-)os coelhos vivem no máximo até três anos; "
   ]
  },
  {
   "cell_type": "markdown",
   "metadata": {},
   "source": [
    "4-)coelhos produzem 0, 6, 8 outros coelhos no primeiro, segundo e terceiro anos, respectivamente."
   ]
  },
  {
   "cell_type": "markdown",
   "metadata": {},
   "source": [
    "Sejam Xt, Yt e Zt a quantidade de coelhos no período de 0, 1 e 2 anos de idade, respectivamente, em um certo período t de tempo após o início do estudo, podemos definir:"
   ]
  },
  {
   "cell_type": "markdown",
   "metadata": {},
   "source": [
    "$$X_{t+1} = 0X_{t} + 6Y_{t} + 8Z_{t}$$"
   ]
  },
  {
   "cell_type": "markdown",
   "metadata": {},
   "source": [
    "$$X_{t+1} = 1/2X_{t} + 0Y_{t} + 0Z_{t}$$"
   ]
  },
  {
   "cell_type": "markdown",
   "metadata": {},
   "source": [
    "$$X_{t+1} = 0X_{t} + 1/2Y_{t} + 0Z_{t}$$"
   ]
  },
  {
   "cell_type": "markdown",
   "metadata": {},
   "source": [
    "As coordenadas do sistema podem ser definidos em uma matriz L:\n"
   ]
  },
  {
   "cell_type": "markdown",
   "metadata": {},
   "source": [
    "$$L = \\begin{bmatrix}\n",
    "          0 & 6 & 8 \\\\\n",
    "          0.5 & 0 & 0 \\\\\n",
    "          0 & 0.5 & 0 \\\\\n",
    "          \\end{bmatrix}$$"
   ]
  },
  {
   "cell_type": "code",
   "execution_count": 4,
   "metadata": {},
   "outputs": [],
   "source": [
    "L = numpy.array([[0,6,8], [0.5,0,0], [0,0.5,0]]) # definindo a matriz L"
   ]
  },
  {
   "cell_type": "code",
   "execution_count": 5,
   "metadata": {},
   "outputs": [
    {
     "name": "stdout",
     "output_type": "stream",
     "text": [
      "[[0.  6.  8. ]\n",
      " [0.5 0.  0. ]\n",
      " [0.  0.5 0. ]]\n"
     ]
    }
   ],
   "source": [
    "#imprimindo a matriz\n",
    "print(\"{}\".format(L))"
   ]
  },
  {
   "cell_type": "markdown",
   "metadata": {},
   "source": [
    "Essa matriz representa a transição etária ano após ano. Multiplique essa matriz pelo vetor população para obter a população estruturada por idade no próximo ano. Vamos escrever um pouco de código em Python para ver a população em cada faixa etária crescer mais, ano após ano (conceitos usados exigem conhecimentos em Cadeias de Markov, em que um sistema muda para outro)."
   ]
  },
  {
   "cell_type": "markdown",
   "metadata": {},
   "source": [
    "Seja p a população inicial de coelhos, podemos especular: "
   ]
  },
  {
   "cell_type": "markdown",
   "metadata": {},
   "source": [
    "1-) 25 coelhos na idade 0; "
   ]
  },
  {
   "cell_type": "markdown",
   "metadata": {},
   "source": [
    "2-) 10 coelhos na idade 1; "
   ]
  },
  {
   "cell_type": "markdown",
   "metadata": {},
   "source": [
    "3-) 5 coelhos na idade 2; "
   ]
  },
  {
   "cell_type": "code",
   "execution_count": 6,
   "metadata": {},
   "outputs": [],
   "source": [
    "p = numpy.array([25, 10, 5]) # definindo um array p, p = população inicial de coelhos"
   ]
  },
  {
   "cell_type": "code",
   "execution_count": 7,
   "metadata": {},
   "outputs": [
    {
     "name": "stdout",
     "output_type": "stream",
     "text": [
      "[25 10  5]\n"
     ]
    }
   ],
   "source": [
    "# imprime a população inicial de coelhos\n",
    "print(\"{}\".format(p))"
   ]
  },
  {
   "cell_type": "code",
   "execution_count": 8,
   "metadata": {},
   "outputs": [
    {
     "data": {
      "image/png": "[encoded data removed]",
      "text/plain": [
       "<Figure size 432x288 with 1 Axes>"
      ]
     },
     "metadata": {},
     "output_type": "display_data"
    }
   ],
   "source": [
    "# criando as etiquetas para o gráfico\n",
    "labels = '0 ano', '1 ano', '2 anos'\n",
    "\n",
    "# criando a área de plotagem\n",
    "fig1, ax1 = pyplot.subplots()\n",
    "\n",
    "# criando o gráfico\n",
    "ax1.pie(p, labels = labels, autopct = '%1.1f%%', shadow = True, startangle = 90)\n",
    "\n",
    "# com essa opção, o gráfico ficará em círculo\n",
    "ax1.axis('equal')\n",
    "\n",
    "# título do gráfico\n",
    "pyplot.title(\"População inicial de coelhos\")\n",
    "\n",
    "# mostra o gráfico\n",
    "pyplot.show()"
   ]
  },
  {
   "cell_type": "markdown",
   "metadata": {},
   "source": [
    "O nosso sistema agora vai sofrer uma mudança de estado. Vamos verificar essa mudança de estado após ter se passado 1 ano, provavelmente a população vai ter uma nova modelagem, baseado nas características de vida dos coelhos e na população que tinha no ano anterior."
   ]
  },
  {
   "cell_type": "code",
   "execution_count": 9,
   "metadata": {},
   "outputs": [],
   "source": [
    "# multiplica a matriz L com a matriz p\n",
    "mudanca_estado = numpy.dot(L,p)"
   ]
  },
  {
   "cell_type": "code",
   "execution_count": 10,
   "metadata": {},
   "outputs": [
    {
     "name": "stdout",
     "output_type": "stream",
     "text": [
      "[100.   12.5   5. ]\n"
     ]
    }
   ],
   "source": [
    "# imprime a população de coelhos após 1 ano\n",
    "print(\"{}\".format(mudanca_estado))"
   ]
  },
  {
   "cell_type": "code",
   "execution_count": 11,
   "metadata": {},
   "outputs": [
    {
     "name": "stdout",
     "output_type": "stream",
     "text": [
      "[100.   12.5   5. ]\n"
     ]
    }
   ],
   "source": [
    "# imprime a mudança de estado daqui a 1 ano, ou seja, a nova população de coelhos\n",
    "print(\"{}\".format(mudanca_estado))"
   ]
  },
  {
   "cell_type": "code",
   "execution_count": 12,
   "metadata": {},
   "outputs": [
    {
     "data": {
      "image/png": "[encoded data removed]",
      "text/plain": [
       "<Figure size 432x288 with 1 Axes>"
      ]
     },
     "metadata": {},
     "output_type": "display_data"
    }
   ],
   "source": [
    "# criando um conjunto de dados\n",
    "labels = '0 ano', '1 ano', '2 anos'\n",
    "\n",
    "# criando a área de plotagem\n",
    "fig1, ax1 = pyplot.subplots()\n",
    "\n",
    "# criando o gráfico\n",
    "ax1.pie(mudanca_estado, labels = labels, autopct = '%1.1f%%', shadow = True, startangle = 90)\n",
    "\n",
    "# com essa opção, o gráfico ficará em círculo\n",
    "ax1.axis('equal')\n",
    "\n",
    "# título do gráfico\n",
    "pyplot.title(\"População de coelhos após 1 ano\")\n",
    "\n",
    "# mostra o gráfico\n",
    "pyplot.show()"
   ]
  },
  {
   "cell_type": "markdown",
   "metadata": {},
   "source": [
    "Qual será o comportamento da população daqui a 10 anos? Bom, para esse fim, vamos fazer a mesma ideia de multiplicação entre matrizes, mas a cada ano posterior, devemos considerar a matriz população do ano anterior, de forma recursiva."
   ]
  },
  {
   "cell_type": "code",
   "execution_count": 13,
   "metadata": {},
   "outputs": [],
   "source": [
    "# realiza 10 multiplicações sucessivas considerando o vetor população anterior em cada estado\n",
    "# estrutura for que varia de 0 a 9\n",
    "for indice in range (0,10):\n",
    "    p = numpy.dot(L,p) # define a nova matriz população recursivamente"
   ]
  },
  {
   "cell_type": "code",
   "execution_count": 14,
   "metadata": {},
   "outputs": [
    {
     "name": "stdout",
     "output_type": "stream",
     "text": [
      "[38555.    9730.    2391.25]\n"
     ]
    }
   ],
   "source": [
    "# imprime a mudança de estado daqui a 10 ano, ou seja, a nova população de coelhos\n",
    "print(\"{}\".format(p))"
   ]
  },
  {
   "cell_type": "code",
   "execution_count": 15,
   "metadata": {},
   "outputs": [
    {
     "data": {
      "image/png": "[encoded data removed]",
      "text/plain": [
       "<Figure size 432x288 with 1 Axes>"
      ]
     },
     "metadata": {},
     "output_type": "display_data"
    }
   ],
   "source": [
    "# criando um conjunto de dados\n",
    "labels = '0 ano', '1 ano', '2 anos'\n",
    "\n",
    "# criando a área de plotagem\n",
    "fig1, ax1 = pyplot.subplots()\n",
    "\n",
    "# criando o gráfico\n",
    "ax1.pie(p, labels = labels, autopct = '%1.1f%%', shadow = True, startangle = 90)\n",
    "\n",
    "# com essa opção, o gráfico ficará em círculo\n",
    "ax1.axis('equal')\n",
    "\n",
    "# título do gráfico\n",
    "pyplot.title(\"População de coelhos após 10 anos\")\n",
    "\n",
    "# mostra o gráfico\n",
    "pyplot.show()"
   ]
  },
  {
   "cell_type": "markdown",
   "metadata": {},
   "source": [
    "Daqui a 100 anos, teremos uma outra população de coelhos:\n"
   ]
  },
  {
   "cell_type": "code",
   "execution_count": 16,
   "metadata": {},
   "outputs": [],
   "source": [
    "# realiza 100 multiplicações sucessivas considerando o vetor população anterior\n",
    "# estrutura for que varia de 0 a 99\n",
    "for indice in range (0,100):\n",
    "    p = numpy.dot(L,p) # define a nova matriz população recursivamente"
   ]
  },
  {
   "cell_type": "code",
   "execution_count": 17,
   "metadata": {},
   "outputs": [
    {
     "name": "stdout",
     "output_type": "stream",
     "text": [
      "[4.90383592e+34 1.22595898e+34 3.06489745e+33]\n"
     ]
    }
   ],
   "source": [
    "# imprime a mudança de estado daqui a 100 ano, ou seja, a nova população de coelhos\n",
    "print(\"{}\".format(p))"
   ]
  },
  {
   "cell_type": "code",
   "execution_count": 18,
   "metadata": {},
   "outputs": [
    {
     "data": {
      "image/png": "[encoded data removed]",
      "text/plain": [
       "<Figure size 432x288 with 1 Axes>"
      ]
     },
     "metadata": {},
     "output_type": "display_data"
    }
   ],
   "source": [
    "# criando um conjunto de dados\n",
    "labels = '0 ano', '1 ano', '2 anos'\n",
    "\n",
    "# criando a área de plotagem\n",
    "fig1, ax1 = pyplot.subplots()\n",
    "\n",
    "# criando o gráfico\n",
    "ax1.pie(p, labels = labels, autopct = '%1.1f%%', shadow = True, startangle = 90)\n",
    "\n",
    "# com essa opção, o gráfico ficará em círculo\n",
    "ax1.axis('equal')\n",
    "\n",
    "# título do gráfico\n",
    "pyplot.title(\"População de coelhos após 100 anos\")\n",
    "\n",
    "# mostra o gráfico\n",
    "pyplot.show()"
   ]
  },
  {
   "cell_type": "markdown",
   "metadata": {},
   "source": [
    "Após um certo período de tempo, em particular quando o mesmo tende ao infinito, é fácil perceber que os vetores-estado que indicam a razão ou porcentagem de indivíduos para cada idade de coelhos em um certo tempo, convergem a um vetor fixo à medida que o número de observações cresce, e isso é bem definido na teoria de Cadeias de Markov."
   ]
  },
  {
   "cell_type": "markdown",
   "metadata": {},
   "source": [
    "Agora vamos pegar os autovalores e autovetores do matriz L e observar algo importante."
   ]
  },
  {
   "cell_type": "code",
   "execution_count": 19,
   "metadata": {},
   "outputs": [],
   "source": [
    "(autovalores,autovetores) = numpy.linalg.eig(L) #determinando autovalores e autovetores"
   ]
  },
  {
   "cell_type": "code",
   "execution_count": 20,
   "metadata": {},
   "outputs": [
    {
     "name": "stdout",
     "output_type": "stream",
     "text": [
      "[ 2.         -0.99999998 -1.00000002]\n"
     ]
    }
   ],
   "source": [
    "# imprimindo os autovalores\n",
    "print(\"{}\".format(autovalores))"
   ]
  },
  {
   "cell_type": "code",
   "execution_count": 21,
   "metadata": {},
   "outputs": [
    {
     "name": "stdout",
     "output_type": "stream",
     "text": [
      "[[-0.96836405  0.87287156 -0.87287156]\n",
      " [-0.24209101 -0.43643579  0.43643578]\n",
      " [-0.06052275  0.2182179  -0.21821788]]\n"
     ]
    }
   ],
   "source": [
    "# imprimindo os autovetores\n",
    "print(\"{}\".format(autovetores))"
   ]
  },
  {
   "cell_type": "markdown",
   "metadata": {},
   "source": [
    "Vamos analisar o autovetor relacionado ao autovalor 2:"
   ]
  },
  {
   "cell_type": "code",
   "execution_count": 22,
   "metadata": {},
   "outputs": [],
   "source": [
    "# deletando o autovetor associado ao -1, que não nos importa\n",
    "autovetores = numpy.delete(autovetores,1,axis=1)\n",
    "autovetores = numpy.delete(autovetores,1,axis=1)"
   ]
  },
  {
   "cell_type": "code",
   "execution_count": 23,
   "metadata": {},
   "outputs": [
    {
     "data": {
      "text/plain": [
       "array([[15.99999841],\n",
       "       [ 3.9999996 ],\n",
       "       [ 0.9999999 ]])"
      ]
     },
     "execution_count": 23,
     "metadata": {},
     "output_type": "execute_result"
    }
   ],
   "source": [
    "# multiplicando por um escalar para melhor visualização\n",
    "-16.52271 * autovetores"
   ]
  },
  {
   "cell_type": "markdown",
   "metadata": {},
   "source": [
    "Isso indica que a cada ano a população dobrará (autovalor = 2) obedecendo a razão 16:4:1 para 0 ano, 1 ano e 2 anos de idade dos coelhos, respectivamente (autovetor associado ao autovalor 2)."
   ]
  },
  {
   "cell_type": "markdown",
   "metadata": {},
   "source": [
    "Agora, vamos observar melhor um outro estilo de gráfico que mostra a relação ao longo dos anos."
   ]
  },
  {
   "cell_type": "code",
   "execution_count": 24,
   "metadata": {},
   "outputs": [
    {
     "data": {
      "image/png": "[encoded data removed]",
      "text/plain": [
       "<Figure size 720x360 with 1 Axes>"
      ]
     },
     "metadata": {
      "needs_background": "light"
     },
     "output_type": "display_data"
    }
   ],
   "source": [
    "L = numpy.array([[0,6,8], [0.5,0,0], [0,0.5,0]]) # definindo a matriz L\n",
    "\n",
    "p = numpy.array([25, 10, 5]) # quantidade inicial de indivíduos com 0, 1 e 2 anos de idade, respectivamente\n",
    "\n",
    "N = 3 # tempo de anos decorridos (nesse caso serão 2 ANOS decorridos, subtraia 1 do números de anos)\n",
    "\n",
    "# inicializa uma matriz de zeros com as linhas indicando os anos decorridos e colunas a população etária de coelhos\n",
    "pn = numpy.zeros((N, len(p)))\n",
    "# adiciona a população inicial a matriz\n",
    "pn[0,:] = p.copy()\n",
    "\n",
    "# estrutura de repetição, que inicia um ano após a população inicial até o ano final especificado\n",
    "for i in range(1,N):\n",
    "    # adiciona a cada linha subsequente a mudança de estado da população par cada faixa etária dos coelhos, entre as colunas\n",
    "    pn[i,:] = L.dot(pn[i-1,:])  \n",
    "\n",
    "# define a dimensão do gráfico\n",
    "pyplot.figure(figsize=(10,5))\n",
    "# plota o gráfico da primeira coluna, responsável pelo avanço da população de coelhos com 0 anos de idade\n",
    "pyplot.plot(pn[:,0],)\n",
    "# plota o gráfico da segunda coluna, responsável pelo avanço da população de coelhos com 1 anos de idade\n",
    "pyplot.plot(pn[:,1],)\n",
    "# plota o gráfico da terceira coluna, responsável pelo avanço da população de coelhos com 2 anos de idade\n",
    "pyplot.plot(pn[:,2],)\n",
    "# título do eixo x\n",
    "pyplot.xlabel('Anos')\n",
    "# título do gráfico\n",
    "pyplot.title('População em cada faixa etária após 2 anos');"
   ]
  },
  {
   "cell_type": "code",
   "execution_count": 25,
   "metadata": {},
   "outputs": [
    {
     "data": {
      "image/png": "[encoded data removed]",
      "text/plain": [
       "<Figure size 720x360 with 1 Axes>"
      ]
     },
     "metadata": {
      "needs_background": "light"
     },
     "output_type": "display_data"
    }
   ],
   "source": [
    "L = numpy.array([[0,6,8], [0.5,0,0], [0,0.5,0]]) # definindo a matriz L\n",
    "\n",
    "p = numpy.array([25, 10, 5]) # quantidade inicial de indivíduos com 0, 1 e 2 anos de idade, respectivamente\n",
    "\n",
    "N = 6 # tempo de anos decorridos (nesse caso serão 5 ANOS decorridos, subtraia 1 do números de anos)\n",
    "\n",
    "# inicializa uma matriz de zeros com as linhas indicando os anos decorridos e colunas a população etária de coelhos\n",
    "pn = numpy.zeros((N, len(p)))\n",
    "# adiciona a população inicial a matriz\n",
    "pn[0,:] = p.copy()\n",
    "\n",
    "# estrutura de repetição, que inicia um ano após a população inicial até o ano final especificado\n",
    "for i in range(1,N):\n",
    "    # adiciona a cada linha subsequente a mudança de estado da população par cada faixa etária dos coelhos, entre as colunas\n",
    "    pn[i,:] = L.dot(pn[i-1,:])  \n",
    "\n",
    "# define a dimensão do gráfico\n",
    "pyplot.figure(figsize=(10,5))\n",
    "# plota o gráfico da primeira coluna, responsável pelo avanço da população de coelhos com 0 anos de idade\n",
    "pyplot.plot(pn[:,0],)\n",
    "# plota o gráfico da segunda coluna, responsável pelo avanço da população de coelhos com 1 anos de idade\n",
    "pyplot.plot(pn[:,1],)\n",
    "# plota o gráfico da terceira coluna, responsável pelo avanço da população de coelhos com 2 anos de idade\n",
    "pyplot.plot(pn[:,2],)\n",
    "# título do eixo x\n",
    "pyplot.xlabel('Anos')\n",
    "# título do gráfico\n",
    "pyplot.title('População em cada faixa etária após 5 anos');"
   ]
  },
  {
   "cell_type": "code",
   "execution_count": 26,
   "metadata": {},
   "outputs": [
    {
     "data": {
      "image/png": "[encoded data removed]",
      "text/plain": [
       "<Figure size 720x360 with 1 Axes>"
      ]
     },
     "metadata": {
      "needs_background": "light"
     },
     "output_type": "display_data"
    }
   ],
   "source": [
    "L = numpy.array([[0,6,8], [0.5,0,0], [0,0.5,0]]) # definindo a matriz L\n",
    "\n",
    "p = numpy.array([25, 10, 5]) # quantidade inicial de indivíduos com 0, 1 e 2 anos de idade, respectivamente\n",
    "\n",
    "N = 11 # tempo de anos decorridos (nesse caso serão 10 ANOS decorridos, subtraia 1 do números de anos)\n",
    "\n",
    "# inicializa uma matriz de zeros com as linhas indicando os anos decorridos e colunas a população etária de coelhos\n",
    "pn = numpy.zeros((N, len(p)))\n",
    "# adiciona a população inicial a matriz\n",
    "pn[0,:] = p.copy()\n",
    "\n",
    "# estrutura de repetição, que inicia um ano após a população inicial até o ano final especificado\n",
    "for i in range(1,N):\n",
    "    # adiciona a cada linha subsequente a mudança de estado da população par cada faixa etária dos coelhos, entre as colunas\n",
    "    pn[i,:] = L.dot(pn[i-1,:])  \n",
    "\n",
    "# define a dimensão do gráfico\n",
    "pyplot.figure(figsize=(10,5))\n",
    "# plota o gráfico da primeira coluna, responsável pelo avanço da população de coelhos com 0 anos de idade\n",
    "pyplot.plot(pn[:,0],)\n",
    "# plota o gráfico da segunda coluna, responsável pelo avanço da população de coelhos com 1 anos de idade\n",
    "pyplot.plot(pn[:,1],)\n",
    "# plota o gráfico da terceira coluna, responsável pelo avanço da população de coelhos com 2 anos de idade\n",
    "pyplot.plot(pn[:,2],)\n",
    "# título do eixo x\n",
    "pyplot.xlabel('Anos')\n",
    "# título do gráfico\n",
    "pyplot.title('População em cada faixa etária após 10 anos');"
   ]
  },
  {
   "cell_type": "markdown",
   "metadata": {},
   "source": [
    "Vejam que a razão entre faixas etárias de coelhos, após vários anos, começou a manter uma proporção constante, dado que o sistema não sofreu nenhum tipo de desequilíbrio externo. Portanto, Álgebra Linear é uma disciplina extremamente eficiente para resolver problemas reais, por isso ela revolucionou e vem revolucionando o mundo ao nosso redor, suas apicações nos trouxeram comodidade por estar presente em inúmeras tecnologias do dia a dia e, saber trabalhar com ela, nos permite uma melhor compreensão de inúmeros problemas na engenharia e nos torna diferenciados como profissionais."
   ]
  },
  {
   "cell_type": "code",
   "execution_count": null,
   "metadata": {},
   "outputs": [],
   "source": []
  }
 ],
 "metadata": {
  "kernelspec": {
   "display_name": "Python 3",
   "language": "python",
   "name": "python3"
  },
  "language_info": {
   "codemirror_mode": {
    "name": "ipython",
    "version": 3
   },
   "file_extension": ".py",
   "mimetype": "text/x-python",
   "name": "python",
   "nbconvert_exporter": "python",
   "pygments_lexer": "ipython3",
   "version": "3.7.4"
  }
 },
 "nbformat": 4,
 "nbformat_minor": 4
}
