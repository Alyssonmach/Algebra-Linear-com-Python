{
 "cells": [
  {
   "cell_type": "markdown",
   "metadata": {},
   "source": [
    "# Calculando Autovalores e Autovetores"
   ]
  },
  {
   "cell_type": "markdown",
   "metadata": {},
   "source": [
    "Este progama pretendo mostrar um recurso computacional para conseguir calcular autovalores e autovetores a partir de uma matriz de transformação informada. Associados com uma transformação linear T estão os seus autovetores, que, como veremos, são direções especiais para esta transformação T. Por esta razão, são também conhecidos como vetores próprios ou vetores característicos de T. Aparecem em muitas aplicações, pois nos ajudam a entender mais profundamente a transformação linear T."
   ]
  },
  {
   "cell_type": "code",
   "execution_count": 2,
   "metadata": {},
   "outputs": [],
   "source": [
    "import numpy as np # importando a biblioteca numpy do Python"
   ]
  },
  {
   "cell_type": "code",
   "execution_count": 3,
   "metadata": {},
   "outputs": [
    {
     "name": "stdout",
     "output_type": "stream",
     "text": [
      "Progama que calcula Autovalores e Autovetores.\n",
      "\n",
      "Informe a quantidade de linhas e colunas da matriz de transformação: \n"
     ]
    },
    {
     "name": "stdin",
     "output_type": "stream",
     "text": [
      "Informe a quantidade de linhas da matriz de transformação:  3\n",
      "Informe a quantidade de colunas da matriz de transformação:  3\n",
      "Informe o elemento [1][1] da matriz:  2\n",
      "Informe o elemento [1][2] da matriz:  0\n",
      "Informe o elemento [1][3] da matriz:  0\n",
      "Informe o elemento [2][1] da matriz:  0\n",
      "Informe o elemento [2][2] da matriz:  3\n",
      "Informe o elemento [2][3] da matriz:  4\n",
      "Informe o elemento [3][1] da matriz:  0\n",
      "Informe o elemento [3][2] da matriz:  4\n",
      "Informe o elemento [3][3] da matriz:  9\n"
     ]
    },
    {
     "name": "stdout",
     "output_type": "stream",
     "text": [
      "\n",
      "\n",
      "A matriz digitada é:\n",
      "\n",
      "[[2. 0. 0.]\n",
      " [0. 3. 4.]\n",
      " [0. 4. 9.]]\n",
      "\n",
      "\n",
      "Autovalores:\n",
      "\n",
      "[11.  1.  2.]\n",
      "\n",
      "\n",
      "Matriz Diagonal de autovalores:\n",
      "\n",
      "[[11.  0.  0.]\n",
      " [ 0.  1.  0.]\n",
      " [ 0.  0.  2.]]\n",
      "\n",
      "\n",
      "Autovetores:\n",
      "\n",
      "[[ 0.          0.          1.        ]\n",
      " [ 0.4472136   0.89442719  0.        ]\n",
      " [ 0.89442719 -0.4472136   0.        ]]\n"
     ]
    }
   ],
   "source": [
    "print(\"Progama que calcula Autovalores e Autovetores.\\n\")\n",
    "\n",
    "print(\"Informe a quantidade de linhas e colunas da matriz de transformação: \")\n",
    "\n",
    "# quantidade de linhas da matriz de transformação\n",
    "linha = int(input(\"Informe a quantidade de linhas da matriz de transformação: \"))\n",
    "\n",
    "#quantidade de colunas da matriz de transformação\n",
    "coluna = int(input(\"Informe a quantidade de colunas da matriz de transformação: \"))\n",
    "\n",
    "# inicializando uma matriz com as dimensões adequadas e de números reais\n",
    "matriz = np.empty([linha, coluna], dtype = float)\n",
    "\n",
    "# estrutura de repetição for usada para preencher os elementos da matriz\n",
    "for i in range(0, linha):\n",
    "    for j in range(0, coluna):\n",
    "        matriz[i][j] = float(input(\"Informe o elemento [{}][{}] da matriz: \".format(i + 1, j + 1)))\n",
    "\n",
    "# funão responsável por receber os autovalores e autovetores da matriz de transformação\n",
    "(autovalores,autovetores) = np.linalg.eig(matriz)\n",
    "matrizDiagonal = np.diag(autovalores) # calcula a matriz diagona de autovalores\n",
    "\n",
    "# imprime a matriz na tela\n",
    "print(\"\\n\\nA matriz digitada é:\\n\\n{}\".format(matriz))\n",
    "\n",
    "# imprime na tela os autovalores\n",
    "print(\"\\n\\nAutovalores:\\n\\n{}\\n\\n\".format(autovalores))\n",
    "\n",
    "# imprime na tela a matriz diagonal de autovalores\n",
    "print(\"Matriz Diagonal de autovalores:\\n\\n{}\\n\\n\".format(matrizDiagonal))\n",
    "\n",
    "# imprime na tela os autovetores\n",
    "print(\"Autovetores:\\n\\n{}\".format(autovetores))\n"
   ]
  },
  {
   "cell_type": "code",
   "execution_count": 4,
   "metadata": {},
   "outputs": [],
   "source": [
    "# Cada coluna da matriz de autovetores corresponde a um autovalor correspondente da coluna da matriz de autovalores"
   ]
  },
  {
   "cell_type": "code",
   "execution_count": null,
   "metadata": {},
   "outputs": [],
   "source": []
  }
 ],
 "metadata": {
  "kernelspec": {
   "display_name": "Python 3",
   "language": "python",
   "name": "python3"
  },
  "language_info": {
   "codemirror_mode": {
    "name": "ipython",
    "version": 3
   },
   "file_extension": ".py",
   "mimetype": "text/x-python",
   "name": "python",
   "nbconvert_exporter": "python",
   "pygments_lexer": "ipython3",
   "version": "3.7.4"
  }
 },
 "nbformat": 4,
 "nbformat_minor": 4
}
