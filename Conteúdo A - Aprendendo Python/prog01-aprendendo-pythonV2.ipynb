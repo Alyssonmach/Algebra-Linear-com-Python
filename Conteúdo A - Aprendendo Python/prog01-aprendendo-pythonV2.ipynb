{
  "nbformat": 4,
  "nbformat_minor": 0,
  "metadata": {
    "kernelspec": {
      "display_name": "Python 3",
      "language": "python",
      "name": "python3"
    },
    "language_info": {
      "codemirror_mode": {
        "name": "ipython",
        "version": 3
      },
      "file_extension": ".py",
      "mimetype": "text/x-python",
      "name": "python",
      "nbconvert_exporter": "python",
      "pygments_lexer": "ipython3",
      "version": "3.8.7"
    },
    "colab": {
      "name": "prog01-aprendendo-pythonV2.ipynb",
      "provenance": [],
      "include_colab_link": true
    }
  },
  "cells": [
    {
      "cell_type": "markdown",
      "metadata": {
        "id": "view-in-github",
        "colab_type": "text"
      },
      "source": [
        "<a href=\"https://colab.research.google.com/github/Alyssonmach/Algebra-Linear-com-Python/blob/master/Conte%C3%BAdo%20A%20-%20Aprendendo%20Python/prog01-aprendendo-pythonV2.ipynb\" target=\"_parent\"><img src=\"https://colab.research.google.com/assets/colab-badge.svg\" alt=\"Open In Colab\"/></a>"
      ]
    },
    {
      "cell_type": "markdown",
      "metadata": {
        "id": "1WRSLjkWEFJy"
      },
      "source": [
        "# Introdução a Linguagem de Programação Python\n",
        "***\n",
        " Neste módulo, serão analisadas as estruturas básicas da linguagem de programação Python. É pertinente saber que tal linguagem possui bastante uso atualmente, sendo uma das mais simples de se utilizar. Graças a colaboratividade dos usuário, atualmente há inúmeros pacotes prontos para uso que nos possibilitam executar diversas tarefas complexas. "
      ]
    },
    {
      "cell_type": "markdown",
      "metadata": {
        "id": "-q-Ypu91EFJ1"
      },
      "source": [
        "> `Versão do Python:` 3.x"
      ]
    },
    {
      "cell_type": "markdown",
      "metadata": {
        "id": "ms4H-ZtBEFJ2"
      },
      "source": [
        "`\"Python é uma linguagem de programação de alto nível, interpretada, de script, imperativa, orientada a objetos, funcional, de tipagem dinâmica e forte. Foi lançada por Guido van Rossum em 1991. Atualmente possui um modelo de desenvolvimento comunitário, aberto e gerenciado pela organização sem fins lucrativos Python Software Foundation.\"` [Wikipédia](https://pt.wikipedia.org/wiki/Python)"
      ]
    },
    {
      "cell_type": "markdown",
      "metadata": {
        "id": "yoqWzNwoEFJ2"
      },
      "source": [
        "### Dissecando a Definição"
      ]
    },
    {
      "cell_type": "markdown",
      "metadata": {
        "id": "g6NaQuKSEFJ3"
      },
      "source": [
        "Acima foi copiado um pequeno trecho da **Wikipédia** que fala sobre a **linguagem de programação Python**. Nele, podemos aprender diversas características da linguagem em sí, tais como:"
      ]
    },
    {
      "cell_type": "markdown",
      "metadata": {
        "id": "Z0vchhTVEFJ4"
      },
      "source": [
        "`Características da Linguagem de Programação Python`  \n",
        "\n",
        "- **Linguagem de Progamação de Alto Nível:** Python é uma linguagem que sua escrita é bem próxima da linguagem humana. Dessa forma, podemos nos comunicar com a máquina através de um forte e intuitivo interpretador.  \n",
        "***\n",
        "- **Linguagem Interpretada:** o código fonte nessa linguagem é executado por um programa de computador chamado interpretador, que em seguida é executado pelo sistema operacional ou processador. Método esse que difere das linguagens que são compiladas para a linguagem de máquina, tais como a linguagem de progamação C e suas derivadas.\n",
        "***\n",
        "- **Linguagem de Script:** é básicamente o ato de desenvolver um algoritmo para automatizar a execução de tarefas que poderiam alternativamente ser executadas uma por vez por um operador humano.\n",
        "***\n",
        "- **Linguagem Imperativa:** Trata do ato de usar ações para dar ordens, ou seja, através de comandos podemos dar ordens para serem executadas determinadas ações pelo programa. Desse modo, surgem os laços de repetição, estruturas condicionais, atribuição de valor à variáveis e controle de estado.\n",
        "***\n",
        "- **Linguagem Orientada a Objetos:** Trata da ideia de se ter uma linguagem de programação voltada ao conceito de \"objetos\", usando para isso atributos (dados na forma de campo) e métodos (procedimentos de execução).\n",
        "***\n",
        "- **Linguagem Funcional:** Trata da ideia de possuir uma linguagem com avaliação de funções para executar determinadas ações. Especificamente o Python, possui inúmeras bibliotecas repletas de funções para serem importadas e usadas, dando ênfase a inúmeros campos de estudo na qual a programação se aplica.\n",
        "***\n",
        "- **Linguagem de Tipagem Dinâmica:** sendo uma caracteristica positiva para o Python, esse tipo de tipagem permite o uso de variáveis que não exigem declarações de tipos de dados, pois são capazes de escolher que tipo utilizar dinamicamente para cada variável, podendo alterá-lo durante a compilação ou a execução do programa.\n",
        "***\n",
        "- **Linguagem forte:** Python é uma linguagem de programação multi-plataforma, e atualmente está presente em diversos sistemas operacionais, seja eles embarcados ou não. "
      ]
    },
    {
      "cell_type": "markdown",
      "metadata": {
        "id": "Yn45w05dEFJ6"
      },
      "source": [
        "Agora que alguns conceitos foram definidos, está na hora de colocar a mão na massa. É interessante ressaltar que este conteúdo está sendo escrito levando em consideração que o leitor já foi introduzido a programação e, dado a amplitude de recursos que o Python possui, vamos nos ater somente a comandos básicos que permitem um bom início com ela, visando trazer todo o conhecimento necessário para lidar com os outros programas utilizados nesse repositório."
      ]
    },
    {
      "cell_type": "markdown",
      "metadata": {
        "id": "HrXBq0MfEFJ6"
      },
      "source": [
        "### Imprimindo Dados de Saída (Outputs)"
      ]
    },
    {
      "cell_type": "markdown",
      "metadata": {
        "id": "LOjj2tT2EFJ7"
      },
      "source": [
        "Podemos utilizar diretamente o **prompt de comando** do Python para imprimir dados de saída simples como"
      ]
    },
    {
      "cell_type": "code",
      "metadata": {
        "id": "eeDSSuwnEFJ7",
        "outputId": "50f37392-629e-4533-ee01-e7cf7b0f7102",
        "colab": {
          "base_uri": "https://localhost:8080/"
        }
      },
      "source": [
        "3 + 4"
      ],
      "execution_count": 1,
      "outputs": [
        {
          "output_type": "execute_result",
          "data": {
            "text/plain": [
              "7"
            ]
          },
          "metadata": {
            "tags": []
          },
          "execution_count": 1
        }
      ]
    },
    {
      "cell_type": "markdown",
      "metadata": {
        "id": "S0V4ir_QEFJ-"
      },
      "source": [
        "ou até"
      ]
    },
    {
      "cell_type": "code",
      "metadata": {
        "id": "Lrh6aY9wEFJ_",
        "outputId": "f264ef57-764f-45fb-f4a0-b7309e7d231d",
        "colab": {
          "base_uri": "https://localhost:8080/",
          "height": 35
        }
      },
      "source": [
        "\"Álgebra\" + \" Linear\""
      ],
      "execution_count": 2,
      "outputs": [
        {
          "output_type": "execute_result",
          "data": {
            "application/vnd.google.colaboratory.intrinsic+json": {
              "type": "string"
            },
            "text/plain": [
              "'Álgebra Linear'"
            ]
          },
          "metadata": {
            "tags": []
          },
          "execution_count": 2
        }
      ]
    },
    {
      "cell_type": "markdown",
      "metadata": {
        "id": "7kGS7g-qEFKC"
      },
      "source": [
        "Entretanto, esse tipo de impressão dos dados de saída na tela é demasiadamente utilizado em operações simples, sendo de maior uso para testar recursos triviais que podem ser implementados em funções maiores."
      ]
    },
    {
      "cell_type": "markdown",
      "metadata": {
        "id": "E8N2jjP9EFKD"
      },
      "source": [
        "Quando lidamos com progamas mais bem estruturados, com scripts bem definidos, devemos utilizar o comando `print()`."
      ]
    },
    {
      "cell_type": "code",
      "metadata": {
        "id": "hF_561CnEFKE",
        "outputId": "6156f1fe-65be-4991-aa53-a78a95551dd7",
        "colab": {
          "base_uri": "https://localhost:8080/"
        }
      },
      "source": [
        "print(3 + 4)\n",
        "print(\"Álgebra\" + \" Linear\")"
      ],
      "execution_count": 3,
      "outputs": [
        {
          "output_type": "stream",
          "text": [
            "7\n",
            "Álgebra Linear\n"
          ],
          "name": "stdout"
        }
      ]
    },
    {
      "cell_type": "markdown",
      "metadata": {
        "id": "i8uTwumbEFKF"
      },
      "source": [
        "### Tipagem Dinâmica: Tipos de Dados em Variáveis"
      ]
    },
    {
      "cell_type": "markdown",
      "metadata": {
        "id": "NjTqEthEEFKF"
      },
      "source": [
        "Como foi explanado anteriormente, no python, não há mais a necessidade de se inicializar variáveis, pois usamos um recurso chamado `Tipagem Dinâmica`, esse que permite o uso de variáveis que não exigem declarações de `Tipos de Dados`, pois a linguagem é capaz de escolher que tipo utilizar dinamicamente para cada variável, podendo ter seu valor e tipo alterados na memória a qualquer momento."
      ]
    },
    {
      "cell_type": "markdown",
      "metadata": {
        "id": "7gFENT65EFKG"
      },
      "source": [
        "|**Tipos de Dados Básicos**|**Comandos**|\n",
        "|:--------------------------|:------------|\n",
        "|Números|int, float e complex|\n",
        "|Strings|str|\n",
        "|Lista e Tuplas|list, tuple|\n",
        "|Dicionários|dict|\n",
        "|Arquívos|file|\n",
        "|Booleanos|bool(True, False)|\n",
        "|Conjuntos|set, frozenset|"
      ]
    },
    {
      "cell_type": "markdown",
      "metadata": {
        "id": "ZItiJwRpEFKG"
      },
      "source": [
        "### Dados númericos"
      ]
    },
    {
      "cell_type": "code",
      "metadata": {
        "id": "J3foHe_sEFKG",
        "outputId": "3bd08523-ad3b-467e-cafc-527d2e4f1ac7",
        "colab": {
          "base_uri": "https://localhost:8080/"
        }
      },
      "source": [
        "int_ = 1\n",
        "float_ = 1.5\n",
        "complex_ = 5 + 4j # parte real e parte complexa\n",
        "\n",
        "print('inteiro:', int_, 'type:', type(int_))\n",
        "print('número real: {:.2f} type: {}'.format(float_, type(float_)))\n",
        "print('número complexo: ' + str(complex_) + ' type: ' + str(type(complex_))) \n",
        "# existem muitas formas de se imprimir uma mesma informação!"
      ],
      "execution_count": 4,
      "outputs": [
        {
          "output_type": "stream",
          "text": [
            "inteiro: 1 type: <class 'int'>\n",
            "número real: 1.50 type: <class 'float'>\n",
            "número complexo: (5+4j) type: <class 'complex'>\n"
          ],
          "name": "stdout"
        }
      ]
    },
    {
      "cell_type": "markdown",
      "metadata": {
        "id": "JvbUnx9FEFKH"
      },
      "source": [
        "Além disso, a definição de tipagem dinâmica garante que é possível alterar o tipo de dado de uma variável a qualquer momento do progama, então podemos ter o seguinte processo:"
      ]
    },
    {
      "cell_type": "code",
      "metadata": {
        "id": "QcHetFwfEFKH",
        "outputId": "42fa943c-17b5-46cb-a825-a56d354ce2a5",
        "colab": {
          "base_uri": "https://localhost:8080/"
        }
      },
      "source": [
        "int_ = 1.234567765432 + 4.4567876543j\n",
        "\n",
        "print('é inteiro?', int_ == int)\n",
        "print('\\tnúmero complexo:', int_, 'type:', type(int_))\n",
        "\n",
        "int_ = 'a' + \" vida\" + \"\"\" é\"\"\" + ''' bela''' # observe a liberdade com as aspas!\n",
        "\n",
        "print('\\nainda é complexo?', int_ == int)\n",
        "print('\\tstring:', int_, 'type:', type(int_)) # você observou alguns caracteres especiais?"
      ],
      "execution_count": 5,
      "outputs": [
        {
          "output_type": "stream",
          "text": [
            "é inteiro? False\n",
            "\tnúmero complexo: (1.234567765432+4.4567876543j) type: <class 'complex'>\n",
            "\n",
            "ainda é complexo? False\n",
            "\tstring: a vida é bela type: <class 'str'>\n"
          ],
          "name": "stdout"
        }
      ]
    },
    {
      "cell_type": "markdown",
      "metadata": {
        "id": "FtQLi-TXEFKI"
      },
      "source": [
        "Logo, a tipagem dinâmica nos permite mais versatilidade na criação dos nossos progamas. De modo que não há necessida de se manter preso ao cuidado de não alterar o tipo de dado de uma variável (mas como você é um estudante esperto, sei que não fará isso). Todavia, o mesmo recurso que pode ser de grande ajuda também pode permitir erros lógicos, sendo necessário ter cuidado para evitar erros lógicos."
      ]
    },
    {
      "cell_type": "markdown",
      "metadata": {
        "id": "LAKdXj43EFKI"
      },
      "source": [
        "## Cadeias de caracteres (strings)"
      ]
    },
    {
      "cell_type": "markdown",
      "metadata": {
        "id": "pjqnQPvBEFKJ"
      },
      "source": [
        "Usar strings no python não tem muito mistério, a concatenção entre duas strings podem ser feitas através do operador de adição `+`, e qualquer outro tipo de dado número pode ser facilmente convertido em strings usando `str()`. Veja abaixo algumas implementações. "
      ]
    },
    {
      "cell_type": "code",
      "metadata": {
        "id": "mRGbpioeEFKJ",
        "outputId": "8a2fb72e-fba1-4ef9-c515-c40d3338e8d0",
        "colab": {
          "base_uri": "https://localhost:8080/"
        }
      },
      "source": [
        "mandamentos_python = \"\"\"The Zen of Python, by Tim Peters\n",
        "\n",
        "                        Beautiful is better than ugly.\n",
        "                        Explicit is better than implicit.\n",
        "                        Simple is better than complex.\n",
        "                        Complex is better than complicated.\n",
        "                        Flat is better than nested.\n",
        "                        Sparse is better than dense.\n",
        "                        Readability counts.\n",
        "                        Special cases aren't special enough to break the rules.\n",
        "                        Although practicality beats purity.\n",
        "                        Errors should never pass silently.\n",
        "                        Unless explicitly silenced.\n",
        "                        In the face of ambiguity, refuse the temptation to guess.\n",
        "                        There should be one-- and preferably only one --obvious way to do it.\n",
        "                        Although that way may not be obvious at first unless you're Dutch.\n",
        "                        Now is better than never.\n",
        "                        Although never is often better than *right* now.\n",
        "                        If the implementation is hard to explain, it's a bad idea.\n",
        "                        If the implementation is easy to explain, it may be a good idea.\n",
        "                        Namespaces are one honking great idea -- let's do more of those!\"\"\"\n",
        "\n",
        "print(mandamentos_python) # digite 'import this' no interpretador do python e veja o que acontece!"
      ],
      "execution_count": 6,
      "outputs": [
        {
          "output_type": "stream",
          "text": [
            "The Zen of Python, by Tim Peters\n",
            "\n",
            "                        Beautiful is better than ugly.\n",
            "                        Explicit is better than implicit.\n",
            "                        Simple is better than complex.\n",
            "                        Complex is better than complicated.\n",
            "                        Flat is better than nested.\n",
            "                        Sparse is better than dense.\n",
            "                        Readability counts.\n",
            "                        Special cases aren't special enough to break the rules.\n",
            "                        Although practicality beats purity.\n",
            "                        Errors should never pass silently.\n",
            "                        Unless explicitly silenced.\n",
            "                        In the face of ambiguity, refuse the temptation to guess.\n",
            "                        There should be one-- and preferably only one --obvious way to do it.\n",
            "                        Although that way may not be obvious at first unless you're Dutch.\n",
            "                        Now is better than never.\n",
            "                        Although never is often better than *right* now.\n",
            "                        If the implementation is hard to explain, it's a bad idea.\n",
            "                        If the implementation is easy to explain, it may be a good idea.\n",
            "                        Namespaces are one honking great idea -- let's do more of those!\n"
          ],
          "name": "stdout"
        }
      ]
    },
    {
      "cell_type": "code",
      "metadata": {
        "id": "yWMeGtDiEFKL",
        "outputId": "3e4b7150-41b4-4647-ff50-baece87736b0",
        "colab": {
          "base_uri": "https://localhost:8080/"
        }
      },
      "source": [
        "str_ = 'você vai usar'\n",
        "str_ += ' álgebra linear'\n",
        "str_ = str_.__add__(' durante toda sua carreira!') # acabei de usar um dos 'métodos mágicos', busque mais a respeito sobre eles!\n",
        "str__ = ' Estude!'\n",
        "str_ = str_ + str__\n",
        "\n",
        "print(str_)"
      ],
      "execution_count": 7,
      "outputs": [
        {
          "output_type": "stream",
          "text": [
            "você vai usar álgebra linear durante toda sua carreira! Estude!\n"
          ],
          "name": "stdout"
        }
      ]
    },
    {
      "cell_type": "code",
      "metadata": {
        "id": "TxzYUvoBEFKM",
        "outputId": "47e1f7b6-bfec-4a8b-9290-e64a466b7d54",
        "colab": {
          "base_uri": "https://localhost:8080/"
        }
      },
      "source": [
        "print(str_.find('álgebra linear'))\n",
        "print(str_[14 : 14 + len('álgebra linear')]) \n",
        "# muita coisa aconteceu por aqui, separe o problema em pedaços e tente entender o escopo geral!"
      ],
      "execution_count": 8,
      "outputs": [
        {
          "output_type": "stream",
          "text": [
            "14\n",
            "álgebra linear\n"
          ],
          "name": "stdout"
        }
      ]
    },
    {
      "cell_type": "markdown",
      "metadata": {
        "id": "z6KqRWuNEFKM"
      },
      "source": [
        "### Listas e Tuplas, qual a principal diferença entre elas?"
      ]
    },
    {
      "cell_type": "markdown",
      "metadata": {
        "id": "wqENcV68EFKN"
      },
      "source": [
        "Uma confusão muito comum quando se usa uma **Lista** ou uma **Tupla** em Python é saber diferenciar cada uma delas. Do ponto de vista conceitual devemos utilizar `tuplas para montar estruturas de dados heterogêneos` enquanto a `lista deveria ser usada para dados homogêneos`, ou seja, todos seus elementos deveriam ser do mesmo tipo. Veja que a lista contém diferentes tipos de dados armazenados em uma única variável."
      ]
    },
    {
      "cell_type": "code",
      "metadata": {
        "id": "uwpXmMY7EFKN",
        "outputId": "9ff163de-af21-4195-c961-2e692b3b37a1",
        "colab": {
          "base_uri": "https://localhost:8080/"
        }
      },
      "source": [
        "list_ = ['café', 'cuscuz', 'água', 'lágrimas']\n",
        "\n",
        "print('alimentação básica do estudante: ', list_)"
      ],
      "execution_count": 9,
      "outputs": [
        {
          "output_type": "stream",
          "text": [
            "alimentação básica do estudante:  ['café', 'cuscuz', 'água', 'lágrimas']\n"
          ],
          "name": "stdout"
        }
      ]
    },
    {
      "cell_type": "code",
      "metadata": {
        "id": "XM2KuisFEFKN",
        "outputId": "b654875b-615f-4858-c5df-04d616bbd0fb",
        "colab": {
          "base_uri": "https://localhost:8080/"
        }
      },
      "source": [
        "variedades = ['computadores', 12, 12.0, 4 + 5j, ['tablets', 'celulares'], list_]\n",
        "\n",
        "print(variedades)"
      ],
      "execution_count": 10,
      "outputs": [
        {
          "output_type": "stream",
          "text": [
            "['computadores', 12, 12.0, (4+5j), ['tablets', 'celulares'], ['café', 'cuscuz', 'água', 'lágrimas']]\n"
          ],
          "name": "stdout"
        }
      ]
    },
    {
      "cell_type": "code",
      "metadata": {
        "id": "in432L5CEFKO",
        "outputId": "7edd9756-1d16-41aa-988f-8550f18083c9",
        "colab": {
          "base_uri": "https://localhost:8080/"
        }
      },
      "source": [
        "for itens in list_:\n",
        "    print(itens)\n",
        "    \n",
        "list_.append('arroz') # qual o limite de armazenamento em uma lista?\n",
        "\n",
        "print('\\n', list_)\n",
        "\n",
        "del list_[3]\n",
        "\n",
        "print('\\n', sorted(list_)) # porque 'água' não ficou no primeiro indice da lista?"
      ],
      "execution_count": 11,
      "outputs": [
        {
          "output_type": "stream",
          "text": [
            "café\n",
            "cuscuz\n",
            "água\n",
            "lágrimas\n",
            "\n",
            " ['café', 'cuscuz', 'água', 'lágrimas', 'arroz']\n",
            "\n",
            " ['arroz', 'café', 'cuscuz', 'água']\n"
          ],
          "name": "stdout"
        }
      ]
    },
    {
      "cell_type": "markdown",
      "metadata": {
        "id": "MtXu-83oEFKO"
      },
      "source": [
        "Veja acima que foi definido uma lista com diferentes tipos de dados. Além disso, podemos acessar cada elemento individual das listas, tuplas ou arrays sabendo que os elementos são númerados no intervalo de `(0, n-1) n = len(list)`, dado que o último elemento é o número de parada."
      ]
    },
    {
      "cell_type": "code",
      "metadata": {
        "id": "hh4soHWJEFKP",
        "outputId": "2812c6b0-5012-4373-a0c9-f04992d3a881",
        "colab": {
          "base_uri": "https://localhost:8080/"
        }
      },
      "source": [
        "tuple_ = (1, 12.0, 3 + 4j, list_)\n",
        "\n",
        "print(tuple_, '\\n', type(tuple_))"
      ],
      "execution_count": 12,
      "outputs": [
        {
          "output_type": "stream",
          "text": [
            "(1, 12.0, (3+4j), ['café', 'cuscuz', 'água', 'arroz']) \n",
            " <class 'tuple'>\n"
          ],
          "name": "stdout"
        }
      ]
    },
    {
      "cell_type": "code",
      "metadata": {
        "id": "Sd6teLkwEFKQ",
        "outputId": "b6143cb9-c972-45eb-fc77-fc3e5fc37867",
        "colab": {
          "base_uri": "https://localhost:8080/",
          "height": 164
        }
      },
      "source": [
        "del tuple_[0]"
      ],
      "execution_count": 15,
      "outputs": [
        {
          "output_type": "error",
          "ename": "TypeError",
          "evalue": "ignored",
          "traceback": [
            "\u001b[0;31m---------------------------------------------------------------------------\u001b[0m",
            "\u001b[0;31mTypeError\u001b[0m                                 Traceback (most recent call last)",
            "\u001b[0;32m<ipython-input-15-ab89e1737781>\u001b[0m in \u001b[0;36m<module>\u001b[0;34m()\u001b[0m\n\u001b[0;32m----> 1\u001b[0;31m \u001b[0;32mdel\u001b[0m \u001b[0mtuple_\u001b[0m\u001b[0;34m[\u001b[0m\u001b[0;36m0\u001b[0m\u001b[0;34m]\u001b[0m\u001b[0;34m\u001b[0m\u001b[0;34m\u001b[0m\u001b[0m\n\u001b[0m",
            "\u001b[0;31mTypeError\u001b[0m: 'tuple' object doesn't support item deletion"
          ]
        }
      ]
    },
    {
      "cell_type": "code",
      "metadata": {
        "id": "pU2bWU_aEFKQ",
        "outputId": "59cd80d7-a0c8-4d74-c596-dc9ef1c318b8",
        "colab": {
          "base_uri": "https://localhost:8080/",
          "height": 164
        }
      },
      "source": [
        "tuple_.append(7)"
      ],
      "execution_count": 14,
      "outputs": [
        {
          "output_type": "error",
          "ename": "AttributeError",
          "evalue": "ignored",
          "traceback": [
            "\u001b[0;31m---------------------------------------------------------------------------\u001b[0m",
            "\u001b[0;31mAttributeError\u001b[0m                            Traceback (most recent call last)",
            "\u001b[0;32m<ipython-input-14-40d1f414c4fb>\u001b[0m in \u001b[0;36m<module>\u001b[0;34m()\u001b[0m\n\u001b[0;32m----> 1\u001b[0;31m \u001b[0mtuple_\u001b[0m\u001b[0;34m.\u001b[0m\u001b[0mappend\u001b[0m\u001b[0;34m(\u001b[0m\u001b[0;36m7\u001b[0m\u001b[0;34m)\u001b[0m\u001b[0;34m\u001b[0m\u001b[0;34m\u001b[0m\u001b[0m\n\u001b[0m",
            "\u001b[0;31mAttributeError\u001b[0m: 'tuple' object has no attribute 'append'"
          ]
        }
      ]
    },
    {
      "cell_type": "markdown",
      "metadata": {
        "id": "kMRjgNGkEFKR"
      },
      "source": [
        "Veja que não é possível adicionar ou remover nenhum elemento da tupla. Portanto, essas são as principais diferenças entre listas e tuplas no Python. Ou seja, em relação a mutabilidade a lista é plástica e a tupla é rígida."
      ]
    },
    {
      "cell_type": "markdown",
      "metadata": {
        "id": "fQSqPIHpEFKR"
      },
      "source": [
        "### Dicionários"
      ]
    },
    {
      "cell_type": "markdown",
      "metadata": {
        "id": "5q86ACrNEFKR"
      },
      "source": [
        "Dicionários são um tipo de dado muito interessante. Sabendo utilizá-los bem, é possível montar toda uma aplicação em que o salvamento de arquivos pode ser totalmente baseados em estruturas de dicionário! a sua estrutura obedece a seguinte sintaxe: `{'chave': elementos}`. Outra importância dos dicionários é a compactação de informações em um so elemento, veja o exemplo abaixo."
      ]
    },
    {
      "cell_type": "code",
      "metadata": {
        "id": "-efIDqhvEFKS",
        "outputId": "e9e8aa1b-81b2-4023-f5ea-dfef737d8ca2",
        "colab": {
          "base_uri": "https://localhost:8080/"
        }
      },
      "source": [
        "# === Montando uma mala ===\n",
        "pessoal = ['sabonete', 'shampoo', 'condicionador', 'escova de dentes']\n",
        "livros = ['flores para algernon', 'fahrenheit 451', 'State of art in Deep Learning']\n",
        "roupas = ['camisas', 'calças', 'cuecas', 'meias', 'sapato']\n",
        "local = 'Natal - Rio Grande do Norte'\n",
        "pessoas = 5\n",
        "mala = {'itens pessoais': pessoal, \n",
        "        'livros': livros,\n",
        "        'tipos de roupas': roupas,\n",
        "        'local da viagem': local,\n",
        "        'total de pessoas': pessoas}\n",
        "\n",
        "mala['não esquecer'] = ['passaporte', 'casaco', 'colocar comida do cachorro']\n",
        "\n",
        "print(mala)"
      ],
      "execution_count": 16,
      "outputs": [
        {
          "output_type": "stream",
          "text": [
            "{'itens pessoais': ['sabonete', 'shampoo', 'condicionador', 'escova de dentes'], 'livros': ['flores para algernon', 'fahrenheit 451', 'State of art in Deep Learning'], 'tipos de roupas': ['camisas', 'calças', 'cuecas', 'meias', 'sapato'], 'local da viagem': 'Natal - Rio Grande do Norte', 'total de pessoas': 5, 'não esquecer': ['passaporte', 'casaco', 'colocar comida do cachorro']}\n"
          ],
          "name": "stdout"
        }
      ]
    },
    {
      "cell_type": "code",
      "metadata": {
        "id": "GGBLJIV2EFKS",
        "outputId": "d3207785-5eca-42ca-d214-72e736cd9825",
        "colab": {
          "base_uri": "https://localhost:8080/"
        }
      },
      "source": [
        "for chaves in mala.keys():\n",
        "    print(chaves, mala[chaves])"
      ],
      "execution_count": 17,
      "outputs": [
        {
          "output_type": "stream",
          "text": [
            "itens pessoais ['sabonete', 'shampoo', 'condicionador', 'escova de dentes']\n",
            "livros ['flores para algernon', 'fahrenheit 451', 'State of art in Deep Learning']\n",
            "tipos de roupas ['camisas', 'calças', 'cuecas', 'meias', 'sapato']\n",
            "local da viagem Natal - Rio Grande do Norte\n",
            "total de pessoas 5\n",
            "não esquecer ['passaporte', 'casaco', 'colocar comida do cachorro']\n"
          ],
          "name": "stdout"
        }
      ]
    },
    {
      "cell_type": "markdown",
      "metadata": {
        "id": "Kdm7zWZUEFKT"
      },
      "source": [
        "### Operadores Aritméticos"
      ]
    },
    {
      "cell_type": "markdown",
      "metadata": {
        "id": "RtXEjUhYEFKT"
      },
      "source": [
        "|**Operadores Aritméticos**|**Comando**|\n",
        "|--------------------------|-----------|\n",
        "|Soma                      |+          |\n",
        "|Subtração                 |-          |\n",
        "|Multiplicação             |*          |\n",
        "|Divisão                   |/          |\n",
        "|Exponenciação             |**         |"
      ]
    },
    {
      "cell_type": "markdown",
      "metadata": {
        "id": "f5Kto740EFKT"
      },
      "source": [
        "Como já dizia **Bill Gates**, progamar não é nada mais e nada menos do que somar, subtrair, multiplicar e dividir. De fato, a partir desses princípios matemáticos básicos podemos desenvolver qualquer operação complexa sob tutela da manipulações aritméticas. Então, vamos mostrar exemplos de uso para cada operador individualmente. Antes de fazermos isso, é importante saber a ordem pela qual as operações são realizadas, visando contornar erros lógicos em seus progamas."
      ]
    },
    {
      "cell_type": "markdown",
      "metadata": {
        "id": "GnQyz0tuEFKT"
      },
      "source": [
        "|**Ordem de Precedência dos Operadores Aritméticos**|\n",
        "|---------------------------------------------------|\n",
        "|1 - Parentêses                                     |\n",
        "|2 - Exponenciação                                  |\n",
        "|3 - Multiplicação e Divisão                        |\n",
        "|4 - Soma e Subtração                               |"
      ]
    },
    {
      "cell_type": "markdown",
      "metadata": {
        "id": "agM3MwtBEFKU"
      },
      "source": [
        "Os operadores com a mesma precedência são avaliados da esquerda para a direita. Quando essa ordem não for tão clara assim, opte por usar parênteses para forçar as ordens das operações, seja por motivos de esquecimentos ou motivos propositais."
      ]
    },
    {
      "cell_type": "code",
      "metadata": {
        "id": "4qLELBfqEFKU",
        "outputId": "d6b3e581-c0f0-4da6-d59d-65b2696901ed",
        "colab": {
          "base_uri": "https://localhost:8080/"
        }
      },
      "source": [
        "2 ** (((3 + 7) - (-10 + 15) * 2) / 5 ) "
      ],
      "execution_count": 18,
      "outputs": [
        {
          "output_type": "execute_result",
          "data": {
            "text/plain": [
              "1.0"
            ]
          },
          "metadata": {
            "tags": []
          },
          "execution_count": 18
        }
      ]
    },
    {
      "cell_type": "markdown",
      "metadata": {
        "id": "mS15SdmtEFKV"
      },
      "source": [
        "### Funções da biblioteca Python"
      ]
    },
    {
      "cell_type": "markdown",
      "metadata": {
        "id": "665ABUP2EFKV"
      },
      "source": [
        "A própia linguagem de progamação Python oferece inúmeras **funções** para implentar em nossos progamas. Não nos cabe listar todas elas aqui, pois ao longo dos progamas desenvolvidos no nosso repositório elas vão sendo usados e bem comentadas, permitindo que o seu aprendizado seja mais aprofundado nos recursos da linguagem. Vale salientar que podemos utilizar a função **\"dir\"** para saber quais funções estão disponíveis para um tipo de variável. Veja abaixo como utilizar esse recurso."
      ]
    },
    {
      "cell_type": "code",
      "metadata": {
        "id": "AwCy8wbnEFKW",
        "outputId": "7f4c479a-64ba-4ee1-8d70-33f259f64774",
        "colab": {
          "base_uri": "https://localhost:8080/"
        }
      },
      "source": [
        "dir(list_)"
      ],
      "execution_count": 19,
      "outputs": [
        {
          "output_type": "execute_result",
          "data": {
            "text/plain": [
              "['__add__',\n",
              " '__class__',\n",
              " '__contains__',\n",
              " '__delattr__',\n",
              " '__delitem__',\n",
              " '__dir__',\n",
              " '__doc__',\n",
              " '__eq__',\n",
              " '__format__',\n",
              " '__ge__',\n",
              " '__getattribute__',\n",
              " '__getitem__',\n",
              " '__gt__',\n",
              " '__hash__',\n",
              " '__iadd__',\n",
              " '__imul__',\n",
              " '__init__',\n",
              " '__init_subclass__',\n",
              " '__iter__',\n",
              " '__le__',\n",
              " '__len__',\n",
              " '__lt__',\n",
              " '__mul__',\n",
              " '__ne__',\n",
              " '__new__',\n",
              " '__reduce__',\n",
              " '__reduce_ex__',\n",
              " '__repr__',\n",
              " '__reversed__',\n",
              " '__rmul__',\n",
              " '__setattr__',\n",
              " '__setitem__',\n",
              " '__sizeof__',\n",
              " '__str__',\n",
              " '__subclasshook__',\n",
              " 'append',\n",
              " 'clear',\n",
              " 'copy',\n",
              " 'count',\n",
              " 'extend',\n",
              " 'index',\n",
              " 'insert',\n",
              " 'pop',\n",
              " 'remove',\n",
              " 'reverse',\n",
              " 'sort']"
            ]
          },
          "metadata": {
            "tags": []
          },
          "execution_count": 19
        }
      ]
    },
    {
      "cell_type": "markdown",
      "metadata": {
        "id": "mNhhafpfEFKW"
      },
      "source": [
        "Assim, de acordo com a necessidade de implementação de recursos em um progama, podemos usar a função **\"dir\"** para conseguir olhar todos os **atributos/propiedades** e **funções/métodos disponíveis** para uma determinada variável."
      ]
    },
    {
      "cell_type": "markdown",
      "metadata": {
        "id": "_dx5cVW3EFKW"
      },
      "source": [
        "### Recebendo Dados de Entrada"
      ]
    },
    {
      "cell_type": "markdown",
      "metadata": {
        "id": "ar4-3K9TEFKX"
      },
      "source": [
        "Vamos usar a função **\"input\"** para receber um dado de entrada e adicinar esses dados em variáveis."
      ]
    },
    {
      "cell_type": "code",
      "metadata": {
        "id": "JDp4LW5BEFKX",
        "outputId": "bc9a99eb-7afc-4f84-8a6c-6bff0a9ae3b0",
        "colab": {
          "base_uri": "https://localhost:8080/"
        }
      },
      "source": [
        "entrada = input(\"Insira Algo: \") \n",
        "\n",
        "print(entrada)"
      ],
      "execution_count": 20,
      "outputs": [
        {
          "output_type": "stream",
          "text": [
            "Insira Algo: Álgebran Linear\n",
            "Álgebran Linear\n"
          ],
          "name": "stdout"
        }
      ]
    },
    {
      "cell_type": "code",
      "metadata": {
        "id": "70r64y2TEFKX",
        "outputId": "81fa61d3-6f6d-4d03-fd58-2eaa5db9d382",
        "colab": {
          "base_uri": "https://localhost:8080/",
          "height": 215
        }
      },
      "source": [
        "numero = input('Insira um número: ')\n",
        "\n",
        "print(numero + 4) # porque isso não funcionou?"
      ],
      "execution_count": 21,
      "outputs": [
        {
          "output_type": "stream",
          "text": [
            "Insira um número: 34\n"
          ],
          "name": "stdout"
        },
        {
          "output_type": "error",
          "ename": "TypeError",
          "evalue": "ignored",
          "traceback": [
            "\u001b[0;31m---------------------------------------------------------------------------\u001b[0m",
            "\u001b[0;31mTypeError\u001b[0m                                 Traceback (most recent call last)",
            "\u001b[0;32m<ipython-input-21-23a492fbe326>\u001b[0m in \u001b[0;36m<module>\u001b[0;34m()\u001b[0m\n\u001b[1;32m      1\u001b[0m \u001b[0mnumero\u001b[0m \u001b[0;34m=\u001b[0m \u001b[0minput\u001b[0m\u001b[0;34m(\u001b[0m\u001b[0;34m'Insira um número: '\u001b[0m\u001b[0;34m)\u001b[0m\u001b[0;34m\u001b[0m\u001b[0;34m\u001b[0m\u001b[0m\n\u001b[1;32m      2\u001b[0m \u001b[0;34m\u001b[0m\u001b[0m\n\u001b[0;32m----> 3\u001b[0;31m \u001b[0mprint\u001b[0m\u001b[0;34m(\u001b[0m\u001b[0mnumero\u001b[0m \u001b[0;34m+\u001b[0m \u001b[0;36m4\u001b[0m\u001b[0;34m)\u001b[0m \u001b[0;31m# porque isso não funcionou?\u001b[0m\u001b[0;34m\u001b[0m\u001b[0;34m\u001b[0m\u001b[0m\n\u001b[0m",
            "\u001b[0;31mTypeError\u001b[0m: must be str, not int"
          ]
        }
      ]
    },
    {
      "cell_type": "markdown",
      "metadata": {
        "id": "Ezf_FIWQEFKZ"
      },
      "source": [
        "Observe que foi digitado um número inteiro, mas foi armazenado como uma string. Isso ocorre porque a função `input` não funciona com tipagem dinâmica. Caso seja necessário receber algum tipo de dado do usuário, devemos ter em mente qual tipo de dado será solicitado e inicializá-lo."
      ]
    },
    {
      "cell_type": "code",
      "metadata": {
        "id": "4PlT3H-4EFKZ",
        "outputId": "7d9ec4a8-7a8a-4367-efb0-f87eb55d52d3",
        "colab": {
          "base_uri": "https://localhost:8080/"
        }
      },
      "source": [
        "numero1 = int(input('Insira um número: '))\n",
        "numero2 = input('Insira um outro número: ')\n",
        "\n",
        "print(numero1 + int(numero2)) "
      ],
      "execution_count": 22,
      "outputs": [
        {
          "output_type": "stream",
          "text": [
            "Insira um número: 34\n",
            "Insira um outro número: 35\n",
            "69\n"
          ],
          "name": "stdout"
        }
      ]
    },
    {
      "cell_type": "markdown",
      "metadata": {
        "id": "HQTrMSfHEFKZ"
      },
      "source": [
        "### Fatiamento"
      ]
    },
    {
      "cell_type": "markdown",
      "metadata": {
        "id": "uSpm_mz7EFKa"
      },
      "source": [
        "O **fatiamento** pode ser utilizado principalmente em **strings** (que são cadeias de caracteres), **listas**, **tuplas** e **arrays** (esse que será estudado com maior profundidade em outro progama). Basicamente, trata-se do ato de pegar uma parte do todo de qualquer um desses elementos citados acima. Para fazer isso, vamos utilizar os exemplos já criados."
      ]
    },
    {
      "cell_type": "code",
      "metadata": {
        "id": "te6JLHgqEFKa",
        "outputId": "4516d817-c88f-4715-e219-56b189537ddf",
        "colab": {
          "base_uri": "https://localhost:8080/"
        }
      },
      "source": [
        "print(str_)\n",
        "print(str_[14: 14 + len('álgebra linear')])"
      ],
      "execution_count": 23,
      "outputs": [
        {
          "output_type": "stream",
          "text": [
            "você vai usar álgebra linear durante toda sua carreira! Estude!\n",
            "álgebra linear\n"
          ],
          "name": "stdout"
        }
      ]
    },
    {
      "cell_type": "code",
      "metadata": {
        "id": "iI2R3HEoEFKb",
        "outputId": "a6eb1a31-a10b-4504-cec5-ded405bd3031",
        "colab": {
          "base_uri": "https://localhost:8080/"
        }
      },
      "source": [
        "flag = 0\n",
        "history = []\n",
        "\n",
        "for i in range(0, 10000):\n",
        "    history.append(flag)\n",
        "    flag += 1\n",
        "    \n",
        "print(history[:10])\n",
        "print(history[-10: -1])\n",
        "print(len(history))"
      ],
      "execution_count": 24,
      "outputs": [
        {
          "output_type": "stream",
          "text": [
            "[0, 1, 2, 3, 4, 5, 6, 7, 8, 9]\n",
            "[9990, 9991, 9992, 9993, 9994, 9995, 9996, 9997, 9998]\n",
            "10000\n"
          ],
          "name": "stdout"
        }
      ]
    },
    {
      "cell_type": "markdown",
      "metadata": {
        "id": "kvdgIw08EFKb"
      },
      "source": [
        "### Operadores Lógicos"
      ]
    },
    {
      "cell_type": "markdown",
      "metadata": {
        "id": "xxEZTzQeEFKb"
      },
      "source": [
        "|**Operadores Lógicos**|**Comandos**|\n",
        "|----------------------|------------|\n",
        "|Igual                 |==          |\n",
        "|Diferente             |!=          |\n",
        "|Menor                 |<           |\n",
        "|Maior                 |>           |\n",
        "|Menor igual           |<=          |\n",
        "|Maior Igual           |>=          |\n",
        "|Booleanos             |True, False |\n",
        "|Conectivos            |and, or     |"
      ]
    },
    {
      "cell_type": "markdown",
      "metadata": {
        "id": "pGP4aQrZEFKc"
      },
      "source": [
        "Os **operadores lógicos** são usados para representar situações lógicas responsáveis por ajudar na tomada de decisões pela máquina e escolhas de opções definidas. Também são chamados conectivos lógicos por unirem duas expressões simples numa composta. Dessa forma, podemos ter ótimas ferramentas computacionais para realizar os nossos algoritmos."
      ]
    },
    {
      "cell_type": "code",
      "metadata": {
        "id": "DPuwSuVTEFKc",
        "outputId": "3a942281-6308-47ba-bcb7-ba055909737b",
        "colab": {
          "base_uri": "https://localhost:8080/"
        }
      },
      "source": [
        "# analisando o operador lógico de igualdade\n",
        "7 == 8"
      ],
      "execution_count": 25,
      "outputs": [
        {
          "output_type": "execute_result",
          "data": {
            "text/plain": [
              "False"
            ]
          },
          "metadata": {
            "tags": []
          },
          "execution_count": 25
        }
      ]
    },
    {
      "cell_type": "code",
      "metadata": {
        "id": "XPGAY-t8EFKd",
        "outputId": "576a424f-b402-47d6-aa1a-edee70b2f1f0",
        "colab": {
          "base_uri": "https://localhost:8080/"
        }
      },
      "source": [
        "# analisando o operador lógico de igualdade\n",
        "7 == 7"
      ],
      "execution_count": 26,
      "outputs": [
        {
          "output_type": "execute_result",
          "data": {
            "text/plain": [
              "True"
            ]
          },
          "metadata": {
            "tags": []
          },
          "execution_count": 26
        }
      ]
    },
    {
      "cell_type": "code",
      "metadata": {
        "id": "gxYIaw3-EFKd",
        "outputId": "4e801e67-3c2e-4360-f261-03b1352612bb",
        "colab": {
          "base_uri": "https://localhost:8080/"
        }
      },
      "source": [
        "# analisando o operador lógico de diferença\n",
        "7 != 8"
      ],
      "execution_count": 27,
      "outputs": [
        {
          "output_type": "execute_result",
          "data": {
            "text/plain": [
              "True"
            ]
          },
          "metadata": {
            "tags": []
          },
          "execution_count": 27
        }
      ]
    },
    {
      "cell_type": "code",
      "metadata": {
        "id": "xOjDwKT6EFKd",
        "outputId": "9ef5084f-56d5-4d5e-ef26-abc9a27f3e3e",
        "colab": {
          "base_uri": "https://localhost:8080/"
        }
      },
      "source": [
        "# analisando o operador lógico de diferença\n",
        "7 != 7"
      ],
      "execution_count": 28,
      "outputs": [
        {
          "output_type": "execute_result",
          "data": {
            "text/plain": [
              "False"
            ]
          },
          "metadata": {
            "tags": []
          },
          "execution_count": 28
        }
      ]
    },
    {
      "cell_type": "code",
      "metadata": {
        "id": "4Ch-x7t_EFKe",
        "outputId": "3548c8ee-374b-4802-887c-fed8a0ec3eb0",
        "colab": {
          "base_uri": "https://localhost:8080/"
        }
      },
      "source": [
        "# analisando o operador lógico de menor\n",
        "8 < 4"
      ],
      "execution_count": 29,
      "outputs": [
        {
          "output_type": "execute_result",
          "data": {
            "text/plain": [
              "False"
            ]
          },
          "metadata": {
            "tags": []
          },
          "execution_count": 29
        }
      ]
    },
    {
      "cell_type": "code",
      "metadata": {
        "id": "AcBq_gFbEFKe",
        "outputId": "4a4047e4-bf6a-4c3c-fd02-ebf5e6e55527",
        "colab": {
          "base_uri": "https://localhost:8080/"
        }
      },
      "source": [
        "# analisando o operador lógico de menor ou igual\n",
        "5 <= 5"
      ],
      "execution_count": 30,
      "outputs": [
        {
          "output_type": "execute_result",
          "data": {
            "text/plain": [
              "True"
            ]
          },
          "metadata": {
            "tags": []
          },
          "execution_count": 30
        }
      ]
    },
    {
      "cell_type": "code",
      "metadata": {
        "id": "zyMRQChHEFKf",
        "outputId": "be514890-79f6-455e-8289-a58d8e377140",
        "colab": {
          "base_uri": "https://localhost:8080/"
        }
      },
      "source": [
        "# analisando o operador lógico de maior\n",
        "8 > 4"
      ],
      "execution_count": 31,
      "outputs": [
        {
          "output_type": "execute_result",
          "data": {
            "text/plain": [
              "True"
            ]
          },
          "metadata": {
            "tags": []
          },
          "execution_count": 31
        }
      ]
    },
    {
      "cell_type": "code",
      "metadata": {
        "id": "DZTKaKKsEFKf",
        "outputId": "ec63c4ec-e1e2-4223-cad5-ad2e072370ab",
        "colab": {
          "base_uri": "https://localhost:8080/"
        }
      },
      "source": [
        "# analisando o operador lógico de maior ou igual\n",
        "5 >= 5"
      ],
      "execution_count": 32,
      "outputs": [
        {
          "output_type": "execute_result",
          "data": {
            "text/plain": [
              "True"
            ]
          },
          "metadata": {
            "tags": []
          },
          "execution_count": 32
        }
      ]
    },
    {
      "cell_type": "code",
      "metadata": {
        "id": "EM8AcCK2EFKf",
        "outputId": "e3dee24b-606f-4b01-c127-76f23e7b9f73",
        "colab": {
          "base_uri": "https://localhost:8080/"
        }
      },
      "source": [
        "# analisando o concectivo and (e)\n",
        "(7 == 8 and 5 != 7)"
      ],
      "execution_count": 33,
      "outputs": [
        {
          "output_type": "execute_result",
          "data": {
            "text/plain": [
              "False"
            ]
          },
          "metadata": {
            "tags": []
          },
          "execution_count": 33
        }
      ]
    },
    {
      "cell_type": "code",
      "metadata": {
        "id": "Rss702LPEFKg",
        "outputId": "de178e2a-61ba-4b98-c211-70ff259f68c6",
        "colab": {
          "base_uri": "https://localhost:8080/"
        }
      },
      "source": [
        "# analisando o conectivo or (ou)\n",
        "(7 == 8 or 5 != 7)"
      ],
      "execution_count": 34,
      "outputs": [
        {
          "output_type": "execute_result",
          "data": {
            "text/plain": [
              "True"
            ]
          },
          "metadata": {
            "tags": []
          },
          "execution_count": 34
        }
      ]
    },
    {
      "cell_type": "markdown",
      "metadata": {
        "id": "XxMuTPIuEFKg"
      },
      "source": [
        "### Estrutura de Decisão"
      ]
    },
    {
      "cell_type": "markdown",
      "metadata": {
        "id": "OjD6P8KDEFKh"
      },
      "source": [
        "Vamos agora ver estruturas responsáveis por tomadas de decisões, como **\"if\"**, **\"elif\"** e **\"else\"**. Basicamente podemos entender esses comandos, respectivamente, da seguinte forma: se, se não se e caso contrário."
      ]
    },
    {
      "cell_type": "markdown",
      "metadata": {
        "id": "VgQNt7BLEFKh"
      },
      "source": [
        "Veja isso em um exemplo abaixo:"
      ]
    },
    {
      "cell_type": "code",
      "metadata": {
        "id": "mmLrD8-MEFKi",
        "outputId": "7e509179-c7c6-4744-a828-176364519a26",
        "colab": {
          "base_uri": "https://localhost:8080/"
        }
      },
      "source": [
        "numero1 = int(input(\"Insira um primeiro número inteiro: \"))\n",
        "numero2 = int(input(\"Insira um segundo número inteiro: \"))\n",
        "\n",
        "print(\"\\nnúmero 01 = {} e número 02 = {}\\n\".format(numero1, numero2))\n",
        "\n",
        "if(numero1 > numero2):\n",
        "    print(\"{} é maior a {}\".format(numero1, numero2))\n",
        "elif(numero1 == numero2):\n",
        "    print(\"{} é igual a {}\".format(numero1, numero2))\n",
        "else:\n",
        "    print(\"{} é menor a {}\".format(numero1, numero2))\n",
        "\n",
        "# você observeu a ausência do ponto e vírgula?\n",
        "# se esses recuos fossem removidos das estruturas de repetição ou decisão, a lógica continuaria correta?"
      ],
      "execution_count": 35,
      "outputs": [
        {
          "output_type": "stream",
          "text": [
            "Insira um primeiro número inteiro: 12\n",
            "Insira um segundo número inteiro: 14\n",
            "\n",
            "número 01 = 12 e número 02 = 14\n",
            "\n",
            "12 é menor a 14\n"
          ],
          "name": "stdout"
        }
      ]
    },
    {
      "cell_type": "markdown",
      "metadata": {
        "id": "1FZoCXvBEFKi"
      },
      "source": [
        "Nesse exemplo, observe que os comandos `if`, `elif` e `else` devem estar acompanhados por `dois pontos` para indicar o momento pelo qual o conteúdo para cada decisão deve ser implementado. Além disso, observe o `recuo` entre as linhas de código, esse que muito além de estilístico, é usado para indicar `subcomandos de comandos superiores`, sendo obrigatório o seu uso. Além disso, o comando `\\n\"` é um caractere especial que indica ao progama uma quebra de linha."
      ]
    },
    {
      "cell_type": "markdown",
      "metadata": {
        "id": "ELHWqOgVEFKi"
      },
      "source": [
        "### Estrutura de Repetição: for"
      ]
    },
    {
      "cell_type": "markdown",
      "metadata": {
        "id": "_W06pRCsEFKj"
      },
      "source": [
        "A estrutura de repetição `for` é utilizada quando se deseja repetir determinados passos programados em um número determinando de vezes previamente conhecidos. E para esse fim, geralmente, mas não necessariamente, deve-se utilizar o comando auxiliar `range`, esse que recebe dois comandos de entrada: o número inicial da contagem e o número pela qual deve-se parar. Veja abaixo um exemplo simples de como deve-se usar a estrutura de repetição `for`."
      ]
    },
    {
      "cell_type": "code",
      "metadata": {
        "id": "TV4TJ3d0EFKj",
        "outputId": "627d65c7-b5b2-44f4-f95d-8185986f112f",
        "colab": {
          "base_uri": "https://localhost:8080/"
        }
      },
      "source": [
        "for indice in range(0,11):\n",
        "    print(indice)"
      ],
      "execution_count": 36,
      "outputs": [
        {
          "output_type": "stream",
          "text": [
            "0\n",
            "1\n",
            "2\n",
            "3\n",
            "4\n",
            "5\n",
            "6\n",
            "7\n",
            "8\n",
            "9\n",
            "10\n"
          ],
          "name": "stdout"
        }
      ]
    },
    {
      "cell_type": "code",
      "metadata": {
        "id": "IW0pkx86EFKj",
        "outputId": "44732418-ceb7-4f84-9caa-bb8abd6deec7",
        "colab": {
          "base_uri": "https://localhost:8080/"
        }
      },
      "source": [
        "frase = [\"Você\", \"construiu\", \"uma\", \"máquina\", \"do\", \"tempo\", \"com\", \"um\", \"Delorean\", \"?\"]\n",
        "\n",
        "for itens in frase:\n",
        "    print(itens, end = \" \")\n",
        "    "
      ],
      "execution_count": 37,
      "outputs": [
        {
          "output_type": "stream",
          "text": [
            "Você construiu uma máquina do tempo com um Delorean ? "
          ],
          "name": "stdout"
        }
      ]
    },
    {
      "cell_type": "markdown",
      "metadata": {
        "id": "5NDbW5AqEFKj"
      },
      "source": [
        "### Estrutura de repetição: While"
      ]
    },
    {
      "cell_type": "markdown",
      "metadata": {
        "id": "9onfG5GFEFKk"
      },
      "source": [
        "A estrutura de repetição `while` ela está nas mesmas condições que a estrutura de repetição `for`. A diferença notável entre as duas é que a `ordem de parada` do `for` é previsível e a do `while` não. Por esse motivo, devemos criar uma estrutura de condição para a ordem de parada em uma estrutura de repetição `while`. Veja um exemplo abaixo:"
      ]
    },
    {
      "cell_type": "code",
      "metadata": {
        "id": "0dBsw9inEFKk",
        "outputId": "5dce57e3-47e6-42ac-db9b-f008aabb5bf2",
        "colab": {
          "base_uri": "https://localhost:8080/"
        }
      },
      "source": [
        "a, b = 1, 1 # essa inicialização parece comum?\n",
        "\n",
        "while True:\n",
        "    print(\"{}, {}\".format(a, b))\n",
        "    a *= 2\n",
        "    b *= 3\n",
        "    if(a >= 500 or b >= 500):\n",
        "        break"
      ],
      "execution_count": 38,
      "outputs": [
        {
          "output_type": "stream",
          "text": [
            "1, 1\n",
            "2, 3\n",
            "4, 9\n",
            "8, 27\n",
            "16, 81\n",
            "32, 243\n"
          ],
          "name": "stdout"
        }
      ]
    },
    {
      "cell_type": "markdown",
      "metadata": {
        "id": "ocroEKp6EFKk"
      },
      "source": [
        "Veja que foi definido a estrutura de repetição `while` como verdadeira a todo momento. Caso não fosse especificado uma ordem de parada, responsável por quebrar essa repetição, ela entraria em um `laço loop`, tendo como consequência a execução desenfreada dos subcomandos do `while`. Para contornar esse problema, usamos o comando `break`, que vamos falar mais um pouco sobre ele agora."
      ]
    },
    {
      "cell_type": "markdown",
      "metadata": {
        "id": "p5mi-4aTEFKk"
      },
      "source": [
        "### Comandos: break e continue"
      ]
    },
    {
      "cell_type": "markdown",
      "metadata": {
        "id": "DsZ4wneyEFKl"
      },
      "source": [
        "O uso de comandos `break` e `continue` são grandes aliados para se usar em estruturas de repetições. Com o `break` o comando irá parar de vez, vamos pensar nele como um freio de mão de um carro, que o faz parar e não é mais possível acelerá-lo. Já o comando `continue` ele permite dar uma pausa para depois continuar na execução do comando, vamos pensar nele como se fosse um freio de um carro, que o faz desacelerar, mas após isso podemos continuar o processo de aceleração do automóvel. Vamos usar a estrutura de repetição `for` para tornar essa ideia mais clara."
      ]
    },
    {
      "cell_type": "code",
      "metadata": {
        "id": "3bzGSXXnEFKl",
        "outputId": "79dc72b1-039d-4351-ecc5-ccc1078c62c1",
        "colab": {
          "base_uri": "https://localhost:8080/"
        }
      },
      "source": [
        "for indice in range(1, 11):\n",
        "    print(indice)\n",
        "    if(indice == 5):\n",
        "        break"
      ],
      "execution_count": 40,
      "outputs": [
        {
          "output_type": "stream",
          "text": [
            "1\n",
            "2\n",
            "3\n",
            "4\n",
            "5\n"
          ],
          "name": "stdout"
        }
      ]
    },
    {
      "cell_type": "code",
      "metadata": {
        "id": "N-c0ME8BEFKl",
        "outputId": "d1adeea4-befa-4167-bc40-419e835cdc74",
        "colab": {
          "base_uri": "https://localhost:8080/"
        }
      },
      "source": [
        "for indice in range(1, 11):\n",
        "    print(indice)\n",
        "    if(indice == 5):\n",
        "        continue"
      ],
      "execution_count": 41,
      "outputs": [
        {
          "output_type": "stream",
          "text": [
            "1\n",
            "2\n",
            "3\n",
            "4\n",
            "5\n",
            "6\n",
            "7\n",
            "8\n",
            "9\n",
            "10\n"
          ],
          "name": "stdout"
        }
      ]
    },
    {
      "cell_type": "markdown",
      "metadata": {
        "id": "3DEuOGmKEFKm"
      },
      "source": [
        "### Criando Suas Própias Funções"
      ]
    },
    {
      "cell_type": "markdown",
      "metadata": {
        "id": "LkSL1BRUEFKm"
      },
      "source": [
        "Como já foi visto, a linguagem de progamação Python é muito rica por possuir inúmeras **funções** prontas para uso. Entretanto, sempre é necessário criar funções própias para finalidades específicas, possibilitando a criação de inúmeros progamas para diversos fins. Vamos analisar como se dá a estrutura de uma função. Para isso, vamos trabalhar com o algoritmo da **sequência de fibonacci** pelo **método recursivo** (função que chama ela mesma, com uma ordem específica de parada)."
      ]
    },
    {
      "cell_type": "code",
      "metadata": {
        "id": "24sl6futEFKn"
      },
      "source": [
        "def fibonacci (termo):\n",
        "    if(termo == 1):\n",
        "        return 1\n",
        "    elif(termo == 2):\n",
        "        return 1\n",
        "    else:\n",
        "        return fibonacci(termo - 1) + fibonacci(termo - 2)\n",
        "\n",
        "# como se chama mesmo eh... \n",
        "    # como se chama mesmo eh... uma função que chama ela mesma?\n",
        "        # como se chama mesmo eh... uma função que chama ela mesma? recurso...\n",
        "            # como se chama mesmo eh... uma função que chama ela mesma? recurso, excursão...\n",
        "                # como se chama mesmo eh... uma função que chama ela mesma? recurso, excursão... RECURSÃO!"
      ],
      "execution_count": 42,
      "outputs": []
    },
    {
      "cell_type": "markdown",
      "metadata": {
        "id": "kpLoSErmEFKo"
      },
      "source": [
        "Como toda operação com funções, precisamos de uma `função principal` para organizar o nosso progama. No nosso repositório, essa ideia não será tão relevante, pois estamos mais interessados em mostrar processos da programação aplicados em Álgebra Linear do que em desenvolver um produto final. Entretanto, é importante mostrar como se faz a chamada da função principal, dado que para montar um bom programa, esse quesito conta."
      ]
    },
    {
      "cell_type": "code",
      "metadata": {
        "id": "cexmIt97EFKo"
      },
      "source": [
        "def main():\n",
        "    print(\"Programa Sequência de Gibonacci.\\n\\n\")\n",
        "    n = int(input(\"Digite o termo da sequência desejada, em números inteiros: \"))\n",
        "    for indice in range(1, n + 1):\n",
        "        print(fibonacci(indice), \",\", end  = \"\")\n",
        "    return 0"
      ],
      "execution_count": 43,
      "outputs": []
    },
    {
      "cell_type": "markdown",
      "metadata": {
        "id": "xoqgn8T1EFKp"
      },
      "source": [
        "Por fim, após definir que a função principal está chamado a função fibonacci definida, vamos agora fazer a chamada da função principal para executar o progama exemplo."
      ]
    },
    {
      "cell_type": "code",
      "metadata": {
        "id": "7pPcZNEXEFKp",
        "outputId": "98d69247-562c-42cf-cbb1-73b021bf012c",
        "colab": {
          "base_uri": "https://localhost:8080/"
        }
      },
      "source": [
        "if __name__ == '__main__':\n",
        "    main()"
      ],
      "execution_count": 44,
      "outputs": [
        {
          "output_type": "stream",
          "text": [
            "Programa Sequência de Gibonacci.\n",
            "\n",
            "\n",
            "Digite o termo da sequência desejada, em números inteiros: 10\n",
            "1 ,1 ,2 ,3 ,5 ,8 ,13 ,21 ,34 ,55 ,"
          ],
          "name": "stdout"
        }
      ]
    },
    {
      "cell_type": "markdown",
      "metadata": {
        "id": "O9bwYxWBEFKp"
      },
      "source": [
        "### Tratamento de excessões e erros"
      ]
    },
    {
      "cell_type": "markdown",
      "metadata": {
        "id": "Cgn2GDJjEFKp"
      },
      "source": [
        "Tratamento de excessões e erros é uma forma prática de garantir que o programa não termine sua execução no meio da operação. Através de seu uso, é possível garantir que determinados erros não travem um programa por completo. Abaixo, será ilustrado alguns problemas comuns."
      ]
    },
    {
      "cell_type": "code",
      "metadata": {
        "id": "41307FduEFKq",
        "outputId": "9176f629-5857-4b33-8897-78c3f28c06aa",
        "colab": {
          "base_uri": "https://localhost:8080/"
        }
      },
      "source": [
        "try:\n",
        "    12 / 0\n",
        "except ZeroDivisionError:\n",
        "    print('Não é possível dividir por zero!')"
      ],
      "execution_count": 45,
      "outputs": [
        {
          "output_type": "stream",
          "text": [
            "Não é possível dividir por zero!\n"
          ],
          "name": "stdout"
        }
      ]
    },
    {
      "cell_type": "code",
      "metadata": {
        "id": "H2bIqcIWEFKq",
        "outputId": "7f8e95ae-f702-499c-b91b-ae50f7c7f996",
        "colab": {
          "base_uri": "https://localhost:8080/"
        }
      },
      "source": [
        "try:\n",
        "    lista = [1, 2, 3]\n",
        "    print(list[4])\n",
        "except:\n",
        "    print('Um erro ocorreu!')"
      ],
      "execution_count": 46,
      "outputs": [
        {
          "output_type": "stream",
          "text": [
            "Um erro ocorreu!\n"
          ],
          "name": "stdout"
        }
      ]
    },
    {
      "cell_type": "code",
      "metadata": {
        "id": "y1OP9MEPEFKr"
      },
      "source": [
        "try:\n",
        "    x, y, z = 1, 0 , 1\n",
        "    coordenadas = (x, y)\n",
        "    coordenadas.append(z)\n",
        "except AttributeError:\n",
        "    pass"
      ],
      "execution_count": 47,
      "outputs": []
    },
    {
      "cell_type": "markdown",
      "metadata": {
        "id": "1FPgDrL6EFKr"
      },
      "source": [
        "## Utilizando pacotes"
      ]
    },
    {
      "cell_type": "markdown",
      "metadata": {
        "id": "lQWsrrmqEFKr"
      },
      "source": [
        "É uma prática comum na programação utilizar ferramentas já prontas e implementadas, de modo que seja possível abstrair diversas operações e focar em problemas mais complexos. O Python, em particular, possui uma grande comunidade de contribuidores na plataforma [PyPi](https://pypi.org/), essa que tem o propósito de disponibilizar milhões de pacotes práticos e úteis para qualquer usuário utilizar. Além disso, o processo de obtenção e uso é simples, de modo que através de linhas de comando (considerando que a pasta de scripts do python está configurada nas váriaveis do sistema), o usuário consiga obté-las. "
      ]
    },
    {
      "cell_type": "markdown",
      "metadata": {
        "id": "1tKapn8KEFKs"
      },
      "source": [
        "`OBS: execute os códigos abaixo como linha de comando no sistema, não são interpretáveis pelo Python.`"
      ]
    },
    {
      "cell_type": "markdown",
      "metadata": {
        "id": "p4lyLIrxEFKs"
      },
      "source": [
        "- `Instalar um pacote`: **pip install nome_do_pacote1 nome_do_pacote2 ... nome_do_pacote_n**\n",
        "> `pip install numpy`\n",
        "> `pip install numpy seaborn matplotlib`\n",
        "- `Desinstalar um pacote`: **pip uninstall nome_do_pacote1 nome_do_pacote2 ... nome_do_pacote_n**\n",
        "> `pip uninstall numpy`\n",
        "> `pip uninstall numpy seaborn matplotlib`\n",
        "- `Atualizar pacote existente`: **pip instal nome_do_pacote --upgrade**\n",
        "> `pip install tensorflow --upgrade`\n",
        "- `Instalar uma versão específica`: **pip install nome_do_pacote==version**\n",
        "> `pip install tensorflow==2.0.0`\n",
        "- `Visualizar pacotes instalados`: **pip list**\n",
        "> pip list"
      ]
    },
    {
      "cell_type": "code",
      "metadata": {
        "id": "NB258oI9EFKs",
        "outputId": "faf49ed6-3e02-4217-dc23-5449b4064ff6",
        "colab": {
          "base_uri": "https://localhost:8080/",
          "height": 607
        }
      },
      "source": [
        "import numpy as np\n",
        "import matplotlib.pyplot as plt\n",
        "from matplotlib.collections import LineCollection\n",
        "\n",
        "from sklearn.linear_model import LinearRegression\n",
        "from sklearn.isotonic import IsotonicRegression\n",
        "from sklearn.utils import check_random_state\n",
        "\n",
        "n = 100\n",
        "x = np.arange(n)\n",
        "rs = check_random_state(0)\n",
        "y = rs.randint(-50, 50, size=(n,)) + 50. * np.log(1 + np.arange(n))\n",
        "\n",
        "###############################################################################\n",
        "# Fit IsotonicRegression and LinearRegression models\n",
        "\n",
        "ir = IsotonicRegression()\n",
        "\n",
        "y_ = ir.fit_transform(x, y)\n",
        "\n",
        "lr = LinearRegression()\n",
        "lr.fit(x[:, np.newaxis], y)  # x needs to be 2d for LinearRegression\n",
        "\n",
        "###############################################################################\n",
        "# plot result\n",
        "\n",
        "segments = [[[i, y[i]], [i, y_[i]]] for i in range(n)]\n",
        "lc = LineCollection(segments, zorder=0)\n",
        "lc.set_array(np.ones(len(y)))\n",
        "lc.set_linewidths(0.5 * np.ones(n))\n",
        "\n",
        "fig = plt.figure(figsize = (15,10))\n",
        "plt.plot(x, y, 'r.', markersize=12)\n",
        "plt.plot(x, y_, 'g.-', markersize=12)\n",
        "plt.plot(x, lr.predict(x[:, np.newaxis]), 'b-')\n",
        "plt.gca().add_collection(lc)\n",
        "plt.legend(('Data', 'Isotonic Fit', 'Linear Fit'), loc='lower right')\n",
        "plt.title('Isotonic regression')\n",
        "plt.show()\n",
        "\n",
        "# == código extraido da documentação do scikit-learn ==\n",
        "# https://scikit-learn.org/0.16/auto_examples/plot_isotonic_regression.html"
      ],
      "execution_count": 48,
      "outputs": [
        {
          "output_type": "display_data",
          "data": {
            "image/png": "[encoded data removed]",
            "text/plain": [
              "<Figure size 1080x720 with 1 Axes>"
            ]
          },
          "metadata": {
            "tags": [],
            "needs_background": "light"
          }
        }
      ]
    },
    {
      "cell_type": "markdown",
      "metadata": {
        "id": "v06JJEpnEFKs"
      },
      "source": [
        "### (Opcional) Orientação a objetos"
      ]
    },
    {
      "cell_type": "markdown",
      "metadata": {
        "id": "3x-YuhfPEFKt"
      },
      "source": [
        "Programação Orientada a Objetos `(POO)` é um modelo de análise, projeto e programação de software baseado na composição e interação entre diversas unidades chamadas de 'objetos'. A linguagem de programação Python também suporta POO, de modo que em poucas linhas classes úteis podem ser implementadas. Abaixo será exemplificado a construção de uma classe para resolução de problemas em regressão linear. Tudo bem se você não entender muito o que está acontecendo nos códigos abaixo, esse conteúdo será abordado posteriormente. Preste atenção em como uma classe é construida e em como os objetos são instanciados."
      ]
    },
    {
      "cell_type": "code",
      "metadata": {
        "id": "fR8ZP9rzEFKt"
      },
      "source": [
        "# importação de pacotes auxiliares\n",
        "import numpy as np\n",
        "import matplotlib.pyplot as plt\n",
        "\n",
        "class SimpleLinearRegression():\n",
        "    '''Classe que resolve problemas de regressão linear simples'''\n",
        "    \n",
        "    def __init__(self, len_scatter):\n",
        "        '''construtor da classe'''\n",
        "        \n",
        "        self.len_scatter = len_scatter\n",
        "        self.X = []\n",
        "        self.y = []\n",
        "        self.parameters = []\n",
        "        \n",
        "        return None\n",
        "    \n",
        "    def generate_linear_data(self, seed = 42):\n",
        "        '''método para geração de dados lineares arbitrários'''\n",
        "        \n",
        "        np.random.seed(seed)\n",
        "        self.X = np.random.randint(1, seed, (self.len_scatter, 1))\n",
        "        self.y = self.X * seed\n",
        "        \n",
        "        return (self.X, self.y)\n",
        "    \n",
        "    def get_parameters(self, X, y):\n",
        "        '''retorna os parâmetros do modelo (equação linear) a partir do ajuste nos dados'''\n",
        "        \n",
        "        m = self.y.size\n",
        "        X_bias = np.concatenate([np.ones((m, 1)), self.X], axis=1)\n",
        "        self.parameters = np.dot(np.dot(np.linalg.inv(np.dot(X_bias.T, X_bias)), X_bias.T), self.y)\n",
        "        \n",
        "        return self.parameters\n",
        "    \n",
        "    def plot_model(self, X, y, parameters):\n",
        "        '''visualização gráfica do modelo treinado'''\n",
        "        \n",
        "        plt.figure(figsize = (10,5))\n",
        "        plt.scatter(X, y, label = 'data')\n",
        "        plt.plot(np.arange(min(X) - 5, max(X) + 5), parameters[0] + parameters[1] * np.arange(min(X) - 5, max(X) + 5), label = 'model')\n",
        "        plt.xlabel('X')\n",
        "        plt.ylabel('y')\n",
        "        plt.title('Linear Regression with Normal Equation - Vectorized')\n",
        "        plt.legend()\n",
        "        plt.grid(False)\n",
        "        plt.box(False)\n",
        "        plt.show()\n",
        "        \n",
        "        return None "
      ],
      "execution_count": 49,
      "outputs": []
    },
    {
      "cell_type": "code",
      "metadata": {
        "id": "4DmwrkIDEFKt",
        "outputId": "8394d29f-36c9-4498-a15e-9ade5f33a295",
        "colab": {
          "base_uri": "https://localhost:8080/",
          "height": 350
        }
      },
      "source": [
        "# instanciação de um objeto da classe\n",
        "regressor = SimpleLinearRegression(len_scatter = 10)\n",
        "\n",
        "# obtendo os dados lineares a partir de uma semente de geração randômica\n",
        "X, y = regressor.generate_linear_data(seed = 42)\n",
        "\n",
        "# obtendo os parâmetros do modelo \n",
        "parameters = regressor.get_parameters(X, y)\n",
        "\n",
        "# visualizando o modelo treinado com os dados\n",
        "regressor.plot_model(X, y, parameters)"
      ],
      "execution_count": 50,
      "outputs": [
        {
          "output_type": "display_data",
          "data": {
            "image/png": "[encoded data removed]",
            "text/plain": [
              "<Figure size 720x360 with 1 Axes>"
            ]
          },
          "metadata": {
            "tags": [],
            "needs_background": "light"
          }
        }
      ]
    },
    {
      "cell_type": "markdown",
      "metadata": {
        "id": "2ngOCCoqEFKt"
      },
      "source": [
        "### Alguma Dúvida? Entre em Contato Comigo: [Me envie um e-mail](mailto:alysson.barbosa@ee.ufcg.edu.br)"
      ]
    },
    {
      "cell_type": "markdown",
      "metadata": {
        "id": "TwObNf42EFKu"
      },
      "source": [
        "### Extra\n",
        "***\n",
        "O repositório abaixo contém mais de 100 exemplos de códigos em python para treinar. Além disso, os conteúdos abordados são bem divididos em: \n",
        "\n",
        "- `Introdução ao Python`\n",
        "- `Variáveis`\n",
        "- `Listas`\n",
        "- `Usando Listas`\n",
        "- `Usando Tuplas`\n",
        "- `Condições`\n",
        "- `Dicionários`\n",
        "- `Dados de entrada`\n",
        "- `Estruturas de repetição`\n",
        "- `Funções`\n",
        "- `Importação de módulos e pacotes`\n",
        "- `Classes (POO)`\n",
        "- `Manipulação de Arquivos`\n",
        "- `Tratamento de Excessão e erro`\n",
        "***\n",
        "### - Link do repositório [PythonCrashCourse](https://github.com/Alyssonmach/PythonCrashCourse)"
      ]
    }
  ]
}