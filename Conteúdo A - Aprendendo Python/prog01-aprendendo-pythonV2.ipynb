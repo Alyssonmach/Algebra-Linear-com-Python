{
 "cells": [
  {
   "cell_type": "markdown",
   "metadata": {},
   "source": [
    "# Introdução a Linguagem de Programação Python\n",
    "***\n",
    " Neste módulo, serão analisadas as estruturas básicas da linguagem de programação Python. É pertinente saber que tal linguagem possui bastante uso atualmente, sendo uma das mais simples de se utilizar. Graças a colaboratividade dos usuário, atualmente há inúmeros pacotes prontos para uso que nos possibilitam executar diversas tarefas complexas. "
   ]
  },
  {
   "cell_type": "markdown",
   "metadata": {},
   "source": [
    "> `Versão do Python:` 3.x"
   ]
  },
  {
   "cell_type": "markdown",
   "metadata": {},
   "source": [
    "`\"Python é uma linguagem de programação de alto nível, interpretada, de script, imperativa, orientada a objetos, funcional, de tipagem dinâmica e forte. Foi lançada por Guido van Rossum em 1991. Atualmente possui um modelo de desenvolvimento comunitário, aberto e gerenciado pela organização sem fins lucrativos Python Software Foundation.\"` [Wikipédia](https://pt.wikipedia.org/wiki/Python)"
   ]
  },
  {
   "cell_type": "markdown",
   "metadata": {},
   "source": [
    "### Dissecando a Definição"
   ]
  },
  {
   "cell_type": "markdown",
   "metadata": {},
   "source": [
    "Acima foi copiado um pequeno trecho da **Wikipédia** que fala sobre a **linguagem de programação Python**. Nele, podemos aprender diversas características da linguagem em sí, tais como:"
   ]
  },
  {
   "cell_type": "markdown",
   "metadata": {},
   "source": [
    "`Características da Linguagem de Programação Python`  \n",
    "\n",
    "- **Linguagem de Progamação de Alto Nível:** Python é uma linguagem que sua escrita é bem próxima da linguagem humana. Dessa forma, podemos nos comunicar com a máquina através de um forte e intuitivo interpretador.  \n",
    "***\n",
    "- **Linguagem Interpretada:** o código fonte nessa linguagem é executado por um programa de computador chamado interpretador, que em seguida é executado pelo sistema operacional ou processador. Método esse que difere das linguagens que são compiladas para a linguagem de máquina, tais como a linguagem de progamação C e suas derivadas.\n",
    "***\n",
    "- **Linguagem de Script:** é básicamente o ato de desenvolver um algoritmo para automatizar a execução de tarefas que poderiam alternativamente ser executadas uma por vez por um operador humano.\n",
    "***\n",
    "- **Linguagem Imperativa:** Trata do ato de usar ações para dar ordens, ou seja, através de comandos podemos dar ordens para serem executadas determinadas ações pelo programa. Desse modo, surgem os laços de repetição, estruturas condicionais, atribuição de valor à variáveis e controle de estado.\n",
    "***\n",
    "- **Linguagem Orientada a Objetos:** Trata da ideia de se ter uma linguagem de programação voltada ao conceito de \"objetos\", usando para isso atributos (dados na forma de campo) e métodos (procedimentos de execução).\n",
    "***\n",
    "- **Linguagem Funcional:** Trata da ideia de possuir uma linguagem com avaliação de funções para executar determinadas ações. Especificamente o Python, possui inúmeras bibliotecas repletas de funções para serem importadas e usadas, dando ênfase a inúmeros campos de estudo na qual a programação se aplica.\n",
    "***\n",
    "- **Linguagem de Tipagem Dinâmica:** sendo uma caracteristica positiva para o Python, esse tipo de tipagem permite o uso de variáveis que não exigem declarações de tipos de dados, pois são capazes de escolher que tipo utilizar dinamicamente para cada variável, podendo alterá-lo durante a compilação ou a execução do programa.\n",
    "***\n",
    "- **Linguagem forte:** Python é uma linguagem de programação multi-plataforma, e atualmente está presente em diversos sistemas operacionais, seja eles embarcados ou não. "
   ]
  },
  {
   "cell_type": "markdown",
   "metadata": {},
   "source": [
    "Agora que alguns conceitos foram definidos, está na hora de colocar a mão na massa. É interessante ressaltar que este conteúdo está sendo escrito levando em consideração que o leitor já foi introduzido a programação e, dado a amplitude de recursos que o Python possui, vamos nos ater somente a comandos básicos que permitem um bom início com ela, visando trazer todo o conhecimento necessário para lidar com os outros programas utilizados nesse repositório."
   ]
  },
  {
   "cell_type": "markdown",
   "metadata": {},
   "source": [
    "### Imprimindo Dados de Saída (Outputs)"
   ]
  },
  {
   "cell_type": "markdown",
   "metadata": {},
   "source": [
    "Podemos utilizar diretamente o **prompt de comando** do Python para imprimir dados de saída simples como"
   ]
  },
  {
   "cell_type": "code",
   "execution_count": 1,
   "metadata": {},
   "outputs": [
    {
     "data": {
      "text/plain": [
       "7"
      ]
     },
     "execution_count": 1,
     "metadata": {},
     "output_type": "execute_result"
    }
   ],
   "source": [
    "3 + 4"
   ]
  },
  {
   "cell_type": "markdown",
   "metadata": {},
   "source": [
    "ou até"
   ]
  },
  {
   "cell_type": "code",
   "execution_count": 2,
   "metadata": {},
   "outputs": [
    {
     "data": {
      "text/plain": [
       "'Álgebra Linear'"
      ]
     },
     "execution_count": 2,
     "metadata": {},
     "output_type": "execute_result"
    }
   ],
   "source": [
    "\"Álgebra\" + \" Linear\""
   ]
  },
  {
   "cell_type": "markdown",
   "metadata": {},
   "source": [
    "Entretanto, esse tipo de impressão dos dados de saída na tela é demasiadamente utilizado em operações simples, sendo de maior uso para testar recursos triviais que podem ser implementados em funções maiores."
   ]
  },
  {
   "cell_type": "markdown",
   "metadata": {},
   "source": [
    "Quando lidamos com progamas mais bem estruturados, com scripts bem definidos, devemos utilizar o comando `print()`."
   ]
  },
  {
   "cell_type": "code",
   "execution_count": 3,
   "metadata": {},
   "outputs": [
    {
     "name": "stdout",
     "output_type": "stream",
     "text": [
      "7\n",
      "Álgebra Linear\n"
     ]
    }
   ],
   "source": [
    "print(3 + 4)\n",
    "print(\"Álgebra\" + \" Linear\")"
   ]
  },
  {
   "cell_type": "markdown",
   "metadata": {},
   "source": [
    "### Tipagem Dinâmica: Tipos de Dados em Variáveis"
   ]
  },
  {
   "cell_type": "markdown",
   "metadata": {},
   "source": [
    "Como foi explanado anteriormente, no python, não há mais a necessidade de se inicializar variáveis, pois usamos um recurso chamado `Tipagem Dinâmica`, esse que permite o uso de variáveis que não exigem declarações de `Tipos de Dados`, pois a linguagem é capaz de escolher que tipo utilizar dinamicamente para cada variável, podendo ter seu valor e tipo alterados na memória a qualquer momento."
   ]
  },
  {
   "cell_type": "markdown",
   "metadata": {},
   "source": [
    "|**Tipos de Dados Básicos**|**Comandos**|\n",
    "|:--------------------------|:------------|\n",
    "|Números|int, float e complex|\n",
    "|Strings|str|\n",
    "|Lista e Tuplas|list, tuple|\n",
    "|Dicionários|dict|\n",
    "|Arquívos|file|\n",
    "|Booleanos|bool(True, False)|\n",
    "|Conjuntos|set, frozenset|"
   ]
  },
  {
   "cell_type": "markdown",
   "metadata": {},
   "source": [
    "### Dados númericos"
   ]
  },
  {
   "cell_type": "code",
   "execution_count": 11,
   "metadata": {},
   "outputs": [
    {
     "name": "stdout",
     "output_type": "stream",
     "text": [
      "inteiro: 1 type: <class 'int'>\n",
      "número real: 1.50 type: <class 'float'>\n",
      "número complexo: (5+4j) type: <class 'complex'>\n"
     ]
    }
   ],
   "source": [
    "int_ = 1\n",
    "float_ = 1.5\n",
    "complex_ = 5 + 4j # parte real e parte complexa\n",
    "\n",
    "print('inteiro:', int_, 'type:', type(int_))\n",
    "print('número real: {:.2f} type: {}'.format(float_, type(float_)))\n",
    "print('número complexo: ' + str(complex_) + ' type: ' + str(type(complex_))) \n",
    "# existem muitas formas de se imprimir uma mesma informação!"
   ]
  },
  {
   "cell_type": "markdown",
   "metadata": {},
   "source": [
    "Além disso, a definição de tipagem dinâmica garante que é possível alterar o tipo de dado de uma variável a qualquer momento do progama, então podemos ter o seguinte processo:"
   ]
  },
  {
   "cell_type": "code",
   "execution_count": 20,
   "metadata": {},
   "outputs": [
    {
     "name": "stdout",
     "output_type": "stream",
     "text": [
      "é inteiro? False\n",
      "\tnúmero complexo: (1.234567765432+4.4567876543j) type: <class 'complex'>\n",
      "\n",
      "ainda é complexo? False\n",
      "\tstring: a vida é bela type: <class 'str'>\n"
     ]
    }
   ],
   "source": [
    "int_ = 1.234567765432 + 4.4567876543j\n",
    "\n",
    "print('é inteiro?', int_ == int)\n",
    "print('\\tnúmero complexo:', int_, 'type:', type(int_))\n",
    "\n",
    "int_ = 'a' + \" vida\" + \"\"\" é\"\"\" + ''' bela''' # observe a liberdade com as aspas!\n",
    "\n",
    "print('\\nainda é complexo?', int_ == int)\n",
    "print('\\tstring:', int_, 'type:', type(int_)) # você observou alguns caracteres especiais?"
   ]
  },
  {
   "cell_type": "markdown",
   "metadata": {},
   "source": [
    "Logo, a tipagem dinâmica nos permite mais versatilidade na criação dos nossos progamas. De modo que não há necessida de se manter preso ao cuidado de não alterar o tipo de dado de uma variável (mas como você é um estudante esperto, sei que não fará isso). Todavia, o mesmo recurso que pode ser de grande ajuda também pode permitir erros lógicos, sendo necessário ter cuidado para evitar erros lógicos."
   ]
  },
  {
   "cell_type": "markdown",
   "metadata": {},
   "source": [
    "## Cadeias de caracteres (strings)"
   ]
  },
  {
   "cell_type": "markdown",
   "metadata": {},
   "source": [
    "Usar strings no python não tem muito mistério, a concatenção entre duas strings podem ser feitas através do operador de adição `+`, e qualquer outro tipo de dado número pode ser facilmente convertido em strings usando `str()`. Veja abaixo algumas implementações. "
   ]
  },
  {
   "cell_type": "code",
   "execution_count": 22,
   "metadata": {},
   "outputs": [
    {
     "name": "stdout",
     "output_type": "stream",
     "text": [
      "The Zen of Python, by Tim Peters\n",
      "\n",
      "                        Beautiful is better than ugly.\n",
      "                        Explicit is better than implicit.\n",
      "                        Simple is better than complex.\n",
      "                        Complex is better than complicated.\n",
      "                        Flat is better than nested.\n",
      "                        Sparse is better than dense.\n",
      "                        Readability counts.\n",
      "                        Special cases aren't special enough to break the rules.\n",
      "                        Although practicality beats purity.\n",
      "                        Errors should never pass silently.\n",
      "                        Unless explicitly silenced.\n",
      "                        In the face of ambiguity, refuse the temptation to guess.\n",
      "                        There should be one-- and preferably only one --obvious way to do it.\n",
      "                        Although that way may not be obvious at first unless you're Dutch.\n",
      "                        Now is better than never.\n",
      "                        Although never is often better than *right* now.\n",
      "                        If the implementation is hard to explain, it's a bad idea.\n",
      "                        If the implementation is easy to explain, it may be a good idea.\n",
      "                        Namespaces are one honking great idea -- let's do more of those!\n"
     ]
    }
   ],
   "source": [
    "mandamentos_python = \"\"\"The Zen of Python, by Tim Peters\n",
    "\n",
    "                        Beautiful is better than ugly.\n",
    "                        Explicit is better than implicit.\n",
    "                        Simple is better than complex.\n",
    "                        Complex is better than complicated.\n",
    "                        Flat is better than nested.\n",
    "                        Sparse is better than dense.\n",
    "                        Readability counts.\n",
    "                        Special cases aren't special enough to break the rules.\n",
    "                        Although practicality beats purity.\n",
    "                        Errors should never pass silently.\n",
    "                        Unless explicitly silenced.\n",
    "                        In the face of ambiguity, refuse the temptation to guess.\n",
    "                        There should be one-- and preferably only one --obvious way to do it.\n",
    "                        Although that way may not be obvious at first unless you're Dutch.\n",
    "                        Now is better than never.\n",
    "                        Although never is often better than *right* now.\n",
    "                        If the implementation is hard to explain, it's a bad idea.\n",
    "                        If the implementation is easy to explain, it may be a good idea.\n",
    "                        Namespaces are one honking great idea -- let's do more of those!\"\"\"\n",
    "\n",
    "print(mandamentos_python) # digite 'import this' no interpretador do python e veja o que acontece!"
   ]
  },
  {
   "cell_type": "code",
   "execution_count": 24,
   "metadata": {},
   "outputs": [
    {
     "name": "stdout",
     "output_type": "stream",
     "text": [
      "você vai usar álgebra linear durante toda sua carreira! Estude!\n"
     ]
    }
   ],
   "source": [
    "str_ = 'você vai usar'\n",
    "str_ += ' álgebra linear'\n",
    "str_ = str_.__add__(' durante toda sua carreira!') # acabei de usar um dos 'métodos mágicos', busque mais a respeito sobre eles!\n",
    "str__ = ' Estude!'\n",
    "str_ = str_ + str__\n",
    "\n",
    "print(str_)"
   ]
  },
  {
   "cell_type": "code",
   "execution_count": 28,
   "metadata": {},
   "outputs": [
    {
     "name": "stdout",
     "output_type": "stream",
     "text": [
      "14\n",
      "álgebra linear\n"
     ]
    }
   ],
   "source": [
    "print(str_.find('álgebra linear'))\n",
    "print(str_[14 : 14 + len('álgebra linear')]) \n",
    "# muita coisa aconteceu por aqui, separe o problema em pedaços e tente entender o escopo geral!"
   ]
  },
  {
   "cell_type": "markdown",
   "metadata": {},
   "source": [
    "### Listas e Tuplas, qual a principal diferença entre elas?"
   ]
  },
  {
   "cell_type": "markdown",
   "metadata": {},
   "source": [
    "Uma confusão muito comum quando se usa uma **Lista** ou uma **Tupla** em Python é saber diferenciar cada uma delas. Do ponto de vista conceitual devemos utilizar `tuplas para montar estruturas de dados heterogêneos` enquanto a `lista deveria ser usada para dados homogêneos`, ou seja, todos seus elementos deveriam ser do mesmo tipo. Veja que a lista contém diferentes tipos de dados armazenados em uma única variável."
   ]
  },
  {
   "cell_type": "code",
   "execution_count": 34,
   "metadata": {},
   "outputs": [
    {
     "name": "stdout",
     "output_type": "stream",
     "text": [
      "alimentação básica do estudante:  ['café', 'cuscuz', 'água', 'lágrimas']\n"
     ]
    }
   ],
   "source": [
    "list_ = ['café', 'cuscuz', 'água', 'lágrimas']\n",
    "\n",
    "print('alimentação básica do estudante: ', list_)"
   ]
  },
  {
   "cell_type": "code",
   "execution_count": 35,
   "metadata": {},
   "outputs": [
    {
     "name": "stdout",
     "output_type": "stream",
     "text": [
      "['computadores', 12, 12.0, (4+5j), ['tablets', 'celulares'], ['café', 'cuscuz', 'água', 'lágrimas']]\n"
     ]
    }
   ],
   "source": [
    "variedades = ['computadores', 12, 12.0, 4 + 5j, ['tablets', 'celulares'], list_]\n",
    "\n",
    "print(variedades)"
   ]
  },
  {
   "cell_type": "code",
   "execution_count": 38,
   "metadata": {},
   "outputs": [
    {
     "name": "stdout",
     "output_type": "stream",
     "text": [
      "café\n",
      "cuscuz\n",
      "água\n",
      "arroz\n",
      "\n",
      " ['café', 'cuscuz', 'água', 'arroz', 'arroz']\n",
      "\n",
      " ['arroz', 'café', 'cuscuz', 'água']\n"
     ]
    }
   ],
   "source": [
    "for itens in list_:\n",
    "    print(itens)\n",
    "    \n",
    "list_.append('arroz') # qual o limite de armazenamento em uma lista?\n",
    "\n",
    "print('\\n', list_)\n",
    "\n",
    "del list_[3]\n",
    "\n",
    "print('\\n', sorted(list_)) # porque 'água' não ficou no primeiro indice da lista?"
   ]
  },
  {
   "cell_type": "markdown",
   "metadata": {},
   "source": [
    "Veja acima que foi definido uma lista com diferentes tipos de dados. Além disso, podemos acessar cada elemento individual das listas, tuplas ou arrays sabendo que os elementos são númerados no intervalo de `(0, n-1) n = len(list)`, dado que o último elemento é o número de parada."
   ]
  },
  {
   "cell_type": "code",
   "execution_count": 40,
   "metadata": {},
   "outputs": [
    {
     "name": "stdout",
     "output_type": "stream",
     "text": [
      "(1, 12.0, (3+4j), ['café', 'cuscuz', 'água', 'arroz']) \n",
      " <class 'tuple'>\n"
     ]
    }
   ],
   "source": [
    "tuple_ = (1, 12.0, 3 + 4j, list_)\n",
    "\n",
    "print(tuple_, '\\n', type(tuple_))"
   ]
  },
  {
   "cell_type": "code",
   "execution_count": 41,
   "metadata": {},
   "outputs": [
    {
     "ename": "TypeError",
     "evalue": "'tuple' object doesn't support item deletion",
     "output_type": "error",
     "traceback": [
      "\u001b[1;31m---------------------------------------------------------------------------\u001b[0m",
      "\u001b[1;31mTypeError\u001b[0m                                 Traceback (most recent call last)",
      "\u001b[1;32m<ipython-input-41-ab89e1737781>\u001b[0m in \u001b[0;36m<module>\u001b[1;34m\u001b[0m\n\u001b[1;32m----> 1\u001b[1;33m \u001b[1;32mdel\u001b[0m \u001b[0mtuple_\u001b[0m\u001b[1;33m[\u001b[0m\u001b[1;36m0\u001b[0m\u001b[1;33m]\u001b[0m\u001b[1;33m\u001b[0m\u001b[1;33m\u001b[0m\u001b[0m\n\u001b[0m",
      "\u001b[1;31mTypeError\u001b[0m: 'tuple' object doesn't support item deletion"
     ]
    }
   ],
   "source": [
    "del tuple_[0]"
   ]
  },
  {
   "cell_type": "code",
   "execution_count": 42,
   "metadata": {},
   "outputs": [
    {
     "ename": "AttributeError",
     "evalue": "'tuple' object has no attribute 'append'",
     "output_type": "error",
     "traceback": [
      "\u001b[1;31m---------------------------------------------------------------------------\u001b[0m",
      "\u001b[1;31mAttributeError\u001b[0m                            Traceback (most recent call last)",
      "\u001b[1;32m<ipython-input-42-40d1f414c4fb>\u001b[0m in \u001b[0;36m<module>\u001b[1;34m\u001b[0m\n\u001b[1;32m----> 1\u001b[1;33m \u001b[0mtuple_\u001b[0m\u001b[1;33m.\u001b[0m\u001b[0mappend\u001b[0m\u001b[1;33m(\u001b[0m\u001b[1;36m7\u001b[0m\u001b[1;33m)\u001b[0m\u001b[1;33m\u001b[0m\u001b[1;33m\u001b[0m\u001b[0m\n\u001b[0m",
      "\u001b[1;31mAttributeError\u001b[0m: 'tuple' object has no attribute 'append'"
     ]
    }
   ],
   "source": [
    "tuple_.append(7)"
   ]
  },
  {
   "cell_type": "markdown",
   "metadata": {},
   "source": [
    "Veja que não é possível adicionar ou remover nenhum elemento da tupla. Portanto, essas são as principais diferenças entre listas e tuplas no Python. Ou seja, em relação a mutabilidade a lista é plástica e a tupla é rígida."
   ]
  },
  {
   "cell_type": "markdown",
   "metadata": {},
   "source": [
    "### Dicionários"
   ]
  },
  {
   "cell_type": "markdown",
   "metadata": {},
   "source": [
    "Dicionários são um tipo de dado muito interessante. Sabendo utilizá-los bem, é possível montar toda uma aplicação em que o salvamento de arquivos pode ser totalmente baseados em estruturas de dicionário! a sua estrutura obedece a seguinte sintaxe: `{'chave': elementos}`. Outra importância dos dicionários é a compactação de informações em um so elemento, veja o exemplo abaixo."
   ]
  },
  {
   "cell_type": "code",
   "execution_count": 94,
   "metadata": {},
   "outputs": [
    {
     "name": "stdout",
     "output_type": "stream",
     "text": [
      "{'itens pessoais': ['sabonete', 'shampoo', 'condicionador', 'escova de dentes'], 'livros': ['flores para algernon', 'fahrenheit 451', 'State of art in Deep Learning'], 'tipos de roupas': ['camisas', 'calças', 'cuecas', 'meias', 'sapato'], 'local da viagem': 'Natal - Rio Grande do Norte', 'total de pessoas': 5, 'não esquecer': ['passaporte', 'casaco', 'colocar comida do cachorro']}\n"
     ]
    }
   ],
   "source": [
    "# === Montando uma mala ===\n",
    "pessoal = ['sabonete', 'shampoo', 'condicionador', 'escova de dentes']\n",
    "livros = ['flores para algernon', 'fahrenheit 451', 'State of art in Deep Learning']\n",
    "roupas = ['camisas', 'calças', 'cuecas', 'meias', 'sapato']\n",
    "local = 'Natal - Rio Grande do Norte'\n",
    "pessoas = 5\n",
    "mala = {'itens pessoais': pessoal, \n",
    "        'livros': livros,\n",
    "        'tipos de roupas': roupas,\n",
    "        'local da viagem': local,\n",
    "        'total de pessoas': pessoas}\n",
    "\n",
    "mala['não esquecer'] = ['passaporte', 'casaco', 'colocar comida do cachorro']\n",
    "\n",
    "print(mala)"
   ]
  },
  {
   "cell_type": "code",
   "execution_count": 97,
   "metadata": {},
   "outputs": [
    {
     "name": "stdout",
     "output_type": "stream",
     "text": [
      "itens pessoais ['sabonete', 'shampoo', 'condicionador', 'escova de dentes']\n",
      "livros ['flores para algernon', 'fahrenheit 451', 'State of art in Deep Learning']\n",
      "tipos de roupas ['camisas', 'calças', 'cuecas', 'meias', 'sapato']\n",
      "local da viagem Natal - Rio Grande do Norte\n",
      "total de pessoas 5\n",
      "não esquecer ['passaporte', 'casaco', 'colocar comida do cachorro']\n"
     ]
    }
   ],
   "source": [
    "for chaves in mala.keys():\n",
    "    print(chaves, mala[chaves])"
   ]
  },
  {
   "cell_type": "markdown",
   "metadata": {},
   "source": [
    "### Operadores Aritméticos"
   ]
  },
  {
   "cell_type": "markdown",
   "metadata": {},
   "source": [
    "|**Operadores Aritméticos**|**Comando**|\n",
    "|--------------------------|-----------|\n",
    "|Soma                      |+          |\n",
    "|Subtração                 |-          |\n",
    "|Multiplicação             |*          |\n",
    "|Divisão                   |/          |\n",
    "|Exponenciação             |**         |"
   ]
  },
  {
   "cell_type": "markdown",
   "metadata": {},
   "source": [
    "Como já dizia **Bill Gates**, progamar não é nada mais e nada menos do que somar, subtrair, multiplicar e dividir. De fato, a partir desses princípios matemáticos básicos podemos desenvolver qualquer operação complexa sob tutela da manipulações aritméticas. Então, vamos mostrar exemplos de uso para cada operador individualmente. Antes de fazermos isso, é importante saber a ordem pela qual as operações são realizadas, visando contornar erros lógicos em seus progamas."
   ]
  },
  {
   "cell_type": "markdown",
   "metadata": {},
   "source": [
    "|**Ordem de Precedência dos Operadores Aritméticos**|\n",
    "|---------------------------------------------------|\n",
    "|1 - Parentêses                                     |\n",
    "|2 - Exponenciação                                  |\n",
    "|3 - Multiplicação e Divisão                        |\n",
    "|4 - Soma e Subtração                               |"
   ]
  },
  {
   "cell_type": "markdown",
   "metadata": {},
   "source": [
    "Os operadores com a mesma precedência são avaliados da esquerda para a direita. Quando essa ordem não for tão clara assim, opte por usar parênteses para forçar as ordens das operações, seja por motivos de esquecimentos ou motivos propositais."
   ]
  },
  {
   "cell_type": "code",
   "execution_count": 53,
   "metadata": {},
   "outputs": [
    {
     "data": {
      "text/plain": [
       "1.0"
      ]
     },
     "execution_count": 53,
     "metadata": {},
     "output_type": "execute_result"
    }
   ],
   "source": [
    "2 ** (((3 + 7) - (-10 + 15) * 2) / 5 ) "
   ]
  },
  {
   "cell_type": "markdown",
   "metadata": {},
   "source": [
    "### Funções da biblioteca Python"
   ]
  },
  {
   "cell_type": "markdown",
   "metadata": {},
   "source": [
    "A própia linguagem de progamação Python oferece inúmeras **funções** para implentar em nossos progamas. Não nos cabe listar todas elas aqui, pois ao longo dos progamas desenvolvidos no nosso repositório elas vão sendo usados e bem comentadas, permitindo que o seu aprendizado seja mais aprofundado nos recursos da linguagem. Vale salientar que podemos utilizar a função **\"dir\"** para saber quais funções estão disponíveis para um tipo de variável. Veja abaixo como utilizar esse recurso."
   ]
  },
  {
   "cell_type": "code",
   "execution_count": 55,
   "metadata": {},
   "outputs": [
    {
     "data": {
      "text/plain": [
       "['__add__',\n",
       " '__class__',\n",
       " '__contains__',\n",
       " '__delattr__',\n",
       " '__delitem__',\n",
       " '__dir__',\n",
       " '__doc__',\n",
       " '__eq__',\n",
       " '__format__',\n",
       " '__ge__',\n",
       " '__getattribute__',\n",
       " '__getitem__',\n",
       " '__gt__',\n",
       " '__hash__',\n",
       " '__iadd__',\n",
       " '__imul__',\n",
       " '__init__',\n",
       " '__init_subclass__',\n",
       " '__iter__',\n",
       " '__le__',\n",
       " '__len__',\n",
       " '__lt__',\n",
       " '__mul__',\n",
       " '__ne__',\n",
       " '__new__',\n",
       " '__reduce__',\n",
       " '__reduce_ex__',\n",
       " '__repr__',\n",
       " '__reversed__',\n",
       " '__rmul__',\n",
       " '__setattr__',\n",
       " '__setitem__',\n",
       " '__sizeof__',\n",
       " '__str__',\n",
       " '__subclasshook__',\n",
       " 'append',\n",
       " 'clear',\n",
       " 'copy',\n",
       " 'count',\n",
       " 'extend',\n",
       " 'index',\n",
       " 'insert',\n",
       " 'pop',\n",
       " 'remove',\n",
       " 'reverse',\n",
       " 'sort']"
      ]
     },
     "execution_count": 55,
     "metadata": {},
     "output_type": "execute_result"
    }
   ],
   "source": [
    "dir(list_)"
   ]
  },
  {
   "cell_type": "markdown",
   "metadata": {},
   "source": [
    "Assim, de acordo com a necessidade de implementação de recursos em um progama, podemos usar a função **\"dir\"** para conseguir olhar todos os **atributos/propiedades** e **funções/métodos disponíveis** para uma determinada variável."
   ]
  },
  {
   "cell_type": "markdown",
   "metadata": {},
   "source": [
    "### Recebendo Dados de Entrada"
   ]
  },
  {
   "cell_type": "markdown",
   "metadata": {},
   "source": [
    "Vamos usar a função **\"input\"** para receber um dado de entrada e adicinar esses dados em variáveis."
   ]
  },
  {
   "cell_type": "code",
   "execution_count": 56,
   "metadata": {},
   "outputs": [
    {
     "name": "stdout",
     "output_type": "stream",
     "text": [
      "Insira Algo: siga a pels/ias ufcg no instagram!\n",
      "siga a pels/ias ufcg no instagram!\n"
     ]
    }
   ],
   "source": [
    "entrada = input(\"Insira Algo: \") \n",
    "\n",
    "print(entrada)"
   ]
  },
  {
   "cell_type": "code",
   "execution_count": 57,
   "metadata": {},
   "outputs": [
    {
     "name": "stdout",
     "output_type": "stream",
     "text": [
      "Insira um número: 12\n"
     ]
    },
    {
     "ename": "TypeError",
     "evalue": "can only concatenate str (not \"int\") to str",
     "output_type": "error",
     "traceback": [
      "\u001b[1;31m---------------------------------------------------------------------------\u001b[0m",
      "\u001b[1;31mTypeError\u001b[0m                                 Traceback (most recent call last)",
      "\u001b[1;32m<ipython-input-57-23a492fbe326>\u001b[0m in \u001b[0;36m<module>\u001b[1;34m\u001b[0m\n\u001b[0;32m      1\u001b[0m \u001b[0mnumero\u001b[0m \u001b[1;33m=\u001b[0m \u001b[0minput\u001b[0m\u001b[1;33m(\u001b[0m\u001b[1;34m'Insira um número: '\u001b[0m\u001b[1;33m)\u001b[0m\u001b[1;33m\u001b[0m\u001b[1;33m\u001b[0m\u001b[0m\n\u001b[0;32m      2\u001b[0m \u001b[1;33m\u001b[0m\u001b[0m\n\u001b[1;32m----> 3\u001b[1;33m \u001b[0mprint\u001b[0m\u001b[1;33m(\u001b[0m\u001b[0mnumero\u001b[0m \u001b[1;33m+\u001b[0m \u001b[1;36m4\u001b[0m\u001b[1;33m)\u001b[0m \u001b[1;31m# porque isso não funcionou?\u001b[0m\u001b[1;33m\u001b[0m\u001b[1;33m\u001b[0m\u001b[0m\n\u001b[0m",
      "\u001b[1;31mTypeError\u001b[0m: can only concatenate str (not \"int\") to str"
     ]
    }
   ],
   "source": [
    "numero = input('Insira um número: ')\n",
    "\n",
    "print(numero + 4) # porque isso não funcionou?"
   ]
  },
  {
   "cell_type": "markdown",
   "metadata": {},
   "source": [
    "Observe que foi digitado um número inteiro, mas foi armazenado como uma string. Isso ocorre porque a função `input` não funciona com tipagem dinâmica. Caso seja necessário receber algum tipo de dado do usuário, devemos ter em mente qual tipo de dado será solicitado e inicializá-lo."
   ]
  },
  {
   "cell_type": "code",
   "execution_count": 58,
   "metadata": {},
   "outputs": [
    {
     "name": "stdout",
     "output_type": "stream",
     "text": [
      "Insira um número: 1\n",
      "Insira um outro número: 2\n",
      "3\n"
     ]
    }
   ],
   "source": [
    "numero1 = int(input('Insira um número: '))\n",
    "numero2 = input('Insira um outro número: ')\n",
    "\n",
    "print(numero1 + int(numero2)) "
   ]
  },
  {
   "cell_type": "markdown",
   "metadata": {},
   "source": [
    "### Fatiamento"
   ]
  },
  {
   "cell_type": "markdown",
   "metadata": {},
   "source": [
    "O **fatiamento** pode ser utilizado principalmente em **strings** (que são cadeias de caracteres), **listas**, **tuplas** e **arrays** (esse que será estudado com maior profundidade em outro progama). Basicamente, trata-se do ato de pegar uma parte do todo de qualquer um desses elementos citados acima. Para fazer isso, vamos utilizar os exemplos já criados."
   ]
  },
  {
   "cell_type": "code",
   "execution_count": 66,
   "metadata": {},
   "outputs": [
    {
     "name": "stdout",
     "output_type": "stream",
     "text": [
      "você vai usar álgebra linear durante toda sua carreira! Estude!\n",
      "álgebra linear\n"
     ]
    }
   ],
   "source": [
    "print(str_)\n",
    "print(str_[14: 14 + len('álgebra linear')])"
   ]
  },
  {
   "cell_type": "code",
   "execution_count": 81,
   "metadata": {},
   "outputs": [
    {
     "name": "stdout",
     "output_type": "stream",
     "text": [
      "[0, 1, 2, 3, 4, 5, 6, 7, 8, 9]\n",
      "[9989, 9990, 9991, 9992, 9993, 9994, 9995, 9996, 9997, 9998]\n",
      "10000\n"
     ]
    }
   ],
   "source": [
    "flag = 0\n",
    "history = []\n",
    "\n",
    "for i in range(0, 10000):\n",
    "    history.append(flag)\n",
    "    flag += 1\n",
    "    \n",
    "print(history[:10])\n",
    "print(history[-10: -1])\n",
    "print(len(history))"
   ]
  },
  {
   "cell_type": "markdown",
   "metadata": {},
   "source": [
    "### Operadores Lógicos"
   ]
  },
  {
   "cell_type": "markdown",
   "metadata": {},
   "source": [
    "|**Operadores Lógicos**|**Comandos**|\n",
    "|----------------------|------------|\n",
    "|Igual                 |==          |\n",
    "|Diferente             |!=          |\n",
    "|Menor                 |<           |\n",
    "|Maior                 |>           |\n",
    "|Menor igual           |<=          |\n",
    "|Maior Igual           |>=          |\n",
    "|Booleanos             |True, False |\n",
    "|Conectivos            |and, or     |"
   ]
  },
  {
   "cell_type": "markdown",
   "metadata": {},
   "source": [
    "Os **operadores lógicos** são usados para representar situações lógicas responsáveis por ajudar na tomada de decisões pela máquina e escolhas de opções definidas. Também são chamados conectivos lógicos por unirem duas expressões simples numa composta. Dessa forma, podemos ter ótimas ferramentas computacionais para realizar os nossos algoritmos."
   ]
  },
  {
   "cell_type": "code",
   "execution_count": 45,
   "metadata": {},
   "outputs": [
    {
     "data": {
      "text/plain": [
       "False"
      ]
     },
     "execution_count": 45,
     "metadata": {},
     "output_type": "execute_result"
    }
   ],
   "source": [
    "# analisando o operador lógico de igualdade\n",
    "7 == 8"
   ]
  },
  {
   "cell_type": "code",
   "execution_count": 46,
   "metadata": {},
   "outputs": [
    {
     "data": {
      "text/plain": [
       "True"
      ]
     },
     "execution_count": 46,
     "metadata": {},
     "output_type": "execute_result"
    }
   ],
   "source": [
    "# analisando o operador lógico de igualdade\n",
    "7 == 7"
   ]
  },
  {
   "cell_type": "code",
   "execution_count": 47,
   "metadata": {},
   "outputs": [
    {
     "data": {
      "text/plain": [
       "True"
      ]
     },
     "execution_count": 47,
     "metadata": {},
     "output_type": "execute_result"
    }
   ],
   "source": [
    "# analisando o operador lógico de diferença\n",
    "7 != 8"
   ]
  },
  {
   "cell_type": "code",
   "execution_count": 48,
   "metadata": {},
   "outputs": [
    {
     "data": {
      "text/plain": [
       "False"
      ]
     },
     "execution_count": 48,
     "metadata": {},
     "output_type": "execute_result"
    }
   ],
   "source": [
    "# analisando o operador lógico de diferença\n",
    "7 != 7"
   ]
  },
  {
   "cell_type": "code",
   "execution_count": 49,
   "metadata": {},
   "outputs": [
    {
     "data": {
      "text/plain": [
       "False"
      ]
     },
     "execution_count": 49,
     "metadata": {},
     "output_type": "execute_result"
    }
   ],
   "source": [
    "# analisando o operador lógico de menor\n",
    "8 < 4"
   ]
  },
  {
   "cell_type": "code",
   "execution_count": 50,
   "metadata": {},
   "outputs": [
    {
     "data": {
      "text/plain": [
       "True"
      ]
     },
     "execution_count": 50,
     "metadata": {},
     "output_type": "execute_result"
    }
   ],
   "source": [
    "# analisando o operador lógico de menor ou igual\n",
    "5 <= 5"
   ]
  },
  {
   "cell_type": "code",
   "execution_count": 51,
   "metadata": {},
   "outputs": [
    {
     "data": {
      "text/plain": [
       "True"
      ]
     },
     "execution_count": 51,
     "metadata": {},
     "output_type": "execute_result"
    }
   ],
   "source": [
    "# analisando o operador lógico de maior\n",
    "8 > 4"
   ]
  },
  {
   "cell_type": "code",
   "execution_count": 52,
   "metadata": {},
   "outputs": [
    {
     "data": {
      "text/plain": [
       "True"
      ]
     },
     "execution_count": 52,
     "metadata": {},
     "output_type": "execute_result"
    }
   ],
   "source": [
    "# analisando o operador lógico de maior ou igual\n",
    "5 >= 5"
   ]
  },
  {
   "cell_type": "code",
   "execution_count": 53,
   "metadata": {},
   "outputs": [
    {
     "data": {
      "text/plain": [
       "False"
      ]
     },
     "execution_count": 53,
     "metadata": {},
     "output_type": "execute_result"
    }
   ],
   "source": [
    "# analisando o concectivo and (e)\n",
    "(7 == 8 and 5 != 7)"
   ]
  },
  {
   "cell_type": "code",
   "execution_count": 54,
   "metadata": {},
   "outputs": [
    {
     "data": {
      "text/plain": [
       "True"
      ]
     },
     "execution_count": 54,
     "metadata": {},
     "output_type": "execute_result"
    }
   ],
   "source": [
    "# analisando o conectivo or (ou)\n",
    "(7 == 8 or 5 != 7)"
   ]
  },
  {
   "cell_type": "markdown",
   "metadata": {},
   "source": [
    "### Estrutura de Decisão"
   ]
  },
  {
   "cell_type": "markdown",
   "metadata": {},
   "source": [
    "Vamos agora ver estruturas responsáveis por tomadas de decisões, como **\"if\"**, **\"elif\"** e **\"else\"**. Basicamente podemos entender esses comandos, respectivamente, da seguinte forma: se, se não se e caso contrário."
   ]
  },
  {
   "cell_type": "markdown",
   "metadata": {},
   "source": [
    "Veja isso em um exemplo abaixo:"
   ]
  },
  {
   "cell_type": "code",
   "execution_count": 55,
   "metadata": {},
   "outputs": [
    {
     "name": "stdin",
     "output_type": "stream",
     "text": [
      "Insira um primeiro número inteiro:  3\n",
      "Insira um segundo número inteiro:  4\n"
     ]
    },
    {
     "name": "stdout",
     "output_type": "stream",
     "text": [
      "\n",
      "número 01 = 3 e número 02 = 4\n",
      "\n",
      "3 é menor a 4\n"
     ]
    }
   ],
   "source": [
    "numero1 = int(input(\"Insira um primeiro número inteiro: \"))\n",
    "numero2 = int(input(\"Insira um segundo número inteiro: \"))\n",
    "\n",
    "print(\"\\nnúmero 01 = {} e número 02 = {}\\n\".format(numero1, numero2))\n",
    "\n",
    "if(numero1 > numero2):\n",
    "    print(\"{} é maior a {}\".format(numero1, numero2))\n",
    "elif(numero1 == numero2):\n",
    "    print(\"{} é igual a {}\".format(numero1, numero2))\n",
    "else:\n",
    "    print(\"{} é menor a {}\".format(numero1, numero2))\n",
    "\n",
    "# você observeu a ausência do ponto e vírgula?\n",
    "# se esses recuos fossem removidos das estruturas de repetição ou decisão, a lógica continuaria correta?"
   ]
  },
  {
   "cell_type": "markdown",
   "metadata": {},
   "source": [
    "Nesse exemplo, observe que os comandos `if`, `elif` e `else` devem estar acompanhados por `dois pontos` para indicar o momento pelo qual o conteúdo para cada decisão deve ser implementado. Além disso, observe o `recuo` entre as linhas de código, esse que muito além de estilístico, é usado para indicar `subcomandos de comandos superiores`, sendo obrigatório o seu uso. Além disso, o comando `\\n\"` é um caractere especial que indica ao progama uma quebra de linha."
   ]
  },
  {
   "cell_type": "markdown",
   "metadata": {},
   "source": [
    "### Estrutura de Repetição: for"
   ]
  },
  {
   "cell_type": "markdown",
   "metadata": {},
   "source": [
    "A estrutura de repetição `for` é utilizada quando se deseja repetir determinados passos programados em um número determinando de vezes previamente conhecidos. E para esse fim, geralmente, mas não necessariamente, deve-se utilizar o comando auxiliar `range`, esse que recebe dois comandos de entrada: o número inicial da contagem e o número pela qual deve-se parar. Veja abaixo um exemplo simples de como deve-se usar a estrutura de repetição `for`."
   ]
  },
  {
   "cell_type": "code",
   "execution_count": 56,
   "metadata": {},
   "outputs": [
    {
     "name": "stdout",
     "output_type": "stream",
     "text": [
      "0\n",
      "1\n",
      "2\n",
      "3\n",
      "4\n",
      "5\n",
      "6\n",
      "7\n",
      "8\n",
      "9\n",
      "10\n"
     ]
    }
   ],
   "source": [
    "for indice in range(0,11):\n",
    "    print(indice)"
   ]
  },
  {
   "cell_type": "code",
   "execution_count": 85,
   "metadata": {},
   "outputs": [
    {
     "name": "stdout",
     "output_type": "stream",
     "text": [
      "Você construiu uma máquina do tempo com um Delorean ? "
     ]
    }
   ],
   "source": [
    "frase = [\"Você\", \"construiu\", \"uma\", \"máquina\", \"do\", \"tempo\", \"com\", \"um\", \"Delorean\", \"?\"]\n",
    "\n",
    "for itens in frase:\n",
    "    print(itens, end = \" \")\n",
    "    "
   ]
  },
  {
   "cell_type": "markdown",
   "metadata": {},
   "source": [
    "### Estrutura de repetição: While"
   ]
  },
  {
   "cell_type": "markdown",
   "metadata": {},
   "source": [
    "A estrutura de repetição `while` ela está nas mesmas condições que a estrutura de repetição `for`. A diferença notável entre as duas é que a `ordem de parada` do `for` é previsível e a do `while` não. Por esse motivo, devemos criar uma estrutura de condição para a ordem de parada em uma estrutura de repetição `while`. Veja um exemplo abaixo:"
   ]
  },
  {
   "cell_type": "code",
   "execution_count": 86,
   "metadata": {},
   "outputs": [
    {
     "name": "stdout",
     "output_type": "stream",
     "text": [
      "1, 1\n",
      "2, 3\n",
      "4, 9\n",
      "8, 27\n",
      "16, 81\n",
      "32, 243\n"
     ]
    }
   ],
   "source": [
    "a, b = 1, 1 # essa inicialização parece comum?\n",
    "\n",
    "while True:\n",
    "    print(\"{}, {}\".format(a, b))\n",
    "    a *= 2\n",
    "    b *= 3\n",
    "    if(a >= 500 or b >= 500):\n",
    "        break"
   ]
  },
  {
   "cell_type": "markdown",
   "metadata": {},
   "source": [
    "Veja que foi definido a estrutura de repetição `while` como verdadeira a todo momento. Caso não fosse especificado uma ordem de parada, responsável por quebrar essa repetição, ela entraria em um `laço loop`, tendo como consequência a execução desenfreada dos subcomandos do `while`. Para contornar esse problema, usamos o comando `break`, que vamos falar mais um pouco sobre ele agora."
   ]
  },
  {
   "cell_type": "markdown",
   "metadata": {},
   "source": [
    "### Comandos: break e continue"
   ]
  },
  {
   "cell_type": "markdown",
   "metadata": {},
   "source": [
    "O uso de comandos `break` e `continue` são grandes aliados para se usar em estruturas de repetições. Com o `break` o comando irá parar de vez, vamos pensar nele como um freio de mão de um carro, que o faz parar e não é mais possível acelerá-lo. Já o comando `continue` ele permite dar uma pausa para depois continuar na execução do comando, vamos pensar nele como se fosse um freio de um carro, que o faz desacelerar, mas após isso podemos continuar o processo de aceleração do automóvel. Vamos usar a estrutura de repetição `for` para tornar essa ideia mais clara."
   ]
  },
  {
   "cell_type": "code",
   "execution_count": 87,
   "metadata": {},
   "outputs": [
    {
     "name": "stdout",
     "output_type": "stream",
     "text": [
      "1\n",
      "2\n",
      "3\n",
      "4\n",
      "5\n"
     ]
    }
   ],
   "source": [
    "for indice in range(1, 11):\n",
    "    print(indice)\n",
    "    if(indice == 5):\n",
    "        break"
   ]
  },
  {
   "cell_type": "code",
   "execution_count": 88,
   "metadata": {},
   "outputs": [
    {
     "name": "stdout",
     "output_type": "stream",
     "text": [
      "1\n",
      "2\n",
      "3\n",
      "4\n",
      "5\n",
      "6\n",
      "7\n",
      "8\n",
      "9\n",
      "10\n"
     ]
    }
   ],
   "source": [
    "for indice in range(1, 11):\n",
    "    print(indice)\n",
    "    if(indice == 5):\n",
    "        continue"
   ]
  },
  {
   "cell_type": "markdown",
   "metadata": {},
   "source": [
    "### Criando Suas Própias Funções"
   ]
  },
  {
   "cell_type": "markdown",
   "metadata": {},
   "source": [
    "Como já foi visto, a linguagem de progamação Python é muito rica por possuir inúmeras **funções** prontas para uso. Entretanto, sempre é necessário criar funções própias para finalidades específicas, possibilitando a criação de inúmeros progamas para diversos fins. Vamos analisar como se dá a estrutura de uma função. Para isso, vamos trabalhar com o algoritmo da **sequência de fibonacci** pelo **método recursivo** (função que chama ela mesma, com uma ordem específica de parada)."
   ]
  },
  {
   "cell_type": "code",
   "execution_count": 91,
   "metadata": {},
   "outputs": [],
   "source": [
    "def fibonacci (termo):\n",
    "    if(termo == 1):\n",
    "        return 1\n",
    "    elif(termo == 2):\n",
    "        return 1\n",
    "    else:\n",
    "        return fibonacci(termo - 1) + fibonacci(termo - 2)\n",
    "\n",
    "# como se chama mesmo eh... \n",
    "    # como se chama mesmo eh... uma função que chama ela mesma?\n",
    "        # como se chama mesmo eh... uma função que chama ela mesma? recurso...\n",
    "            # como se chama mesmo eh... uma função que chama ela mesma? recurso, excursão...\n",
    "                # como se chama mesmo eh... uma função que chama ela mesma? recurso, excursão... RECURSÃO!"
   ]
  },
  {
   "cell_type": "markdown",
   "metadata": {},
   "source": [
    "Como toda operação com funções, precisamos de uma `função principal` para organizar o nosso progama. No nosso repositório, essa ideia não será tão relevante, pois estamos mais interessados em mostrar processos da programação aplicados em Álgebra Linear do que em desenvolver um produto final. Entretanto, é importante mostrar como se faz a chamada da função principal, dado que para montar um bom programa, esse quesito conta."
   ]
  },
  {
   "cell_type": "code",
   "execution_count": 89,
   "metadata": {},
   "outputs": [],
   "source": [
    "def main():\n",
    "    print(\"Programa Sequência de Gibonacci.\\n\\n\")\n",
    "    n = int(input(\"Digite o termo da sequência desejada, em números inteiros: \"))\n",
    "    for indice in range(1, n + 1):\n",
    "        print(fibonacci(indice), \",\", end  = \"\")\n",
    "    return 0"
   ]
  },
  {
   "cell_type": "markdown",
   "metadata": {},
   "source": [
    "Por fim, após definir que a função principal está chamado a função fibonacci definida, vamos agora fazer a chamada da função principal para executar o progama exemplo."
   ]
  },
  {
   "cell_type": "code",
   "execution_count": 92,
   "metadata": {},
   "outputs": [
    {
     "name": "stdout",
     "output_type": "stream",
     "text": [
      "Programa Sequência de Gibonacci.\n",
      "\n",
      "\n",
      "Digite o termo da sequência desejada, em números inteiros: 10\n",
      "1 ,1 ,2 ,3 ,5 ,8 ,13 ,21 ,34 ,55 ,"
     ]
    }
   ],
   "source": [
    "if __name__ == '__main__':\n",
    "    main()"
   ]
  },
  {
   "cell_type": "markdown",
   "metadata": {},
   "source": [
    "### Tratamento de excessões e erros"
   ]
  },
  {
   "cell_type": "markdown",
   "metadata": {},
   "source": [
    "Tratamento de excessões e erros é uma forma prática de garantir que o programa não termine sua execução no meio da operação. Através de seu uso, é possível garantir que determinados erros não travem um programa por completo. Abaixo, será ilustrado alguns problemas comuns."
   ]
  },
  {
   "cell_type": "code",
   "execution_count": 99,
   "metadata": {},
   "outputs": [
    {
     "name": "stdout",
     "output_type": "stream",
     "text": [
      "Não é possível dividir por zero!\n"
     ]
    }
   ],
   "source": [
    "try:\n",
    "    12 / 0\n",
    "except ZeroDivisionError:\n",
    "    print('Não é possível dividir por zero!')"
   ]
  },
  {
   "cell_type": "code",
   "execution_count": 100,
   "metadata": {},
   "outputs": [
    {
     "name": "stdout",
     "output_type": "stream",
     "text": [
      "Um erro ocorreu!\n"
     ]
    }
   ],
   "source": [
    "try:\n",
    "    lista = [1, 2, 3]\n",
    "    print(list[4])\n",
    "except:\n",
    "    print('Um erro ocorreu!')"
   ]
  },
  {
   "cell_type": "code",
   "execution_count": 104,
   "metadata": {},
   "outputs": [],
   "source": [
    "try:\n",
    "    x, y, z = 1, 0 , 1\n",
    "    coordenadas = (x, y)\n",
    "    coordenadas.append(z)\n",
    "except AttributeError:\n",
    "    pass"
   ]
  },
  {
   "cell_type": "markdown",
   "metadata": {},
   "source": [
    "## Utilizando pacotes"
   ]
  },
  {
   "cell_type": "markdown",
   "metadata": {},
   "source": [
    "É uma prática comum na programação utilizar ferramentas já prontas e implementadas, de modo que seja possível abstrair diversas operações e focar em problemas mais complexos. O Python, em particular, possui uma grande comunidade de contribuidores na plataforma [PyPi](https://pypi.org/), essa que tem o propósito de disponibilizar milhões de pacotes práticos e úteis para qualquer usuário utilizar. Além disso, o processo de obtenção e uso é simples, de modo que através de linhas de comando (considerando que a pasta de scripts do python está configurada nas váriaveis do sistema), o usuário consiga obté-las. "
   ]
  },
  {
   "cell_type": "markdown",
   "metadata": {},
   "source": [
    "`OBS: execute os códigos abaixo como linha de comando no sistema, não são interpretáveis pelo Python.`"
   ]
  },
  {
   "cell_type": "markdown",
   "metadata": {},
   "source": [
    "- `Instalar um pacote`: **pip install nome_do_pacote1 nome_do_pacote2 ... nome_do_pacote_n**\n",
    "> `pip install numpy`\n",
    "> `pip install numpy seaborn matplotlib`\n",
    "- `Desinstalar um pacote`: **pip uninstall nome_do_pacote1 nome_do_pacote2 ... nome_do_pacote_n**\n",
    "> `pip uninstall numpy`\n",
    "> `pip uninstall numpy seaborn matplotlib`\n",
    "- `Atualizar pacote existente`: **pip instal nome_do_pacote --upgrade**\n",
    "> `pip install tensorflow --upgrade`\n",
    "- `Instalar uma versão específica`: **pip install nome_do_pacote==version**\n",
    "> `pip install tensorflow==2.0.0`\n",
    "- `Visualizar pacotes instalados`: **pip list**\n",
    "> pip list"
   ]
  },
  {
   "cell_type": "code",
   "execution_count": 4,
   "metadata": {},
   "outputs": [
    {
     "data": {
      "image/png": "[encoded data removed]",
      "text/plain": [
       "<Figure size 1080x720 with 1 Axes>"
      ]
     },
     "metadata": {
      "needs_background": "light"
     },
     "output_type": "display_data"
    }
   ],
   "source": [
    "import numpy as np\n",
    "import matplotlib.pyplot as plt\n",
    "from matplotlib.collections import LineCollection\n",
    "\n",
    "from sklearn.linear_model import LinearRegression\n",
    "from sklearn.isotonic import IsotonicRegression\n",
    "from sklearn.utils import check_random_state\n",
    "\n",
    "n = 100\n",
    "x = np.arange(n)\n",
    "rs = check_random_state(0)\n",
    "y = rs.randint(-50, 50, size=(n,)) + 50. * np.log(1 + np.arange(n))\n",
    "\n",
    "###############################################################################\n",
    "# Fit IsotonicRegression and LinearRegression models\n",
    "\n",
    "ir = IsotonicRegression()\n",
    "\n",
    "y_ = ir.fit_transform(x, y)\n",
    "\n",
    "lr = LinearRegression()\n",
    "lr.fit(x[:, np.newaxis], y)  # x needs to be 2d for LinearRegression\n",
    "\n",
    "###############################################################################\n",
    "# plot result\n",
    "\n",
    "segments = [[[i, y[i]], [i, y_[i]]] for i in range(n)]\n",
    "lc = LineCollection(segments, zorder=0)\n",
    "lc.set_array(np.ones(len(y)))\n",
    "lc.set_linewidths(0.5 * np.ones(n))\n",
    "\n",
    "fig = plt.figure(figsize = (15,10))\n",
    "plt.plot(x, y, 'r.', markersize=12)\n",
    "plt.plot(x, y_, 'g.-', markersize=12)\n",
    "plt.plot(x, lr.predict(x[:, np.newaxis]), 'b-')\n",
    "plt.gca().add_collection(lc)\n",
    "plt.legend(('Data', 'Isotonic Fit', 'Linear Fit'), loc='lower right')\n",
    "plt.title('Isotonic regression')\n",
    "plt.show()\n",
    "\n",
    "# == código extraido da documentação do scikit-learn ==\n",
    "# https://scikit-learn.org/0.16/auto_examples/plot_isotonic_regression.html"
   ]
  },
  {
   "cell_type": "markdown",
   "metadata": {},
   "source": [
    "### (Opcional) Orientação a objetos"
   ]
  },
  {
   "cell_type": "markdown",
   "metadata": {},
   "source": [
    "Programação Orientada a Objetos `(POO)` é um modelo de análise, projeto e programação de software baseado na composição e interação entre diversas unidades chamadas de 'objetos'. A linguagem de programação Python também suporta POO, de modo que em poucas linhas classes úteis podem ser implementadas. Abaixo será exemplificado a construção de uma classe para resolução de problemas em regressão linear. Tudo bem se você não entender muito o que está acontecendo nos códigos abaixo, esse conteúdo será abordado posteriormente. Preste atenção em como uma classe é construida e em como os objetos são instanciados."
   ]
  },
  {
   "cell_type": "code",
   "execution_count": 169,
   "metadata": {},
   "outputs": [],
   "source": [
    "# importação de pacotes auxiliares\n",
    "import numpy as np\n",
    "import matplotlib.pyplot as plt\n",
    "\n",
    "class SimpleLinearRegression():\n",
    "    '''Classe que resolve problemas de regressão linear simples'''\n",
    "    \n",
    "    def __init__(self, len_scatter):\n",
    "        '''construtor da classe'''\n",
    "        \n",
    "        self.len_scatter = len_scatter\n",
    "        self.X = []\n",
    "        self.y = []\n",
    "        self.parameters = []\n",
    "        \n",
    "        return None\n",
    "    \n",
    "    def generate_linear_data(self, seed = 42):\n",
    "        '''método para geração de dados lineares arbitrários'''\n",
    "        \n",
    "        np.random.seed(seed)\n",
    "        self.X = np.random.randint(1, seed, (self.len_scatter, 1))\n",
    "        self.y = self.X * seed\n",
    "        \n",
    "        return (self.X, self.y)\n",
    "    \n",
    "    def get_parameters(self, X, y):\n",
    "        '''retorna os parâmetros do modelo (equação linear) a partir do ajuste nos dados'''\n",
    "        \n",
    "        m = self.y.size\n",
    "        X_bias = np.concatenate([np.ones((m, 1)), self.X], axis=1)\n",
    "        self.parameters = np.dot(np.dot(np.linalg.inv(np.dot(X_bias.T, X_bias)), X_bias.T), self.y)\n",
    "        \n",
    "        return self.parameters\n",
    "    \n",
    "    def plot_model(self, X, y, parameters):\n",
    "        '''visualização gráfica do modelo treinado'''\n",
    "        \n",
    "        plt.figure(figsize = (10,5))\n",
    "        plt.scatter(X, y, label = 'data')\n",
    "        plt.plot(np.arange(min(X) - 5, max(X) + 5), parameters[0] + parameters[1] * np.arange(min(X) - 5, max(X) + 5), label = 'model')\n",
    "        plt.xlabel('X')\n",
    "        plt.ylabel('y')\n",
    "        plt.title('Linear Regression with Normal Equation - Vectorized')\n",
    "        plt.legend()\n",
    "        plt.grid(False)\n",
    "        plt.box(False)\n",
    "        plt.show()\n",
    "        \n",
    "        return None "
   ]
  },
  {
   "cell_type": "code",
   "execution_count": 170,
   "metadata": {},
   "outputs": [
    {
     "data": {
      "image/png": "[encoded data removed]",
      "text/plain": [
       "<Figure size 720x360 with 1 Axes>"
      ]
     },
     "metadata": {
      "needs_background": "light"
     },
     "output_type": "display_data"
    }
   ],
   "source": [
    "# instanciação de um objeto da classe\n",
    "regressor = SimpleLinearRegression(len_scatter = 10)\n",
    "\n",
    "# obtendo os dados lineares a partir de uma semente de geração randômica\n",
    "X, y = regressor.generate_linear_data(seed = 42)\n",
    "\n",
    "# obtendo os parâmetros do modelo \n",
    "parameters = regressor.get_parameters(X, y)\n",
    "\n",
    "# visualizando o modelo treinado com os dados\n",
    "regressor.plot_model(X, y, parameters)"
   ]
  },
  {
   "cell_type": "markdown",
   "metadata": {},
   "source": [
    "### Alguma Dúvida? Entre em Contato Comigo: [Me envie um e-mail](mailto:alysson.barbosa@ee.ufcg.edu.br)"
   ]
  },
  {
   "cell_type": "markdown",
   "metadata": {},
   "source": [
    "### Extra\n",
    "***\n",
    "O repositório abaixo contém mais de 100 exemplos de códigos em python para treinar. Além disso, os conteúdos abordados são bem divididos em: \n",
    "\n",
    "- `Introdução ao Python`\n",
    "- `Variáveis`\n",
    "- `Listas`\n",
    "- `Usando Listas`\n",
    "- `Usando Tuplas`\n",
    "- `Condições`\n",
    "- `Dicionários`\n",
    "- `Dados de entrada`\n",
    "- `Estruturas de repetição`\n",
    "- `Funções`\n",
    "- `Importação de módulos e pacotes`\n",
    "- `Classes (POO)`\n",
    "- `Manipulação de Arquivos`\n",
    "- `Tratamento de Excessão e erro`\n",
    "***\n",
    "### - Link do repositório [PythonCrashCourse](https://github.com/Alyssonmach/PythonCrashCourse)"
   ]
  }
 ],
 "metadata": {
  "kernelspec": {
   "display_name": "Python 3",
   "language": "python",
   "name": "python3"
  },
  "language_info": {
   "codemirror_mode": {
    "name": "ipython",
    "version": 3
   },
   "file_extension": ".py",
   "mimetype": "text/x-python",
   "name": "python",
   "nbconvert_exporter": "python",
   "pygments_lexer": "ipython3",
   "version": "3.8.7"
  }
 },
 "nbformat": 4,
 "nbformat_minor": 4
}
