{
 "cells": [
  {
   "cell_type": "markdown",
   "metadata": {},
   "source": [
    "# Verifique se Todas as Bibliotecas Necessárias Foram Importadas"
   ]
  },
  {
   "cell_type": "markdown",
   "metadata": {},
   "source": [
    "O método mais comum, após instalar o Python em sua máquina, é o seguinte:"
   ]
  },
  {
   "cell_type": "markdown",
   "metadata": {},
   "source": [
    "Abra o seu prompt de comando e digite:\n",
    "# pip3 install numpy\n",
    "# pip3 install matplotlib\n",
    "# pip3 install jupyter\n",
    "# pip3 install sympy\n",
    "# pip3 install imageio\n",
    "# pip3 install ipywidgets\n",
    "# pip3 install scipy"
   ]
  },
  {
   "cell_type": "code",
   "execution_count": 2,
   "metadata": {},
   "outputs": [
    {
     "name": "stdout",
     "output_type": "stream",
     "text": [
      "numpy ... OK\n",
      "matplotlib ... OK\n",
      "jupyter ... OK\n",
      "sympy ... OK\n",
      "imageio ... OK\n",
      "ipywidgets ... OK\n",
      "scipy ... OK\n"
     ]
    }
   ],
   "source": [
    "import importlib\n",
    "from sys import version_info\n",
    "from distutils.version import StrictVersion\n",
    "\n",
    "def compare_version(module, version):\n",
    "    version_loaded = importlib.import_module(module).__version__\n",
    "    if StrictVersion(version_loaded) < StrictVersion(version):\n",
    "        return 'current version {}, please use conda or pip to upgrade to {} or later'.format(version_loaded, version)\n",
    "    return None\n",
    "\n",
    "def main():\n",
    "    try:\n",
    "        assert version_info >= (3,5)\n",
    "    except AssertionError:\n",
    "        print('This tutorial requires Python version 3.5 or later.')\n",
    "\n",
    "    modules = {'numpy': '1.15.1',\n",
    "               'matplotlib': '2.0.2',\n",
    "               'jupyter': None,\n",
    "               'sympy': None,\n",
    "               'imageio': None,\n",
    "               'ipywidgets': None,\n",
    "               'scipy': None}\n",
    "\n",
    "    for module, version in modules.items():\n",
    "        spec = importlib.util.find_spec(module)\n",
    "        if spec is None:\n",
    "            print('{} ... not found, use conda or pip to install'.format(module))\n",
    "        else:\n",
    "            if version is not None:\n",
    "                msg = compare_version(module, version)\n",
    "                if msg is not None:\n",
    "                    print('{} ... {}'.format(module, msg))\n",
    "                else:\n",
    "                    print('{} ... OK'.format(module))\n",
    "            else:\n",
    "                print('{} ... OK'.format(module))\n",
    "\n",
    "if __name__ == '__main__':\n",
    "    main()"
   ]
  },
  {
   "cell_type": "markdown",
   "metadata": {},
   "source": [
    "Caso esteja tudo instalado, o progama compilará como o exemplo acima."
   ]
  },
  {
   "cell_type": "code",
   "execution_count": null,
   "metadata": {},
   "outputs": [],
   "source": []
  }
 ],
 "metadata": {
  "kernelspec": {
   "display_name": "Python 3",
   "language": "python",
   "name": "python3"
  },
  "language_info": {
   "codemirror_mode": {
    "name": "ipython",
    "version": 3
   },
   "file_extension": ".py",
   "mimetype": "text/x-python",
   "name": "python",
   "nbconvert_exporter": "python",
   "pygments_lexer": "ipython3",
   "version": "3.7.4"
  }
 },
 "nbformat": 4,
 "nbformat_minor": 4
}
