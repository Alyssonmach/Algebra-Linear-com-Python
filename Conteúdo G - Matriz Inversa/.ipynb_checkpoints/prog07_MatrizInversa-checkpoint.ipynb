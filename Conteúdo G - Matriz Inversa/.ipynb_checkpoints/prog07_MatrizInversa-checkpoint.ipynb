{
 "cells": [
  {
   "cell_type": "markdown",
   "metadata": {},
   "source": [
    "# Matriz Inversa\n",
    "#### A matriz inversa ou matriz invertível é um tipo de matriz quadrada, ou seja, que possui o mesmo número de linhas (m) e colunas (n). Ela ocorre quando o produto de duas matrizes resulta numa matriz identidade de mesma ordem (mesmo número de linhas e colunas)."
   ]
  },
  {
   "cell_type": "markdown",
   "metadata": {},
   "source": [
    "##### Referência: Álgebra Linear com aplicações / Anton Howard e Chris Rorres; trad. Claus Ivo Doering. - 8. ed. - Porto Alegre: Bookman, 2001."
   ]
  },
  {
   "cell_type": "markdown",
   "metadata": {},
   "source": [
    "### Definição"
   ]
  },
  {
   "cell_type": "markdown",
   "metadata": {},
   "source": [
    "Dada uma matriz quadrada **A**, se pudermos encontrar uma matriz **B** de mesmo tamanho tal que **AB = BA = I**, então diremos que **A** é **invertível** e que **B** é uma **inversa** de **A**. Se não puder ser encontrada uma tal matriz **B** então diremos que **A** é **não-invertível** ou **singular**."
   ]
  },
  {
   "cell_type": "markdown",
   "metadata": {},
   "source": [
    "A matriz"
   ]
  },
  {
   "cell_type": "markdown",
   "metadata": {},
   "source": [
    "$$A = \\begin{bmatrix}\n",
    "              a & b \\\\\n",
    "              c & d \\\\\n",
    "              \\end{bmatrix}$$"
   ]
  },
  {
   "cell_type": "markdown",
   "metadata": {},
   "source": [
    "é invertível se **ad - bc &ne; 0** ou **det(A) &ne; 0**, caso em que a inversa é dada pela fórmula"
   ]
  },
  {
   "cell_type": "markdown",
   "metadata": {},
   "source": [
    "$A^{-1} = \\frac{1}{ad-bc}\\begin{bmatrix}\n",
    "                                  d & -b \\\\\n",
    "                                  -c & a \\\\\n",
    "                                  \\end{bmatrix} = \\begin{bmatrix}\n",
    "                                                          \\frac{d}{ad-bc} & \\frac{-b}{ad-bc} \\\\\n",
    "                                                          \\frac{-c}{ad-bc} & \\frac{a}{ad-bc} \\\\\n",
    "                                                          \\end{bmatrix}$"
   ]
  },
  {
   "cell_type": "markdown",
   "metadata": {},
   "source": [
    "### Exemplo: Encontrando Matrizes Inversas com Python"
   ]
  },
  {
   "cell_type": "markdown",
   "metadata": {},
   "source": [
    "Vamos agora ver como tal processo é fácil computacionalmente:"
   ]
  },
  {
   "cell_type": "code",
   "execution_count": 1,
   "metadata": {},
   "outputs": [],
   "source": [
    "# importando a biblioteca de funções numpy\n",
    "import numpy as np "
   ]
  },
  {
   "cell_type": "code",
   "execution_count": 2,
   "metadata": {},
   "outputs": [],
   "source": [
    "# função que calcula a matriz inversa\n",
    "def inversa():\n",
    "\n",
    "    print(\"Progama que calcula a matriz inversa\")\n",
    "\n",
    "    # variáveis que recebem a quantidade de linhas e colunas da matriz\n",
    "    linha = int(input(\"Informe a quantidade de linhas da sua matriz: \"))\n",
    "    coluna = int(input(\"Informe a quantidade de colunas de sua matriz: \"))\n",
    "\n",
    "    # inicializando a matriz com seu devido tamanho\n",
    "    matriz = np.empty([linha,coluna], dtype = float)\n",
    "\n",
    "    # estrutura de repetição for que permite introduzir os elementos da matriz\n",
    "    for i in range(0, linha):\n",
    "        for j in range(0, coluna):\n",
    "            matriz[i][j] = float(input(\"Insira o elemento [{}][{}] da matriz: \".format(i + 1, j + 1)))\n",
    "\n",
    "    # imprime a matriz digitada na tela\n",
    "    print(\"\\nA matriz digitada é:\\n\\n{}\\n\\n\".format(matriz))\n",
    "\n",
    "    # calcula a matriz inversa ou retorna uma mensagem de aviso que a matriz não possui inversa\n",
    "    if(np.linalg.det(matriz) != 0):\n",
    "        inversa = np.linalg.pinv(matriz)\n",
    "        #imprime a matriz inversa\n",
    "        print(\"A matriz inversa é:\\n\\n{}\\n\\n\".format(inversa))\n",
    "    else:\n",
    "        print(\"\\nA matriz não é inversível.\")\n",
    "        \n",
    "    # função não retorna nenhum valor\n",
    "    return None"
   ]
  },
  {
   "cell_type": "code",
   "execution_count": 3,
   "metadata": {},
   "outputs": [
    {
     "name": "stdout",
     "output_type": "stream",
     "text": [
      "Progama que calcula a matriz inversa\n"
     ]
    },
    {
     "name": "stdin",
     "output_type": "stream",
     "text": [
      "Informe a quantidade de linhas da sua matriz:  3\n",
      "Informe a quantidade de colunas de sua matriz:  3\n",
      "Insira o elemento [1][1] da matriz:  1\n",
      "Insira o elemento [1][2] da matriz:  5\n",
      "Insira o elemento [1][3] da matriz:  6\n",
      "Insira o elemento [2][1] da matriz:  2\n",
      "Insira o elemento [2][2] da matriz:  5\n",
      "Insira o elemento [2][3] da matriz:  8\n",
      "Insira o elemento [3][1] da matriz:  2\n",
      "Insira o elemento [3][2] da matriz:  5\n",
      "Insira o elemento [3][3] da matriz:  7\n"
     ]
    },
    {
     "name": "stdout",
     "output_type": "stream",
     "text": [
      "\n",
      "A matriz digitada é:\n",
      "\n",
      "[[1. 5. 6.]\n",
      " [2. 5. 8.]\n",
      " [2. 5. 7.]]\n",
      "\n",
      "\n",
      "A matriz inversa é:\n",
      "\n",
      "[[-1.00000000e+00 -1.00000000e+00  2.00000000e+00]\n",
      " [ 4.00000000e-01 -1.00000000e+00  8.00000000e-01]\n",
      " [-1.58676765e-16  1.00000000e+00 -1.00000000e+00]]\n",
      "\n",
      "\n"
     ]
    }
   ],
   "source": [
    "# imprimindo a função inversa\n",
    "inversa()"
   ]
  },
  {
   "cell_type": "markdown",
   "metadata": {},
   "source": [
    "### Alguma Dúvida? Entre em Contato Comigo:"
   ]
  },
  {
   "cell_type": "markdown",
   "metadata": {},
   "source": [
    "- [Me envie um e-mail](mailto:alysson.barbosa@ee.ufcg.edu.br);"
   ]
  }
 ],
 "metadata": {
  "kernelspec": {
   "display_name": "Python 3",
   "language": "python",
   "name": "python3"
  },
  "language_info": {
   "codemirror_mode": {
    "name": "ipython",
    "version": 3
   },
   "file_extension": ".py",
   "mimetype": "text/x-python",
   "name": "python",
   "nbconvert_exporter": "python",
   "pygments_lexer": "ipython3",
   "version": "3.7.4"
  }
 },
 "nbformat": 4,
 "nbformat_minor": 4
}
