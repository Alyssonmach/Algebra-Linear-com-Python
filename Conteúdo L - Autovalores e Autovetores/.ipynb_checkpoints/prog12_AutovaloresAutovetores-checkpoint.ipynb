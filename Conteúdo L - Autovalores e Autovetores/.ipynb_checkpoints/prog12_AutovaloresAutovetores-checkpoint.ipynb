{
 "cells": [
  {
   "cell_type": "markdown",
   "metadata": {},
   "source": [
    "# Calculando Autovalores e Autovetores\n",
    "#### Este progama pretendo mostrar um recurso computacional para conseguir calcular autovalores e autovetores a partir de uma matriz de transformação informada. Associados com uma transformação linear T estão os seus autovetores, que, como veremos, são direções especiais para esta transformação T. Por esta razão, são também conhecidos como vetores próprios ou vetores característicos de T. Aparecem em muitas aplicações, pois nos ajudam a entender mais profundamente a transformação linear T."
   ]
  },
  {
   "cell_type": "markdown",
   "metadata": {},
   "source": [
    "##### Referência: Álgebra Linear com aplicações / Anton Howard e Chris Rorres; trad. Claus Ivo Doering. - 8. ed. - Porto Alegre: Bookman, 2001."
   ]
  },
  {
   "cell_type": "markdown",
   "metadata": {},
   "source": [
    "> Se A é uma matriz $n_{x}n$, então um vetor não-nulo **x** em $R^{n}$ é chamado um **autovetor** de A se A**x** é um múltiplo escalar de **x**, ou seja, A**x** = &lambda;**x** para algum escalar &lambda;. O escalar &lambda; é chamado um **autovalor** de A e dizemos que **x** é um **autovetor** associado a &lambda;."
   ]
  },
  {
   "cell_type": "markdown",
   "metadata": {},
   "source": [
    "Em $R^{2}$ e $R^{3}$, a multiplicação por A manda cada autovetor **x** de A (se houver) sobre a mesma reta pela origem que **x**. Dependendo do sinal e da magnitude do autovalor &lambda; associado a **x**, o operador linear A**x** = &lambda;**x** comprime ou estica **x** por um fator &lambda;, invertendo o sentido no caso de &lambda; negativo."
   ]
  },
  {
   "cell_type": "code",
   "execution_count": 5,
   "metadata": {},
   "outputs": [
    {
     "name": "stdout",
     "output_type": "stream",
     "text": [
      "Progama que calcula Autovalores e Autovetores.\n",
      "\n"
     ]
    },
    {
     "name": "stdin",
     "output_type": "stream",
     "text": [
      "Informe a quantidade de linhas da matriz de transformação:  3\n",
      "Informe a quantidade de colunas da matriz de transformação:  3\n"
     ]
    },
    {
     "name": "stdout",
     "output_type": "stream",
     "text": [
      "\n",
      "\n"
     ]
    },
    {
     "name": "stdin",
     "output_type": "stream",
     "text": [
      "Informe o elemento [1][1] da matriz:  3\n",
      "Informe o elemento [1][2] da matriz:  -1\n",
      "Informe o elemento [1][3] da matriz:  1\n",
      "Informe o elemento [2][1] da matriz:  -1\n",
      "Informe o elemento [2][2] da matriz:  5\n",
      "Informe o elemento [2][3] da matriz:  -1\n",
      "Informe o elemento [3][1] da matriz:  1\n",
      "Informe o elemento [3][2] da matriz:  -1\n",
      "Informe o elemento [3][3] da matriz:  3\n"
     ]
    },
    {
     "name": "stdout",
     "output_type": "stream",
     "text": [
      "\n",
      "\n",
      "A matriz digitada é:\n",
      "\n",
      "[[ 3. -1.  1.]\n",
      " [-1.  5. -1.]\n",
      " [ 1. -1.  3.]]\n",
      "\n",
      "\n",
      "Autovalores:\n",
      "\n",
      "[6. 2. 3.]\n",
      "\n",
      "\n",
      "Matriz Diagonal de autovalores:\n",
      "\n",
      "[[6. 0. 0.]\n",
      " [0. 2. 0.]\n",
      " [0. 0. 3.]]\n",
      "\n",
      "\n",
      "cada coluna é associada a cada um dos autovalores, respectivamente.\n",
      "Autovetores:\n",
      "\n",
      "[[-4.08248290e-01  7.07106781e-01  5.77350269e-01]\n",
      " [ 8.16496581e-01  5.21597494e-16  5.77350269e-01]\n",
      " [-4.08248290e-01 -7.07106781e-01  5.77350269e-01]]\n"
     ]
    }
   ],
   "source": [
    "# importando a biblioteca numpy do Python\n",
    "import numpy as np \n",
    "\n",
    "print(\"Progama que calcula Autovalores e Autovetores.\\n\")\n",
    "\n",
    "# quantidade de linhas da matriz de transformação\n",
    "linha = int(input(\"Informe a quantidade de linhas da matriz de transformação: \"))\n",
    "\n",
    "#quantidade de colunas da matriz de transformação\n",
    "coluna = int(input(\"Informe a quantidade de colunas da matriz de transformação: \"))\n",
    "\n",
    "# inicializando uma matriz com as dimensões adequadas e de números reais\n",
    "matriz = np.empty([linha, coluna], dtype = float)\n",
    "\n",
    "# indo para a próxima linha\n",
    "print(\"\\n\")\n",
    "\n",
    "# estrutura de repetição for usada para preencher os elementos da matriz\n",
    "for i in range(0, linha):\n",
    "    for j in range(0, coluna):\n",
    "        matriz[i][j] = float(input(\"Informe o elemento [{}][{}] da matriz: \".format(i + 1, j + 1)))\n",
    "\n",
    "# imprime a matriz na tela\n",
    "print(\"\\n\\nA matriz digitada é:\\n\\n{}\".format(matriz))\n",
    "\n",
    "if(np.linalg.det(matriz) != 0):\n",
    "    \n",
    "    # função responsável por receber os autovalores e autovetores da matriz de transformação\n",
    "    (autovalores,autovetores) = np.linalg.eig(matriz)\n",
    "    matrizDiagonal = np.diag(autovalores) # calcula a matriz diagona de autovalores\n",
    "    \n",
    "    # imprime na tela os autovalores\n",
    "    print(\"\\n\\nAutovalores:\\n\\n{}\\n\\n\".format(autovalores))\n",
    "\n",
    "    # imprime na tela a matriz diagonal de autovalores\n",
    "    print(\"Matriz Diagonal de autovalores:\\n\\n{}\\n\\n\".format(matrizDiagonal))\n",
    "\n",
    "    # imprime na tela os autovetores\n",
    "    print(\"cada coluna é associada a cada um dos autovalores, respectivamente.\")\n",
    "    print(\"Autovetores:\\n\\n{}\".format(autovetores))\n",
    "else:\n",
    "    print(\"\\nA matriz não é invertível, dado que det(matriz) == 0.\")"
   ]
  },
  {
   "cell_type": "markdown",
   "metadata": {},
   "source": [
    "- Se A é uma matriz $n_{x}n$ e se $T_{A}:R^{n}$ &rarr; $R^{n}$ é a multiplicação por A, então as seguintes afirmações são equivalentes:"
   ]
  },
  {
   "cell_type": "markdown",
   "metadata": {},
   "source": [
    "|**Afirmações Equivalente**|\n",
    "|:------------:|\n",
    "|1. A é invertível. |\n",
    "|2. A**x** = 0 admite somente a solução trivial.|\n",
    "|3. A forma escalonada reduzida por linha de A é $I_{n}$.|\n",
    "|4. A pode ser escrita como um produto de matrizes elementares.|\n",
    "|5. A**x** = **b** é consistente para cada matriz **b** de tamanho $n_{x}1$.|\n",
    "|6. A**x** = **b** tem exatamente uma solução para cada matrix **b**  de tamanho $n_{x}n$.|\n",
    "|7. det(A) &ne; 0.|\n",
    "|8. A imagem de $T_{A}$ é o $R^{n}$.|\n",
    "|9. $T_{A}$ é injetora.|\n",
    "|10. Os vetores-coluna de A são linearmente independentes.|\n",
    "|11. Os vetores-linhas de A são linearmente dependentes.|\n",
    "|12. Os vetores-coluna de A geram o $R^{n}$.|\n",
    "|13. Os vetores-linhas de A geram o $R^{n}$.|\n",
    "|14. Os vetores-coluna de A formam uma base do $R^{n}$.|\n",
    "|15. Os vetores-linha de A formam uma base do $R^{n}$.|\n",
    "|16. A tem posto n.|\n",
    "|17. A tem nulidade 0.|\n",
    "|18. O complemento ortogonal do espaço-nulo  de A é o $R^{n}$.|\n",
    "|19. O complemento ortogonal do espaço-linha de A é {0}.|\n",
    "|20. $A^{t}A$ é invertível.|\n",
    "|21. &lambda; = 0 não é um autovalor de A.|"
   ]
  },
  {
   "cell_type": "markdown",
   "metadata": {},
   "source": [
    "### Alguma Dúvida? Entre em Contato Comigo:"
   ]
  },
  {
   "cell_type": "markdown",
   "metadata": {},
   "source": [
    "- [Me envie um e-mail](mailto:alysson.barbosa@ee.ufcg.edu.br);"
   ]
  }
 ],
 "metadata": {
  "kernelspec": {
   "display_name": "Python 3",
   "language": "python",
   "name": "python3"
  },
  "language_info": {
   "codemirror_mode": {
    "name": "ipython",
    "version": 3
   },
   "file_extension": ".py",
   "mimetype": "text/x-python",
   "name": "python",
   "nbconvert_exporter": "python",
   "pygments_lexer": "ipython3",
   "version": "3.7.4"
  }
 },
 "nbformat": 4,
 "nbformat_minor": 4
}
