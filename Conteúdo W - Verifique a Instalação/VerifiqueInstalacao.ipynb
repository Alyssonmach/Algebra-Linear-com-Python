{
 "cells": [
  {
   "cell_type": "markdown",
   "metadata": {},
   "source": [
    "# Verifique se Todas as Bibliotecas Necessárias Foram Importadas\n",
    "#### O progama abaixo tem a finalidade complementar e opcional para verificar se todas as bibliotecas que serão utilizadas nesse repositório estão instaladas caso você tenha optado por instalar todo o ambiente de trabalhado Python em sua máquina."
   ]
  },
  {
   "cell_type": "markdown",
   "metadata": {},
   "source": [
    "Se estiver faltando alguma, o método mais comum após instalar o Python em sua máquina é o seguinte:"
   ]
  },
  {
   "cell_type": "markdown",
   "metadata": {},
   "source": [
    "Abra o prompt de comando da sua máquina e digite:"
   ]
  },
  {
   "cell_type": "markdown",
   "metadata": {},
   "source": [
    "- **pip install numpy**\n",
    "- **pip install matplotlib**\n",
    "- **_pip install jupyter_** ou **pip install jupyter lab**\n",
    "- **_pip install sympy_**\n",
    "- **_pip install imageio_**\n",
    "- **_pip install ipywidgets_**\n",
    "- **_pip install scipy_**"
   ]
  },
  {
   "cell_type": "markdown",
   "metadata": {},
   "source": [
    "> Lembrando que tal método pode ser realizado no sistema operacional Linux, Windows ou macOS."
   ]
  },
  {
   "cell_type": "code",
   "execution_count": 1,
   "metadata": {},
   "outputs": [
    {
     "name": "stdout",
     "output_type": "stream",
     "text": [
      "numpy ... OK\n",
      "matplotlib ... OK\n",
      "jupyter ... OK\n",
      "sympy ... OK\n",
      "imageio ... OK\n",
      "ipywidgets ... OK\n",
      "scipy ... OK\n"
     ]
    }
   ],
   "source": [
    "import importlib\n",
    "from sys import version_info\n",
    "from distutils.version import StrictVersion\n",
    "\n",
    "def compare_version(module, version):\n",
    "    version_loaded = importlib.import_module(module).__version__\n",
    "    if StrictVersion(version_loaded) < StrictVersion(version):\n",
    "        return 'Versão Atual {}, use \"pip install\" eatualize para {} ou mais tarde'.format(version_loaded, version)\n",
    "    return None\n",
    "\n",
    "def main():\n",
    "    try:\n",
    "        assert version_info >= (3,5)\n",
    "    except AssertionError:\n",
    "        print('Precisa-se da versão 3.5 do Python ou mais atualizada')\n",
    "\n",
    "    modules = {'numpy': '1.15.1',\n",
    "               'matplotlib': '2.0.2',\n",
    "               'jupyter': None,\n",
    "               'sympy': None,\n",
    "               'imageio': None,\n",
    "               'ipywidgets': None,\n",
    "               'scipy': None}\n",
    "\n",
    "    for module, version in modules.items():\n",
    "        spec = importlib.util.find_spec(module)\n",
    "        if spec is None:\n",
    "            print('{} ... não foi encontrado, use o \"pip install\"'.format(module))\n",
    "        else:\n",
    "            if version is not None:\n",
    "                msg = compare_version(module, version)\n",
    "                if msg is not None:\n",
    "                    print('{} ... {}'.format(module, msg))\n",
    "                else:\n",
    "                    print('{} ... OK'.format(module))\n",
    "            else:\n",
    "                print('{} ... OK'.format(module))\n",
    "\n",
    "if __name__ == '__main__':\n",
    "    main()"
   ]
  },
  {
   "cell_type": "markdown",
   "metadata": {},
   "source": [
    "Caso esteja tudo instalado, o progama compilará como o exemplo acima."
   ]
  },
  {
   "cell_type": "markdown",
   "metadata": {},
   "source": [
    "### Alguma Dúvida? Entre em Contato Comigo:"
   ]
  },
  {
   "cell_type": "markdown",
   "metadata": {},
   "source": [
    "- [Me envie um e-mail](mailto:alysson.barbosa@ee.ufcg.edu.br);"
   ]
  }
 ],
 "metadata": {
  "kernelspec": {
   "display_name": "Python 3",
   "language": "python",
   "name": "python3"
  },
  "language_info": {
   "codemirror_mode": {
    "name": "ipython",
    "version": 3
   },
   "file_extension": ".py",
   "mimetype": "text/x-python",
   "name": "python",
   "nbconvert_exporter": "python",
   "pygments_lexer": "ipython3",
   "version": "3.7.4"
  }
 },
 "nbformat": 4,
 "nbformat_minor": 4
}
