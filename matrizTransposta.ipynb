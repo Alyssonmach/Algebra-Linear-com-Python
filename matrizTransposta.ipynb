{
 "cells": [
  {
   "cell_type": "markdown",
   "metadata": {},
   "source": [
    "Progama que calcula a \n",
    "$$matriz$$ $$transposta$$"
   ]
  },
  {
   "cell_type": "code",
   "execution_count": 1,
   "metadata": {},
   "outputs": [],
   "source": [
    "import numpy as np # importando a biblioteca numpy padrão do C++"
   ]
  },
  {
   "cell_type": "code",
   "execution_count": null,
   "metadata": {},
   "outputs": [],
   "source": [
    "linha = int(input(\"Informe quantas linhas tem sua matriz: \")) # recebe a quantidade de linhas da matriz\n",
    "coluna = int(input(\"Informe quantas colunas tem sua matriz: \")) # recebe a quantidade de colunas da matriz\n",
    "\n",
    "matriz = np.empty([linha,coluna], dtype = float) # iniciando uma matriz de números reais com linhas e colunas definidas\n",
    "\n",
    "# estrutura for aninhada que recebe os elementos da matriz\n",
    "for i in range(0, linha):\n",
    "    for j in range(0, coluna):\n",
    "        matriz[i][j] = float(input(\"Insira o elemento [{}][{}] da matriz: \".format(i + 1,j + 1)))\n",
    "\n",
    "#imprime na tela a matriz original\n",
    "print(\"A matriz digitada é:\\n\\n{}\".format(matriz))\n",
    "\n",
    "# imprime na tela a matriz transposta\n",
    "print(\"\\n\\nA matriz transposta é:\\n\\n{}\". format(np.transpose(matriz)))\n",
    "\n",
    "# imprime na tela a matriz tranposta da mesma já transposta, ou seja, retornará a matriz original\n",
    "print(\"\\n\\nA matriz transposta da transposta é:\\n\\n{}\".format(np.transpose(np.transpose(matriz))))"
   ]
  },
  {
   "cell_type": "code",
   "execution_count": null,
   "metadata": {},
   "outputs": [],
   "source": []
  }
 ],
 "metadata": {
  "kernelspec": {
   "display_name": "Python 3",
   "language": "python",
   "name": "python3"
  },
  "language_info": {
   "codemirror_mode": {
    "name": "ipython",
    "version": 3
   },
   "file_extension": ".py",
   "mimetype": "text/x-python",
   "name": "python",
   "nbconvert_exporter": "python",
   "pygments_lexer": "ipython3",
   "version": "3.7.4"
  }
 },
 "nbformat": 4,
 "nbformat_minor": 2
}
