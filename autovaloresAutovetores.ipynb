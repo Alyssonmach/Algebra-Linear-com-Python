{
 "cells": [
  {
   "cell_type": "markdown",
   "metadata": {},
   "source": [
    "Progama que calcula \n",
    "$$Autovalores$$ $$e$$ $$autovetores$$"
   ]
  },
  {
   "cell_type": "code",
   "execution_count": 2,
   "metadata": {},
   "outputs": [],
   "source": [
    "import numpy as np # importando a biblioteca numpy do Python"
   ]
  },
  {
   "cell_type": "code",
   "execution_count": null,
   "metadata": {},
   "outputs": [],
   "source": [
    "print(\"Informe a quantidade de linhas e colunas da matriz de transformação: \")\n",
    "\n",
    "# quantidade de linhas da matriz de transformação\n",
    "linha = int(input(\"Informe a quantidade de linhas da matriz de transformação: \"))\n",
    "\n",
    "#quantidade de colunas da matriz de transformação\n",
    "coluna = int(input(\"Informe a quantidade de colunas da matriz de transformação: \"))\n",
    "\n",
    "# inicializando uma matriz com as dimensões adequadas e de números reais\n",
    "matriz = np.empty([linha, coluna], dtype = float)\n",
    "\n",
    "# estrutura de repetição for usada para preencher os elementos da matriz\n",
    "for i in range(0, linha):\n",
    "    for j in range(0, coluna):\n",
    "        matriz[i][j] = float(input(\"Informe o elemento [{}][{}] da matriz: \".format(i + 1, j + 1)))\n",
    "\n",
    "# funão responsável por receber os autovalores e autovetores da matriz de transformação\n",
    "(autovalores,autovetores) = np.linalg.eig(matriz)\n",
    "\n",
    "# imprime a matriz na tela\n",
    "print(\"A matriz digitada é:\\n\\n{}\".format(matriz))\n",
    "\n",
    "# imprime na tela os autovalores\n",
    "print(\"\\n\\nAutovalores:\\n\\n{}\".format(autovalores))\n",
    "\n",
    "# imprime na tela os autovetores\n",
    "print(\"\\n\\nAutovetores:\\n\\n{}\".format(autovetores))\n"
   ]
  },
  {
   "cell_type": "code",
   "execution_count": null,
   "metadata": {},
   "outputs": [],
   "source": []
  }
 ],
 "metadata": {
  "kernelspec": {
   "display_name": "Python 3",
   "language": "python",
   "name": "python3"
  },
  "language_info": {
   "codemirror_mode": {
    "name": "ipython",
    "version": 3
   },
   "file_extension": ".py",
   "mimetype": "text/x-python",
   "name": "python",
   "nbconvert_exporter": "python",
   "pygments_lexer": "ipython3",
   "version": "3.7.4"
  }
 },
 "nbformat": 4,
 "nbformat_minor": 2
}
