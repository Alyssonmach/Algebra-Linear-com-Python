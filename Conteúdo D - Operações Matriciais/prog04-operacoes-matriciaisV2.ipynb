{
  "nbformat": 4,
  "nbformat_minor": 0,
  "metadata": {
    "kernelspec": {
      "display_name": "Python 3",
      "language": "python",
      "name": "python3"
    },
    "language_info": {
      "codemirror_mode": {
        "name": "ipython",
        "version": 3
      },
      "file_extension": ".py",
      "mimetype": "text/x-python",
      "name": "python",
      "nbconvert_exporter": "python",
      "pygments_lexer": "ipython3",
      "version": "3.8.7"
    },
    "colab": {
      "name": "prog04-operacoes-matriciaisV2.ipynb",
      "provenance": [],
      "include_colab_link": true
    }
  },
  "cells": [
    {
      "cell_type": "markdown",
      "metadata": {
        "id": "view-in-github",
        "colab_type": "text"
      },
      "source": [
        "<a href=\"https://colab.research.google.com/github/Alyssonmach/Algebra-Linear-com-Python/blob/master/Conte%C3%BAdo%20D%20-%20Opera%C3%A7%C3%B5es%20Matriciais/prog04-operacoes-matriciaisV2.ipynb\" target=\"_parent\"><img src=\"https://colab.research.google.com/assets/colab-badge.svg\" alt=\"Open In Colab\"/></a>"
      ]
    },
    {
      "cell_type": "markdown",
      "metadata": {
        "id": "WekvbqhFUxQJ"
      },
      "source": [
        "# Operações Matriciais\n",
        "#### Vamos ver como matrizes podem ser combinadas através das operações aritméticas de adição, subtração e multiplicação."
      ]
    },
    {
      "cell_type": "markdown",
      "metadata": {
        "id": "PGpuggAYUxQS"
      },
      "source": [
        "### Soma"
      ]
    },
    {
      "cell_type": "markdown",
      "metadata": {
        "id": "v5Zr1ykoUxQT"
      },
      "source": [
        "$$\\begin{bmatrix}\n",
        "          a_{11} & a_{12} & ... & a_{1n} \\\\\n",
        "          a_{21} & a_{22} & ... & a_{2n} \\\\\n",
        "          :      & :      & ... & :      \\\\\n",
        "          a_{m1} & a_{m2} & ... & a_{mn} \\\\\n",
        "          \\end{bmatrix}_{m_{x}n} + \n",
        "          \\begin{bmatrix}\n",
        "                  b_{11} & b_{12} & ... & b_{1n} \\\\\n",
        "                  b_{21} & b_{22} & ... & b_{2n} \\\\\n",
        "                  :      & :      & ... & :      \\\\\n",
        "                  b_{m1} & b_{m2} & ... & b_{mn} \\\\\n",
        "                  \\end{bmatrix}_{m_{x}n} = \n",
        "                  \\begin{bmatrix}\n",
        "                          a_{11} + b_{11} & a_{12} + b_{12} & ... & a_{1n} + b_{1n} \\\\\n",
        "                          a_{21} + b_{21} & a_{22} + b_{22} & ... & a_{2n} + b_{2n} \\\\\n",
        "                          :               & :               & ... & :               \\\\\n",
        "                          a_{m1} + b_{m1} & a_{m2} + b_{m2} & ... & a_{mn} + b_{mn} \\\\\n",
        "                          \\end{bmatrix}_{m_{x}n}$$"
      ]
    },
    {
      "cell_type": "markdown",
      "metadata": {
        "id": "ICGlNKxmUxQU"
      },
      "source": [
        "### Subtração"
      ]
    },
    {
      "cell_type": "markdown",
      "metadata": {
        "id": "G-C7_WRVUxQV"
      },
      "source": [
        "$$\\begin{bmatrix}\n",
        "          a_{11} & a_{12} & ... & a_{1n} \\\\\n",
        "          a_{21} & a_{22} & ... & a_{2n} \\\\\n",
        "          :      & :      & ... & :      \\\\\n",
        "          a_{m1} & a_{m2} & ... & a_{mn} \\\\\n",
        "          \\end{bmatrix}_{m_{x}n} - \n",
        "          \\begin{bmatrix}\n",
        "                  b_{11} & b_{12} & ... & b_{1n} \\\\\n",
        "                  b_{21} & b_{22} & ... & b_{2n} \\\\\n",
        "                  :      & :      & ... & :      \\\\\n",
        "                  b_{m1} & b_{m2} & ... & b_{mn} \\\\\n",
        "                  \\end{bmatrix}_{m_{x}n} = \n",
        "                  \\begin{bmatrix}\n",
        "                          a_{11} - b_{11} & a_{12} - b_{12} & ... & a_{1n} - b_{1n} \\\\\n",
        "                          a_{21} - b_{21} & a_{22} - b_{22} & ... & a_{2n} - b_{2n} \\\\\n",
        "                          :               & :               & ... & :               \\\\\n",
        "                          a_{m1} - b_{m1} & a_{m2} - b_{m2} & ... & a_{mn} - b_{mn} \\\\\n",
        "                          \\end{bmatrix}_{m_{x}n}$$"
      ]
    },
    {
      "cell_type": "markdown",
      "metadata": {
        "id": "rV8zDHj2UxQW"
      },
      "source": [
        "### Multiplicação"
      ]
    },
    {
      "cell_type": "markdown",
      "metadata": {
        "id": "tOEtDQaaUxQW"
      },
      "source": [
        "$$A_{m_{x}n}.B_{n_{x}p} = C_{m_{x}p}$$"
      ]
    },
    {
      "cell_type": "markdown",
      "metadata": {
        "id": "Pqbg2kFdUxQX"
      },
      "source": [
        "### Multiplicação de uma Matriz por um Escalar"
      ]
    },
    {
      "cell_type": "markdown",
      "metadata": {
        "id": "3pvrMfPuUxQX"
      },
      "source": [
        "$$x_{escalar}.\\begin{bmatrix}\n",
        "                      a_{11} & a_{12} & ... & a_{1n} \\\\\n",
        "                      a_{21} & a_{22} & ... & a_{2n} \\\\\n",
        "                      :      & :      & ... & :      \\\\\n",
        "                      a_{m1} & a_{m2} & ... & a_{mn} \\\\\n",
        "                      \\end{bmatrix}_{m_{x}n} = \n",
        "                      \\begin{bmatrix}\n",
        "                              x.a_{11} & x.a_{12} & ... & x.a_{1n} \\\\\n",
        "                              x.a_{21} & x.a_{22} & ... & x.a_{2n} \\\\\n",
        "                              :        & :        & ... & :        \\\\\n",
        "                              x.a_{m1} & x.a_{m2} & ... & x.a_{mn} \\\\\n",
        "                              \\end{bmatrix}_{m_{x}n}$$"
      ]
    },
    {
      "cell_type": "markdown",
      "metadata": {
        "id": "1xc9zWAKUxQY"
      },
      "source": [
        "Experimente uma função que realiza essas operações:"
      ]
    },
    {
      "cell_type": "code",
      "metadata": {
        "id": "8Sw43DwxUxQZ"
      },
      "source": [
        "# importando a biblioteca numpy do Python \n",
        "import numpy as np "
      ],
      "execution_count": 1,
      "outputs": []
    },
    {
      "cell_type": "code",
      "metadata": {
        "id": "hgsU1ZIgUxQZ"
      },
      "source": [
        "# criando a função principal\n",
        "def main():\n",
        "    \n",
        "    # menu de escolhas do progama em um loop com uma ordem de parada\n",
        "    while True: \n",
        "    \n",
        "        print(\"\\nEscolha uma das opções de operações com matrizes abaixo:\")\n",
        "        print(\"   1 - Soma entre duas matrizes.\")\n",
        "        print(\"   2 - Subtração entre duas matrizes.\")\n",
        "        print(\"   3 - Multiplicação entre duas matrizes.\")\n",
        "        print(\"   4 - Multiplicação de uma matriz por um escalar.\")\n",
        "        print(\"   5 - Sair do progama\")\n",
        "        \n",
        "        # loop com ordem de parada para que o progama aceite a entrada correta\n",
        "        while True:\n",
        "            \n",
        "            opcao = int(input(\"Insira uma opção abaixo: \"))\n",
        "            \n",
        "            if opcao >= 1 and opcao <= 5:\n",
        "                break\n",
        "            # parar a execução do loop caso o usuário queira terminar o progama\n",
        "            elif(opcao == 5): \n",
        "                break\n",
        "            else:\n",
        "                print(\"Entrada errada. Digite novamente.\\n\")\n",
        "        \n",
        "        # parada geral do progama\n",
        "        if(opcao == 5):\n",
        "            break\n",
        "        \n",
        "        # indo para próximas linhas\n",
        "        print(\"\\n\")\n",
        "        \n",
        "        # recendo a quantidade de linhas e colunas das matrizes\n",
        "        linhaA = int(input(\"Informe a quantidade de linhas da matriz A: \"))\n",
        "        colunaA = int(input(\"Informe a quantidade de colunas da matriz A: \"))\n",
        "        linhaB = int(input(\"Informe a quantidade de linhas da matriz B: \"))\n",
        "        colunaB = int(input(\"Informe a quantidade de colunas da matriz B: \"))\n",
        "        \n",
        "        # inicializando as matrizes com suas devidas ordens e com lixo de memória\n",
        "        A = np.empty([linhaA, colunaA], dtype = float) \n",
        "        B = np.empty([linhaB, colunaB], dtype = float)\n",
        "        \n",
        "        # indo para próxima linha\n",
        "        print(\"\\n\")\n",
        "        \n",
        "        # estrutura de repetição for para implementar os elementos da matriz A\n",
        "        for i in range(0, linhaA):\n",
        "            for j in range(0, colunaA):\n",
        "                A[i][j] = float(input(\"Digite o elemento [{}][{}] da matriz A: \".format(i + 1,j + 1)))\n",
        "        \n",
        "        # indo para próxima linha\n",
        "        print(\"\\n\")\n",
        "        \n",
        "        # estrutura de repetição for para implementar os elementos da matriz B\n",
        "        for i in range(0, linhaB):\n",
        "            for j in range(0, colunaB):\n",
        "                B[i][j] = float(input(\"Digite o elemento [{}][{}] da matriz B: \".format(i + 1, j + 1)))\n",
        "        \n",
        "        # indo para próxima linha\n",
        "        print(\"\\n\")\n",
        "        \n",
        "        # imprime a matriz A\n",
        "        print(\"A matriz A é: \\n{}\".format(A))\n",
        "        \n",
        "        # indo para próxima linha\n",
        "        print(\"\\n\")\n",
        "        \n",
        "        # imprime a matriz B\n",
        "        print(\"A matriz B é: \\n{}\".format(B))\n",
        "        \n",
        "        # recebe um escalar para ser usado na função da opção 4\n",
        "        if(opcao == 4):\n",
        "            escalar = float(input(\"\\nInforme um escalar: \"))\n",
        "        \n",
        "        # indo para próxima linha\n",
        "        print(\"\\n\")\n",
        "        \n",
        "        # caso o usário escolha a opção 1, relativa a soma\n",
        "        if(opcao == 1):\n",
        "            print(\"\\nSoma:\\n\\n {}\".format(soma(A, linhaA, colunaA, B, linhaB, colunaB)))\n",
        "        # se não se, o usuário escolher a opção 2, realtivo a subtração\n",
        "        elif(opcao == 2):\n",
        "            print(\"\\nSubtração: \\n\\n{}\".format(subtracao(A, linhaA, colunaA, B, linhaB, colunaB)))\n",
        "        # se não se, o usuário escolher a opção 3, realtivo a multiplicação\n",
        "        elif(opcao == 3):\n",
        "            print(\"\\nMultiplicação: \\n\\n{}\".format(multiplicacao(A, linhaA, colunaA, B, linhaB, colunaB)))\n",
        "        # se não se, o usuário escolher a opção 4, realtivo a multiplicação de um escalar com uma matriz\n",
        "        elif(opcao == 4):\n",
        "            print(\"\\nMultiplicação de um escalar com uma matriz: \\n\\n{}\".format(multiplicaEscalar(A, B, escalar)))\n",
        "    \n",
        "    return 0"
      ],
      "execution_count": 2,
      "outputs": []
    },
    {
      "cell_type": "code",
      "metadata": {
        "id": "jnEAinF_UxQc"
      },
      "source": [
        "# função que realiza a soma entre duas matrizes\n",
        "def soma(matrizA, linhaA, colunaA, matrizB, linhaB, colunaB):\n",
        "    \n",
        "    # verificando se a operação está definida\n",
        "    if(linhaA != linhaB or colunaA != colunaB):\n",
        "        # retornando a mensagem de erro caso não seja uma operação compatível\n",
        "        return \"operação com tais matrizes incompatíveis. Tente novamente.\"\n",
        "        \n",
        "    # definindo a soma\n",
        "    somando = matrizA + matrizB\n",
        "    \n",
        "    # retornando o resultado da função\n",
        "    return somando"
      ],
      "execution_count": 3,
      "outputs": []
    },
    {
      "cell_type": "code",
      "metadata": {
        "id": "D9PB1YSRUxQc"
      },
      "source": [
        "# função que realiza a subtração de duas matrizes\n",
        "def subtracao(matrizA, linhaA, colunaA, matrizB, linhaB, colunaB):\n",
        "    \n",
        "    # verificando se a operação está definida\n",
        "    if(linhaA != linhaB or colunaA != colunaB):\n",
        "        # retornando uma mensagem de erro caso a operação não seja compatível\n",
        "        return \"operação com tais matrizes incompatíveis. Tente novamente.\"\n",
        "    \n",
        "    #escolhendo a subtração\n",
        "    print(\"1) A - B = ??\")\n",
        "    print(\"2) B - A = ??\")\n",
        "    \n",
        "    # recebendo a opção informada acima e verificando se foi digitado corretamente\n",
        "    while True:\n",
        "        opcao = int(input(\"Informe sua opção: \"))\n",
        "        if(opcao == 1 or opcao == 2):\n",
        "            break\n",
        "        else:\n",
        "            print(\"Opção inválida, digite novamente.\\n\")\n",
        "    \n",
        "    #realizando a operação\n",
        "    if(opcao == 1):\n",
        "        # definindo a operação de subtração\n",
        "        subtraindo = matrizA - matrizB\n",
        "        # retornando o resultado da função\n",
        "        return subtraindo\n",
        "    elif(opcao == 2):\n",
        "        # definindo a operação de subtração\n",
        "        subtraindo = matrizB - matrizA\n",
        "        # retornando o resultado da função\n",
        "        return subtraindo"
      ],
      "execution_count": 4,
      "outputs": []
    },
    {
      "cell_type": "code",
      "metadata": {
        "id": "Mi8nDHhxUxQd"
      },
      "source": [
        "# função que realiza  a multiplicação de duas matrizes\n",
        "def multiplicacao(matrizA, linhaA, colunaA, matrizB, linhaB, colunaB):\n",
        "    \n",
        "    #escolhendo a multiplicação\n",
        "    print(\"1) A x B = ??\")\n",
        "    print(\"2) B x A = ??\")\n",
        "    \n",
        "    # recebendo a opção informada acima e fazendo uma verificação de segurança\n",
        "    while True:\n",
        "        opcao = int(input(\"Informe sua opção: \"))\n",
        "        if(opcao == 1 or opcao == 2):\n",
        "            break\n",
        "        else:\n",
        "            print(\"Opção inválida, digite novamente.\\n\")\n",
        "    \n",
        "    # verificando se a operação está definida\n",
        "    if(opcao == 1):\n",
        "        if(colunaA != linhaB):\n",
        "            # retorna uma mensagem de erro caso a operação não seja compatível\n",
        "            return \"operação com tais matrizes incompatíveis. Tente novamente.\"\n",
        "    elif(opcao == 2):\n",
        "        if(colunaB != linhaA):\n",
        "            # retorna uma mensagem de erro caso a operação não seja compatível\n",
        "            return \"operação com tais matrizes incompatíveis. Tente novamente.\"\n",
        "    \n",
        "    #realizando a operação\n",
        "    if(opcao == 1):\n",
        "        # definindo a operação de multiplicação\n",
        "        multiplicando = np.dot(matrizA, matrizB)\n",
        "        # retornando o resultado da função\n",
        "        return multiplicando\n",
        "    elif(opcao == 2):\n",
        "        # definindo a operação de multiplicação\n",
        "        multiplicando = np.dot(matrizB,matrizA)\n",
        "        # retornando o resultado da função\n",
        "        return multiplicando"
      ],
      "execution_count": 5,
      "outputs": []
    },
    {
      "cell_type": "code",
      "metadata": {
        "id": "Rt0a47DzUxQe"
      },
      "source": [
        "# função que  multiplica um escalar pela matriz\n",
        "def multiplicaEscalar(matrizA, matrizB, escalar):\n",
        "    \n",
        "    # escolhendo a matriz\n",
        "    print(\"Qual matriz você quer multiplicar pelo escalar?\")\n",
        "    print(\"1) matriz A\")\n",
        "    print(\"2) matriz B\")\n",
        "    \n",
        "    # recebendo a opção informada acima e fazendo uma verificação de segurança\n",
        "    while True:\n",
        "        opcao = int(input(\"Informe sua opção: \"))\n",
        "        if(opcao == 1 or opcao == 2):\n",
        "            break\n",
        "        else:\n",
        "            print(\"Opção inválida, digite novamente.\\n\")\n",
        "          \n",
        "    if(opcao == 1):\n",
        "        # definindo a multiplicação da matrizA por um escalar\n",
        "        novaMatriz = escalar * matrizA\n",
        "        # retornando o resultado da função\n",
        "        return novaMatriz\n",
        "    elif(opcao == 2):\n",
        "        # definindo a multiplicação da matrizB por um escalar\n",
        "        novaMatriz = escalar * matrizB\n",
        "        # retornando o resultado da função\n",
        "        return novaMatriz"
      ],
      "execution_count": 6,
      "outputs": []
    },
    {
      "cell_type": "code",
      "metadata": {
        "id": "RVZ8i82fUxQf"
      },
      "source": [
        "if __name__ == '__main__':\n",
        "    main() # chamada da função main"
      ],
      "execution_count": 7,
      "outputs": []
    },
    {
      "cell_type": "markdown",
      "metadata": {
        "id": "6LMyPw1jUxQg"
      },
      "source": [
        "### Alguma Dúvida? Entre em Contato Comigo: [Me envie um e-mail](mailto:alysson.barbosa@ee.ufcg.edu.br)"
      ]
    }
  ]
}