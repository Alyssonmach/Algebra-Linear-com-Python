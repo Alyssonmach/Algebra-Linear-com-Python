{
 "cells": [
  {
   "cell_type": "markdown",
   "metadata": {},
   "source": [
    "# Calculando Matriz Inversa"
   ]
  },
  {
   "cell_type": "code",
   "execution_count": 2,
   "metadata": {},
   "outputs": [
    {
     "name": "stdout",
     "output_type": "stream",
     "text": [
      "Progama que calcula a matriz inversa\n"
     ]
    },
    {
     "name": "stdin",
     "output_type": "stream",
     "text": [
      "Informe a quantidade de linhas da sua matriz:  3\n",
      "Informe a quantidade de colunas de sua matriz:  3\n",
      "Insira o elemento [1][1] da matriz:  1\n",
      "Insira o elemento [1][2] da matriz:  2\n",
      "Insira o elemento [1][3] da matriz:  3\n",
      "Insira o elemento [2][1] da matriz:  0\n",
      "Insira o elemento [2][2] da matriz:  1\n",
      "Insira o elemento [2][3] da matriz:  4\n",
      "Insira o elemento [3][1] da matriz:  0\n",
      "Insira o elemento [3][2] da matriz:  0\n",
      "Insira o elemento [3][3] da matriz:  1\n"
     ]
    },
    {
     "name": "stdout",
     "output_type": "stream",
     "text": [
      "\n",
      "A matriz digitada é:\n",
      "\n",
      "[[1. 2. 3.]\n",
      " [0. 1. 4.]\n",
      " [0. 0. 1.]]\n",
      "\n",
      "\n",
      "A matriz inversa é:\n",
      "\n",
      "[[ 1.00000000e+00 -2.00000000e+00  5.00000000e+00]\n",
      " [-2.32263640e-16  1.00000000e+00 -4.00000000e+00]\n",
      " [ 1.44375748e-16 -4.60256926e-17  1.00000000e+00]]\n",
      "\n",
      "\n"
     ]
    }
   ],
   "source": [
    "import numpy as np # importando a biblioteca de funções numpy\n",
    "\n",
    "print(\"Progama que calcula a matriz inversa\")\n",
    "\n",
    "# variáveis que recebem a quantidade de linhas e colunas da matriz\n",
    "linha = int(input(\"Informe a quantidade de linhas da sua matriz: \"))\n",
    "coluna = int(input(\"Informe a quantidade de colunas de sua matriz: \"))\n",
    "\n",
    "# inicializando a matriz com seu devido tamanho\n",
    "matriz = np.empty([linha,coluna], dtype = float)\n",
    "\n",
    "# estrutura de repetição for que permite introduzir os elementos da matriz\n",
    "for i in range(0, linha):\n",
    "    for j in range(0, coluna):\n",
    "        matriz[i][j] = float(input(\"Insira o elemento [{}][{}] da matriz: \".format(i + 1, j + 1)))\n",
    "        \n",
    "# imprime a matriz digitada na tela\n",
    "print(\"\\nA matriz digitada é:\\n\\n{}\\n\\n\".format(matriz))\n",
    "\n",
    "# calcula a matriz inversa\n",
    "inversa = np.linalg.pinv(matriz)\n",
    "\n",
    "#imprime a matriz inversa\n",
    "print(\"A matriz inversa é:\\n\\n{}\\n\\n\".format(inversa))"
   ]
  },
  {
   "cell_type": "code",
   "execution_count": null,
   "metadata": {},
   "outputs": [],
   "source": []
  }
 ],
 "metadata": {
  "kernelspec": {
   "display_name": "Python 3",
   "language": "python",
   "name": "python3"
  },
  "language_info": {
   "codemirror_mode": {
    "name": "ipython",
    "version": 3
   },
   "file_extension": ".py",
   "mimetype": "text/x-python",
   "name": "python",
   "nbconvert_exporter": "python",
   "pygments_lexer": "ipython3",
   "version": "3.7.4"
  }
 },
 "nbformat": 4,
 "nbformat_minor": 4
}
