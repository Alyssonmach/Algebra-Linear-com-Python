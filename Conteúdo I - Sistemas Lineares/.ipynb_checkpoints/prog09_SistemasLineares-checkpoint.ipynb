{
 "cells": [
  {
   "cell_type": "markdown",
   "metadata": {},
   "source": [
    "# Sistemas Lineares\n",
    "#### Sistemas lineares é um conjunto de equações lineares, com m equações e n incógnitas. A solução de um sistema linear é a solução de todas as equações lineares."
   ]
  },
  {
   "cell_type": "markdown",
   "metadata": {},
   "source": [
    "##### Referência: Álgebra Linear com aplicações / Anton Howard e Chris Rorres; trad. Claus Ivo Doering. - 8. ed. - Porto Alegre: Bookman, 2001."
   ]
  },
  {
   "cell_type": "markdown",
   "metadata": {},
   "source": [
    "### Sistemas Lineares:"
   ]
  },
  {
   "cell_type": "markdown",
   "metadata": {},
   "source": [
    "Um conjunto finito de equações lineares nas variáveis $x_{1}$, $x_{2}$, ..., $x_{n}$ é chamado um **sistema de equações lineares** ou um **sistema linear**. Uma sequência de números $s_{1}$, $s_{2}$, ..., $s_{n}$ é chamado uma **solução do sistema** se $x_{1}$ = $s_{1}$, $x_{2} = s_{2}$, ..., $x_{n}$ = $s_{n}$ é uma solução de cada equação do sistema. "
   ]
  },
  {
   "cell_type": "markdown",
   "metadata": {},
   "source": [
    "Um sistema de equações que não possui solução é chamado **inconsistente**; se existir pelo menos uma solução do sistema, dizemos que ele é **consistente**."
   ]
  },
  {
   "cell_type": "markdown",
   "metadata": {},
   "source": [
    "> Todo sistema de equações lineares tem ou nenhuma solução, ou exatamente uma, ou então uma infinidade de soluções."
   ]
  },
  {
   "cell_type": "markdown",
   "metadata": {},
   "source": [
    "### Matrizes Aumentadas"
   ]
  },
  {
   "cell_type": "markdown",
   "metadata": {},
   "source": [
    "Se nós mantivermos guardado na memória a localização dos sinais de soma, das variáveis e das constantes, poderemos abreviar a escrita de um sistema de m equações lineares em n incógnitas para:"
   ]
  },
  {
   "cell_type": "markdown",
   "metadata": {},
   "source": [
    "$\\begin{bmatrix}\n",
    "          a_{11} & a_{12} & ... & a_{1n} & b_{1} \\\\\n",
    "          a_{21} & a_{22} & ... & a_{2n} & b_{2} \\\\\n",
    "            :    &   :    &  :  &    :   &   :   \\\\\n",
    "          a_{m1} & a_{m2} & ... & a_{mn} & b_{m} \\\\\n",
    "          \\end{bmatrix}$"
   ]
  },
  {
   "cell_type": "markdown",
   "metadata": {},
   "source": [
    "Esta é a chamada **matriz aumentada** do sistema. "
   ]
  },
  {
   "cell_type": "markdown",
   "metadata": {},
   "source": [
    "### Exemplo: Resolvendo Sistemas Lineares com Python"
   ]
  },
  {
   "cell_type": "markdown",
   "metadata": {},
   "source": [
    "Vamos definir um Sistema do tipo:"
   ]
  },
  {
   "cell_type": "markdown",
   "metadata": {},
   "source": [
    "\n",
    "- a + b + c + d + e + f = 21\n",
    "- 10a + 2b + 3c + 4d +5e + f = 70\n",
    "- a + b + 2c + 4d + e + f = 36\n",
    "- 2a + 7b + c + d + 10e + 2f = 85 \n",
    "- 3a + b + c + d + 20e + f = 118\n",
    "- 2a + 6b + c + 4d + 5e + f = 64"
   ]
  },
  {
   "cell_type": "markdown",
   "metadata": {},
   "source": [
    "Manualmente resolver tal processo seria muito custoso, poderiamos resolver diagonalizando a matriz aumentando nesse caso. Entretanto, computacionalmente, podemos usar a ideia de matriz inversa a nosso favor para obter as soluções de qualquer tipo de sistema linear. Vejamos como fazer tal processo abaixo:"
   ]
  },
  {
   "cell_type": "markdown",
   "metadata": {},
   "source": [
    "Podemos representar o sistema linear acima utilizando matrizes:"
   ]
  },
  {
   "cell_type": "markdown",
   "metadata": {},
   "source": [
    "$$\\begin{bmatrix}\n",
    "         1 & 1 & 1 & 1 & 1 & 1\\\\\n",
    "         10 & 2 & 3 & 4 & 5 & 1\\\\\n",
    "         1 & 1 & 2 & 4 & 1 & 1\\\\\n",
    "         2 & 7 & 1 & 1 & 10 & 2\\\\\n",
    "         3 & 1 & 1 & 1 & 20 & 1\\\\\n",
    "         2 & 6 & 1 & 4 & 5 & 1\\\\\n",
    "         \\end{bmatrix}.\\begin{bmatrix}\n",
    "                               a_{1} \\\\\n",
    "                               b_{1} \\\\\n",
    "                               c_{1} \\\\\n",
    "                               d_{1} \\\\\n",
    "                               e_{1} \\\\\n",
    "                               f_{1} \\\\\n",
    "                               \\end{bmatrix} = \\begin{bmatrix}\n",
    "                                                 21 \\\\\n",
    "                                                 70 \\\\\n",
    "                                                 36 \\\\\n",
    "                                                 85 \\\\\n",
    "                                                 118 \\\\\n",
    "                                                 64 \\\\\n",
    "                                                 \\end{bmatrix}$$"
   ]
  },
  {
   "cell_type": "markdown",
   "metadata": {},
   "source": [
    "Vamos seguir os seguintes passos para encontrar o conjunto solução desse sistema linear, ou pelo menos uma das soluções dependendo da matriz apresentada."
   ]
  },
  {
   "cell_type": "markdown",
   "metadata": {},
   "source": [
    "$$AX = B$$"
   ]
  },
  {
   "cell_type": "markdown",
   "metadata": {},
   "source": [
    "$$A.A^{-1}.X = A^{-1}.B$$"
   ]
  },
  {
   "cell_type": "markdown",
   "metadata": {},
   "source": [
    "$$X = A^{-1}.B$$"
   ]
  },
  {
   "cell_type": "code",
   "execution_count": 1,
   "metadata": {},
   "outputs": [],
   "source": [
    "# importando a biblioteca numpy\n",
    "import numpy as np "
   ]
  },
  {
   "cell_type": "code",
   "execution_count": 2,
   "metadata": {},
   "outputs": [],
   "source": [
    "# declarar as matrizes do exemplo acima\n",
    "A = np.array([[1,1,1,1,1,1],[10,2,3,4,5,1],[1,1,2,4,1,1],[2,7,1,1,10,2],\n",
    "              [3,1,1,1,20,1],[2,6,1,4,5,1]])\n",
    "B = np.array([[21],[70],[36],[85],[118],[64]])\n",
    "\n",
    "# Encontrar a inversa de A\n",
    "A_I = np.linalg.inv(A) #Função que encontra a matriz inversa\n",
    "\n",
    "# Encontrando X\n",
    "X = np.dot(A_I,B) # Função que realiza mutiplicação entre matrizes sem especificador de tipo\n",
    "# X = np.linalg.solve(A,B) #Função alternativa que resolve Sistemas Lineares"
   ]
  },
  {
   "cell_type": "code",
   "execution_count": 3,
   "metadata": {},
   "outputs": [
    {
     "name": "stdout",
     "output_type": "stream",
     "text": [
      "[[ 1  1  1  1  1  1]\n",
      " [10  2  3  4  5  1]\n",
      " [ 1  1  2  4  1  1]\n",
      " [ 2  7  1  1 10  2]\n",
      " [ 3  1  1  1 20  1]\n",
      " [ 2  6  1  4  5  1]]\n"
     ]
    }
   ],
   "source": [
    "# imprime a matriz A dos coeficientes de X e Y\n",
    "print(\"{}\".format(A)) "
   ]
  },
  {
   "cell_type": "code",
   "execution_count": 4,
   "metadata": {},
   "outputs": [
    {
     "name": "stdout",
     "output_type": "stream",
     "text": [
      "[[ 0.5751938   0.07364341 -0.4124031  -0.26511628  0.04341085  0.2503876 ]\n",
      " [-0.80775194  0.05426357  0.29612403  0.40465116 -0.13643411 -0.21550388]\n",
      " [-3.91627907  0.31395349  2.24186047  1.86976744 -0.44651163 -1.93255814]\n",
      " [ 0.97209302 -0.10465116 -0.41395349 -0.62325581  0.14883721  0.64418605]\n",
      " [-0.11317829 -0.00775194  0.04341085  0.02790698  0.04806202 -0.02635659]\n",
      " [ 4.28992248 -0.32945736 -1.75503876 -1.41395349  0.34263566  1.27984496]]\n"
     ]
    }
   ],
   "source": [
    "# imprime a matriz A inversa\n",
    "print(\"{}\".format(A_I)) "
   ]
  },
  {
   "cell_type": "code",
   "execution_count": 5,
   "metadata": {},
   "outputs": [
    {
     "name": "stdout",
     "output_type": "stream",
     "text": [
      "[[ 21]\n",
      " [ 70]\n",
      " [ 36]\n",
      " [ 85]\n",
      " [118]\n",
      " [ 64]]\n"
     ]
    }
   ],
   "source": [
    "# imprime a matriz B resultado dos sistemas lineares\n",
    "print(\"{}\".format(B)) "
   ]
  },
  {
   "cell_type": "code",
   "execution_count": 6,
   "metadata": {},
   "outputs": [
    {
     "name": "stdout",
     "output_type": "stream",
     "text": [
      "[[1.]\n",
      " [2.]\n",
      " [3.]\n",
      " [4.]\n",
      " [5.]\n",
      " [6.]]\n"
     ]
    }
   ],
   "source": [
    "# imprime a matrix , o  conjunto solução desse sistema\n",
    "print(\"{}\".format(X)) "
   ]
  },
  {
   "cell_type": "markdown",
   "metadata": {},
   "source": [
    "### Alguma Dúvida? Entre em Contato Comigo:"
   ]
  },
  {
   "cell_type": "markdown",
   "metadata": {},
   "source": [
    "- [Me envie um e-mail](mailto:alysson.barbosa@ee.ufcg.edu.br);"
   ]
  }
 ],
 "metadata": {
  "kernelspec": {
   "display_name": "Python 3",
   "language": "python",
   "name": "python3"
  },
  "language_info": {
   "codemirror_mode": {
    "name": "ipython",
    "version": 3
   },
   "file_extension": ".py",
   "mimetype": "text/x-python",
   "name": "python",
   "nbconvert_exporter": "python",
   "pygments_lexer": "ipython3",
   "version": "3.7.4"
  }
 },
 "nbformat": 4,
 "nbformat_minor": 4
}
