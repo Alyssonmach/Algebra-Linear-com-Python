{
 "cells": [
  {
   "cell_type": "markdown",
   "metadata": {},
   "source": [
    "# Calculando o Produto Kronecker"
   ]
  },
  {
   "cell_type": "markdown",
   "metadata": {},
   "source": [
    "Em matemática, o produto Kronecker, às vezes denotado por ⊗, é uma operação em duas matrizes de tamanho arbitrário, resultando em uma matriz de blocos. É uma generalização do produto externo de vetores para matrizes e fornece a matriz do produto tensorial em relação a uma escolha padrão de base."
   ]
  },
  {
   "cell_type": "code",
   "execution_count": 1,
   "metadata": {},
   "outputs": [],
   "source": [
    "import numpy as np # importando a biblioteca numpy do Python"
   ]
  },
  {
   "cell_type": "code",
   "execution_count": 2,
   "metadata": {},
   "outputs": [
    {
     "name": "stdout",
     "output_type": "stream",
     "text": [
      "Progama que calcula o produto kronecker de duas matrizes.\n",
      "\n",
      "\n"
     ]
    },
    {
     "name": "stdin",
     "output_type": "stream",
     "text": [
      "Informe as linhas da matriz A:  2\n",
      "Informe as colunas da matriz A:  3\n",
      "Insira o elemento [1][1] da matriz A:  1\n",
      "Insira o elemento [1][2] da matriz A:  -4\n",
      "Insira o elemento [1][3] da matriz A:  7\n",
      "Insira o elemento [2][1] da matriz A:  -2\n",
      "Insira o elemento [2][2] da matriz A:  3\n",
      "Insira o elemento [2][3] da matriz A:  3\n",
      "\n",
      "Informe as linhas da matriz B:  4\n",
      "Informe as colunas da matriz B:  4\n",
      "Insira o elemento [1][1] da matriz B:  8\n",
      "Insira o elemento [1][2] da matriz B:  -9\n",
      "Insira o elemento [1][3] da matriz B:  -6\n",
      "Insira o elemento [1][4] da matriz B:  5\n",
      "Insira o elemento [2][1] da matriz B:  1\n",
      "Insira o elemento [2][2] da matriz B:  -3\n",
      "Insira o elemento [2][3] da matriz B:  -4\n",
      "Insira o elemento [2][4] da matriz B:  7\n",
      "Insira o elemento [3][1] da matriz B:  2\n",
      "Insira o elemento [3][2] da matriz B:  8\n",
      "Insira o elemento [3][3] da matriz B:  -8\n",
      "Insira o elemento [3][4] da matriz B:  -3\n",
      "Insira o elemento [4][1] da matriz B:  1\n",
      "Insira o elemento [4][2] da matriz B:  2\n",
      "Insira o elemento [4][3] da matriz B:  -5\n",
      "Insira o elemento [4][4] da matriz B:  -1\n"
     ]
    },
    {
     "name": "stdout",
     "output_type": "stream",
     "text": [
      "A matriz A é:\n",
      "\n",
      "[[ 1. -4.  7.]\n",
      " [-2.  3.  3.]]\n",
      "\n",
      "\n",
      "A matriz B é:\n",
      "\n",
      "[[ 8. -9. -6.  5.]\n",
      " [ 1. -3. -4.  7.]\n",
      " [ 2.  8. -8. -3.]\n",
      " [ 1.  2. -5. -1.]]\n",
      "\n",
      "\n",
      "O produto Kronecker é:\n",
      "\n",
      "[[  8.  -9.  -6.   5. -32.  36.  24. -20.  56. -63. -42.  35.]\n",
      " [  1.  -3.  -4.   7.  -4.  12.  16. -28.   7. -21. -28.  49.]\n",
      " [  2.   8.  -8.  -3.  -8. -32.  32.  12.  14.  56. -56. -21.]\n",
      " [  1.   2.  -5.  -1.  -4.  -8.  20.   4.   7.  14. -35.  -7.]\n",
      " [-16.  18.  12. -10.  24. -27. -18.  15.  24. -27. -18.  15.]\n",
      " [ -2.   6.   8. -14.   3.  -9. -12.  21.   3.  -9. -12.  21.]\n",
      " [ -4. -16.  16.   6.   6.  24. -24.  -9.   6.  24. -24.  -9.]\n",
      " [ -2.  -4.  10.   2.   3.   6. -15.  -3.   3.   6. -15.  -3.]]\n"
     ]
    }
   ],
   "source": [
    "print(\"Progama que calcula o produto kronecker de duas matrizes.\\n\\n\")\n",
    "\n",
    "# quantidade de linhas e colunas da matriz A\n",
    "linha = int(input(\"Informe as linhas da matriz A: \"))\n",
    "coluna = int(input(\"Informe as colunas da matriz A: \"))\n",
    "\n",
    "# inicializando a matriz A com as linha e colunas adequadas\n",
    "A = np.empty([linha,coluna], dtype = float)\n",
    "\n",
    "# estrutura de repetição for para dar entrada nos elementos da matriz A\n",
    "for i in range(0, linha):\n",
    "    for j in range(0, coluna):\n",
    "        A[i][j] = float(input(\"Insira o elemento [{}][{}] da matriz A: \".format(i + 1, j + 1)))\n",
    "\n",
    "# quantidade de linhas e colunas da matriz B\n",
    "linha = int(input(\"\\nInforme as linhas da matriz B: \"))\n",
    "coluna = int(input(\"Informe as colunas da matriz B: \"))\n",
    "\n",
    "# inicializando a matriz A com as linha e colunas adequadas\n",
    "B = np.empty([linha,coluna], dtype = float)\n",
    "\n",
    "# estrutura de repetição for para dar entrada nos elementos da matriz B\n",
    "for i in range(0, linha):\n",
    "    for j in range(0, coluna):\n",
    "        B[i][j] = float(input(\"Insira o elemento [{}][{}] da matriz B: \".format(i + 1, j + 1)))\n",
    "\n",
    "# imprime na tela a matriz A\n",
    "print(\"A matriz A é:\\n\\n{}\\n\\n\".format(A))\n",
    "\n",
    "# imprime na tela a matriz B\n",
    "print(\"A matriz B é:\\n\\n{}\\n\\n\".format(B))\n",
    "\n",
    "# imprime na tela o produto Kronecker\n",
    "print(\"O produto Kronecker é:\\n\\n{}\".format(np.kron(A,B)))"
   ]
  },
  {
   "cell_type": "code",
   "execution_count": null,
   "metadata": {},
   "outputs": [],
   "source": []
  }
 ],
 "metadata": {
  "kernelspec": {
   "display_name": "Python 3",
   "language": "python",
   "name": "python3"
  },
  "language_info": {
   "codemirror_mode": {
    "name": "ipython",
    "version": 3
   },
   "file_extension": ".py",
   "mimetype": "text/x-python",
   "name": "python",
   "nbconvert_exporter": "python",
   "pygments_lexer": "ipython3",
   "version": "3.7.4"
  }
 },
 "nbformat": 4,
 "nbformat_minor": 4
}
