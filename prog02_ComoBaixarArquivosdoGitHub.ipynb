{
 "cells": [
  {
   "cell_type": "markdown",
   "metadata": {},
   "source": [
    "# como baixar um arquivo cuja extensão é .ipynb a partir do GitHub e executar no Jupyter Notebook"
   ]
  },
  {
   "cell_type": "markdown",
   "metadata": {},
   "source": [
    "Caso o usuário deseje baixar um documento .ipynb para ter salvo em seu computador, ele deve seguir os passos abaixo para baixar a partir do GitHub. O usuário tanto pode ter todo ambiente de trabalho Python instalado em sua máquina ou pode compilar os materias através do Google Colab Notebook, copiando e colando o link do documento presente no repositório."
   ]
  },
  {
   "cell_type": "markdown",
   "metadata": {},
   "source": [
    "Para mais informações adicionais, consulte o slide tutorial sobre como preparar o ambiente de trabalho para usar o Python na disciplina de Álgebra Linear."
   ]
  },
  {
   "cell_type": "markdown",
   "metadata": {},
   "source": [
    "# Baixando arquivos .ipynb do GitHub"
   ]
  },
  {
   "cell_type": "markdown",
   "metadata": {},
   "source": [
    "1 -) Primeiramente, clique no arquivo que você deseja baixar no GitHub."
   ]
  },
  {
   "cell_type": "markdown",
   "metadata": {},
   "source": [
    "2 - ) Após clicar no arquivo desejado com extensão .ipynb, você conseguirá ver o arquivo, mas não poderá interagir com ele."
   ]
  },
  {
   "cell_type": "markdown",
   "metadata": {},
   "source": [
    "3 -) Clique na opção Raw e, após isso, clique em Ctrl + S para salvar o arquivo em seu computador."
   ]
  },
  {
   "cell_type": "markdown",
   "metadata": {},
   "source": [
    "4 -)Repare que o tipo do arquivo está como um documento de texto, você deve modificar essa opção para \"Todo tipo de arquivo\" e modificar também o nome do documento. A extensão .ipynb deve ser mantida.\n"
   ]
  },
  {
   "cell_type": "markdown",
   "metadata": {},
   "source": [
    "5 -) O nome do documento deve terminar com .ipynb, respeitando as regras ao colocar o nome no arquivo, para que ele compile."
   ]
  },
  {
   "cell_type": "markdown",
   "metadata": {},
   "source": [
    "6-) Abra o seu Jupyter Notebook ou Google Colab Notebook"
   ]
  },
  {
   "cell_type": "markdown",
   "metadata": {},
   "source": [
    "7 -) Faça o upload do arquivo e pronto, você terá um arquivo .ipynb na qual você pode interagir, editar, remover ou adicionar células."
   ]
  },
  {
   "cell_type": "markdown",
   "metadata": {},
   "source": [
    "# OBS: clique em run para compilar todas as células do progama. Caso uma célula não seja compilada, o funcionamento das demais pode resultar em um erro de compilação, pois células inferiores podem ser dependentes das superiores."
   ]
  },
  {
   "cell_type": "code",
   "execution_count": null,
   "metadata": {},
   "outputs": [],
   "source": []
  }
 ],
 "metadata": {
  "kernelspec": {
   "display_name": "Python 3",
   "language": "python",
   "name": "python3"
  },
  "language_info": {
   "codemirror_mode": {
    "name": "ipython",
    "version": 3
   },
   "file_extension": ".py",
   "mimetype": "text/x-python",
   "name": "python",
   "nbconvert_exporter": "python",
   "pygments_lexer": "ipython3",
   "version": "3.7.4"
  }
 },
 "nbformat": 4,
 "nbformat_minor": 4
}
