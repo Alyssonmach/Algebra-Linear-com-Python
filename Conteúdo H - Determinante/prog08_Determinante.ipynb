{
 "cells": [
  {
   "cell_type": "markdown",
   "metadata": {},
   "source": [
    "# Determinante "
   ]
  },
  {
   "cell_type": "markdown",
   "metadata": {},
   "source": [
    "Em matemática, determinante é uma função matricial que associa a cada matriz quadrada um escalar. Essa função transforma essa matriz em um número real. Esta função permite saber se a matriz tem ou não inversa, pois as que não têm são precisamente aquelas cujo determinante é igual a 0. O cálculo de determinantes está ligado com o conjunto solução de um sistema linear, pois se o cálculo da matriz dos coeficientes de um sistema de equações lineares, onde o número de equações é igual o número de incógnitas (uma matriz quadrada) for um valor diferente de zero, possuímos uma única solução para o sistema, caso o valor do determinante for zero, temos um sistema possível indeterminado ou impossível."
   ]
  },
  {
   "cell_type": "code",
   "execution_count": 1,
   "metadata": {},
   "outputs": [],
   "source": [
    "# Importa Funções da biblioteca Numpy\n",
    "import numpy as np "
   ]
  },
  {
   "cell_type": "code",
   "execution_count": 2,
   "metadata": {},
   "outputs": [],
   "source": [
    "# função que calcula o determinante de uma matriz\n",
    "def determinante():\n",
    "    \n",
    "    # Recebe a ordem da matriz\n",
    "    qtd = int(input('Informe o ordem da matriz: ')) \n",
    "    \n",
    "    # Inicializa a matriz, ainda com 'lixo de endereços de memória' nele\n",
    "    matriz = np.empty([qtd, qtd], dtype = float) \n",
    "    print('\\n')\n",
    "\n",
    "    #Adiciona elementos na matriz\n",
    "    for i in range(0, qtd):\n",
    "        for j in range(0, qtd):\n",
    "            matriz[i][j] = float(input('Digite [{}][{}] da matriz: '.format(i + 1, j + 1)))\n",
    "\n",
    "    #Imprime a matriz\n",
    "    print('\\nA matriz é:\\n', matriz)\n",
    "\n",
    "    #a variável 'determinante' recebe o determinante da matriz\n",
    "    determinante = np.linalg.det(matriz)\n",
    "\n",
    "    #Imprime o determinante\n",
    "    print('\\nO determinante da matriz é: {:.2f}.'.format(determinante))\n",
    "    \n",
    "    # função não retorna nada\n",
    "    return None"
   ]
  },
  {
   "cell_type": "code",
   "execution_count": 3,
   "metadata": {},
   "outputs": [
    {
     "name": "stdin",
     "output_type": "stream",
     "text": [
      "Informe o ordem da matriz:  3\n"
     ]
    },
    {
     "name": "stdout",
     "output_type": "stream",
     "text": [
      "\n",
      "\n"
     ]
    },
    {
     "name": "stdin",
     "output_type": "stream",
     "text": [
      "Digite [1][1] da matriz:  1\n",
      "Digite [1][2] da matriz:  2\n",
      "Digite [1][3] da matriz:  3\n",
      "Digite [2][1] da matriz:  3\n",
      "Digite [2][2] da matriz:  4\n",
      "Digite [2][3] da matriz:  4\n",
      "Digite [3][1] da matriz:  7\n",
      "Digite [3][2] da matriz:  8\n",
      "Digite [3][3] da matriz:  9\n"
     ]
    },
    {
     "name": "stdout",
     "output_type": "stream",
     "text": [
      "\n",
      "A matriz é:\n",
      " [[1. 2. 3.]\n",
      " [3. 4. 4.]\n",
      " [7. 8. 9.]]\n",
      "\n",
      "O determinante da matriz é: -6.00.\n"
     ]
    }
   ],
   "source": [
    "# imprimindo a função determinante\n",
    "determinante()"
   ]
  },
  {
   "cell_type": "markdown",
   "metadata": {},
   "source": [
    "### Alguma Dúvida? Entre em Contato Comigo:"
   ]
  },
  {
   "cell_type": "markdown",
   "metadata": {},
   "source": [
    "- [Me envie um e-mail](mailto:alysson.barbosa@ee.ufcg.edu.br);"
   ]
  }
 ],
 "metadata": {
  "kernelspec": {
   "display_name": "Python 3",
   "language": "python",
   "name": "python3"
  },
  "language_info": {
   "codemirror_mode": {
    "name": "ipython",
    "version": 3
   },
   "file_extension": ".py",
   "mimetype": "text/x-python",
   "name": "python",
   "nbconvert_exporter": "python",
   "pygments_lexer": "ipython3",
   "version": "3.7.4"
  }
 },
 "nbformat": 4,
 "nbformat_minor": 4
}
