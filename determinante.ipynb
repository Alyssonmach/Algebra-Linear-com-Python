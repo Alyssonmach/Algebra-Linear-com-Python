{
 "cells": [
  {
   "cell_type": "markdown",
   "metadata": {},
   "source": [
    "*txt*"
   ]
  },
  {
   "cell_type": "code",
   "execution_count": null,
   "metadata": {},
   "outputs": [],
   "source": [
    "import numpy as np #Importa Funções da biblioteca Numpy\n",
    "\n",
    "qtd = int(input('Informe o ordem da matriz: ')) #Recebe a ordem da matriz\n",
    "\n",
    "matriz = np.empty([qtd, qtd], dtype = float) #Inicializa a matriz, ainda com 'lixo de endereços de memória' nele\n",
    "\n",
    "print('\\n')\n",
    "\n",
    "#Adiciona elementos na matriz\n",
    "for i in range(0, qtd):\n",
    "    for j in range(0, qtd):\n",
    "        matriz[i][j] = float(input('Digite [{}][{}] da matriz: '.format(i + 1, j + 1)))\n",
    "\n",
    "#Imprime a matriz\n",
    "print('\\nA matriz é:\\n', matriz)\n",
    "\n",
    "#a variável 'determinante' recebe o determinante da matriz\n",
    "determinante = np.linalg.det(matriz)\n",
    "\n",
    "#Imprime o determinante\n",
    "print('\\nO determinante da matriz é: {:.2f}.'.format(determinante))\n"
   ]
  }
 ],
 "metadata": {
  "kernelspec": {
   "display_name": "Python 3",
   "language": "python",
   "name": "python3"
  },
  "language_info": {
   "codemirror_mode": {
    "name": "ipython",
    "version": 3
   },
   "file_extension": ".py",
   "mimetype": "text/x-python",
   "name": "python",
   "nbconvert_exporter": "python",
   "pygments_lexer": "ipython3",
   "version": "3.7.4"
  }
 },
 "nbformat": 4,
 "nbformat_minor": 2
}
