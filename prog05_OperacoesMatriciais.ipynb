{
 "cells": [
  {
   "cell_type": "markdown",
   "metadata": {},
   "source": [
    "# Operações Matriciais"
   ]
  },
  {
   "cell_type": "markdown",
   "metadata": {},
   "source": [
    "Este progama visa realiza diversas operações básicas dada duas matrizes."
   ]
  },
  {
   "cell_type": "code",
   "execution_count": 1,
   "metadata": {},
   "outputs": [
    {
     "name": "stdout",
     "output_type": "stream",
     "text": [
      "Escolha uma das opções de operações com matrizes abaixo:\n",
      "   1 - Soma entre duas matrizes.\n",
      "   2 - Subtração entre duas matrizes.\n",
      "   3 - Multiplicação entre duas matrizes.\n",
      "   4 - Multiplicação de uma matriz por um escalar.\n",
      "   5 - Sair do progama\n"
     ]
    },
    {
     "name": "stdin",
     "output_type": "stream",
     "text": [
      "Insira uma opção abaixo:  1\n",
      "Informe a ordem das matrizes:  2\n",
      "Digite o elemento [1][1] da matriz A:  1\n",
      "Digite o elemento [1][2] da matriz A:  2\n",
      "Digite o elemento [2][1] da matriz A:  3\n",
      "Digite o elemento [2][2] da matriz A:  4\n",
      "Digite o elemento [1][1] da matriz B:  5\n",
      "Digite o elemento [1][2] da matriz B:  6\n",
      "Digite o elemento [2][1] da matriz B:  7\n",
      "Digite o elemento [2][2] da matriz B:  8\n"
     ]
    },
    {
     "name": "stdout",
     "output_type": "stream",
     "text": [
      "\n",
      "[[1. 2.]\n",
      " [3. 4.]]\n",
      " + \n",
      "[[5. 6.]\n",
      " [7. 8.]]\n",
      " = \n",
      "[[ 6.  8.]\n",
      " [10. 12.]]\n",
      "\n",
      "Escolha uma das opções de operações com matrizes abaixo:\n",
      "   1 - Soma entre duas matrizes.\n",
      "   2 - Subtração entre duas matrizes.\n",
      "   3 - Multiplicação entre duas matrizes.\n",
      "   4 - Multiplicação de uma matriz por um escalar.\n",
      "   5 - Sair do progama\n"
     ]
    },
    {
     "name": "stdin",
     "output_type": "stream",
     "text": [
      "Insira uma opção abaixo:  2\n",
      "Informe a ordem das matrizes:  2\n",
      "Digite o elemento [1][1] da matriz A:  1\n",
      "Digite o elemento [1][2] da matriz A:  2\n",
      "Digite o elemento [2][1] da matriz A:  3\n",
      "Digite o elemento [2][2] da matriz A:  4\n",
      "Digite o elemento [1][1] da matriz B:  5\n",
      "Digite o elemento [1][2] da matriz B:  6\n",
      "Digite o elemento [2][1] da matriz B:  7\n",
      "Digite o elemento [2][2] da matriz B:  8\n"
     ]
    },
    {
     "name": "stdout",
     "output_type": "stream",
     "text": [
      "\n",
      "[[1. 2.]\n",
      " [3. 4.]]\n",
      " - \n",
      "[[5. 6.]\n",
      " [7. 8.]]\n",
      " = \n",
      "[[-4. -4.]\n",
      " [-4. -4.]]\n",
      "\n",
      "Escolha uma das opções de operações com matrizes abaixo:\n",
      "   1 - Soma entre duas matrizes.\n",
      "   2 - Subtração entre duas matrizes.\n",
      "   3 - Multiplicação entre duas matrizes.\n",
      "   4 - Multiplicação de uma matriz por um escalar.\n",
      "   5 - Sair do progama\n"
     ]
    },
    {
     "name": "stdin",
     "output_type": "stream",
     "text": [
      "Insira uma opção abaixo:  3\n",
      "Informa quantas linhas sua matriz A terá:  3\n",
      "Informe quantas colunas sua matriz A terá:  2\n",
      "Digite o elemento [1][1] da matriz A:  2\n",
      "Digite o elemento [1][2] da matriz A:  3\n",
      "Digite o elemento [2][1] da matriz A:  1\n",
      "Digite o elemento [2][2] da matriz A:  0\n",
      "Digite o elemento [3][1] da matriz A:  4\n",
      "Digite o elemento [3][2] da matriz A:  5\n",
      "Informa quantas linhas sua matriz B terá:  2\n",
      "Informe quantas colunas sua matriz B terá:  2\n",
      "Digite o elemento [1][1] da matriz B:  3\n",
      "Digite o elemento [1][2] da matriz B:  1\n",
      "Digite o elemento [2][1] da matriz B:  2\n",
      "Digite o elemento [2][2] da matriz B:  4\n"
     ]
    },
    {
     "name": "stdout",
     "output_type": "stream",
     "text": [
      "\n",
      "[[2. 3.]\n",
      " [1. 0.]\n",
      " [4. 5.]]\n",
      " x \n",
      "[[3. 1.]\n",
      " [2. 4.]]\n",
      " = \n",
      "[[12. 14.]\n",
      " [ 3.  1.]\n",
      " [22. 24.]]\n",
      "\n",
      "Escolha uma das opções de operações com matrizes abaixo:\n",
      "   1 - Soma entre duas matrizes.\n",
      "   2 - Subtração entre duas matrizes.\n",
      "   3 - Multiplicação entre duas matrizes.\n",
      "   4 - Multiplicação de uma matriz por um escalar.\n",
      "   5 - Sair do progama\n"
     ]
    },
    {
     "name": "stdin",
     "output_type": "stream",
     "text": [
      "Insira uma opção abaixo:  4\n",
      "Informa quantas linhas sua matriz A terá:  4\n",
      "Informe quantas colunas sua matriz A terá:  4\n",
      "Informe um escalar:  10\n",
      "Digite o elemento [1][1] da matriz A:  1\n",
      "Digite o elemento [1][2] da matriz A:  1\n",
      "Digite o elemento [1][3] da matriz A:  1\n",
      "Digite o elemento [1][4] da matriz A:  1\n",
      "Digite o elemento [2][1] da matriz A:  1\n",
      "Digite o elemento [2][2] da matriz A:  1\n",
      "Digite o elemento [2][3] da matriz A:  1\n",
      "Digite o elemento [2][4] da matriz A:  1\n",
      "Digite o elemento [3][1] da matriz A:  1\n",
      "Digite o elemento [3][2] da matriz A:  1\n",
      "Digite o elemento [3][3] da matriz A:  1\n",
      "Digite o elemento [3][4] da matriz A:  1\n",
      "Digite o elemento [4][1] da matriz A:  1\n",
      "Digite o elemento [4][2] da matriz A:  1\n",
      "Digite o elemento [4][3] da matriz A:  1\n",
      "Digite o elemento [4][4] da matriz A:  1\n"
     ]
    },
    {
     "name": "stdout",
     "output_type": "stream",
     "text": [
      "\n",
      "[[1. 1. 1. 1.]\n",
      " [1. 1. 1. 1.]\n",
      " [1. 1. 1. 1.]\n",
      " [1. 1. 1. 1.]]\n",
      " x \n",
      "10.0\n",
      " = \n",
      "[[10. 10. 10. 10.]\n",
      " [10. 10. 10. 10.]\n",
      " [10. 10. 10. 10.]\n",
      " [10. 10. 10. 10.]]\n",
      "\n",
      "Escolha uma das opções de operações com matrizes abaixo:\n",
      "   1 - Soma entre duas matrizes.\n",
      "   2 - Subtração entre duas matrizes.\n",
      "   3 - Multiplicação entre duas matrizes.\n",
      "   4 - Multiplicação de uma matriz por um escalar.\n",
      "   5 - Sair do progama\n"
     ]
    },
    {
     "name": "stdin",
     "output_type": "stream",
     "text": [
      "Insira uma opção abaixo:  5\n"
     ]
    }
   ],
   "source": [
    "import numpy as np # importando a biblioteca numpy do Python (Necessário intalação: pip install numpy).\n",
    "\n",
    "while True: # menu de escolhas do progama em um loop com uma ordem de parada\n",
    "    \n",
    "    print(\"Escolha uma das opções de operações com matrizes abaixo:\")\n",
    "    print(\"   1 - Soma entre duas matrizes.\")\n",
    "    print(\"   2 - Subtração entre duas matrizes.\")\n",
    "    print(\"   3 - Multiplicação entre duas matrizes.\")\n",
    "    print(\"   4 - Multiplicação de uma matriz por um escalar.\")\n",
    "    print(\"   5 - Sair do progama\")\n",
    "\n",
    "    while True: # loop com ordem de parada para que o progama aceite a entrada correta\n",
    "        opcao = int(input(\"Insira uma opção abaixo: \"))\n",
    "        if opcao >= 1 and opcao <= 5:\n",
    "            break\n",
    "        else:\n",
    "            print(\"Entrada errada. Digite novamente.\")\n",
    "    \n",
    "    if(opcao == 5): # parar a execução do loop e, consequentemente do progama\n",
    "        break\n",
    "        \n",
    "        \n",
    "        \n",
    "    if(opcao == 1 or opcao == 2): # estrutura de seleção para as opções 1 e 2\n",
    "    \n",
    "        ordem = int(input(\"Informe a ordem das matrizes: \"))\n",
    "        \n",
    "        # inicializando as matrizes com suas devidas ordens e com lixo de memória\n",
    "        A = np.empty([ordem,ordem], dtype = float) \n",
    "        B = np.empty([ordem,ordem], dtype = float)\n",
    "        \n",
    "        # estrutura de repetição for para implementar os elementos da matriz A\n",
    "        for i in range(0, ordem):\n",
    "            for j in range(0, ordem):\n",
    "                A[i][j] = float(input(\"Digite o elemento [{}][{}] da matriz A: \".format(i + 1,j + 1)))\n",
    "        \n",
    "        # estrutura de repetição for para implementar os elementos da matriz B\n",
    "        for i in range(0, ordem):\n",
    "            for j in range(0, ordem):\n",
    "                B[i][j] = float(input(\"Digite o elemento [{}][{}] da matriz B: \".format(i + 1, j + 1)))\n",
    "    \n",
    "        # estrutura de seleção if... else para realizar soma ou subtração com as duas matrizes digitadas\n",
    "        if(opcao == 1):\n",
    "            print(\"\\n{}\\n + \\n{}\\n = \\n{}\\n\".format(A, B, A + B))\n",
    "        else:\n",
    "            print(\"\\n{}\\n - \\n{}\\n = \\n{}\\n\".format(A, B, A - B))\n",
    "    elif(opcao == 3): # estrutura de seleção caso o usuário queira multiplicar matrizes\n",
    "        \n",
    "        #informações das linhas e das colunas da matriz A\n",
    "        linha = int(input(\"Informa quantas linhas sua matriz A terá: \"))\n",
    "        coluna = int(input(\"Informe quantas colunas sua matriz A terá: \"))\n",
    "        \n",
    "        # inicializando a matriz A com lixo de memória\n",
    "        A = np.empty([linha,coluna], dtype = float)\n",
    "        \n",
    "        # estrutura de repetição for para implementar os elementos da matriz A\n",
    "        for i in range(0, linha):\n",
    "            for j in range(0, coluna):\n",
    "                A[i][j] = float(input(\"Digite o elemento [{}][{}] da matriz A: \".format(i + 1,j + 1)))\n",
    "        \n",
    "        # informações das linhas e das colunas da matriz B\n",
    "        linha = int(input(\"Informa quantas linhas sua matriz B terá: \"))\n",
    "        coluna = int(input(\"Informe quantas colunas sua matriz B terá: \"))\n",
    "    \n",
    "        # inicializando a matriz B com lixo de memória\n",
    "        B = np.empty([linha,coluna], dtype = float)\n",
    "        \n",
    "        # estrutura de repetição for para preencher a matriz B\n",
    "        for i in range(0, linha):\n",
    "            for j in range(0, coluna):\n",
    "                B[i][j] = float(input(\"Digite o elemento [{}][{}] da matriz B: \".format(i + 1, j + 1)))\n",
    "        \n",
    "        # realiza a multiplicação da matrix A e B\n",
    "        print(\"\\n{}\\n x \\n{}\\n = \\n{}\\n\".format(A,B,np.matmul(A,B)))\n",
    "        \n",
    "    elif(opcao == 4): # estrutura de seleção caso o usuário queira multiplicar uma matriz por um escalar\n",
    "        \n",
    "        # informações da linha, da coluna e de um escalar da matriz A\n",
    "        linha = int(input(\"Informa quantas linhas sua matriz A terá: \"))\n",
    "        coluna = int(input(\"Informe quantas colunas sua matriz A terá: \"))\n",
    "        escalar = float(input(\"Informe um escalar: \"))\n",
    "        \n",
    "        # inicializa a matriz A com lixo de memória\n",
    "        A = np.empty([linha,coluna], dtype = float)\n",
    "        \n",
    "        # estrutura de repetição que preenche os elementos da matriz A\n",
    "        for i in range(0, linha):\n",
    "            for j in range(0, coluna):\n",
    "                A[i][j] = float(input(\"Digite o elemento [{}][{}] da matriz A: \".format(i + 1,j + 1)))\n",
    "        \n",
    "        # multiplica o escalar pela matriz A\n",
    "        print(\"\\n{}\\n x \\n{}\\n = \\n{}\\n\".format(A, escalar, A * escalar))"
   ]
  },
  {
   "cell_type": "code",
   "execution_count": null,
   "metadata": {},
   "outputs": [],
   "source": []
  }
 ],
 "metadata": {
  "kernelspec": {
   "display_name": "Python 3",
   "language": "python",
   "name": "python3"
  },
  "language_info": {
   "codemirror_mode": {
    "name": "ipython",
    "version": 3
   },
   "file_extension": ".py",
   "mimetype": "text/x-python",
   "name": "python",
   "nbconvert_exporter": "python",
   "pygments_lexer": "ipython3",
   "version": "3.7.4"
  }
 },
 "nbformat": 4,
 "nbformat_minor": 4
}
