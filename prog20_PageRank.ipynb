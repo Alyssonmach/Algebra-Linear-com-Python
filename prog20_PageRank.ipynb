{
 "cells": [
  {
   "cell_type": "markdown",
   "metadata": {},
   "source": [
    "# Page Rank"
   ]
  },
  {
   "cell_type": "markdown",
   "metadata": {},
   "source": [
    "#### Atualmente, a pesquisa na Web usa uma variedade de tecnologias, mas o algoritmo original que levou o Google ao topo dos mecanismos de pesquisa é o algoritmo PageRank. Vamos ver como é a ideia desse algoritmo agora."
   ]
  },
  {
   "cell_type": "markdown",
   "metadata": {},
   "source": [
    "O PageRank funciona contando o número e a qualidade dos links de uma página para determinar uma estimativa aproximada da importância do site. A suposição subjacente é que os sites mais importantes provavelmente receberão mais links de outros sites."
   ]
  },
  {
   "cell_type": "markdown",
   "metadata": {},
   "source": [
    "Queremos classificar sites nos resultados de seus mecanismos de pesquisa. Existem dois  algoritmos populares para classificar as páginas da web por popularidade:"
   ]
  },
  {
   "cell_type": "markdown",
   "metadata": {},
   "source": [
    "|**Algoritmos populares:**|\n",
    "|---|\n",
    "|1) HITS - Hypertext Induced Topic Search|\n",
    "|2) PageRank - Algoritmo do Google|"
   ]
  },
  {
   "cell_type": "markdown",
   "metadata": {},
   "source": [
    "A estrutura hiperlink WWW forma um enorme gráfico direcionado , onde os nós representam páginas da Web e as bordas direcionadas são os hiperlinks."
   ]
  },
  {
   "cell_type": "markdown",
   "metadata": {},
   "source": [
    "||||\n",
    "|---|---|---|\n",
    "|Page 1|&harr;|Page 2|\n",
    "||&#8599;|&uarr;|\n",
    "|Page 3|&larr;|Page 4|"
   ]
  },
  {
   "cell_type": "markdown",
   "metadata": {},
   "source": [
    "O grau de importância de uma página da web é calculado a partir do número de links para ele e da importância das páginas que apontam para ele. A regra é que uma página com links para $ n $ outras páginas passe para eles $ 1 / n $ de sua importância. O ranking de uma página é a soma de toda a importância que recebe de outras páginas vinculadas a ele."
   ]
  },
  {
   "cell_type": "markdown",
   "metadata": {},
   "source": [
    "Para uma rede de páginas da web $ n $, você forma uma matriz cuja entrada $ i, j $ é a página de importância que $ j $ passa para $ i $. Aqui está um exemplo com quatro páginas da web, conectadas por links, como mostra a figura abaixo."
   ]
  },
  {
   "cell_type": "markdown",
   "metadata": {},
   "source": [
    "|**Organização de Links das Páginas**|\n",
    "|----|\n",
    "|A página $A$ possui 3 links: passa $ \\frac{1}{3} $ de sua classificação para $ B, C, D $|\n",
    "|A página $B$ possui 2 links: passa $ \\frac{1}{2} $ de sua classificação para $ C, D $|\n",
    "|A página $C$ possui 0 links|\n",
    "|A página $D$ possui 2 links: passa $ \\frac{1}{2} $ de sua classificação o $ A, C $|\n"
   ]
  },
  {
   "cell_type": "markdown",
   "metadata": {},
   "source": [
    "|**Matriz de Importância**|A            |B            |C|D            |\n",
    "|-------------------------|-------------|-------------|-|-------------|\n",
    "|A                        |0            |0            |0|$\\frac{1}{2}$|\n",
    "|B                        |$\\frac{1}{3}$|0            |0|0            |\n",
    "|C                        |$\\frac{1}{3}$|$\\frac{1}{2}$|0|$\\frac{1}{2}$|\n",
    "|D                        |$\\frac{1}{3}$|$\\frac{1}{2}$|0|0            |"
   ]
  },
  {
   "cell_type": "markdown",
   "metadata": {},
   "source": [
    "Essa seria uma matriz estocástica, exceto a coluna de zeros, devido a uma página da Web sem links. Corrija esse problema substituindo os zeros nessa coluna por $ 1 / n $ (sendo $n$ o número total de páginas disponíveis). Essa matriz de importância modificada, $ A ^ {\\ prime} $ é sempre estocástica. Agora escolha um valor $ p \\ in (0,1) $, chamado fator de amortecimento, para criar a matriz do Google da seguinte maneira:"
   ]
  },
  {
   "cell_type": "markdown",
   "metadata": {},
   "source": [
    "$$G = (1-p)A^{'} + pB$$"
   ]
  },
  {
   "cell_type": "markdown",
   "metadata": {},
   "source": [
    "onde $ B $ é uma matriz $ n x n $ com $ 1 / n $ em cada entrada."
   ]
  },
  {
   "cell_type": "markdown",
   "metadata": {},
   "source": [
    "###### Ideia chave:"
   ]
  },
  {
   "cell_type": "markdown",
   "metadata": {},
   "source": [
    "A matriz do Google é uma matriz estocástica positiva. O vetor PageRank é o vetor de estado estacionário da cadeia de Markov com esta matriz."
   ]
  },
  {
   "cell_type": "markdown",
   "metadata": {},
   "source": [
    "Vamos jogar com uma rede de quatro páginas como a ilustrada acima, mas preencha a coluna correspondente a $ C $ com $ 1/4 $. Escolha $ p = 0,15 $ para o fator de amortecimento."
   ]
  },
  {
   "cell_type": "code",
   "execution_count": 4,
   "metadata": {},
   "outputs": [],
   "source": [
    "# importando a biblioteca de funções numpy do Python\n",
    "import numpy as np"
   ]
  },
  {
   "cell_type": "code",
   "execution_count": 6,
   "metadata": {},
   "outputs": [],
   "source": [
    "# definindo a matriz A\n",
    "A = np.array([[0,0,1/4, 1/2], [1/3,0,1/4,0], [1/3,1/2,1/4,1/2],[1/3,1/2,1/4,0]])"
   ]
  },
  {
   "cell_type": "code",
   "execution_count": 7,
   "metadata": {},
   "outputs": [
    {
     "name": "stdout",
     "output_type": "stream",
     "text": [
      "A matriz A é:\n",
      "\n",
      "[[0.         0.         0.25       0.5       ]\n",
      " [0.33333333 0.         0.25       0.        ]\n",
      " [0.33333333 0.5        0.25       0.5       ]\n",
      " [0.33333333 0.5        0.25       0.        ]]\n"
     ]
    }
   ],
   "source": [
    "# imprimindo a matriz A\n",
    "print(\"A matriz A é:\\n\\n{}\".format(A))"
   ]
  },
  {
   "cell_type": "markdown",
   "metadata": {},
   "source": [
    "Vamos escrever uma função Python com o algoritmo PageRank, tendo como entradas a matriz de importância modificada, o fator de amortecimento e uma tolerância para sair da cadeia de Markov. A função inicializa um vetor inicial aleatório (normalizado), calcula a matriz do Google e aplica-a repetidamente até que dois vetores de estado sucessivos estejam \"próximos o suficiente\" um do outro (ou seja, menos do que a tolerância)."
   ]
  },
  {
   "cell_type": "code",
   "execution_count": null,
   "metadata": {},
   "outputs": [],
   "source": [
    "# vamos definir a função pagerank\n",
    "def pagerank(A, p=0.15, eps=1e-3):\n",
    "    '''Implementa o algoritmo PageRank\n",
    "    Argumentos:\n",
    "    Matriz numpy A, matriz de importância modificada\n",
    "    p float, fator de amortecimento\n",
    "    eps flutuar, tolerância para sair das iterações\n",
    "    \n",
    "    Devoluções:\n",
    "    v matriz numpy (normalizada), vetor PageRank\n",
    "    '''\n",
    "    # n recebe o total de linhas da matriz\n",
    "    n = A.shape[0]\n",
    "    # cria um vetor-coluna aleatório com 4 linhas \n",
    "    v = numpy.random.rand(n,1)\n",
    "    # normaliza os vetores, de forma que o módulo de v é aproximadamente 1\n",
    "    v = v/np.linalg.norm(v)\n",
    "    # calcula G da fórmula acima\n",
    "    G = (1-p)*A + p*1/n*np.ones((n,n))\n",
    "    # a matriz vold é um vetor coluna de n(4) linhas, assim como n foi definido acima\n",
    "    vold = np.zeros((n,1))\n",
    "    \n",
    "    while np.linalg.norm(v-vold, 2)>eps:\n",
    "        vold = v.copy()\n",
    "        v = G.dot(v)\n",
    "        \n",
    "    return v/numpy.sum(v)"
   ]
  },
  {
   "cell_type": "code",
   "execution_count": 39,
   "metadata": {},
   "outputs": [
    {
     "data": {
      "text/plain": [
       "array([[0.24655452],\n",
       "       [0.11472766],\n",
       "       [0.37916964],\n",
       "       [0.91133166]])"
      ]
     },
     "execution_count": 39,
     "metadata": {},
     "output_type": "execute_result"
    }
   ],
   "source": [
    "# n recebe o total de linhas da matriz\n",
    "n = A.shape[0]\n",
    "    # cria um vetor-coluna aleatório com 4 linhas \n",
    "v = np.random.rand(n,1)\n",
    "v"
   ]
  },
  {
   "cell_type": "code",
   "execution_count": 53,
   "metadata": {},
   "outputs": [
    {
     "data": {
      "text/plain": [
       "array([[0.24081373],\n",
       "       [0.11205633],\n",
       "       [0.37034103],\n",
       "       [0.89011215]])"
      ]
     },
     "execution_count": 53,
     "metadata": {},
     "output_type": "execute_result"
    }
   ],
   "source": [
    "v = v/np.linalg.norm(v)\n",
    "v"
   ]
  },
  {
   "cell_type": "code",
   "execution_count": 52,
   "metadata": {},
   "outputs": [
    {
     "data": {
      "text/plain": [
       "array([[0.],\n",
       "       [0.],\n",
       "       [0.],\n",
       "       [0.]])"
      ]
     },
     "execution_count": 52,
     "metadata": {},
     "output_type": "execute_result"
    }
   ],
   "source": [
    "vold = np.zeros((n,1))\n",
    "vold"
   ]
  },
  {
   "cell_type": "code",
   "execution_count": 44,
   "metadata": {},
   "outputs": [
    {
     "data": {
      "text/plain": [
       "0.9999999999999999"
      ]
     },
     "execution_count": 44,
     "metadata": {},
     "output_type": "execute_result"
    }
   ],
   "source": [
    "cf = np.linalg.norm(v, 2)\n",
    "cf"
   ]
  },
  {
   "cell_type": "code",
   "execution_count": 45,
   "metadata": {},
   "outputs": [
    {
     "data": {
      "text/plain": [
       "array([[0.24081373],\n",
       "       [0.11205633],\n",
       "       [0.37034103],\n",
       "       [0.89011215]])"
      ]
     },
     "execution_count": 45,
     "metadata": {},
     "output_type": "execute_result"
    }
   ],
   "source": [
    "vold = v.copy()\n",
    "vold"
   ]
  },
  {
   "cell_type": "code",
   "execution_count": 48,
   "metadata": {},
   "outputs": [
    {
     "data": {
      "text/plain": [
       "0.001"
      ]
     },
     "execution_count": 48,
     "metadata": {},
     "output_type": "execute_result"
    }
   ],
   "source": [
    "eps=1e-3\n",
    "eps"
   ]
  },
  {
   "cell_type": "code",
   "execution_count": 61,
   "metadata": {},
   "outputs": [
    {
     "data": {
      "text/plain": [
       "0.9999999999999999"
      ]
     },
     "execution_count": 61,
     "metadata": {},
     "output_type": "execute_result"
    }
   ],
   "source": [
    "ass = np.linalg.norm(v-vold, 2)\n",
    "ass"
   ]
  },
  {
   "cell_type": "code",
   "execution_count": null,
   "metadata": {},
   "outputs": [],
   "source": []
  }
 ],
 "metadata": {
  "kernelspec": {
   "display_name": "Python 3",
   "language": "python",
   "name": "python3"
  },
  "language_info": {
   "codemirror_mode": {
    "name": "ipython",
    "version": 3
   },
   "file_extension": ".py",
   "mimetype": "text/x-python",
   "name": "python",
   "nbconvert_exporter": "python",
   "pygments_lexer": "ipython3",
   "version": "3.7.4"
  }
 },
 "nbformat": 4,
 "nbformat_minor": 4
}
