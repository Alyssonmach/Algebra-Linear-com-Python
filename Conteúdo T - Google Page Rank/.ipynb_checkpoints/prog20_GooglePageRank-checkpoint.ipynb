{
 "cells": [
  {
   "cell_type": "markdown",
   "metadata": {},
   "source": [
    "# Google PageRank\n",
    "#### Atualmente, a pesquisa na Web usa uma variedade de tecnologias, mas o algoritmo original que levou o Google ao topo dos mecanismos de pesquisa é o algoritmo PageRank. Vamos analisar como é a ideia desse algoritmo."
   ]
  },
  {
   "cell_type": "markdown",
   "metadata": {},
   "source": [
    "O PageRank funciona contando o número e a qualidade dos links de uma página para determinar uma estimativa aproximada da importância do site. A suposição subjacente é que os sites mais importantes provavelmente receberão mais links de outros sites."
   ]
  },
  {
   "cell_type": "markdown",
   "metadata": {},
   "source": [
    "Dentro de sites há inúmeros **hiperlinks** cuja função é nos direcionar para outros sites. Se formos considerar todas as páginas que temos acesso através do mecanismo de pesquisa do Google, temos um emaranhado de ligações entre sites através de **hiperlinks**. Dizemos que um determinado site **A** aponta para um site **B** quando o site **A** possui pelo menos um **hiperlink** que nos direciona a página **B**."
   ]
  },
  {
   "cell_type": "markdown",
   "metadata": {},
   "source": [
    "Veja o exemplo abaixo, esse que vamos desenvolver ao longo do progama:"
   ]
  },
  {
   "cell_type": "markdown",
   "metadata": {},
   "source": [
    "|**Relação de hiperlinks entre quatro sites:**            |\n",
    "|---------------------------------------------------------|\n",
    "|A página **A** aponta para a página **B**, **C** e **D**;|\n",
    "|A página **B** aponta para a página **C** e **D**;       |\n",
    "|A página **C** não aponta para niguém;                   |\n",
    "|A página **D** aponta para a página **A** e **C**;       |"
   ]
  },
  {
   "cell_type": "markdown",
   "metadata": {},
   "source": [
    "Só de analisar o quadro acima, vemos que a página com mais classificação é a página **C**, pois ela possui mais **Links de Entrada**."
   ]
  },
  {
   "cell_type": "markdown",
   "metadata": {},
   "source": [
    "> **Links de Entrada:** são links para o site fornecido de fora para outras páginas."
   ]
  },
  {
   "cell_type": "markdown",
   "metadata": {},
   "source": [
    "> **Links de Saída:** são links de uma determinada página para páginas no mesmo site ou em outro sites."
   ]
  },
  {
   "cell_type": "markdown",
   "metadata": {},
   "source": [
    "#### Fórmula Original"
   ]
  },
  {
   "cell_type": "markdown",
   "metadata": {},
   "source": [
    "Inicialmente, tinhamos a fórmula recursiva para determinar qual página era mais popular:"
   ]
  },
  {
   "cell_type": "markdown",
   "metadata": {},
   "source": [
    "$$PR(A) = (1 - d) + d( \\frac{PR(T_{1})}{C(T_{1})} + \\frac{PR(T_{2})}{C(T_{2})} + ... + \\frac{PR(T_{n})}{C(T_{n})} )$$"
   ]
  },
  {
   "cell_type": "markdown",
   "metadata": {},
   "source": [
    "- **PR(A)** = **PageRank** da página **A**;\n",
    "- **PR($T_{i}$)** = **PageRank** das páginas $T_{i}$ que apontam para a página **A**;\n",
    "- **C($T_{i}$)** = Número de **Links de Saída** de uma determinada página $T_{i}$;\n",
    "- **d** = também conhecido como **Fator de Amortecimento**, é um número arbitrário entre 0 e 1;"
   ]
  },
  {
   "cell_type": "markdown",
   "metadata": {},
   "source": [
    "No início da fórmula, todas as páginas recebem o mesmo número $\\frac{1}{n}$, esse que vamos chamar de **PageRank** e **n** é o número total de páginas disponíveis naquele espaço amostral da pesquisa. Desse modo, no início do algoritmo, todas as páginas terão o mesmo nível de popularidade. Conseguintemente, teremos que realizar diversas interações até chegar na convergência do resultado, essa que indicará um ranking de páginas populares entre as demais."
   ]
  },
  {
   "cell_type": "markdown",
   "metadata": {},
   "source": [
    "A fórmula acima pode ser simplificada da seguinte forma:"
   ]
  },
  {
   "cell_type": "markdown",
   "metadata": {},
   "source": [
    "$$PR_{t + 1}(P_{i}) = \\sum_{P_{j}}\\frac{PR_{t}(P_{j})}{C(T_{j})}$$"
   ]
  },
  {
   "cell_type": "markdown",
   "metadata": {},
   "source": [
    "O **Grau de Importância** de uma página da web é calculado a partir do número de **Links de Entrada** nesse site e da importância das páginas que estão apontando para ele. A regra é que uma página com links para $n$ outras páginas passe para eles $\\frac{1}{n}$ de sua importância. O ranking de uma página é a soma de todas as importâncias que recebe de outras páginas vinculadas a ele."
   ]
  },
  {
   "cell_type": "markdown",
   "metadata": {},
   "source": [
    "#### Exemplo:"
   ]
  },
  {
   "cell_type": "markdown",
   "metadata": {},
   "source": [
    "Vamos aplicar a fórmula anterior e utilizar o mesmo exemplo de sites que estamos trabalhando desde o início."
   ]
  },
  {
   "cell_type": "markdown",
   "metadata": {},
   "source": [
    "|Sites|0 interação|1 interação|2 interações|PageRank|\n",
    "|-----|-----------|-----------|------------|--------|\n",
    "|A|$\\frac{1}{4}$|$\\frac{\\frac{1}{4}}{2}$ = $\\frac{1}{8}$|$\\frac{\\frac{1}{8}}{2}$ = $\\frac{1}{16}$|0.0625|\n",
    "|B|$\\frac{1}{4}$|$\\frac{\\frac{1}{4}}{3}$ = $\\frac{1}{12}$|$\\frac{\\frac{1}{8}}{3}$ = $\\frac{1}{24}$|0.0416|\n",
    "|C|$\\frac{1}{4}$|$\\frac{\\frac{1}{4}}{3}$ + $\\frac{\\frac{1}{4}}{2}$ + $\\frac{\\frac{1}{4}}{2}$ = $\\frac{1}{3}$|$\\frac{\\frac{1}{8}}{3}$ + $\\frac{\\frac{1}{12}}{2}$ + $\\frac{\\frac{1}{8}}{2}$ = $\\frac{7}{48}$|0.1458|\n",
    "|D|$\\frac{1}{4}$|$\\frac{\\frac{1}{4}}{2} = \\frac{1}{8}$|$\\frac{\\frac{1}{12}}{2}$ = $\\frac{1}{24}$|0.0416|"
   ]
  },
  {
   "cell_type": "markdown",
   "metadata": {},
   "source": [
    "Veja que todas as páginas no início receberam o mesmo **PageRank** de $\\frac{1}{4}$. Na próxima interação, consideramos a soma dos **PageRank** de todos sites que apontam para o site **n** dividido pelo número de **Links de Saída** dos mesmos, e assim sucessivamente para cada interação."
   ]
  },
  {
   "cell_type": "markdown",
   "metadata": {},
   "source": [
    "Desse modo, pode-se perceber que a página mais influente é de fato a página **C**. Em segundo lugar, temos a página **A** e empatados em terceiro lugar temos as páginas **B** e **D**. Caso fosse um ranking de páginas sobre algum assunto que você pesquisou no Google, certamente a pagina **C** lideraria o topo de sua pesquisa, pois ela é a mais influente neste **Networking**."
   ]
  },
  {
   "cell_type": "markdown",
   "metadata": {},
   "source": [
    "Mas perceba que o resultado não foi justo. A página **C** realmente é a mais influente de todas, porém a página **D** é mais influente que a página **A**, dado que **D** possui 2 **Links de Saída** e também 2 **Links de Entrada**, ao passo em que a página **A** possui 3 **Links de Saída** e apenas 1 **Link de Entrada**. Assim, teremos que aprimorar nosso algoritmo, mas para isso, necessitamos desenvolver algumas ideias antes."
   ]
  },
  {
   "cell_type": "markdown",
   "metadata": {},
   "source": [
    "#### Curiosidade"
   ]
  },
  {
   "cell_type": "markdown",
   "metadata": {},
   "source": [
    "| |\n",
    "|--|\n",
    "|Certamente todos nós conhecemos a empresa **Wikipédia**. A sua popularidade advém da inteligência dos desenvolvedores originais em usar o **PageRank** ao seu favor. Ao clicar em uma página qualquer da Wikipédia, podemos encontrar inúmeros **Links de Saída** para outras páginas da mesma empresa e, obviamente, essa mesma página possui muitos **Links de Entrada** apontando para ele. Desse modo, quando nós utilizamos o mecanismo de pesquisa do Google para procurar algum assunto, a Wikipédia certamente estará em primeiro lugar nos sites recomendados para tal assunto, se o mesmo estiver catalogado no site. Além disso, tal algoritmo foi inspiração para inúmeras outras plataformas. Um exemplo maior dessa inspiração é o aplicativo de fotos **Instagram** e o aplicativo de vídeos **YouTube** que, além de usar inúmeras tecnologias de recomendação, usa também um recurso chamado **tags**.|"
   ]
  },
  {
   "cell_type": "markdown",
   "metadata": {},
   "source": [
    "> **Tags:** Uma tag, ou em português etiqueta, é uma palavra-chave ou termo associado com uma informação que o descreve e permite uma classificação da informação baseada em palavras-chave. "
   ]
  },
  {
   "cell_type": "markdown",
   "metadata": {},
   "source": [
    "#### Usando Matrizes no Algoritmo PageRank"
   ]
  },
  {
   "cell_type": "markdown",
   "metadata": {},
   "source": [
    "podemos usar operações matriciais ao invés do **Algoritmo Iterativo** acima. Desse modo, podemos fazer diversas operações ao mesmo tempo, fato esse mais viável para o mecanismo de pesquisa do Google, dado que em uma única pesquisa temos milhares de páginas que competem a atenção do usuário."
   ]
  },
  {
   "cell_type": "markdown",
   "metadata": {},
   "source": [
    "Para uma rede de páginas da web **n**, você forma uma matriz cuja entrada **i** e **j** é a página de importância que **j** passa para **i**. Vamos usar o mesmo exemplo acima é montar sua **Matriz de Transição**."
   ]
  },
  {
   "cell_type": "markdown",
   "metadata": {},
   "source": [
    "|**Organização de Links das Páginas**                                                             |\n",
    "|-------------------------------------------------------------------------------------------------|\n",
    "|A página **A** possui 3 links: passa $\\frac{1}{3}$ de sua classificação para **B**, **C**, **D**;|\n",
    "|A página **B** possui 2 links: passa $\\frac{1}{2}$ de sua classificação para **C** e **D**;      |\n",
    "|A página **C** possui 0 links;                                                                   |\n",
    "|A página **D** possui 2 links: passa $\\frac{1}{2}$ de sua classificação para **A** e **C**;          |"
   ]
  },
  {
   "cell_type": "markdown",
   "metadata": {},
   "source": [
    "|**Matriz de Transição**|**A**            |**B**            |**C**|**D**            |\n",
    "|-----------------------|-----------------|-----------------|-----|-----------------|\n",
    "|**A**                  |0                |0                |0    |$\\frac{1}{2}$    |\n",
    "|**B**                  |$\\frac{1}{3}$    |0                |0    |0                |\n",
    "|**C**                  |$\\frac{1}{3}$    |$\\frac{1}{2}$    |0    |$\\frac{1}{2}$    |\n",
    "|**D**                  |$\\frac{1}{3}$    |$\\frac{1}{2}$    |0    |0                |"
   ]
  },
  {
   "cell_type": "markdown",
   "metadata": {},
   "source": [
    "Essa seria uma **Matriz de Transição**, exceto pela coluna de zeros, devido a uma página da Web sem links. Esse problema é facilmente corrijido substituindo os zeros nessa coluna por $\\frac{1}{n}$. Além disso, deve-se escolher um valor para o **Fator de Amortecimento (d)**."
   ]
  },
  {
   "cell_type": "markdown",
   "metadata": {},
   "source": [
    "Temos uma versão da fórmula anterior, apropiada para o uso de matrizes:\n"
   ]
  },
  {
   "cell_type": "markdown",
   "metadata": {},
   "source": [
    "$$M = (1-d)A + dB$$"
   ]
  },
  {
   "cell_type": "markdown",
   "metadata": {},
   "source": [
    "Temos que:\n",
    "- **M** é a chamada **Matriz PageRank** ou **Google-Matrix**;\n",
    "- **d**: é chamado **Fator de Amortecimento**, um número entre 0 e 1 (vamos usar o valor 0.15);\n",
    "- **A**: é a chamada **Matriz de Transição**;\n",
    "- **B**: é uma matriz com todos elementos compostos pelo valor $\\frac{1}{n}$;"
   ]
  },
  {
   "cell_type": "markdown",
   "metadata": {},
   "source": [
    "Veja que o **Fator de Amortecimento** **d** é usado duas vezes na fórmula. O primeiro uso associado a **Matriz de Transição** **A** indica a probabilidade do usuário ir para uma outra página através dos **Links de Saída** da mesma. O segundo uso associado a matriz **B** é a probabilidade do usuário ir para outra página sobre o tema, mas sem usar os seus **Links de Saída**, fator esse chamado de **Teletransporte**. Por tal motivo, **A** é a matriz dos **Links de Saída e Entrada**, também chamada de **Matriz de Transição**, e a matriz **B** possui todos os elementos com $\\frac{1}{n}$ para todas as páginas disponíveis naquele **Networking**, com o mesmo valor de **PageRank** para qualquer página."
   ]
  },
  {
   "cell_type": "markdown",
   "metadata": {},
   "source": [
    "#### Cadeias de Markov e Teorema de Perron-Frobenius"
   ]
  },
  {
   "cell_type": "markdown",
   "metadata": {},
   "source": [
    "Vamos usar nesse algoritmo  ideias de **cadeias de Markov** em que uma determinada **Matriz de Transição**, após passar por cada operação, vai sofrer uma **Mudança de Estado**. (Veja o progama sobre Cadeias de Markov disponível no repositório)."
   ]
  },
  {
   "cell_type": "markdown",
   "metadata": {},
   "source": [
    "Em geral, não pode ser determinado com certeza  o estado de um sistema em uma **cadeia de Markov**, numa observação arbitrária. O melhor que podemos fazer é especificar probabilidades para cada um dos estados possíveis. Por exemplo, nós podemos descrever o estado-possível do sistema em uma certa observação em uma **cadeia de Markov** com três estados, por um vetor-coluna:"
   ]
  },
  {
   "cell_type": "markdown",
   "metadata": {},
   "source": [
    "$$x = \\begin{bmatrix}\n",
    "          x_{1} \\\\\n",
    "          x_{2} \\\\\n",
    "          x_{3} \\\\\n",
    "          \\end{bmatrix}$$"
   ]
  },
  {
   "cell_type": "markdown",
   "metadata": {},
   "source": [
    "no qual $x_{1}$ é a probabilidade que o sistema está no estado 1, $x_{2}$ é a probabilidade que ele está no estado 2 e $x_{3}$ é a probabilidade que ele está no estado 3. Em geral, temos a seguinte definição:"
   ]
  },
  {
   "cell_type": "markdown",
   "metadata": {},
   "source": [
    "> O **vetor-estado** de uma observação de uma **cadeia de Markov** com **k** estados é um vetor-coluna **x** cujo i-ésimo componente $x_{i}$ é a probabilidade do sistema estar, naquela observação, no i-ésimo estado."
   ]
  },
  {
   "cell_type": "markdown",
   "metadata": {},
   "source": [
    "O **Teorema de Perron-Frobenius** afirma que:"
   ]
  },
  {
   "cell_type": "markdown",
   "metadata": {},
   "source": [
    "> Uma matriz real quadrada com entradas positivas tem um único maior autovalor e que o correspondente autovetor tem componentes estritamente positivos."
   ]
  },
  {
   "cell_type": "markdown",
   "metadata": {},
   "source": [
    "Além de outras definições que estão além do nosso objetivo no **Teorema de Perron-Frobenius** , temos que o **PageRank** será um vetor-coluna em que 1 será o maior **autovalor** e, para esse **autovalor**, teremos um único **autovetor** cuja soma de todas as entradas é igual a 1 (fato esse compreensível por ser tratar de probabilidade)."
   ]
  },
  {
   "cell_type": "markdown",
   "metadata": {},
   "source": [
    "Em outras palavras:"
   ]
  },
  {
   "cell_type": "markdown",
   "metadata": {},
   "source": [
    "> \"A Soma de Todas as Páginas rankeadas é igual a 1\" $_{perron-frobenius}$"
   ]
  },
  {
   "cell_type": "markdown",
   "metadata": {},
   "source": [
    "Em suma, temos que:"
   ]
  },
  {
   "cell_type": "markdown",
   "metadata": {},
   "source": [
    "- **PageRank** pode ser definido pela probabilidade de um usuário na web iniciar uma **página aleatória** ou seguir **hiperlinks** e visitar as páginas fornecida.\n",
    "- A soma das colunas deve ser igual a 1 por causa das probabilidades (Teoria de **cadeias de Markov** e **𝑝𝑒𝑟𝑟𝑜𝑛−𝑓𝑟𝑜𝑏𝑒𝑛𝑖𝑢𝑠**);\n",
    "- A matriz de transição define os próximos passos até o **PageRank**;"
   ]
  },
  {
   "cell_type": "markdown",
   "metadata": {},
   "source": [
    "#### Teorema da Convergência do Método da Potência"
   ]
  },
  {
   "cell_type": "markdown",
   "metadata": {},
   "source": [
    "Por fim, para obter nosso **PageRank**, vamos utilizar todas as ideias desenvolvidas acima para usar o **Teorema da Convergência do Método da Potência**, que nos diz o seguinte:"
   ]
  },
  {
   "cell_type": "markdown",
   "metadata": {},
   "source": [
    "A partir da matriz **M**: matriz positiva e com colunas estocásticas, nós teremos um vetor-coluna **w** que é o **autovetor** correspondente ao **autovalor** 1; temos **v**, o vetor inicial com todas as entradas iguais a $\\frac{1}{n}$, responsável por indicar que os sites tem igual probabilidade de influência antes da **Distribuição Estacionária**. Nesse caso, a sequência $v, Mv, ..., M^{k}v$ converge para o vetor **w** (**Teorema da Convergência do Método da Potência**)."
   ]
  },
  {
   "cell_type": "markdown",
   "metadata": {},
   "source": [
    "Agora vamos desenvolver o **Algoritmo PageRank** usando o exemplo de sites acima."
   ]
  },
  {
   "cell_type": "code",
   "execution_count": 8,
   "metadata": {},
   "outputs": [],
   "source": [
    "# importando a biblioteca de funções numpy do Python\n",
    "import numpy as np"
   ]
  },
  {
   "cell_type": "code",
   "execution_count": 9,
   "metadata": {},
   "outputs": [],
   "source": [
    "# definindo a matriz de transição A\n",
    "A = np.array([[0,0,1/4, 1/2], [1/3,0,1/4,0], [1/3,1/2,1/4,1/2],[1/3,1/2,1/4,0]])"
   ]
  },
  {
   "cell_type": "code",
   "execution_count": 10,
   "metadata": {},
   "outputs": [
    {
     "name": "stdout",
     "output_type": "stream",
     "text": [
      "A Matriz de Transição A é:\n",
      "\n",
      "[[0.         0.         0.25       0.5       ]\n",
      " [0.33333333 0.         0.25       0.        ]\n",
      " [0.33333333 0.5        0.25       0.5       ]\n",
      " [0.33333333 0.5        0.25       0.        ]]\n"
     ]
    }
   ],
   "source": [
    "# imprimindo a matriz A\n",
    "print(\"A Matriz de Transição A é:\\n\\n{}\".format(A))"
   ]
  },
  {
   "cell_type": "markdown",
   "metadata": {},
   "source": [
    "Vamos escrever uma função Python com o algoritmo PageRank, tendo como entradas a **Matriz de Transição** **A** e o **Fator de Amortecimento** **d**."
   ]
  },
  {
   "cell_type": "code",
   "execution_count": 11,
   "metadata": {},
   "outputs": [],
   "source": [
    "# vamos definir a função pagerank\n",
    "def pagerank(A, d = 0.15):\n",
    "    \n",
    "    # n recebe o total de linhas da matriz de transição A, correspondendo ao número de sites\n",
    "    n = A.shape[0]\n",
    "    \n",
    "    # inicializa o vetor v, com igual probabilidade para todos os sites antes da distribuição estacionária\n",
    "    v = np.array([[1/n],[1/n],[1/n],[1/n]])\n",
    "    \n",
    "    # calcula G da fórmula acima\n",
    "    M = (1 - d) * A + d * (1/n) * np.ones((n,n))\n",
    "    \n",
    "    # a matriz vAux é um vetor coluna de n linhas, assim como n foi definido acima\n",
    "    # ela é apenas uma matriz auxiliar para v\n",
    "    vAux = np.zeros((n,1))\n",
    "    \n",
    "    # estrutura de repetição while \n",
    "    for indice in range (0,2):\n",
    "        # vAux recebe uma cópia de v em cada mudança de estado\n",
    "        vAux = v.copy()\n",
    "        # realiza a multiplicação da Matriz PageRank M com o vetor-estado v\n",
    "        v = M.dot(v)\n",
    "    \n",
    "    # retorna o vetor v normalizado\n",
    "    return v/np.sum(v)"
   ]
  },
  {
   "cell_type": "code",
   "execution_count": 12,
   "metadata": {},
   "outputs": [
    {
     "name": "stdout",
     "output_type": "stream",
     "text": [
      "[[0.23074219]\n",
      " [0.1727474 ]\n",
      " [0.35514323]\n",
      " [0.24136719]]\n"
     ]
    }
   ],
   "source": [
    "print(pagerank(A))"
   ]
  },
  {
   "cell_type": "markdown",
   "metadata": {},
   "source": [
    "Finalmente, temos um resultado justo para as páginas. Segundo esse algoritmo, temos o seguinte ranking das páginas:"
   ]
  },
  {
   "cell_type": "markdown",
   "metadata": {},
   "source": [
    "|**Rank**|**Página**  |\n",
    "|--------|------------|\n",
    "|**1º**  |Página **C**|\n",
    "|**2º**  |Página **D**|\n",
    "|**3º**  |Página **A**|\n",
    "|**4º**  |Página **B**|"
   ]
  },
  {
   "cell_type": "markdown",
   "metadata": {},
   "source": [
    "### O que a Inteligência Artificial tem Haver com Isso?"
   ]
  },
  {
   "cell_type": "markdown",
   "metadata": {},
   "source": [
    "Praticamente mihões de pessoas utilizam sistemas de streaming para o seu entretenimento. Nesses serviços, geralmente existem um sistema complexo de recomendação de conteúdos com base no gosto do usuário, fazendo com que conteúdos aparecem personalizados para o cliente, mais próximos da sua personalidade. Os algoritmos que estão por trás dessa ideia são algoritmos de Machine Learning que fazem classificação. Por exemplo, a partir de um filme A assistido, é recomendado um filme B, esse que possui semelhanças com o filme A. Um dos algoritmos de Machine Learning que tem esse poder é chamado de KNN, ele calcula os chamados 'vizinhos próximos' de um dado através de fórmulas de distância, coma distância média quadrática (também conhecida como distância euclidiana). Vale a pena estudar sobre isso!"
   ]
  },
  {
   "cell_type": "markdown",
   "metadata": {},
   "source": [
    "#### Referências"
   ]
  },
  {
   "cell_type": "markdown",
   "metadata": {},
   "source": [
    "- Page, Lawrence; Brin, Sergey; Motwani, Rajeev and Winograd, Terry (1998), The PageRank Citation Ranking: Bringing Order to the Web, Relatório Técnico, Stanford University. Disponível em: <http://ilpubs.stanford.edu:8090/422/1/1999-66.pdf>. Acesso em: 10, Fevereiro 2020.\n",
    "- Álgebra Linear com aplicações / Anton Howard e Chris Rorres; trad. Claus Ivo Doering. - 8. ed. - Porto Alegre: Bookman, 2001.\n",
    "- Leon, Steven J., 1943 - Álgebra Linear com Aplicações/ Steven J. Leon; tradução Valéria de Magalhães Iório - [reimpr]. Rio de Janeiro: LTC, 2008.\n",
    "- PageRank (Google) Algorithm Explained. Global Software Support, 26, Setembro 2019. Disponível em: <https://www.globalsoftwaresupport.com/pagerank-algorithm-explained/>. Acesso em: 10, Fevereiro 2020."
   ]
  },
  {
   "cell_type": "markdown",
   "metadata": {},
   "source": [
    "### Alguma Dúvida? Entre em Contato Comigo:"
   ]
  },
  {
   "cell_type": "markdown",
   "metadata": {},
   "source": [
    "- [Me envie um e-mail](mailto:alysson.barbosa@ee.ufcg.edu.br);"
   ]
  }
 ],
 "metadata": {
  "kernelspec": {
   "display_name": "Python 3",
   "language": "python",
   "name": "python3"
  },
  "language_info": {
   "codemirror_mode": {
    "name": "ipython",
    "version": 3
   },
   "file_extension": ".py",
   "mimetype": "text/x-python",
   "name": "python",
   "nbconvert_exporter": "python",
   "pygments_lexer": "ipython3",
   "version": "3.7.4"
  }
 },
 "nbformat": 4,
 "nbformat_minor": 4
}
