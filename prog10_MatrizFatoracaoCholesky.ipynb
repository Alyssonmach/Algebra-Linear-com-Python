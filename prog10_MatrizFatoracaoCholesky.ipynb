{
 "cells": [
  {
   "cell_type": "markdown",
   "metadata": {},
   "source": [
    "# Fatoração Cholesky"
   ]
  },
  {
   "cell_type": "markdown",
   "metadata": {},
   "source": [
    "Podemos simplificar o método de decomposição LU, quando a matriz é simétrica, positiva e definida. Dessa forma, usa-se a Fatoração Cholesky."
   ]
  },
  {
   "cell_type": "code",
   "execution_count": 1,
   "metadata": {},
   "outputs": [],
   "source": [
    "import numpy as np # importando a bibloteca numpy do Python\n",
    "import scipy\n",
    "import scipy.linalg   # importando a bibloteca scipy do Python"
   ]
  },
  {
   "cell_type": "code",
   "execution_count": 3,
   "metadata": {},
   "outputs": [
    {
     "name": "stdout",
     "output_type": "stream",
     "text": [
      "Progama que calcula a fatoração de uma matriz pelo método Cholesky.\n"
     ]
    },
    {
     "name": "stdin",
     "output_type": "stream",
     "text": [
      "Informa a quantidade de linhas da matriz:  4\n",
      "Informe a quantidade de colunas da matriz:  4\n"
     ]
    },
    {
     "name": "stderr",
     "output_type": "stream",
     "text": [
      "c:\\users\\alysson\\appdata\\local\\programs\\python\\python37\\lib\\site-packages\\ipykernel_launcher.py:8: DeprecationWarning: scipy.empty is deprecated and will be removed in SciPy 2.0.0, use numpy.empty instead\n",
      "  \n"
     ]
    },
    {
     "name": "stdin",
     "output_type": "stream",
     "text": [
      "Informe o elemento [1][1] da matriz:  6\n",
      "Informe o elemento [1][2] da matriz:  3\n",
      "Informe o elemento [1][3] da matriz:  4\n",
      "Informe o elemento [1][4] da matriz:  8\n",
      "Informe o elemento [2][1] da matriz:  3\n",
      "Informe o elemento [2][2] da matriz:  6\n",
      "Informe o elemento [2][3] da matriz:  5\n",
      "Informe o elemento [2][4] da matriz:  1\n",
      "Informe o elemento [3][1] da matriz:  4\n",
      "Informe o elemento [3][2] da matriz:  5\n",
      "Informe o elemento [3][3] da matriz:  10\n",
      "Informe o elemento [3][4] da matriz:  7\n",
      "Informe o elemento [4][1] da matriz:  8\n",
      "Informe o elemento [4][2] da matriz:  1\n",
      "Informe o elemento [4][3] da matriz:  7\n",
      "Informe o elemento [4][4] da matriz:  25\n"
     ]
    },
    {
     "name": "stdout",
     "output_type": "stream",
     "text": [
      "\n",
      "\n",
      "A matriz digitada é:\n",
      "\n",
      "[[ 6.  3.  4.  8.]\n",
      " [ 3.  6.  5.  1.]\n",
      " [ 4.  5. 10.  7.]\n",
      " [ 8.  1.  7. 25.]]\n",
      "\n",
      "\n",
      "Matriz Triangular Inferior L:\n",
      "\n",
      "[[ 2.44948974  0.          0.          0.        ]\n",
      " [ 1.22474487  2.12132034  0.          0.        ]\n",
      " [ 1.63299316  1.41421356  2.30940108  0.        ]\n",
      " [ 3.26598632 -1.41421356  1.58771324  3.13249102]]\n",
      "\n",
      "\n",
      "Matriz Triangular Superior U:\n",
      "\n",
      "[[ 2.44948974  1.22474487  1.63299316  3.26598632]\n",
      " [ 0.          2.12132034  1.41421356 -1.41421356]\n",
      " [ 0.          0.          2.30940108  1.58771324]\n",
      " [ 0.          0.          0.          3.13249102]]\n",
      "\n",
      "\n",
      "A Multiplicação de LU:\n",
      "\n",
      "[[ 6.  3.  4.  8.]\n",
      " [ 3.  6.  5.  1.]\n",
      " [ 4.  5. 10.  7.]\n",
      " [ 8.  1.  7. 25.]]\n"
     ]
    }
   ],
   "source": [
    "print(\"Progama que calcula a fatoração de uma matriz pelo método Cholesky.\")\n",
    "\n",
    "# variáveis que recebem a quantidade de linhas e colunas da matriz\n",
    "linha = int(input(\"Informa a quantidade de linhas da matriz: \"))\n",
    "coluna = int(input(\"Informe a quantidade de colunas da matriz: \"))\n",
    "\n",
    "# criando uma matriz com a quantidade de linhas e colunas adequadas\n",
    "matriz = scipy.empty([linha, coluna], dtype = float)\n",
    "\n",
    "# estrutura de repetição for responsável por receber os elementos da matriz\n",
    "for i in range(0, linha):\n",
    "    for j in range(0, coluna):\n",
    "        matriz[i][j] = float(input(\"Informe o elemento [{}][{}] da matriz: \".format(i + 1, j + 1)))\n",
    "\n",
    "#imprime na tela a matriz digitada\n",
    "print(\"\\n\\nA matriz digitada é:\\n\\n{}\".format(matriz))\n",
    "\n",
    "# matriz triangular inferior\n",
    "L = scipy.linalg.cholesky(matriz, lower=True)\n",
    "# matriz triangular superior\n",
    "U = scipy.linalg.cholesky(matriz, lower=False)\n",
    "\n",
    "# imprime a matriz triangular inferior\n",
    "print(\"\\n\\nMatriz Triangular Inferior L:\\n\\n{}\\n\\n\".format(L))\n",
    "\n",
    "# imprime a matriz triangular superior\n",
    "print(\"Matriz Triangular Superior U:\\n\\n{}\\n\\n\".format(U))\n",
    "\n",
    "# realiza a multiplicação da matriz triangular inferior com a superior, obtendo a matriz original antes da fatoração\n",
    "print(\"A Multiplicação de LU:\\n\\n{}\".format(np.dot(L,U)))"
   ]
  },
  {
   "cell_type": "code",
   "execution_count": null,
   "metadata": {},
   "outputs": [],
   "source": []
  }
 ],
 "metadata": {
  "kernelspec": {
   "display_name": "Python 3",
   "language": "python",
   "name": "python3"
  },
  "language_info": {
   "codemirror_mode": {
    "name": "ipython",
    "version": 3
   },
   "file_extension": ".py",
   "mimetype": "text/x-python",
   "name": "python",
   "nbconvert_exporter": "python",
   "pygments_lexer": "ipython3",
   "version": "3.7.4"
  }
 },
 "nbformat": 4,
 "nbformat_minor": 4
}
