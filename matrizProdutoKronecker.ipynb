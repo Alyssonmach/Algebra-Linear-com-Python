{
 "cells": [
  {
   "cell_type": "markdown",
   "metadata": {},
   "source": [
    "Calculo do \n",
    "$$Produto$$ $$Kronecker$$"
   ]
  },
  {
   "cell_type": "code",
   "execution_count": 2,
   "metadata": {},
   "outputs": [],
   "source": [
    "import numpy as np # importando a biblioteca numpy do Python"
   ]
  },
  {
   "cell_type": "code",
   "execution_count": null,
   "metadata": {},
   "outputs": [
    {
     "name": "stdout",
     "output_type": "stream",
     "text": [
      "Progama que calcula o produto kronecker de duas matrizes.\n",
      "\n",
      "\n"
     ]
    }
   ],
   "source": [
    "print(\"Progama que calcula o produto kronecker de duas matrizes.\\n\\n\")\n",
    "\n",
    "# quantidade de linhas e colunas da matriz A\n",
    "linha = int(input(\"Informe as linhas da matriz A: \"))\n",
    "coluna = int(input(\"Informe as colunas da matriz A: \"))\n",
    "\n",
    "# inicializando a matriz A com as linha e colunas adequadas\n",
    "A = np.empty([linha,coluna], dtype = float)\n",
    "\n",
    "# estrutura de repetição for para dar entrada nos elementos da matriz A\n",
    "for i in range(0, linha):\n",
    "    for j in range(0, coluna):\n",
    "        A[i][j] = float(input(\"Insira o elemento [{}][{}] da matriz A: \".format(i + 1, j + 1)))\n",
    "\n",
    "# quantidade de linhas e colunas da matriz B\n",
    "linha = int(input(\"\\nInforme as linhas da matriz B: \"))\n",
    "coluna = int(input(\"Informe as colunas da matriz B: \"))\n",
    "\n",
    "# inicializando a matriz A com as linha e colunas adequadas\n",
    "B = np.empty([linha,coluna], dtype = float)\n",
    "\n",
    "# estrutura de repetição for para dar entrada nos elementos da matriz B\n",
    "for i in range(0, linha):\n",
    "    for j in range(0, coluna):\n",
    "        B[i][j] = float(input(\"Insira o elemento [{}][{}] da matriz B: \".format(i + 1, j + 1)))\n",
    "\n",
    "# imprime na tela a matriz A\n",
    "print(\"A matriz A é:\\n\\n{}\".format(A))\n",
    "\n",
    "# imprime na tela a matriz B\n",
    "print(\"\\n\\nA matriz B é:\\n\\n{}\".format(B))\n",
    "\n",
    "# imprime na tela o produto Kronecker\n",
    "print(\"\\n\\nO produto Kronecker é:\\n\\n{}\".format(np.kron(A,B)))"
   ]
  },
  {
   "cell_type": "code",
   "execution_count": null,
   "metadata": {},
   "outputs": [],
   "source": []
  }
 ],
 "metadata": {
  "kernelspec": {
   "display_name": "Python 3",
   "language": "python",
   "name": "python3"
  },
  "language_info": {
   "codemirror_mode": {
    "name": "ipython",
    "version": 3
   },
   "file_extension": ".py",
   "mimetype": "text/x-python",
   "name": "python",
   "nbconvert_exporter": "python",
   "pygments_lexer": "ipython3",
   "version": "3.7.4"
  }
 },
 "nbformat": 4,
 "nbformat_minor": 2
}
