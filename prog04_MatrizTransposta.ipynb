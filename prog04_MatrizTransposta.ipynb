{
 "cells": [
  {
   "cell_type": "markdown",
   "metadata": {},
   "source": [
    "# Calculando a Matriz Transposta"
   ]
  },
  {
   "cell_type": "code",
   "execution_count": 2,
   "metadata": {},
   "outputs": [],
   "source": [
    "import numpy as np # importando a biblioteca numpy padrão do C++"
   ]
  },
  {
   "cell_type": "code",
   "execution_count": 4,
   "metadata": {},
   "outputs": [
    {
     "name": "stdin",
     "output_type": "stream",
     "text": [
      "Informe quantas linhas tem sua matriz:  6\n",
      "Informe quantas colunas tem sua matriz:  6\n",
      "Insira o elemento [1][1] da matriz:  1\n",
      "Insira o elemento [1][2] da matriz:  2\n",
      "Insira o elemento [1][3] da matriz:  3\n",
      "Insira o elemento [1][4] da matriz:  4\n",
      "Insira o elemento [1][5] da matriz:  5\n",
      "Insira o elemento [1][6] da matriz:  6\n",
      "Insira o elemento [2][1] da matriz:  7\n",
      "Insira o elemento [2][2] da matriz:  8\n",
      "Insira o elemento [2][3] da matriz:  9\n",
      "Insira o elemento [2][4] da matriz:  10\n",
      "Insira o elemento [2][5] da matriz:  11\n",
      "Insira o elemento [2][6] da matriz:  12\n",
      "Insira o elemento [3][1] da matriz:  13\n",
      "Insira o elemento [3][2] da matriz:  14\n",
      "Insira o elemento [3][3] da matriz:  15\n",
      "Insira o elemento [3][4] da matriz:  16\n",
      "Insira o elemento [3][5] da matriz:  17\n",
      "Insira o elemento [3][6] da matriz:  18\n",
      "Insira o elemento [4][1] da matriz:  19\n",
      "Insira o elemento [4][2] da matriz:  20\n",
      "Insira o elemento [4][3] da matriz:  21\n",
      "Insira o elemento [4][4] da matriz:  22\n",
      "Insira o elemento [4][5] da matriz:  23\n",
      "Insira o elemento [4][6] da matriz:  24\n",
      "Insira o elemento [5][1] da matriz:  25\n",
      "Insira o elemento [5][2] da matriz:  26\n",
      "Insira o elemento [5][3] da matriz:  27\n",
      "Insira o elemento [5][4] da matriz:  28\n",
      "Insira o elemento [5][5] da matriz:  29\n",
      "Insira o elemento [5][6] da matriz:  30\n",
      "Insira o elemento [6][1] da matriz:  31\n",
      "Insira o elemento [6][2] da matriz:  32\n",
      "Insira o elemento [6][3] da matriz:  33\n",
      "Insira o elemento [6][4] da matriz:  34\n",
      "Insira o elemento [6][5] da matriz:  35\n",
      "Insira o elemento [6][6] da matriz:  36\n"
     ]
    },
    {
     "name": "stdout",
     "output_type": "stream",
     "text": [
      "\n",
      "\n",
      "A matriz digitada é:\n",
      "\n",
      "[[ 1.  2.  3.  4.  5.  6.]\n",
      " [ 7.  8.  9. 10. 11. 12.]\n",
      " [13. 14. 15. 16. 17. 18.]\n",
      " [19. 20. 21. 22. 23. 24.]\n",
      " [25. 26. 27. 28. 29. 30.]\n",
      " [31. 32. 33. 34. 35. 36.]]\n",
      "\n",
      "\n",
      "A matriz transposta é:\n",
      "\n",
      "[[ 1.  7. 13. 19. 25. 31.]\n",
      " [ 2.  8. 14. 20. 26. 32.]\n",
      " [ 3.  9. 15. 21. 27. 33.]\n",
      " [ 4. 10. 16. 22. 28. 34.]\n",
      " [ 5. 11. 17. 23. 29. 35.]\n",
      " [ 6. 12. 18. 24. 30. 36.]]\n",
      "\n",
      "\n",
      "A matriz transposta da transpostada é:\n",
      "\n",
      "[[ 1.  2.  3.  4.  5.  6.]\n",
      " [ 7.  8.  9. 10. 11. 12.]\n",
      " [13. 14. 15. 16. 17. 18.]\n",
      " [19. 20. 21. 22. 23. 24.]\n",
      " [25. 26. 27. 28. 29. 30.]\n",
      " [31. 32. 33. 34. 35. 36.]]\n"
     ]
    }
   ],
   "source": [
    "linha = int(input(\"Informe quantas linhas tem sua matriz: \")) # recebe a quantidade de linhas da matriz\n",
    "coluna = int(input(\"Informe quantas colunas tem sua matriz: \")) # recebe a quantidade de colunas da matriz\n",
    "\n",
    "matriz = np.empty([linha,coluna], dtype = float) # iniciando uma matriz de números reais com linhas e colunas definidas\n",
    "\n",
    "# estrutura for aninhada que recebe os elementos da matriz\n",
    "for i in range(0, linha):\n",
    "    for j in range(0, coluna):\n",
    "        matriz[i][j] = float(input(\"Insira o elemento [{}][{}] da matriz: \".format(i + 1,j + 1)))\n",
    "\n",
    "#imprime na tela a matriz original\n",
    "print(\"\\n\\nA matriz digitada é:\\n\\n{}\\n\\n\".format(matriz))\n",
    "\n",
    "# imprime na tela a matriz transposta\n",
    "print(\"A matriz transposta é:\\n\\n{}\\n\\n\". format(np.transpose(matriz)))\n",
    "\n",
    "# imprime na tela a matriz tranposta da mesma já transposta, ou seja, retornará a matriz original\n",
    "print(\"A matriz transposta da transpostada é:\\n\\n{}\".format(np.transpose(np.transpose(matriz))))"
   ]
  },
  {
   "cell_type": "code",
   "execution_count": null,
   "metadata": {},
   "outputs": [],
   "source": []
  }
 ],
 "metadata": {
  "kernelspec": {
   "display_name": "Python 3",
   "language": "python",
   "name": "python3"
  },
  "language_info": {
   "codemirror_mode": {
    "name": "ipython",
    "version": 3
   },
   "file_extension": ".py",
   "mimetype": "text/x-python",
   "name": "python",
   "nbconvert_exporter": "python",
   "pygments_lexer": "ipython3",
   "version": "3.7.4"
  }
 },
 "nbformat": 4,
 "nbformat_minor": 4
}
