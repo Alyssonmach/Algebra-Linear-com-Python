{
 "cells": [
  {
   "cell_type": "markdown",
   "metadata": {},
   "source": [
    "Calculando a\n",
    "$$Fatoração$$ $$Cholesky$$"
   ]
  },
  {
   "cell_type": "code",
   "execution_count": 1,
   "metadata": {},
   "outputs": [],
   "source": [
    "import numpy as np # importando a bibloteca numpy do Python"
   ]
  },
  {
   "cell_type": "code",
   "execution_count": 2,
   "metadata": {},
   "outputs": [
    {
     "name": "stdout",
     "output_type": "stream",
     "text": [
      "Progama que calcula a fatoração de uma matriz pelo método Cholesky.\n",
      "\n",
      "Informa a quantidade de linhas da matriz: 3\n",
      "Informe a quantidade de colunas da matriz: 3\n",
      "Informe o elemento [1][1] da matriz: 4\n",
      "Informe o elemento [1][2] da matriz: 12\n",
      "Informe o elemento [1][3] da matriz: -16\n",
      "Informe o elemento [2][1] da matriz: 12\n",
      "Informe o elemento [2][2] da matriz: 37\n",
      "Informe o elemento [2][3] da matriz: -43\n",
      "Informe o elemento [3][1] da matriz: -16\n",
      "Informe o elemento [3][2] da matriz: -43\n",
      "Informe o elemento [3][3] da matriz: 98\n",
      "A matriz digitada é:\n",
      "\n",
      "[[  4.  12. -16.]\n",
      " [ 12.  37. -43.]\n",
      " [-16. -43.  98.]]\n",
      "\n",
      "\n",
      "A matriz fatorada é:\n",
      "\n",
      "[[ 2.  0.  0.]\n",
      " [ 6.  1.  0.]\n",
      " [-8.  5.  3.]]\n",
      "\n",
      "\n",
      "A matriz transposta é:\n",
      "\n",
      "[[  4.  12. -16.]\n",
      " [ 12.  37. -43.]\n",
      " [-16. -43.  98.]]\n",
      "\n",
      "\n",
      "A multiplicação da matriz fatorada com a matriz transposta é:\n",
      "\n",
      "[[  416.  1180. -2148.]\n",
      " [ 1180.  3362. -5997.]\n",
      " [-2148. -5997. 11709.]]\n"
     ]
    }
   ],
   "source": [
    "print(\"Progama que calcula a fatoração de uma matriz pelo método Cholesky.\\n\")\n",
    "\n",
    "# variáveis que recebem a quantidade de linhas e colunas da matriz\n",
    "linha = int(input(\"Informa a quantidade de linhas da matriz: \"))\n",
    "coluna = int(input(\"Informe a quantidade de colunas da matriz: \"))\n",
    "\n",
    "# criando uma matriz com a quantidade de linhas e colunas adequadas\n",
    "matriz = np.empty([linha, coluna], dtype = float)\n",
    "\n",
    "# estrutura de repetição for responsável por receber os elementos da matriz\n",
    "for i in range(0, linha):\n",
    "    for j in range(0, coluna):\n",
    "        matriz[i][j] = float(input(\"Informe o elemento [{}][{}] da matriz: \".format(i + 1, j + 1)))\n",
    "        \n",
    "#imprime na tela a matriz digitada\n",
    "print(\"A matriz digitada é:\\n\\n{}\".format(matriz))\n",
    "\n",
    "#imprime na tela a matriz fatorada pelo método cholesky\n",
    "print(\"\\n\\nA matriz fatorada é:\\n\\n{}\".format(np.linalg.cholesky(matriz)))\n",
    "\n",
    "#imprime na tela a matriz transposta\n",
    "print(\"\\n\\nA matriz transposta é:\\n\\n{}\".format(matriz.transpose()))\n",
    "\n",
    "# imprime a multiplicação da matriz fatorada com a matriz transposta\n",
    "print(\"\\n\\nA multiplicação da matriz fatorada com a matriz transposta é:\\n\\n{}\".format(np.matmul(matriz,matriz.transpose())))\n"
   ]
  },
  {
   "cell_type": "code",
   "execution_count": null,
   "metadata": {},
   "outputs": [],
   "source": []
  }
 ],
 "metadata": {
  "kernelspec": {
   "display_name": "Python 3",
   "language": "python",
   "name": "python3"
  },
  "language_info": {
   "codemirror_mode": {
    "name": "ipython",
    "version": 3
   },
   "file_extension": ".py",
   "mimetype": "text/x-python",
   "name": "python",
   "nbconvert_exporter": "python",
   "pygments_lexer": "ipython3",
   "version": "3.7.4"
  }
 },
 "nbformat": 4,
 "nbformat_minor": 2
}
